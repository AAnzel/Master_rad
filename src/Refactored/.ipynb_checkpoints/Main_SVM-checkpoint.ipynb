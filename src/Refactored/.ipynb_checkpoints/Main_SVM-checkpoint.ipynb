{
 "cells": [
  {
   "cell_type": "code",
   "execution_count": null,
   "metadata": {
    "colab": {
     "base_uri": "https://localhost:8080/",
     "height": 479
    },
    "colab_type": "code",
    "executionInfo": {
     "elapsed": 16428,
     "status": "ok",
     "timestamp": 1572859863259,
     "user": {
      "displayName": "Aleksandar Anžel",
      "photoUrl": "https://lh3.googleusercontent.com/a-/AAuE7mAv_eRLNMWBvr43YXv7UrZwTFOu9RxxodF6fBNOjQ=s64",
      "userId": "09456993545544319729"
     },
     "user_tz": -60
    },
    "id": "gQSScRPd6_QW",
    "outputId": "5d2bec41-e0f5-478f-c6c0-2d5950a5b977"
   },
   "outputs": [],
   "source": [
    "# Necessary for Google Colab\n",
    "# Uncomment before first run, and then comment all again\n",
    "\n",
    "# Potrebno za Google Colab\n",
    "# Odkomentarisati komande ispod pre prvog pokretanja, a zatim ponovo zakomentarisati\n",
    "\n",
    "#! git clone https://github.com/AAnzel/Master_rad.git\n",
    "#! mkdir ../data\n",
    "#! mv Master_rad/data/UniProt\\ cist ../data/\n",
    "#! pip install biopython\n",
    "#! mkdir ../data/Rezultati_Uniprot_cist\n"
   ]
  },
  {
   "cell_type": "code",
   "execution_count": null,
   "metadata": {
    "colab": {
     "base_uri": "https://localhost:8080/",
     "height": 71
    },
    "colab_type": "code",
    "executionInfo": {
     "elapsed": 17225,
     "status": "ok",
     "timestamp": 1572859864081,
     "user": {
      "displayName": "Aleksandar Anžel",
      "photoUrl": "https://lh3.googleusercontent.com/a-/AAuE7mAv_eRLNMWBvr43YXv7UrZwTFOu9RxxodF6fBNOjQ=s64",
      "userId": "09456993545544319729"
     },
     "user_tz": -60
    },
    "id": "E01YbeZI6uDC",
    "outputId": "08972927-f841-4aac-c224-f8c63d934558"
   },
   "outputs": [],
   "source": [
    "import os\n",
    "import sys\n",
    "import re\n",
    "import numpy as np\n",
    "import pandas as pd\n",
    "from matplotlib import pyplot as plt\n",
    "import seaborn as sn\n",
    "from sklearn import preprocessing as prep\n",
    "from sklearn import model_selection as ms\n",
    "from sklearn import linear_model as lm\n",
    "from sklearn import metrics as met\n",
    "from sklearn import svm\n",
    "from sklearn import utils\n",
    "from imblearn.over_sampling import SMOTE, ADASYN\n",
    "from imblearn.under_sampling import RandomUnderSampler\n",
    "\n",
    "%matplotlib inline\n",
    "#plt.style.use ('dark_background')\n",
    "\n",
    "SMALL_SIZE = 14\n",
    "MEDIUM_SIZE = 16\n",
    "BIGGER_SIZE = 18\n",
    "\n",
    "plt.rc('font', size=SMALL_SIZE)          # controls default text sizes\n",
    "plt.rc('axes', titlesize=SMALL_SIZE)     # fontsize of the axes title\n",
    "plt.rc('axes', labelsize=MEDIUM_SIZE)    # fontsize of the x and y labels\n",
    "plt.rc('xtick', labelsize=SMALL_SIZE)    # fontsize of the tick labels\n",
    "plt.rc('ytick', labelsize=SMALL_SIZE)    # fontsize of the tick labels\n",
    "plt.rc('legend', fontsize=SMALL_SIZE)    # legend fontsize\n",
    "plt.rc('figure', titlesize=BIGGER_SIZE)  # fontsize of the figure title\n"
   ]
  },
  {
   "cell_type": "markdown",
   "metadata": {
    "colab_type": "text",
    "id": "9gllUoTQwuDm"
   },
   "source": [
    "## 1. Importing and visualizing data"
   ]
  },
  {
   "cell_type": "code",
   "execution_count": null,
   "metadata": {},
   "outputs": [],
   "source": [
    "# Krecemo sa ucitavanjem podataka i vizualizacijom istih\n",
    "sve_putanja_ulaza = os.path.join ('..', '..', 'data', 'UniProt cist', 'SVE_FINALNO.csv')\n",
    "df_sve = pd.read_csv (sve_putanja_ulaza, sep = '\\t', index_col = 0)\n",
    "df_sve"
   ]
  },
  {
   "cell_type": "code",
   "execution_count": null,
   "metadata": {
    "colab": {},
    "colab_type": "code",
    "id": "QxET31SWcSCY"
   },
   "outputs": [],
   "source": [
    "# Extracting the last column of DataFrame (it represents the class)\n",
    "# Izdvajanje poslednje kolone, koja predstavlja klasu kojoj protein pripada i izbacivanje iste iz DataFrame-a\n",
    "y = df_sve['Klasa'].values\n",
    "df_sve = df_sve.drop (labels = ['Klasa'], axis = 1)\n"
   ]
  },
  {
   "cell_type": "code",
   "execution_count": null,
   "metadata": {
    "colab": {
     "base_uri": "https://localhost:8080/",
     "height": 607
    },
    "colab_type": "code",
    "executionInfo": {
     "elapsed": 39926,
     "status": "ok",
     "timestamp": 1572859887027,
     "user": {
      "displayName": "Aleksandar Anžel",
      "photoUrl": "https://lh3.googleusercontent.com/a-/AAuE7mAv_eRLNMWBvr43YXv7UrZwTFOu9RxxodF6fBNOjQ=s64",
      "userId": "09456993545544319729"
     },
     "user_tz": -60
    },
    "id": "s5eu7KVP6uD0",
    "outputId": "a8c15574-61e7-4e4e-8675-ce7923127733"
   },
   "outputs": [],
   "source": [
    "# Prvo da vizualizujemo u kakvom su odnosu klase\n",
    "\n",
    "fig = plt.figure (figsize = (8, 10))\n",
    "plt.title ('Balansiranost klasa')\n",
    "plt.xticks (ticks = range (2), labels = ['Negativna', 'Pozitivna'])\n",
    "plt.bar ([0, 1], [sum(y == 0), sum (y == 1)], color = 'red')\n",
    "plt.grid (linewidth = 0.3)\n",
    "plt.show()\n"
   ]
  },
  {
   "cell_type": "code",
   "execution_count": null,
   "metadata": {
    "colab": {
     "base_uri": "https://localhost:8080/",
     "height": 1000
    },
    "colab_type": "code",
    "executionInfo": {
     "elapsed": 41857,
     "status": "ok",
     "timestamp": 1572859888972,
     "user": {
      "displayName": "Aleksandar Anžel",
      "photoUrl": "https://lh3.googleusercontent.com/a-/AAuE7mAv_eRLNMWBvr43YXv7UrZwTFOu9RxxodF6fBNOjQ=s64",
      "userId": "09456993545544319729"
     },
     "user_tz": -60
    },
    "id": "gIpxqh6O6uD4",
    "outputId": "a4fdfa32-b467-433e-9e8a-a06a2211619d"
   },
   "outputs": [],
   "source": [
    "# Vizualizacija podataka pomocu matrice korelacije\n",
    "kolone = df_sve.columns.values\n",
    "\n",
    "fig = plt.figure (figsize = (20, 20))\n",
    "plt.title ('Matrica korelacije podataka')\n",
    "plt.xticks (ticks = range (len (kolone)), labels = kolone, rotation = 90)\n",
    "plt.yticks (ticks = range (len (kolone)), labels = kolone)\n",
    "plt.imshow (df_sve.corr(), cmap = 'magma')\n",
    "plt.colorbar()\n",
    "plt.show()\n",
    "\n",
    "# Vidimo da nije velika korelisanost podataka ni u jednom delu, sto je jako dobro\n"
   ]
  },
  {
   "cell_type": "markdown",
   "metadata": {
    "colab_type": "text",
    "id": "03imjWdB6uD7"
   },
   "source": [
    "# 2. Preparing data for machine learning models\n",
    "## 2.1 Training-Test split"
   ]
  },
  {
   "cell_type": "code",
   "execution_count": null,
   "metadata": {
    "colab": {
     "base_uri": "https://localhost:8080/",
     "height": 731
    },
    "colab_type": "code",
    "executionInfo": {
     "elapsed": 41846,
     "status": "ok",
     "timestamp": 1572859888975,
     "user": {
      "displayName": "Aleksandar Anžel",
      "photoUrl": "https://lh3.googleusercontent.com/a-/AAuE7mAv_eRLNMWBvr43YXv7UrZwTFOu9RxxodF6fBNOjQ=s64",
      "userId": "09456993545544319729"
     },
     "user_tz": -60
    },
    "id": "lBYRVHr46uD8",
    "outputId": "4acd1b44-d031-4a11-d990-fc59576bf88d"
   },
   "outputs": [],
   "source": [
    "# Deljenje podataka na skupove za trening i test, 2:1 odnos\n",
    "# Bitan parametar predstavlja i stratifikacija po klasi, tako da imamo ujednaceno deljenje na skupove (tj. balansiranost klasa po skupovima)\n",
    "X = df_sve.values\n",
    "\n",
    "x_trening, x_test, y_trening, y_test = ms.train_test_split (X, y, train_size = 0.67, test_size = 0.33, stratify = y, random_state = 7)\n",
    "\n",
    "# Standardizacija podataka\n",
    "skaler = prep.StandardScaler()\n",
    "skaler.fit (x_trening)\n",
    "x_trening = skaler.transform (x_trening)\n",
    "x_test = skaler.transform (x_test)\n",
    "\n",
    "print ('Broj proteina u x_trening skupu podataka: ', x_trening.shape)\n",
    "print ('Broj proteina u y_trening skupu podataka: ', y_trening.shape)\n",
    "print ('Broj proteina u x_test skupu podataka: ', x_test.shape)\n",
    "print ('Broj proteina u y_test skupu podataka: ', y_test.shape)\n",
    "\n",
    "# Vizualizacija podele na trening i test skup i balansiranosti klasa\n",
    "\n",
    "fig, (ax1, ax2, ax3) = plt.subplots (1, 3, figsize = (20, 10))\n",
    "plt.suptitle ('Kolicina podataka i balansiranost klasa')\n",
    "\n",
    "ax1.set_title ('Kolicina podataka u trening i test skupu')\n",
    "ax1.set_xticks (ticks = range (2))\n",
    "ax1.set_xticklabels (labels = ['Trening', 'Test'])\n",
    "ax1.bar ([0, 1], [x_trening.shape[0], x_test.shape[0]], color = 'green')\n",
    "ax1.grid (linewidth = 0.3)\n",
    "\n",
    "ax2.set_title ('Klase trening skupa')\n",
    "ax2.set_xticks (ticks = range (2))\n",
    "ax2.set_xticklabels (labels = ['Negativna', 'Pozitivna'])\n",
    "ax2.bar ([0, 1], [sum(y_trening == 0), sum (y_trening == 1)], color = ['blue', 'red'])\n",
    "ax2.grid (linewidth = 0.3)\n",
    "\n",
    "ax3.set_title ('Klase test skupa')\n",
    "ax3.set_xticks (ticks = range (2))\n",
    "ax3.set_xticklabels (labels = ['Negativna', 'Pozitivna'])\n",
    "ax3.bar ([0, 1], [sum(y_test == 0), sum (y_test == 1)], color = ['blue', 'red'])\n",
    "ax3.grid (linewidth = 0.3)\n",
    "\n",
    "plt.show()\n"
   ]
  },
  {
   "cell_type": "markdown",
   "metadata": {
    "colab_type": "text",
    "id": "ZC88foum6uD_"
   },
   "source": [
    "## 2.2 Balancing data with random undersampling"
   ]
  },
  {
   "cell_type": "code",
   "execution_count": null,
   "metadata": {
    "colab": {
     "base_uri": "https://localhost:8080/",
     "height": 119
    },
    "colab_type": "code",
    "executionInfo": {
     "elapsed": 42212,
     "status": "ok",
     "timestamp": 1572859889356,
     "user": {
      "displayName": "Aleksandar Anžel",
      "photoUrl": "https://lh3.googleusercontent.com/a-/AAuE7mAv_eRLNMWBvr43YXv7UrZwTFOu9RxxodF6fBNOjQ=s64",
      "userId": "09456993545544319729"
     },
     "user_tz": -60
    },
    "id": "MjC_2Mzj6uEB",
    "outputId": "6ccd8ed2-2570-44f7-9d11-1ffb06ce7fe7"
   },
   "outputs": [],
   "source": [
    "# Balansiranje podataka podsempliranjem (nasumicnim podsemplerom) i cuvanje novih podataka (radi se samo za trening skup!)\n",
    "\n",
    "print ('Broj pozitivnih proteina trening skupa, pre balansiranja: ', sum(y_trening == 1))\n",
    "print ('Broj negativnih proteina trening skupa, pre balansiranja: ', sum(y_trening == 0))\n",
    "\n",
    "pod_sempler = RandomUnderSampler(random_state = 7)\n",
    "x_trening_pod, y_trening_pod = pod_sempler.fit_sample (x_trening, y_trening)\n",
    "\n",
    "print ('Izgled x_trening skupa nakon podsempliranja:', x_trening_pod.shape)\n",
    "print ('Izgled y_trening skupa nakon podsempliranja:', y_trening_pod.shape)\n",
    "\n",
    "print ('Broj pozitivnih proteina trening skupa, nakon balansiranja: ', sum(y_trening_pod == 1))\n",
    "print ('Broj negativnih proteina trening skupa, nakon balansiranja: ', sum(y_trening_pod == 0))\n"
   ]
  },
  {
   "cell_type": "markdown",
   "metadata": {
    "colab_type": "text",
    "id": "1GsgMCmG6uEE"
   },
   "source": [
    "## 2.3 Balancing data with SMOTE oversampling"
   ]
  },
  {
   "cell_type": "code",
   "execution_count": null,
   "metadata": {
    "colab": {
     "base_uri": "https://localhost:8080/",
     "height": 119
    },
    "colab_type": "code",
    "executionInfo": {
     "elapsed": 42198,
     "status": "ok",
     "timestamp": 1572859889358,
     "user": {
      "displayName": "Aleksandar Anžel",
      "photoUrl": "https://lh3.googleusercontent.com/a-/AAuE7mAv_eRLNMWBvr43YXv7UrZwTFOu9RxxodF6fBNOjQ=s64",
      "userId": "09456993545544319729"
     },
     "user_tz": -60
    },
    "id": "HuJv8V7p6uEF",
    "outputId": "532d184b-1ab7-47c3-b180-83181f798e10"
   },
   "outputs": [],
   "source": [
    "# Balansiranje podataka nadsempliranjem (SMOTE algoritmom, a ne nasumicnim nadsemplerom) i cuvanje novih podataka (radi se samo za trening skup!)\n",
    "# Izabran je SMOTE algoritam jer je on koristi algoritam K najblizih suseda za generisanje novih podataka, samim tim daje relevantnije nove informacije\n",
    "\n",
    "print ('Broj pozitivnih proteina trening skupa, pre balansiranja: ', sum(y_trening == 1))\n",
    "print ('Broj negativnih proteina trening skupa, pre balansiranja: ', sum(y_trening == 0))\n",
    "\n",
    "nad_sempler_smote = SMOTE(random_state = 7, n_jobs = -1)\n",
    "x_trening_nad_smote, y_trening_nad_smote = nad_sempler_smote.fit_sample (x_trening, y_trening)\n",
    "\n",
    "print ('Izgled x_trening skupa nakon nadsempliranja:', x_trening_nad_smote.shape)\n",
    "print ('Izgled y_trening skupa nakon nadsempliranja:', y_trening_nad_smote.shape)\n",
    "\n",
    "print ('Broj pozitivnih proteina trening skupa, nakon balansiranja: ', sum(y_trening_nad_smote == 1))\n",
    "print ('Broj negativnih proteina trening skupa, nakon balansiranja: ', sum(y_trening_nad_smote == 0))\n"
   ]
  },
  {
   "cell_type": "markdown",
   "metadata": {
    "colab_type": "text",
    "id": "OzjNvEx37OlC"
   },
   "source": [
    "## 2.4 Balancing data with ADASYN oversampling"
   ]
  },
  {
   "cell_type": "code",
   "execution_count": null,
   "metadata": {
    "colab": {
     "base_uri": "https://localhost:8080/",
     "height": 119
    },
    "colab_type": "code",
    "executionInfo": {
     "elapsed": 43288,
     "status": "ok",
     "timestamp": 1572859890462,
     "user": {
      "displayName": "Aleksandar Anžel",
      "photoUrl": "https://lh3.googleusercontent.com/a-/AAuE7mAv_eRLNMWBvr43YXv7UrZwTFOu9RxxodF6fBNOjQ=s64",
      "userId": "09456993545544319729"
     },
     "user_tz": -60
    },
    "id": "sItwpcYX6uEQ",
    "outputId": "bb394941-a0c1-4459-8e50-6f22c532a306"
   },
   "outputs": [],
   "source": [
    "# Balansiranje podataka nadsempliranjem (ADASYN algoritmom, a ne nasumicnim nadsemplerom) i cuvanje novih podataka (radi se samo za trening skup!)\n",
    "# ADASYN predstavlja poboljsanje SMOTE algoritma koji kreira 'realnije' podatke\n",
    "\n",
    "print ('Broj pozitivnih proteina trening skupa, pre balansiranja: ', sum(y_trening == 1))\n",
    "print ('Broj negativnih proteina trening skupa, pre balansiranja: ', sum(y_trening == 0))\n",
    "\n",
    "nad_sempler_adasyn = ADASYN(random_state = 7, n_jobs = -1)\n",
    "x_trening_nad_adasyn, y_trening_nad_adasyn = nad_sempler_adasyn.fit_sample (x_trening, y_trening)\n",
    "\n",
    "print ('Izgled x_trening skupa nakon nadsempliranja:', x_trening_nad_adasyn.shape)\n",
    "print ('Izgled y_trening skupa nakon nadsempliranja:', y_trening_nad_adasyn.shape)\n",
    "\n",
    "print ('Broj pozitivnih proteina trening skupa, nakon balansiranja: ', sum(y_trening_nad_adasyn == 1))\n",
    "print ('Broj negativnih proteina trening skupa, nakon balansiranja: ', sum(y_trening_nad_adasyn == 0))\n"
   ]
  },
  {
   "cell_type": "code",
   "execution_count": null,
   "metadata": {
    "colab": {
     "base_uri": "https://localhost:8080/",
     "height": 663
    },
    "colab_type": "code",
    "executionInfo": {
     "elapsed": 44427,
     "status": "ok",
     "timestamp": 1572859891616,
     "user": {
      "displayName": "Aleksandar Anžel",
      "photoUrl": "https://lh3.googleusercontent.com/a-/AAuE7mAv_eRLNMWBvr43YXv7UrZwTFOu9RxxodF6fBNOjQ=s64",
      "userId": "09456993545544319729"
     },
     "user_tz": -60
    },
    "id": "B0IzdUU76uEU",
    "outputId": "c9587060-bede-4bbe-f471-7e9f1ef5a104"
   },
   "outputs": [],
   "source": [
    "# Vizualizacija polaznih podataka trening skupa, zatim podataka nakon podsempliranja i nakon nadsempliranja\n",
    "\n",
    "fig, (ax1, ax2, ax3, ax4) = plt.subplots (1, 4, sharey = True, figsize = (25, 10))\n",
    "plt.suptitle ('Balansiranost klasa trening skupa pre i posle obrade')\n",
    "\n",
    "ax1.set_title ('Klase pre obrade')\n",
    "ax1.set_xticks (ticks = range (2))\n",
    "ax1.set_xticklabels (labels = ['Negativna', 'Pozitivna'])\n",
    "ax1.bar ([0, 1], [sum(y_trening == 0), sum (y_trening == 1)], color = ['blue', 'red'])\n",
    "ax1.grid (linewidth = 0.3)\n",
    "\n",
    "ax2.set_title ('Klase nakon nasumicnog podsempliranja')\n",
    "ax2.set_xticks (ticks = range (2))\n",
    "ax2.set_xticklabels (labels = ['Negativna', 'Pozitivna'])\n",
    "ax2.bar ([0, 1], [sum(y_trening_pod == 0), sum (y_trening_pod == 1)], color = ['blue', 'red'])\n",
    "ax2.grid (linewidth = 0.3)\n",
    "\n",
    "ax3.set_title ('Klase nakon SMOTE nadsempliranja')\n",
    "ax3.set_xticks (ticks = range (2))\n",
    "ax3.set_xticklabels (labels = ['Negativna', 'Pozitivna'])\n",
    "ax3.bar ([0, 1], [sum(y_trening_nad_smote == 0), sum (y_trening_nad_smote == 1)], color = ['blue', 'red'])\n",
    "ax3.grid (linewidth = 0.3)\n",
    "\n",
    "ax4.set_title ('Klase nakon ADASYN nadsempliranja')\n",
    "ax4.set_xticks (ticks = range (2))\n",
    "ax4.set_xticklabels (labels = ['Negativna', 'Pozitivna'])\n",
    "ax4.bar ([0, 1], [sum(y_trening_nad_adasyn == 0), sum (y_trening_nad_adasyn == 1)], color = ['blue', 'red'])\n",
    "ax4.grid (linewidth = 0.3)\n",
    "\n",
    "plt.show()\n"
   ]
  },
  {
   "cell_type": "code",
   "execution_count": null,
   "metadata": {
    "colab": {},
    "colab_type": "code",
    "id": "f_VBlPJe6uEX"
   },
   "outputs": [],
   "source": [
    "# Funkcija za lepo iscrtavanje matrice konfuzije\n",
    "# Preuzeta i modifikovana za potrebe rada sa zvanicnog sajta biblioteke SciKit-Learn:\n",
    "# https://scikit-learn.org/0.21/auto_examples/model_selection/plot_confusion_matrix.html\n",
    "def nacrtaj_matricu_konfuzije (y_test, y_procena, ime_modela):\n",
    "    \n",
    "    #plt.style.use ('dark_background')\n",
    "    mat_konf = met.confusion_matrix(y_test, y_procena)\n",
    "    \n",
    "    # Kreiranje normalizovane verzije matrice konfuzije\n",
    "    norm_mat_konf = mat_konf.astype('float') / mat_konf.sum(axis=1)[:, np.newaxis]\n",
    "    \n",
    "    klase = np.unique (np.hstack ((y_test, y_procena)))\n",
    "    \n",
    "    # Kreiranje grafika za svaku od matrica\n",
    "    fig, (ax_1, ax_2) = plt.subplots (1, 2, figsize = (20, 10))\n",
    "    plt.suptitle ('Matrice konfuzije za model: ' + ime_modela)\n",
    "    \n",
    "    slika_1 = ax_1.imshow (mat_konf, interpolation = 'nearest', cmap = 'Reds')\n",
    "    ax_1.figure.colorbar (slika_1, ax = ax_1, shrink = 0.8)\n",
    "    \n",
    "    slika_2 = ax_2.imshow (norm_mat_konf, interpolation = 'nearest', cmap = 'Reds')\n",
    "    ax_2.figure.colorbar (slika_2, ax = ax_2, shrink = 0.8)\n",
    "    \n",
    "    ax_1.set (xticks = np.arange (mat_konf.shape[1]),\n",
    "              yticks = np.arange (mat_konf.shape[0]),\n",
    "              xticklabels = klase,\n",
    "              yticklabels = klase,\n",
    "              title = 'Matrica konfuzije bez normalizacije',\n",
    "              ylabel = 'Stvarne vrednosti',\n",
    "              xlabel = 'Procenjene vrednosti')\n",
    "    \n",
    "    ax_2.set (xticks = np.arange (norm_mat_konf.shape[1]),\n",
    "              yticks = np.arange (norm_mat_konf.shape[0]),\n",
    "              xticklabels = klase,\n",
    "              yticklabels = klase,\n",
    "              title = 'Normalizovana matrica konfuzije',\n",
    "              ylabel = 'Stvarne vrednosti',\n",
    "              xlabel = 'Procenjene vrednosti')\n",
    "    \n",
    "    # Potrebno zbog baga u trenutnoj verziji Matplotlib-a 3.1.1, izbrisati nakon nadogradnje\n",
    "    # Bag: https://github.com/matplotlib/matplotlib/issues/15154\n",
    "    ################################################################\n",
    "    ax_1.set_ylim (mat_konf.shape[0] - 0.5, -0.5)\n",
    "    ax_2.set_ylim (norm_mat_konf.shape[0] - 0.5, -0.5)\n",
    "    ################################################################\n",
    "    \n",
    "    plt.setp (ax_1.get_xticklabels(), rotation = 45, ha = \"right\", rotation_mode = \"anchor\")\n",
    "    plt.setp (ax_2.get_xticklabels(), rotation = 45, ha = \"right\", rotation_mode = \"anchor\")\n",
    "    \n",
    "    tekst = [['Stvarno negativni\\n','Lazno pozitivni\\n'], ['Lazno negativni\\n', 'Stvarno pozitivni\\n']]\n",
    "    \n",
    "    for i in range (mat_konf.shape[0]):\n",
    "        for j in range(mat_konf.shape[1]):\n",
    "            ax_1.text (j, i, str (tekst[i][j]) + format(mat_konf[i, j], 'g'), horizontalalignment = 'center', verticalalignment = 'center', bbox = dict (facecolor = 'gray', alpha = 0.9))\n",
    "            ax_2.text (j, i, str (tekst[i][j]) + format(norm_mat_konf[i, j], 'g'), horizontalalignment = 'center', verticalalignment = 'center', bbox = dict (facecolor = 'gray', alpha = 0.9))\n",
    "    \n",
    "    fig.tight_layout()\n",
    "    \n",
    "    return ax_1, ax_2\n"
   ]
  },
  {
   "cell_type": "markdown",
   "metadata": {
    "colab_type": "text",
    "id": "iL7r7-7s6uEZ"
   },
   "source": [
    "# 3. Using SVMs to classify proteins with differently balanced data sets\n",
    "Different SVMs and differently balanced data sets are used in following order:\n",
    "* 3.1. Source data set without implementing any balancing technique\n",
    "    * 3.1.1 Linear SVM with deafult value for class_weight parameter\n",
    "    * 3.1.2 Linear SVM with calculated value for class_weight parameter\n",
    "    * 3.1.3 Kernelized SVM with deafult value for class_weight parameter\n",
    "    * 3.1.4 Kernelized SVM with calculated value for class_weight parameter\n",
    "* 3.2. Data set balanced with random undersampling\n",
    "    * 3.2.1 Linear SVM\n",
    "    * 3.2.2 Kernelized SVM\n",
    "* 3.3. Data set balanced with SMOTE oversampling\n",
    "    * 3.3.1 Linear SVM\n",
    "    * 3.3.2 Kernelized SVM\n",
    "* 3.4. Data set balanced with ADASYN oversampling\n",
    "    * 3.4.1 Linear SVM\n",
    "    * 3.4.2 Kernelized SVM\n",
    "\n",
    "class_weight parameter (when used) is set to 'balanced' value. Documentation says this means:\n",
    "* The “balanced” mode uses the values of y to automatically adjust weights inversely proportional to class frequencies in the input data as n_samples / (n_classes * np.bincount(y))\n",
    "\n",
    "This is only done for source data set.\n"
   ]
  },
  {
   "cell_type": "markdown",
   "metadata": {
    "colab_type": "text",
    "id": "F2Zay2mj6uEa"
   },
   "source": [
    "#### Short explanation of used hyperparameters\n",
    "* Considering the unbalanced data, we evaluate using 'F1 score'\n",
    "* Number of iterations with Linear SVMs was empirically chosen so that method can converge\n",
    "* Number of cross-validation splits is mostly restrained by the needed time to evaluate every model. Therefore, with linear SVMs that number is 10, and with kernelized is 5.\n"
   ]
  },
  {
   "cell_type": "markdown",
   "metadata": {
    "colab_type": "text",
    "id": "gvGOCcVe6uEb"
   },
   "source": [
    "## 3.1. Source data set without implementing any balancing technique\n",
    "### 3.1.1 Linear SVM with deafult value for class_weight parameter "
   ]
  },
  {
   "cell_type": "code",
   "execution_count": null,
   "metadata": {
    "colab": {},
    "colab_type": "code",
    "id": "kqvvFY9U7hJX"
   },
   "outputs": [],
   "source": [
    "# Definisanje globalnih parametara\n",
    "cv_kern = 5\n",
    "n_jobs_kern = -1\n",
    "max_iter_lin = 10000\n"
   ]
  },
  {
   "cell_type": "code",
   "execution_count": null,
   "metadata": {
    "colab": {
     "base_uri": "https://localhost:8080/",
     "height": 1000
    },
    "colab_type": "code",
    "executionInfo": {
     "elapsed": 634501,
     "status": "ok",
     "timestamp": 1572774066687,
     "user": {
      "displayName": "Aleksandar Anžel",
      "photoUrl": "https://lh3.googleusercontent.com/a-/AAuE7mAv_eRLNMWBvr43YXv7UrZwTFOu9RxxodF6fBNOjQ=s64",
      "userId": "09456993545544319729"
     },
     "user_tz": -60
    },
    "id": "x4rDHbA66uEd",
    "outputId": "8d08dfa3-058b-42e1-e01b-823f8ae11b9b"
   },
   "outputs": [],
   "source": [
    "# Za svaku od verzija podataka, isprobavanje razlicitih modela masinskog ucenja\n",
    "# Za pocetak koristim samo SVM (metod potpornih vektora, sa razlicitim kernelima, ukljucujuci i linearni oblik)\n",
    "\n",
    "# Definisanje metaparametara linearnog modela\n",
    "parametri_lin = {'C': [10**i for i in range (-5, 5)]}\n",
    "\n",
    "# Linearni model potpornih vektora bez aktiviranog ugradjeno parametra class_weight\n",
    "mpv_lin_nebal = ms.GridSearchCV (svm.LinearSVC (random_state = 7, class_weight = None, max_iter = max_iter_lin), param_grid = parametri_lin, scoring = 'f1', n_jobs = 1, cv = 10, verbose = 1)\n",
    "mpv_lin_nebal.fit (x_trening, y_trening)\n",
    "y_procena = mpv_lin_nebal.predict (x_test)\n",
    "\n",
    "print ('Parametri najboljeg modela:', mpv_lin_nebal.best_params_)\n",
    "print ('Izvestaj klasifikacije linearnog mpv-a:\\n', met.classification_report (y_test, y_procena))\n"
   ]
  },
  {
   "cell_type": "code",
   "execution_count": null,
   "metadata": {
    "colab": {
     "base_uri": "https://localhost:8080/",
     "height": 684
    },
    "colab_type": "code",
    "executionInfo": {
     "elapsed": 635133,
     "status": "ok",
     "timestamp": 1572774067344,
     "user": {
      "displayName": "Aleksandar Anžel",
      "photoUrl": "https://lh3.googleusercontent.com/a-/AAuE7mAv_eRLNMWBvr43YXv7UrZwTFOu9RxxodF6fBNOjQ=s64",
      "userId": "09456993545544319729"
     },
     "user_tz": -60
    },
    "id": "1lyywDma6uEg",
    "outputId": "0e2a0eb4-49ed-43f9-86af-01362df0540a"
   },
   "outputs": [],
   "source": [
    "# Iscrtavanje matrice konfuzije za prethodni model\n",
    "nacrtaj_matricu_konfuzije (y_test, y_procena, 'MPV linearni nebalansirani ' + str (mpv_lin_nebal.best_params_))\n",
    "plt.show()\n"
   ]
  },
  {
   "cell_type": "markdown",
   "metadata": {
    "colab_type": "text",
    "id": "oztkuEFH6uEi"
   },
   "source": [
    "### 3.1.2 Linear SVM with calculated value for class_weight parameter"
   ]
  },
  {
   "cell_type": "code",
   "execution_count": null,
   "metadata": {
    "colab": {
     "base_uri": "https://localhost:8080/",
     "height": 1000
    },
    "colab_type": "code",
    "executionInfo": {
     "elapsed": 1328913,
     "status": "ok",
     "timestamp": 1572774761140,
     "user": {
      "displayName": "Aleksandar Anžel",
      "photoUrl": "https://lh3.googleusercontent.com/a-/AAuE7mAv_eRLNMWBvr43YXv7UrZwTFOu9RxxodF6fBNOjQ=s64",
      "userId": "09456993545544319729"
     },
     "user_tz": -60
    },
    "id": "Yv6BFA5k6uEj",
    "outputId": "25452b49-4482-4ff3-c8f5-660790ee54fb"
   },
   "outputs": [],
   "source": [
    "# Linearni model potpornih vektora sa balansiranim klasama pomocu ugradjenog parametra\n",
    "mpv_lin_bal = ms.GridSearchCV (svm.LinearSVC (random_state = 7, class_weight = 'balanced', max_iter = max_iter_lin), param_grid = parametri_lin, scoring = 'f1', n_jobs = 1, cv = 10, verbose = 1)\n",
    "mpv_lin_bal.fit (x_trening, y_trening)\n",
    "y_procena = mpv_lin_bal.predict (x_test)\n",
    "\n",
    "print ('Parametri najboljeg modela:', mpv_lin_bal.best_params_)\n",
    "print ('Izvestaj klasifikacije linearnog mpv-a:\\n', met.classification_report (y_test, y_procena))\n"
   ]
  },
  {
   "cell_type": "code",
   "execution_count": null,
   "metadata": {
    "colab": {
     "base_uri": "https://localhost:8080/",
     "height": 684
    },
    "colab_type": "code",
    "executionInfo": {
     "elapsed": 1329589,
     "status": "ok",
     "timestamp": 1572774761843,
     "user": {
      "displayName": "Aleksandar Anžel",
      "photoUrl": "https://lh3.googleusercontent.com/a-/AAuE7mAv_eRLNMWBvr43YXv7UrZwTFOu9RxxodF6fBNOjQ=s64",
      "userId": "09456993545544319729"
     },
     "user_tz": -60
    },
    "id": "9YWZlWxS6uEm",
    "outputId": "bf127650-f6cf-46ee-dac5-4e3cde6dd113"
   },
   "outputs": [],
   "source": [
    "# Iscrtavanje matrice konfuzije za prethodni model\n",
    "nacrtaj_matricu_konfuzije (y_test, y_procena, 'MPV linearni balansirani ' + str (mpv_lin_bal.best_params_))\n",
    "plt.show()\n"
   ]
  },
  {
   "cell_type": "markdown",
   "metadata": {
    "colab_type": "text",
    "id": "QMUVL6fu6uEp"
   },
   "source": [
    "### 3.1.3 Kernelized SVM with deafult value for class_weight parameter"
   ]
  },
  {
   "cell_type": "code",
   "execution_count": null,
   "metadata": {
    "colab": {
     "base_uri": "https://localhost:8080/",
     "height": 411
    },
    "colab_type": "code",
    "executionInfo": {
     "elapsed": 4588718,
     "status": "ok",
     "timestamp": 1572778020986,
     "user": {
      "displayName": "Aleksandar Anžel",
      "photoUrl": "https://lh3.googleusercontent.com/a-/AAuE7mAv_eRLNMWBvr43YXv7UrZwTFOu9RxxodF6fBNOjQ=s64",
      "userId": "09456993545544319729"
     },
     "user_tz": -60
    },
    "id": "iqVd5Zx86uEp",
    "outputId": "bc6b5058-6685-41be-8971-8c29ad073ed1"
   },
   "outputs": [],
   "source": [
    "# Definisanje metaparametara kernelizovanog modela\n",
    "parametri_kern = {'kernel': ['poly', 'rbf', 'sigmoid'], 'gamma': [10**i for i in range(-5, 5)], 'C': [10**i for i in range (-5, 5)]}\n",
    "\n",
    "# Kernelizovani model potpornih vektora bez aktiviranog ugradjeno parametra class_weight\n",
    "mpv_kern_nebal = ms.GridSearchCV (svm.SVC(class_weight = None, random_state = 7), param_grid = parametri_kern, scoring = 'f1', n_jobs = n_jobs_kern, cv = cv_kern, verbose = 2)\n",
    "mpv_kern_nebal.fit (x_trening, y_trening)\n",
    "y_procena = mpv_kern_nebal.predict (x_test)\n",
    "\n",
    "print ('Parametri najboljeg modela:', mpv_kern_nebal.best_params_)\n",
    "print ('Izvestaj klasifikacije kernelizovanog mpv-a:\\n', met.classification_report (y_test, y_procena))\n"
   ]
  },
  {
   "cell_type": "code",
   "execution_count": null,
   "metadata": {
    "colab": {
     "base_uri": "https://localhost:8080/",
     "height": 684
    },
    "colab_type": "code",
    "executionInfo": {
     "elapsed": 4589747,
     "status": "ok",
     "timestamp": 1572778022031,
     "user": {
      "displayName": "Aleksandar Anžel",
      "photoUrl": "https://lh3.googleusercontent.com/a-/AAuE7mAv_eRLNMWBvr43YXv7UrZwTFOu9RxxodF6fBNOjQ=s64",
      "userId": "09456993545544319729"
     },
     "user_tz": -60
    },
    "id": "UtULMoff6uEt",
    "outputId": "1165ab36-c411-418b-ee3c-31ad3097787d"
   },
   "outputs": [],
   "source": [
    "# Iscrtavanje matrice konfuzije za prethodni model\n",
    "nacrtaj_matricu_konfuzije (y_test, y_procena, 'MPV kernelizovan nebalansiran' + str (mpv_kern_nebal.best_params_))\n",
    "plt.show()"
   ]
  },
  {
   "cell_type": "code",
   "execution_count": null,
   "metadata": {
    "colab": {},
    "colab_type": "code",
    "id": "ysFM96q-6uEw"
   },
   "outputs": [],
   "source": [
    "# Cuvanje rezultata kros-validacije u .csv fajl\n",
    "putanja_za_rezultate = os.path.join ('..', 'data', 'Rezultati_Uniprot_cist')\n",
    "\n",
    "df_mpv_kern_nebal = pd.DataFrame (mpv_kern_nebal.cv_results_)\n",
    "df_mpv_kern_nebal.to_csv (os.path.join (putanja_za_rezultate, 'MPV_KERN_NEBAL.csv'))\n",
    "#df_mpv_kern_nebal\n"
   ]
  },
  {
   "cell_type": "markdown",
   "metadata": {
    "colab_type": "text",
    "id": "5eg_6iIz6uEz"
   },
   "source": [
    "### 3.1.4 Kernelized SVM with calculated value for class_weight parameter"
   ]
  },
  {
   "cell_type": "code",
   "execution_count": null,
   "metadata": {
    "colab": {
     "base_uri": "https://localhost:8080/",
     "height": 357
    },
    "colab_type": "code",
    "executionInfo": {
     "elapsed": 1564388,
     "status": "ok",
     "timestamp": 1572783222716,
     "user": {
      "displayName": "Aleksandar Anžel",
      "photoUrl": "https://lh3.googleusercontent.com/a-/AAuE7mAv_eRLNMWBvr43YXv7UrZwTFOu9RxxodF6fBNOjQ=s64",
      "userId": "09456993545544319729"
     },
     "user_tz": -60
    },
    "id": "29oKe2hb6uE0",
    "outputId": "657eb304-581f-44ca-a8dd-0597e0af7ec2"
   },
   "outputs": [],
   "source": [
    "# Kernelizovani model potpornih vektora sa balansiranim klasama pomocu ugradjenog parametra\n",
    "\n",
    "mpv_kern_bal = ms.GridSearchCV (svm.SVC(class_weight = 'balanced', random_state = 7), param_grid = parametri_kern, scoring = 'f1', n_jobs = n_jobs_kern, cv = cv_kern, verbose = 2)\n",
    "mpv_kern_bal.fit (x_trening, y_trening)\n",
    "y_procena = mpv_kern_bal.predict (x_test)\n",
    "\n",
    "print ('Parametri najboljeg modela:', mpv_kern_bal.best_params_)\n",
    "print ('Izvestaj klasifikacije kernelizovanog mpv-a:\\n', met.classification_report (y_test, y_procena))\n"
   ]
  },
  {
   "cell_type": "code",
   "execution_count": null,
   "metadata": {
    "colab": {
     "base_uri": "https://localhost:8080/",
     "height": 684
    },
    "colab_type": "code",
    "executionInfo": {
     "elapsed": 1004,
     "status": "ok",
     "timestamp": 1572783223698,
     "user": {
      "displayName": "Aleksandar Anžel",
      "photoUrl": "https://lh3.googleusercontent.com/a-/AAuE7mAv_eRLNMWBvr43YXv7UrZwTFOu9RxxodF6fBNOjQ=s64",
      "userId": "09456993545544319729"
     },
     "user_tz": -60
    },
    "id": "jCXJokNP6uE2",
    "outputId": "2fdfbcd4-83f3-40cf-a408-675bf39f357a"
   },
   "outputs": [],
   "source": [
    "# Iscrtavanje matrice konfuzije za prethodni model\n",
    "nacrtaj_matricu_konfuzije (y_test, y_procena, 'MPV kernelizovan balansiran ' + str (mpv_kern_bal.best_params_))\n",
    "plt.show()"
   ]
  },
  {
   "cell_type": "code",
   "execution_count": null,
   "metadata": {
    "colab": {},
    "colab_type": "code",
    "id": "90wYit2-6uE5"
   },
   "outputs": [],
   "source": [
    "# Cuvanje rezultata kros-validacije u .csv fajl\n",
    "\n",
    "df_mpv_kern_bal = pd.DataFrame (mpv_kern_bal.cv_results_)\n",
    "df_mpv_kern_bal.to_csv (os.path.join (putanja_za_rezultate, 'MPV_KERN_BAL.csv'))\n",
    "#df_mpv_kern_bal\n"
   ]
  },
  {
   "cell_type": "markdown",
   "metadata": {
    "colab_type": "text",
    "id": "Q20FJLsx6uE7"
   },
   "source": [
    "## 3.2. Data set balanced with random undersampling\n",
    "### 3.2.1 Linear SVM"
   ]
  },
  {
   "cell_type": "code",
   "execution_count": null,
   "metadata": {
    "colab": {
     "base_uri": "https://localhost:8080/",
     "height": 1000
    },
    "colab_type": "code",
    "executionInfo": {
     "elapsed": 153042,
     "status": "ok",
     "timestamp": 1572783376732,
     "user": {
      "displayName": "Aleksandar Anžel",
      "photoUrl": "https://lh3.googleusercontent.com/a-/AAuE7mAv_eRLNMWBvr43YXv7UrZwTFOu9RxxodF6fBNOjQ=s64",
      "userId": "09456993545544319729"
     },
     "user_tz": -60
    },
    "id": "B9LqK2dj6uE8",
    "outputId": "a204f81b-9459-4dcc-be8e-cf2e06356734"
   },
   "outputs": [],
   "source": [
    "# Definisanje metaparametara linearnog modela\n",
    "parametri_lin = {'C': [10**i for i in range (-5, 5)]}\n",
    "\n",
    "# Linearni model potpornih vektora bez aktiviranog ugradjeno parametra class_weight\n",
    "mpv_lin_bal_pod = ms.GridSearchCV (svm.LinearSVC (random_state = 7, class_weight = None, max_iter = max_iter_lin), param_grid = parametri_lin, scoring = 'f1', n_jobs = 1, cv = 10, verbose = 1)\n",
    "mpv_lin_bal_pod.fit (x_trening_pod, y_trening_pod)\n",
    "y_procena = mpv_lin_bal_pod.predict (x_test)\n",
    "\n",
    "print ('Parametri najboljeg modela:', mpv_lin_bal_pod.best_params_)\n",
    "print ('Izvestaj klasifikacije linearnog mpv-a:\\n', met.classification_report (y_test, y_procena))\n"
   ]
  },
  {
   "cell_type": "code",
   "execution_count": null,
   "metadata": {
    "colab": {
     "base_uri": "https://localhost:8080/",
     "height": 684
    },
    "colab_type": "code",
    "executionInfo": {
     "elapsed": 1250,
     "status": "ok",
     "timestamp": 1572783377947,
     "user": {
      "displayName": "Aleksandar Anžel",
      "photoUrl": "https://lh3.googleusercontent.com/a-/AAuE7mAv_eRLNMWBvr43YXv7UrZwTFOu9RxxodF6fBNOjQ=s64",
      "userId": "09456993545544319729"
     },
     "user_tz": -60
    },
    "id": "iKYT8P_06uFB",
    "outputId": "edeeb962-fc6d-4bd5-bc8a-940b7e267364"
   },
   "outputs": [],
   "source": [
    "# Iscrtavanje matrice konfuzije za prethodni model\n",
    "nacrtaj_matricu_konfuzije (y_test, y_procena, 'MPV linearan balansiran podsempliranjem ' + str (mpv_lin_bal_pod.best_params_))\n",
    "plt.show()"
   ]
  },
  {
   "cell_type": "code",
   "execution_count": null,
   "metadata": {
    "colab": {},
    "colab_type": "code",
    "id": "OBs98zHk6uFF"
   },
   "outputs": [],
   "source": [
    "# Cuvanje rezultata kros-validacije u .csv fajl\n",
    "\n",
    "df_mpv_lin_bal_pod = pd.DataFrame (mpv_lin_bal_pod.cv_results_)\n",
    "df_mpv_lin_bal_pod.to_csv (os.path.join (putanja_za_rezultate, 'MPV_LIN_BAL_POD.csv'))\n",
    "#df_mpv_lin_bal_pod\n"
   ]
  },
  {
   "cell_type": "markdown",
   "metadata": {
    "colab_type": "text",
    "id": "5z7q3Kd86uFJ"
   },
   "source": [
    "### 3.2.2 Kernelized SVM"
   ]
  },
  {
   "cell_type": "code",
   "execution_count": null,
   "metadata": {
    "colab": {
     "base_uri": "https://localhost:8080/",
     "height": 411
    },
    "colab_type": "code",
    "executionInfo": {
     "elapsed": 386132,
     "status": "ok",
     "timestamp": 1572783764068,
     "user": {
      "displayName": "Aleksandar Anžel",
      "photoUrl": "https://lh3.googleusercontent.com/a-/AAuE7mAv_eRLNMWBvr43YXv7UrZwTFOu9RxxodF6fBNOjQ=s64",
      "userId": "09456993545544319729"
     },
     "user_tz": -60
    },
    "id": "OdXAnqQu6uFJ",
    "outputId": "19fcb636-7e43-47e5-fcd7-f34e0d5cd072"
   },
   "outputs": [],
   "source": [
    "# Definisanje metaparametara kernelizovanog modela\n",
    "parametri_kern = {'kernel': ['poly', 'rbf', 'sigmoid'], 'gamma': [10**i for i in range(-5, 5)], 'C': [10**i for i in range (-5, 5)]}\n",
    "\n",
    "# Kernelizovani model potpornih vektora bez aktiviranog ugradjeno parametra class_weight\n",
    "mpv_kern_bal_pod = ms.GridSearchCV (svm.SVC(class_weight = None, random_state = 7), param_grid = parametri_kern, scoring = 'f1', n_jobs = n_jobs_kern, cv = cv_kern, verbose = 2)\n",
    "mpv_kern_bal_pod.fit (x_trening_pod, y_trening_pod)\n",
    "y_procena = mpv_kern_bal_pod.predict (x_test)\n",
    "\n",
    "print ('Parametri najboljeg modela:', mpv_kern_bal_pod.best_params_)\n",
    "print ('Izvestaj klasifikacije kernelizovanog mpv-a:\\n', met.classification_report (y_test, y_procena))\n"
   ]
  },
  {
   "cell_type": "code",
   "execution_count": null,
   "metadata": {
    "colab": {
     "base_uri": "https://localhost:8080/",
     "height": 684
    },
    "colab_type": "code",
    "executionInfo": {
     "elapsed": 1249,
     "status": "ok",
     "timestamp": 1572783765299,
     "user": {
      "displayName": "Aleksandar Anžel",
      "photoUrl": "https://lh3.googleusercontent.com/a-/AAuE7mAv_eRLNMWBvr43YXv7UrZwTFOu9RxxodF6fBNOjQ=s64",
      "userId": "09456993545544319729"
     },
     "user_tz": -60
    },
    "id": "F9NZXT_P6uFO",
    "outputId": "323fdddf-5fab-4dd3-a0d4-f122d5b78992"
   },
   "outputs": [],
   "source": [
    "# Iscrtavanje matrice konfuzije za prethodni model\n",
    "nacrtaj_matricu_konfuzije (y_test, y_procena, 'MPV kernelizovan balansiran podsempliranjem ' + str (mpv_kern_bal_pod.best_params_))\n",
    "plt.show()"
   ]
  },
  {
   "cell_type": "code",
   "execution_count": null,
   "metadata": {
    "colab": {},
    "colab_type": "code",
    "id": "Cb2tdRBc6uFQ"
   },
   "outputs": [],
   "source": [
    "# Cuvanje rezultata kros-validacije u .csv fajl\n",
    "\n",
    "df_mpv_kern_bal_pod = pd.DataFrame (mpv_kern_bal_pod.cv_results_)\n",
    "df_mpv_kern_bal_pod.to_csv (os.path.join (putanja_za_rezultate, 'MPV_KERN_BAL_POD.csv'))\n",
    "#df_mpv_kern_bal_pod\n"
   ]
  },
  {
   "cell_type": "markdown",
   "metadata": {
    "colab_type": "text",
    "id": "UVoeSb6z6uFT"
   },
   "source": [
    "## 3.3. Data set balanced with SMOTE oversampling\n",
    "### 3.3.1 Linear SVM"
   ]
  },
  {
   "cell_type": "code",
   "execution_count": null,
   "metadata": {
    "colab": {
     "base_uri": "https://localhost:8080/",
     "height": 1000
    },
    "colab_type": "code",
    "executionInfo": {
     "elapsed": 1747831,
     "status": "ok",
     "timestamp": 1572861665233,
     "user": {
      "displayName": "Aleksandar Anžel",
      "photoUrl": "https://lh3.googleusercontent.com/a-/AAuE7mAv_eRLNMWBvr43YXv7UrZwTFOu9RxxodF6fBNOjQ=s64",
      "userId": "09456993545544319729"
     },
     "user_tz": -60
    },
    "id": "7A8tw8Hc6uFU",
    "outputId": "3104a07f-2d2e-4897-dcea-5a2389a15751"
   },
   "outputs": [],
   "source": [
    "# Definisanje metaparametara linearnog modela\n",
    "parametri_lin = {'C': [10**i for i in range (-5, 5)]}\n",
    "\n",
    "# Linearni model potpornih vektora bez aktiviranog ugradjeno parametra class_weight\n",
    "mpv_lin_bal_nad_smote = ms.GridSearchCV (svm.LinearSVC (random_state = 7, class_weight = None, max_iter = max_iter_lin), param_grid = parametri_lin, scoring = 'f1', n_jobs = 1, cv = 10, verbose = 1)\n",
    "mpv_lin_bal_nad_smote.fit (x_trening_nad_smote, y_trening_nad_smote)\n",
    "y_procena = mpv_lin_bal_nad_smote.predict (x_test)\n",
    "\n",
    "print ('Parametri najboljeg modela:', mpv_lin_bal_nad_smote.best_params_)\n",
    "print ('Izvestaj klasifikacije linearnog mpv-a:\\n', met.classification_report (y_test, y_procena))\n"
   ]
  },
  {
   "cell_type": "code",
   "execution_count": null,
   "metadata": {
    "colab": {
     "base_uri": "https://localhost:8080/",
     "height": 684
    },
    "colab_type": "code",
    "executionInfo": {
     "elapsed": 1748458,
     "status": "ok",
     "timestamp": 1572861665883,
     "user": {
      "displayName": "Aleksandar Anžel",
      "photoUrl": "https://lh3.googleusercontent.com/a-/AAuE7mAv_eRLNMWBvr43YXv7UrZwTFOu9RxxodF6fBNOjQ=s64",
      "userId": "09456993545544319729"
     },
     "user_tz": -60
    },
    "id": "Zw0qpqz56uFX",
    "outputId": "913bd5ea-5083-4df7-df6a-6b6cfa6707f4"
   },
   "outputs": [],
   "source": [
    "# Iscrtavanje matrice konfuzije za prethodni model\n",
    "nacrtaj_matricu_konfuzije (y_test, y_procena, 'MPV linearan balansiran nadsempliranjem ' + str (mpv_lin_bal_nad_smote.best_params_))\n",
    "plt.show()"
   ]
  },
  {
   "cell_type": "code",
   "execution_count": null,
   "metadata": {
    "colab": {},
    "colab_type": "code",
    "id": "X6xFeFFT6uFd"
   },
   "outputs": [],
   "source": [
    "# Cuvanje rezultata kros-validacije u .csv fajl\n",
    "putanja_za_rezultate = os.path.join ('..', 'data', 'Rezultati_Uniprot_cist')\n",
    "\n",
    "df_mpv_lin_bal_nad_smote = pd.DataFrame (mpv_lin_bal_nad_smote.cv_results_)\n",
    "df_mpv_lin_bal_nad_smote.to_csv (os.path.join (putanja_za_rezultate, 'MPV_LIN_BAL_NAD_SMOTE.csv'))\n",
    "#df_mpv_lin_bal_nad_smote\n"
   ]
  },
  {
   "cell_type": "markdown",
   "metadata": {
    "colab_type": "text",
    "id": "4L0tyLor6uFg"
   },
   "source": [
    "### 3.3.2 Kernelized SVM"
   ]
  },
  {
   "cell_type": "code",
   "execution_count": null,
   "metadata": {
    "colab": {
     "base_uri": "https://localhost:8080/",
     "height": 357
    },
    "colab_type": "code",
    "executionInfo": {
     "elapsed": 9420076,
     "status": "ok",
     "timestamp": 1572880663490,
     "user": {
      "displayName": "Aleksandar Anžel",
      "photoUrl": "https://lh3.googleusercontent.com/a-/AAuE7mAv_eRLNMWBvr43YXv7UrZwTFOu9RxxodF6fBNOjQ=s64",
      "userId": "09456993545544319729"
     },
     "user_tz": -60
    },
    "id": "vtWMfb9-6uFh",
    "outputId": "0d6a7bfc-0755-4a19-ba87-7db21cc1782c"
   },
   "outputs": [],
   "source": [
    "# Definisanje metaparametara kernelizovanog modela\n",
    "parametri_kern = {'kernel': ['poly', 'rbf', 'sigmoid'], 'gamma': [10**i for i in range(-5, 5)], 'C': [10**i for i in range (-5, 5)]}\n",
    "\n",
    "# Kernelizovani model potpornih vektora bez aktiviranog ugradjeno parametra class_weight\n",
    "mpv_kern_bal_nad_smote = ms.GridSearchCV (svm.SVC(class_weight = None, random_state = 7), param_grid = parametri_kern, scoring = 'f1', n_jobs = n_jobs_kern, cv = cv_kern, verbose = 2)\n",
    "mpv_kern_bal_nad_smote.fit (x_trening_nad_smote, y_trening_nad_smote)\n",
    "y_procena = mpv_kern_bal_nad_smote.predict (x_test)\n",
    "\n",
    "print ('Parametri najboljeg modela:', mpv_kern_bal_nad_smote.best_params_)\n",
    "print ('Izvestaj klasifikacije kernelizovanog mpv-a:\\n', met.classification_report (y_test, y_procena))\n"
   ]
  },
  {
   "cell_type": "code",
   "execution_count": null,
   "metadata": {
    "colab": {
     "base_uri": "https://localhost:8080/",
     "height": 1000
    },
    "colab_type": "code",
    "executionInfo": {
     "elapsed": 409,
     "status": "ok",
     "timestamp": 1572880664855,
     "user": {
      "displayName": "Aleksandar Anžel",
      "photoUrl": "https://lh3.googleusercontent.com/a-/AAuE7mAv_eRLNMWBvr43YXv7UrZwTFOu9RxxodF6fBNOjQ=s64",
      "userId": "09456993545544319729"
     },
     "user_tz": -60
    },
    "id": "OYwGm5a16uFk",
    "outputId": "7294cb1f-fedd-42e7-faaa-c76f3b160ee2"
   },
   "outputs": [],
   "source": [
    "# Iscrtavanje matrice konfuzije za prethodni model\n",
    "nacrtaj_matricu_konfuzije (y_test, y_procena, 'MPV kernelizovan balansiran nadsempliranjem ' + str (mpv_kern_bal_nad_smote.best_params_))\n",
    "plt.show()"
   ]
  },
  {
   "cell_type": "code",
   "execution_count": null,
   "metadata": {
    "colab": {},
    "colab_type": "code",
    "id": "mCfbfvmw6uFq"
   },
   "outputs": [],
   "source": [
    "# Cuvanje rezultata kros-validacije u .csv fajl\n",
    "putanja_za_rezultate = os.path.join ('..', 'data', 'Rezultati_Uniprot_cist')\n",
    "\n",
    "df_mpv_kern_bal_nad_smote = pd.DataFrame (mpv_kern_bal_nad_smote.cv_results_)\n",
    "df_mpv_kern_bal_nad_smote.to_csv (os.path.join (putanja_za_rezultate, 'MPV_KERN_BAL_NAD_SMOTE.csv'))\n",
    "#df_mpv_kern_bal_nad_smote\n"
   ]
  },
  {
   "cell_type": "markdown",
   "metadata": {
    "colab_type": "text",
    "id": "G8jYrKv46uFt"
   },
   "source": [
    "## 3.4. Data set balanced with ADASYN oversampling\n",
    "### 3.4.1 Linear SVM"
   ]
  },
  {
   "cell_type": "code",
   "execution_count": null,
   "metadata": {
    "colab": {
     "base_uri": "https://localhost:8080/",
     "height": 1000
    },
    "colab_type": "code",
    "executionInfo": {
     "elapsed": 1892542,
     "status": "ok",
     "timestamp": 1572882557391,
     "user": {
      "displayName": "Aleksandar Anžel",
      "photoUrl": "https://lh3.googleusercontent.com/a-/AAuE7mAv_eRLNMWBvr43YXv7UrZwTFOu9RxxodF6fBNOjQ=s64",
      "userId": "09456993545544319729"
     },
     "user_tz": -60
    },
    "id": "0DF9ShRe6uFu",
    "outputId": "41a91ebf-d3ba-41b6-9e9c-67d5913ed988"
   },
   "outputs": [],
   "source": [
    "# Definisanje metaparametara linearnog modela\n",
    "parametri_lin = {'C': [10**i for i in range (-5, 5)]}\n",
    "\n",
    "# Linearni model potpornih vektora bez aktiviranog ugradjeno parametra class_weight\n",
    "mpv_lin_bal_nad_adasyn = ms.GridSearchCV (svm.LinearSVC (random_state = 7, class_weight = None, max_iter = max_iter_lin), param_grid = parametri_lin, scoring = 'f1', n_jobs = 1, cv = 10, verbose = 1)\n",
    "mpv_lin_bal_nad_adasyn.fit (x_trening_nad_adasyn, y_trening_nad_adasyn)\n",
    "y_procena = mpv_lin_bal_nad_adasyn.predict (x_test)\n",
    "\n",
    "print ('Parametri najboljeg modela:', mpv_lin_bal_nad_adasyn.best_params_)\n",
    "print ('Izvestaj klasifikacije linearnog mpv-a:\\n', met.classification_report (y_test, y_procena))\n"
   ]
  },
  {
   "cell_type": "code",
   "execution_count": null,
   "metadata": {
    "colab": {
     "base_uri": "https://localhost:8080/",
     "height": 1000
    },
    "colab_type": "code",
    "executionInfo": {
     "elapsed": 1072,
     "status": "ok",
     "timestamp": 1572882558481,
     "user": {
      "displayName": "Aleksandar Anžel",
      "photoUrl": "https://lh3.googleusercontent.com/a-/AAuE7mAv_eRLNMWBvr43YXv7UrZwTFOu9RxxodF6fBNOjQ=s64",
      "userId": "09456993545544319729"
     },
     "user_tz": -60
    },
    "id": "QRgSFvRq6uFz",
    "outputId": "cc3fc49a-f90f-4afc-a90e-d273560cbd50"
   },
   "outputs": [],
   "source": [
    "# Iscrtavanje matrice konfuzije za prethodni model\n",
    "nacrtaj_matricu_konfuzije (y_test, y_procena, 'MPV linearan balansiran nadsempliranjem ' + str (mpv_lin_bal_nad_adasyn.best_params_))\n",
    "plt.show()"
   ]
  },
  {
   "cell_type": "code",
   "execution_count": null,
   "metadata": {
    "colab": {},
    "colab_type": "code",
    "id": "1QrwkBib6uF2"
   },
   "outputs": [],
   "source": [
    "# Cuvanje rezultata kros-validacije u .csv fajl\n",
    "\n",
    "df_mpv_lin_bal_nad_adasyn = pd.DataFrame (mpv_lin_bal_nad_adasyn.cv_results_)\n",
    "df_mpv_lin_bal_nad_adasyn.to_csv (os.path.join (putanja_za_rezultate, 'MPV_LIN_BAL_NAD_ADASYN.csv'))\n",
    "#df_mpv_lin_bal_nad_adasyn\n"
   ]
  },
  {
   "cell_type": "markdown",
   "metadata": {
    "colab_type": "text",
    "id": "U_NfxnMs6uF7"
   },
   "source": [
    "### 3.4.2 Kernelized SVM"
   ]
  },
  {
   "cell_type": "code",
   "execution_count": null,
   "metadata": {
    "colab": {
     "base_uri": "https://localhost:8080/",
     "height": 357
    },
    "colab_type": "code",
    "executionInfo": {
     "elapsed": 9493709,
     "status": "ok",
     "timestamp": 1572902452147,
     "user": {
      "displayName": "Aleksandar Anžel",
      "photoUrl": "https://lh3.googleusercontent.com/a-/AAuE7mAv_eRLNMWBvr43YXv7UrZwTFOu9RxxodF6fBNOjQ=s64",
      "userId": "09456993545544319729"
     },
     "user_tz": -60
    },
    "id": "3fBKgo_h6uF8",
    "outputId": "30c671cf-84d6-441d-c577-498bf221c604"
   },
   "outputs": [],
   "source": [
    "# Definisanje metaparametara kernelizovanog modela\n",
    "parametri_kern = {'kernel': ['poly', 'rbf', 'sigmoid'], 'gamma': [10**i for i in range(-5, 5)], 'C': [10**i for i in range (-5, 5)]}\n",
    "\n",
    "# Kernelizovani model potpornih vektora bez aktiviranog ugradjeno parametra class_weight\n",
    "mpv_kern_bal_nad_adasyn = ms.GridSearchCV (svm.SVC(class_weight = None, random_state = 7), param_grid = parametri_kern, scoring = 'f1', n_jobs = n_jobs_kern, cv = cv_kern, verbose = 2)\n",
    "mpv_kern_bal_nad_adasyn.fit (x_trening_nad_adasyn, y_trening_nad_adasyn)\n",
    "y_procena = mpv_kern_bal_nad_adasyn.predict (x_test)\n",
    "\n",
    "print ('Parametri najboljeg modela:', mpv_kern_bal_nad_adasyn.best_params_)\n",
    "print ('Izvestaj klasifikacije kernelizovanog mpv-a:\\n', met.classification_report (y_test, y_procena))\n"
   ]
  },
  {
   "cell_type": "code",
   "execution_count": null,
   "metadata": {
    "colab": {
     "base_uri": "https://localhost:8080/",
     "height": 684
    },
    "colab_type": "code",
    "executionInfo": {
     "elapsed": 1145,
     "status": "ok",
     "timestamp": 1572902453278,
     "user": {
      "displayName": "Aleksandar Anžel",
      "photoUrl": "https://lh3.googleusercontent.com/a-/AAuE7mAv_eRLNMWBvr43YXv7UrZwTFOu9RxxodF6fBNOjQ=s64",
      "userId": "09456993545544319729"
     },
     "user_tz": -60
    },
    "id": "cxXJhCmy6uF-",
    "outputId": "f0f3085f-e263-4591-e6f5-87091e8eed23"
   },
   "outputs": [],
   "source": [
    "# Iscrtavanje matrice konfuzije za prethodni model\n",
    "nacrtaj_matricu_konfuzije (y_test, y_procena, 'MPV kernelizovan balansiran nadsempliranjem ' + str (mpv_kern_bal_nad_adasyn.best_params_))\n",
    "plt.show()"
   ]
  },
  {
   "cell_type": "code",
   "execution_count": null,
   "metadata": {
    "colab": {},
    "colab_type": "code",
    "id": "iHMr-8hs6uGA"
   },
   "outputs": [],
   "source": [
    "# Cuvanje rezultata kros-validacije u .csv fajl\n",
    "putanja_za_rezultate = os.path.join ('..', 'data', 'Rezultati_Uniprot_cist')\n",
    "\n",
    "df_mpv_kern_bal_nad_adasyn = pd.DataFrame (mpv_kern_bal_nad_adasyn.cv_results_)\n",
    "df_mpv_kern_bal_nad_adasyn.to_csv (os.path.join (putanja_za_rezultate, 'MPV_KERN_BAL_NAD_ADASYN.csv'))\n",
    "#df_mpv_kern_bal_nad_adasyn\n"
   ]
  }
 ],
 "metadata": {
  "colab": {
   "collapsed_sections": [
    "F2Zay2mj6uEa"
   ],
   "name": "Main_1.ipynb",
   "provenance": []
  },
  "kernelspec": {
   "display_name": "Python 3",
   "language": "python",
   "name": "python3"
  },
  "language_info": {
   "codemirror_mode": {
    "name": "ipython",
    "version": 3
   },
   "file_extension": ".py",
   "mimetype": "text/x-python",
   "name": "python",
   "nbconvert_exporter": "python",
   "pygments_lexer": "ipython3",
   "version": "3.7.7"
  }
 },
 "nbformat": 4,
 "nbformat_minor": 4
}
