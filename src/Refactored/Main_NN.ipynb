{
 "cells": [
  {
   "cell_type": "code",
   "execution_count": null,
   "metadata": {
    "colab": {
     "base_uri": "https://localhost:8080/",
     "height": 68
    },
    "colab_type": "code",
    "executionInfo": {
     "elapsed": 11821,
     "status": "ok",
     "timestamp": 1579254192242,
     "user": {
      "displayName": "Aleksandar Anžel",
      "photoUrl": "https://lh3.googleusercontent.com/a-/AAuE7mAv_eRLNMWBvr43YXv7UrZwTFOu9RxxodF6fBNOjQ=s64",
      "userId": "09456993545544319729"
     },
     "user_tz": -60
    },
    "id": "iPjiUHwbeWG1",
    "outputId": "7cd42465-c8a7-4fcf-bc94-f3758ef4782d"
   },
   "outputs": [],
   "source": [
    "# Necessary for Google Colab\n",
    "# Uncomment before first run, and then comment all again\n",
    "\n",
    "# Potrebno za Google Colab\n",
    "# Odkomentarisati komande ispod pre prvog pokretanja, a zatim ponovo zakomentarisati\n",
    "\n",
    "#! git clone https://github.com/AAnzel/Master_rad.git\n",
    "#! mkdir ../data\n",
    "#! mv Master_rad/data/UniProt\\ cist ../data/\n"
   ]
  },
  {
   "cell_type": "code",
   "execution_count": null,
   "metadata": {
    "colab": {},
    "colab_type": "code",
    "id": "FU85nl7ceQDd"
   },
   "outputs": [],
   "source": [
    "import os\n",
    "import sys\n",
    "import numpy as np\n",
    "import pandas as pd\n",
    "from matplotlib import pyplot as plt\n",
    "import seaborn as sn\n",
    "from sklearn import preprocessing as prep\n",
    "from sklearn import model_selection as ms\n",
    "from sklearn import linear_model as lm\n",
    "from sklearn import metrics as met\n",
    "from sklearn.utils import class_weight as cw\n",
    "from imblearn.over_sampling import SMOTE, ADASYN\n",
    "from imblearn.under_sampling import RandomUnderSampler\n",
    "\n",
    "from keras.models import Sequential\n",
    "from keras.layers import Dense, BatchNormalization, Activation\n",
    "from keras.callbacks import EarlyStopping\n",
    "from keras import losses, optimizers, initializers, regularizers, activations\n",
    "from keras import metrics as ker_met\n",
    "from keras import backend as K\n",
    "from keras.wrappers.scikit_learn import KerasClassifier\n",
    "from keras.callbacks import EarlyStopping, ModelCheckpoint, Callback\n",
    "from timeit import default_timer as timer\n",
    "from datetime import timedelta\n",
    "\n",
    "%matplotlib inline\n",
    "#plt.style.use ('dark_background')\n",
    "\n",
    "SMALL_SIZE = 14\n",
    "MEDIUM_SIZE = 16\n",
    "BIGGER_SIZE = 18\n",
    "\n",
    "plt.rc('font', size=SMALL_SIZE)          # controls default text sizes\n",
    "plt.rc('axes', titlesize=SMALL_SIZE)     # fontsize of the axes title\n",
    "plt.rc('axes', labelsize=MEDIUM_SIZE)    # fontsize of the x and y labels\n",
    "plt.rc('xtick', labelsize=SMALL_SIZE)    # fontsize of the tick labels\n",
    "plt.rc('ytick', labelsize=SMALL_SIZE)    # fontsize of the tick labels\n",
    "plt.rc('legend', fontsize=SMALL_SIZE)    # legend fontsize\n",
    "plt.rc('figure', titlesize=BIGGER_SIZE)  # fontsize of the figure title\n"
   ]
  },
  {
   "cell_type": "markdown",
   "metadata": {
    "colab_type": "text",
    "id": "9gllUoTQwuDm"
   },
   "source": [
    "## 1. Importing and visualizing data"
   ]
  },
  {
   "cell_type": "code",
   "execution_count": null,
   "metadata": {},
   "outputs": [],
   "source": [
    "# Krecemo sa ucitavanjem podataka i vizualizacijom istih\n",
    "sve_putanja_ulaza = os.path.join ('..', '..', 'data', 'UniProt cist', 'SVE_FINALNO.csv')\n",
    "df_sve = pd.read_csv (sve_putanja_ulaza, sep = '\\t', index_col = 0)\n",
    "df_sve"
   ]
  },
  {
   "cell_type": "code",
   "execution_count": null,
   "metadata": {
    "colab": {},
    "colab_type": "code",
    "id": "zTpQQNm1eQD0"
   },
   "outputs": [],
   "source": [
    "# Izdvajanje poslednje kolone, koja predstavlja klasu kojoj protein pripada i izbacivanje iste iz DataFrame-a\n",
    "y = df_sve['Klasa'].values\n",
    "df_sve = df_sve.drop (labels = ['Klasa'], axis = 1)\n"
   ]
  },
  {
   "cell_type": "code",
   "execution_count": null,
   "metadata": {
    "colab": {
     "base_uri": "https://localhost:8080/",
     "height": 607
    },
    "colab_type": "code",
    "executionInfo": {
     "elapsed": 10831,
     "status": "ok",
     "timestamp": 1572774055410,
     "user": {
      "displayName": "Aleksandar Anžel",
      "photoUrl": "https://lh3.googleusercontent.com/a-/AAuE7mAv_eRLNMWBvr43YXv7UrZwTFOu9RxxodF6fBNOjQ=s64",
      "userId": "09456993545544319729"
     },
     "user_tz": -60
    },
    "id": "93MfgqDueQD3",
    "outputId": "6cd3ef45-6899-47b1-cfe4-0359396403cf"
   },
   "outputs": [],
   "source": [
    "# Prvo da vizualizujemo u kakvom su odnosu klase\n",
    "\n",
    "fig = plt.figure (figsize = (8, 10))\n",
    "plt.title ('Balansiranost klasa')\n",
    "plt.xticks (ticks = range (2), labels = ['Negativna', 'Pozitivna'])\n",
    "plt.bar ([0, 1], [sum(y == 0), sum (y == 1)], color = 'red')\n",
    "plt.grid (linewidth = 0.3)\n",
    "plt.show()\n"
   ]
  },
  {
   "cell_type": "code",
   "execution_count": null,
   "metadata": {
    "colab": {
     "base_uri": "https://localhost:8080/",
     "height": 1000
    },
    "colab_type": "code",
    "executionInfo": {
     "elapsed": 12584,
     "status": "ok",
     "timestamp": 1572774057188,
     "user": {
      "displayName": "Aleksandar Anžel",
      "photoUrl": "https://lh3.googleusercontent.com/a-/AAuE7mAv_eRLNMWBvr43YXv7UrZwTFOu9RxxodF6fBNOjQ=s64",
      "userId": "09456993545544319729"
     },
     "user_tz": -60
    },
    "id": "vuU7ATXJeQD7",
    "outputId": "b4a4040d-1558-4584-958e-9fb60807f37e"
   },
   "outputs": [],
   "source": [
    "# Vizualizacija podataka pomocu matrice korelacije\n",
    "kolone = df_sve.columns.values\n",
    "\n",
    "fig = plt.figure (figsize = (20, 20))\n",
    "plt.title ('Matrica korelacije podataka')\n",
    "plt.xticks (ticks = range (len (kolone)), labels = kolone, rotation = 90)\n",
    "plt.yticks (ticks = range (len (kolone)), labels = kolone)\n",
    "plt.imshow (df_sve.corr(), cmap = 'magma')\n",
    "plt.colorbar()\n",
    "plt.show()\n",
    "\n",
    "# Vidimo da nije velika korelisanost podataka ni u jednom delu, sto je jako dobro\n"
   ]
  },
  {
   "cell_type": "markdown",
   "metadata": {
    "colab_type": "text",
    "id": "03imjWdB6uD7"
   },
   "source": [
    "# 2. Preparing data for machine learning models\n",
    "## 2.1 Training-Test split"
   ]
  },
  {
   "cell_type": "code",
   "execution_count": null,
   "metadata": {
    "colab": {
     "base_uri": "https://localhost:8080/",
     "height": 751
    },
    "colab_type": "code",
    "executionInfo": {
     "elapsed": 12988,
     "status": "ok",
     "timestamp": 1572774057615,
     "user": {
      "displayName": "Aleksandar Anžel",
      "photoUrl": "https://lh3.googleusercontent.com/a-/AAuE7mAv_eRLNMWBvr43YXv7UrZwTFOu9RxxodF6fBNOjQ=s64",
      "userId": "09456993545544319729"
     },
     "user_tz": -60
    },
    "id": "OZx--X5WeQD_",
    "outputId": "c5ba9d8d-7bb4-4daa-a146-d36022cb1c7d"
   },
   "outputs": [],
   "source": [
    "# Deljenje podataka na skupove za trening, validaciju i test, 2:1 odnos svuda\n",
    "# Bitan parametar predstavlja i stratifikacija po klasi, tako da imamo ujednaceno deljenje na skupove (tj. balansiranost klasa po skupovima)\n",
    "X = df_sve.values\n",
    "\n",
    "x_trening_valid, x_test, y_trening_valid, y_test = ms.train_test_split (X, y, train_size = 0.67, test_size = 0.33, stratify = y, random_state = 7)\n",
    "x_trening, x_valid, y_trening, y_valid = ms.train_test_split (x_trening_valid, y_trening_valid, train_size = 0.67, test_size = 0.33, stratify = y_trening_valid, random_state = 7)\n",
    "\n",
    "# Standardizacija podataka\n",
    "skaler_1 = prep.StandardScaler()\n",
    "skaler_1.fit (x_trening)\n",
    "x_trening = skaler_1.transform (x_trening)\n",
    "x_valid = skaler_1.transform (x_valid)\n",
    "\n",
    "skaler_2 = prep.StandardScaler()\n",
    "skaler_2.fit (x_trening_valid)\n",
    "x_trening_valid = skaler_2.transform (x_trening_valid)\n",
    "x_test = skaler_2.transform (x_test)\n",
    "\n",
    "print ('Broj proteina u x_trening skupu podataka: ', x_trening.shape)\n",
    "print ('Broj proteina u y_trening skupu podataka: ', y_trening.shape)\n",
    "print ('Broj proteina u x_test skupu podataka: ', x_test.shape)\n",
    "print ('Broj proteina u y_test skupu podataka: ', y_test.shape)\n",
    "\n",
    "# Vizualizacija podele na trening, validacioni i test skup i balansiranosti klasa\n",
    "\n",
    "fig, (ax1, ax2, ax3, ax4) = plt.subplots (1, 4, figsize = (25, 10))\n",
    "plt.suptitle ('Kolicina podataka i balansiranost klasa')\n",
    "\n",
    "ax1.set_title ('Kolicina podataka u trening, validacionom i test skupu')\n",
    "ax1.set_xticks (ticks = range (3))\n",
    "ax1.set_xticklabels (labels = ['Trening', 'Validacija', 'Test'])\n",
    "ax1.bar ([0, 1, 2], [x_trening.shape[0], x_valid.shape[0], x_test.shape[0]], color = 'green')\n",
    "ax1.grid (linewidth = 0.3)\n",
    "\n",
    "ax2.set_title ('Klase trening skupa')\n",
    "ax2.set_xticks (ticks = range (2))\n",
    "ax2.set_xticklabels (labels = ['Negativna', 'Pozitivna'])\n",
    "ax2.bar ([0, 1], [sum(y_trening == 0), sum (y_trening == 1)], color = ['blue', 'red'])\n",
    "ax2.grid (linewidth = 0.3)\n",
    "\n",
    "ax3.set_title ('Klase validacionog skupa')\n",
    "ax3.set_xticks (ticks = range (2))\n",
    "ax3.set_xticklabels (labels = ['Negativna', 'Pozitivna'])\n",
    "ax3.bar ([0, 1], [sum(y_valid == 0), sum (y_valid == 1)], color = ['blue', 'red'])\n",
    "ax3.grid (linewidth = 0.3)\n",
    "\n",
    "ax4.set_title ('Klase test skupa')\n",
    "ax4.set_xticks (ticks = range (2))\n",
    "ax4.set_xticklabels (labels = ['Negativna', 'Pozitivna'])\n",
    "ax4.bar ([0, 1], [sum(y_test == 0), sum (y_test == 1)], color = ['blue', 'red'])\n",
    "ax4.grid (linewidth = 0.3)\n",
    "\n",
    "plt.show()\n"
   ]
  },
  {
   "cell_type": "markdown",
   "metadata": {
    "colab_type": "text",
    "id": "ZC88foum6uD_"
   },
   "source": [
    "## 2.2 Balancing data with random undersampling"
   ]
  },
  {
   "cell_type": "code",
   "execution_count": null,
   "metadata": {
    "colab": {
     "base_uri": "https://localhost:8080/",
     "height": 238
    },
    "colab_type": "code",
    "executionInfo": {
     "elapsed": 12972,
     "status": "ok",
     "timestamp": 1572774057622,
     "user": {
      "displayName": "Aleksandar Anžel",
      "photoUrl": "https://lh3.googleusercontent.com/a-/AAuE7mAv_eRLNMWBvr43YXv7UrZwTFOu9RxxodF6fBNOjQ=s64",
      "userId": "09456993545544319729"
     },
     "user_tz": -60
    },
    "id": "CBLnuJaGeQED",
    "outputId": "9c0832c4-b454-4f9c-d41e-f0f070ab3666"
   },
   "outputs": [],
   "source": [
    "# Balansiranje podataka podsempliranjem (nasumicnim podsemplerom) i cuvanje novih podataka (radi se samo za trening skup!)\n",
    "# Prvo balansiram deo koji ce se koristiti za ucenje, tj. samo trening skup\n",
    "\n",
    "print ('Broj pozitivnih proteina trening skupa, pre balansiranja: ', sum(y_trening == 1))\n",
    "print ('Broj negativnih proteina trening skupa, pre balansiranja: ', sum(y_trening == 0))\n",
    "\n",
    "pod_sempler_1 = RandomUnderSampler(random_state = 7)\n",
    "x_trening_pod, y_trening_pod = pod_sempler_1.fit_sample (x_trening, y_trening)\n",
    "\n",
    "print ('Izgled x_trening skupa nakon podsempliranja:', x_trening_pod.shape)\n",
    "print ('Izgled y_trening skupa nakon podsempliranja:', y_trening_pod.shape)\n",
    "\n",
    "print ('Broj pozitivnih proteina trening skupa, nakon balansiranja: ', sum(y_trening_pod == 1))\n",
    "print ('Broj negativnih proteina trening skupa, nakon balansiranja: ', sum(y_trening_pod == 0))\n",
    "\n",
    "# Balansiranje dela za evaluaciju mreze, tj. trening_valid skupa\n",
    "\n",
    "print ('\\nBroj pozitivnih proteina trening_valid skupa, pre balansiranja: ', sum(y_trening_valid == 1))\n",
    "print ('Broj negativnih proteina trening_valid skupa, pre balansiranja: ', sum(y_trening_valid == 0))\n",
    "\n",
    "pod_sempler_2 = RandomUnderSampler(random_state = 7)\n",
    "x_trening_valid_pod, y_trening_valid_pod = pod_sempler_2.fit_sample (x_trening_valid, y_trening_valid)\n",
    "\n",
    "print ('Izgled x_trening_valid skupa nakon podsempliranja:', x_trening_valid_pod.shape)\n",
    "print ('Izgled y_trening_valid skupa nakon podsempliranja:', y_trening_valid_pod.shape)\n",
    "\n",
    "print ('Broj pozitivnih proteina trening_valid skupa, nakon balansiranja: ', sum(y_trening_valid_pod == 1))\n",
    "print ('Broj negativnih proteina trening_valid skupa, nakon balansiranja: ', sum(y_trening_valid_pod == 0))\n"
   ]
  },
  {
   "cell_type": "markdown",
   "metadata": {
    "colab_type": "text",
    "id": "1GsgMCmG6uEE"
   },
   "source": [
    "## 2.3 Balancing data with SMOTE oversampling"
   ]
  },
  {
   "cell_type": "code",
   "execution_count": null,
   "metadata": {
    "colab": {
     "base_uri": "https://localhost:8080/",
     "height": 238
    },
    "colab_type": "code",
    "executionInfo": {
     "elapsed": 13362,
     "status": "ok",
     "timestamp": 1572774058037,
     "user": {
      "displayName": "Aleksandar Anžel",
      "photoUrl": "https://lh3.googleusercontent.com/a-/AAuE7mAv_eRLNMWBvr43YXv7UrZwTFOu9RxxodF6fBNOjQ=s64",
      "userId": "09456993545544319729"
     },
     "user_tz": -60
    },
    "id": "8HunllgDeQEI",
    "outputId": "65191f71-adc5-4a8a-f44c-550d7ecdb911"
   },
   "outputs": [],
   "source": [
    "# Balansiranje podataka nadsempliranjem (SMOTE algoritmom, a ne nasumicnim nadsemplerom) i cuvanje novih podataka (radi se samo za trening skup!)\n",
    "# Izabran je SMOTE algoritam jer je on koristi algoritam K najblizih suseda za generisanje novih podataka, samim tim daje relevantnije nove informacije\n",
    "# Prvo balansiram deo koji ce se koristiti za ucenje, tj. samo trening skup\n",
    "\n",
    "print ('Broj pozitivnih proteina trening skupa, pre balansiranja: ', sum(y_trening == 1))\n",
    "print ('Broj negativnih proteina trening skupa, pre balansiranja: ', sum(y_trening == 0))\n",
    "\n",
    "nad_sempler_smote_1 = SMOTE(random_state = 7, n_jobs = -1)\n",
    "x_trening_nad_smote, y_trening_nad_smote = nad_sempler_smote_1.fit_sample (x_trening, y_trening)\n",
    "\n",
    "print ('Izgled x_trening skupa nakon nadsempliranja:', x_trening_nad_smote.shape)\n",
    "print ('Izgled y_trening skupa nakon nadsempliranja:', y_trening_nad_smote.shape)\n",
    "\n",
    "print ('Broj pozitivnih proteina trening skupa, nakon balansiranja: ', sum(y_trening_nad_smote == 1))\n",
    "print ('Broj negativnih proteina trening skupa, nakon balansiranja: ', sum(y_trening_nad_smote == 0))\n",
    "\n",
    "# Balansiranje dela za evaluaciju mreze, tj. trening_valid skupa\n",
    "\n",
    "print ('\\nBroj pozitivnih proteina trening_valid skupa, pre balansiranja: ', sum(y_trening_valid == 1))\n",
    "print ('Broj negativnih proteina trening_valid skupa, pre balansiranja: ', sum(y_trening_valid == 0))\n",
    "\n",
    "nad_sempler_smote_2 = SMOTE(random_state = 7, n_jobs = -1)\n",
    "x_trening_valid_nad_smote, y_trening_valid_nad_smote = nad_sempler_smote_2.fit_sample (x_trening_valid, y_trening_valid)\n",
    "\n",
    "print ('Izgled x_trening_valid skupa nakon nadsempliranja:', x_trening_valid_nad_smote.shape)\n",
    "print ('Izgled y_trening_valid skupa nakon nadsempliranja:', y_trening_valid_nad_smote.shape)\n",
    "\n",
    "print ('Broj pozitivnih proteina trening_valid skupa, nakon balansiranja: ', sum(y_trening_valid_nad_smote == 1))\n",
    "print ('Broj negativnih proteina trening_valid skupa, nakon balansiranja: ', sum(y_trening_valid_nad_smote == 0))\n"
   ]
  },
  {
   "cell_type": "markdown",
   "metadata": {
    "colab_type": "text",
    "id": "OzjNvEx37OlC"
   },
   "source": [
    "## 2.4 Balancing data with ADASYN oversampling"
   ]
  },
  {
   "cell_type": "code",
   "execution_count": null,
   "metadata": {
    "colab": {
     "base_uri": "https://localhost:8080/",
     "height": 238
    },
    "colab_type": "code",
    "executionInfo": {
     "elapsed": 15521,
     "status": "ok",
     "timestamp": 1572774060217,
     "user": {
      "displayName": "Aleksandar Anžel",
      "photoUrl": "https://lh3.googleusercontent.com/a-/AAuE7mAv_eRLNMWBvr43YXv7UrZwTFOu9RxxodF6fBNOjQ=s64",
      "userId": "09456993545544319729"
     },
     "user_tz": -60
    },
    "id": "EB__563aeQEM",
    "outputId": "738428f5-698c-4827-f2a5-d26750b4e68d"
   },
   "outputs": [],
   "source": [
    "# Balansiranje podataka nadsempliranjem (ADASYN algoritmom, a ne nasumicnim nadsemplerom) i cuvanje novih podataka (radi se samo za trening skup!)\n",
    "# ADASYN predstavlja poboljsanje SMOTE algoritma koji kreira 'realnije' podatke\n",
    "# Prvo balansiram deo koji ce se koristiti za ucenje, tj. samo trening skup\n",
    "\n",
    "print ('Broj pozitivnih proteina trening skupa, pre balansiranja: ', sum(y_trening == 1))\n",
    "print ('Broj negativnih proteina trening skupa, pre balansiranja: ', sum(y_trening == 0))\n",
    "\n",
    "nad_sempler_adasyn_1 = ADASYN(random_state = 7, n_jobs = -1)\n",
    "x_trening_nad_adasyn, y_trening_nad_adasyn = nad_sempler_adasyn_1.fit_sample (x_trening, y_trening)\n",
    "\n",
    "print ('Izgled x_trening skupa nakon nadsempliranja:', x_trening_nad_adasyn.shape)\n",
    "print ('Izgled y_trening skupa nakon nadsempliranja:', y_trening_nad_adasyn.shape)\n",
    "\n",
    "print ('Broj pozitivnih proteina trening skupa, nakon balansiranja: ', sum(y_trening_nad_adasyn == 1))\n",
    "print ('Broj negativnih proteina trening skupa, nakon balansiranja: ', sum(y_trening_nad_adasyn == 0))\n",
    "\n",
    "# Balansiranje dela za evaluaciju mreze, tj. trening_valid skupa\n",
    "\n",
    "print ('\\nBroj pozitivnih proteina trening_valid skupa, pre balansiranja: ', sum(y_trening_valid == 1))\n",
    "print ('Broj negativnih proteina trening_valid skupa, pre balansiranja: ', sum(y_trening_valid == 0))\n",
    "\n",
    "nad_sempler_adasyn_2 = ADASYN(random_state = 7, n_jobs = -1)\n",
    "x_trening_valid_nad_adasyn, y_trening_valid_nad_adasyn = nad_sempler_adasyn_2.fit_sample (x_trening_valid, y_trening_valid)\n",
    "\n",
    "print ('Izgled x_trening_valid skupa nakon nadsempliranja:', x_trening_valid_nad_adasyn.shape)\n",
    "print ('Izgled y_trening_valid skupa nakon nadsempliranja:', y_trening_valid_nad_adasyn.shape)\n",
    "\n",
    "print ('Broj pozitivnih proteina trening_valid skupa, nakon balansiranja: ', sum(y_trening_valid_nad_adasyn == 1))\n",
    "print ('Broj negativnih proteina trening_valid skupa, nakon balansiranja: ', sum(y_trening_valid_nad_adasyn == 0))\n"
   ]
  },
  {
   "cell_type": "code",
   "execution_count": null,
   "metadata": {
    "colab": {
     "base_uri": "https://localhost:8080/",
     "height": 683
    },
    "colab_type": "code",
    "executionInfo": {
     "elapsed": 16520,
     "status": "ok",
     "timestamp": 1572774061237,
     "user": {
      "displayName": "Aleksandar Anžel",
      "photoUrl": "https://lh3.googleusercontent.com/a-/AAuE7mAv_eRLNMWBvr43YXv7UrZwTFOu9RxxodF6fBNOjQ=s64",
      "userId": "09456993545544319729"
     },
     "user_tz": -60
    },
    "id": "dH7F7QDKeQEP",
    "outputId": "f7c99ce9-14ea-478b-d2f6-00a9cdf5c452"
   },
   "outputs": [],
   "source": [
    "# Vizualizacija polaznih podataka trening i trening_valid skupa, zatim podataka nakon podsempliranja i nakon nadsempliranja\n",
    "\n",
    "fig, (ax1, ax2, ax3, ax4) = plt.subplots (1, 4, sharey = True, figsize = (25, 10))\n",
    "plt.suptitle ('Balansiranost klasa trening skupa pre i posle obrade')\n",
    "\n",
    "ax1.set_title ('Klase pre obrade')\n",
    "ax1.set_xticks (ticks = range (2))\n",
    "ax1.set_xticklabels (labels = ['Negativna', 'Pozitivna'])\n",
    "ax1.bar ([0, 1], [sum(y_trening == 0), sum (y_trening == 1)], color = ['blue', 'red'])\n",
    "ax1.grid (linewidth = 0.3)\n",
    "\n",
    "ax2.set_title ('Klase nakon nasumicnog podsempliranja')\n",
    "ax2.set_xticks (ticks = range (2))\n",
    "ax2.set_xticklabels (labels = ['Negativna', 'Pozitivna'])\n",
    "ax2.bar ([0, 1], [sum(y_trening_pod == 0), sum (y_trening_pod == 1)], color = ['blue', 'red'])\n",
    "ax2.grid (linewidth = 0.3)\n",
    "\n",
    "ax3.set_title ('Klase nakon SMOTE nadsempliranja')\n",
    "ax3.set_xticks (ticks = range (2))\n",
    "ax3.set_xticklabels (labels = ['Negativna', 'Pozitivna'])\n",
    "ax3.bar ([0, 1], [sum(y_trening_nad_smote == 0), sum (y_trening_nad_smote == 1)], color = ['blue', 'red'])\n",
    "ax3.grid (linewidth = 0.3)\n",
    "\n",
    "ax4.set_title ('Klase nakon ADASYN nadsempliranja')\n",
    "ax4.set_xticks (ticks = range (2))\n",
    "ax4.set_xticklabels (labels = ['Negativna', 'Pozitivna'])\n",
    "ax4.bar ([0, 1], [sum(y_trening_nad_adasyn == 0), sum (y_trening_nad_adasyn == 1)], color = ['blue', 'red'])\n",
    "ax4.grid (linewidth = 0.3)\n",
    "\n",
    "plt.show()\n"
   ]
  },
  {
   "cell_type": "code",
   "execution_count": null,
   "metadata": {
    "colab": {
     "base_uri": "https://localhost:8080/",
     "height": 683
    },
    "colab_type": "code",
    "executionInfo": {
     "elapsed": 17428,
     "status": "ok",
     "timestamp": 1572774062166,
     "user": {
      "displayName": "Aleksandar Anžel",
      "photoUrl": "https://lh3.googleusercontent.com/a-/AAuE7mAv_eRLNMWBvr43YXv7UrZwTFOu9RxxodF6fBNOjQ=s64",
      "userId": "09456993545544319729"
     },
     "user_tz": -60
    },
    "id": "R_6svnObeQES",
    "outputId": "05f43bf8-a3c9-48bb-875c-58cbfce8bc7d"
   },
   "outputs": [],
   "source": [
    "# Sad validacioni\n",
    "\n",
    "fig, (ax1, ax2, ax3, ax4) = plt.subplots (1, 4, sharey = True, figsize = (25, 10))\n",
    "plt.suptitle ('Balansiranost klasa trening_valid skupa pre i posle obrade')\n",
    "\n",
    "ax1.set_title ('Klase pre obrade')\n",
    "ax1.set_xticks (ticks = range (2))\n",
    "ax1.set_xticklabels (labels = ['Negativna', 'Pozitivna'])\n",
    "ax1.bar ([0, 1], [sum(y_trening_valid == 0), sum (y_trening_valid == 1)], color = ['blue', 'red'])\n",
    "ax1.grid (linewidth = 0.3)\n",
    "\n",
    "ax2.set_title ('Klase nakon nasumicnog podsempliranja')\n",
    "ax2.set_xticks (ticks = range (2))\n",
    "ax2.set_xticklabels (labels = ['Negativna', 'Pozitivna'])\n",
    "ax2.bar ([0, 1], [sum(y_trening_valid_pod == 0), sum (y_trening_valid_pod == 1)], color = ['blue', 'red'])\n",
    "ax2.grid (linewidth = 0.3)\n",
    "\n",
    "ax3.set_title ('Klase nakon SMOTE nadsempliranja')\n",
    "ax3.set_xticks (ticks = range (2))\n",
    "ax3.set_xticklabels (labels = ['Negativna', 'Pozitivna'])\n",
    "ax3.bar ([0, 1], [sum(y_trening_valid_nad_smote == 0), sum (y_trening_valid_nad_smote == 1)], color = ['blue', 'red'])\n",
    "ax3.grid (linewidth = 0.3)\n",
    "\n",
    "ax4.set_title ('Klase nakon ADASYN nadsempliranja')\n",
    "ax4.set_xticks (ticks = range (2))\n",
    "ax4.set_xticklabels (labels = ['Negativna', 'Pozitivna'])\n",
    "ax4.bar ([0, 1], [sum(y_trening_valid_nad_adasyn == 0), sum (y_trening_valid_nad_adasyn == 1)], color = ['blue', 'red'])\n",
    "ax4.grid (linewidth = 0.3)\n",
    "\n",
    "plt.show()\n"
   ]
  },
  {
   "cell_type": "code",
   "execution_count": null,
   "metadata": {
    "colab": {},
    "colab_type": "code",
    "id": "NS5lc5y-eQEV"
   },
   "outputs": [],
   "source": [
    "# Funkcija za lepo iscrtavanje matrice konfuzije\n",
    "# Preuzeta i modifikovana za potrebe rada sa zvanicnog sajta biblioteke SciKit-Learn:\n",
    "# https://scikit-learn.org/0.21/auto_examples/model_selection/plot_confusion_matrix.html\n",
    "def nacrtaj_matricu_konfuzije (y_test, y_procena, ime_modela):\n",
    "    \n",
    "    #plt.style.use ('dark_background')\n",
    "    mat_konf = met.confusion_matrix(y_test, y_procena)\n",
    "    \n",
    "    # Kreiranje normalizovane verzije matrice konfuzije\n",
    "    norm_mat_konf = mat_konf.astype('float') / mat_konf.sum(axis=1)[:, np.newaxis]\n",
    "    \n",
    "    klase = np.unique (np.hstack ((y_test, y_procena)))\n",
    "    \n",
    "    # Kreiranje grafika za svaku od matrica\n",
    "    fig, (ax_1, ax_2) = plt.subplots (1, 2, figsize = (20, 10))\n",
    "    plt.suptitle ('Matrice konfuzije za model: ' + ime_modela)\n",
    "    \n",
    "    slika_1 = ax_1.imshow (mat_konf, interpolation = 'nearest', cmap = 'Reds')\n",
    "    ax_1.figure.colorbar (slika_1, ax = ax_1, shrink = 0.8)\n",
    "    \n",
    "    slika_2 = ax_2.imshow (norm_mat_konf, interpolation = 'nearest', cmap = 'Reds')\n",
    "    ax_2.figure.colorbar (slika_2, ax = ax_2, shrink = 0.8)\n",
    "    \n",
    "    ax_1.set (xticks = np.arange (mat_konf.shape[1]),\n",
    "              yticks = np.arange (mat_konf.shape[0]),\n",
    "              xticklabels = klase,\n",
    "              yticklabels = klase,\n",
    "              title = 'Matrica konfuzije bez normalizacije',\n",
    "              ylabel = 'Stvarne vrednosti',\n",
    "              xlabel = 'Procenjene vrednosti')\n",
    "    \n",
    "    ax_2.set (xticks = np.arange (norm_mat_konf.shape[1]),\n",
    "              yticks = np.arange (norm_mat_konf.shape[0]),\n",
    "              xticklabels = klase,\n",
    "              yticklabels = klase,\n",
    "              title = 'Normalizovana matrica konfuzije',\n",
    "              ylabel = 'Stvarne vrednosti',\n",
    "              xlabel = 'Procenjene vrednosti')\n",
    "    \n",
    "    # Potrebno zbog baga u trenutnoj verziji Matplotlib-a 3.1.1, izbrisati nakon nadogradnje\n",
    "    # Bag: https://github.com/matplotlib/matplotlib/issues/15154\n",
    "    ################################################################\n",
    "    ax_1.set_ylim (mat_konf.shape[0] - 0.5, -0.5)\n",
    "    ax_2.set_ylim (norm_mat_konf.shape[0] - 0.5, -0.5)\n",
    "    ################################################################\n",
    "    \n",
    "    plt.setp (ax_1.get_xticklabels(), rotation = 45, ha = \"right\", rotation_mode = \"anchor\")\n",
    "    plt.setp (ax_2.get_xticklabels(), rotation = 45, ha = \"right\", rotation_mode = \"anchor\")\n",
    "    \n",
    "    tekst = [['Stvarno negativni\\n','Lazno pozitivni\\n'], ['Lazno negativni\\n', 'Stvarno pozitivni\\n']]\n",
    "    \n",
    "    for i in range (mat_konf.shape[0]):\n",
    "        for j in range(mat_konf.shape[1]):\n",
    "            ax_1.text (j, i, str (tekst[i][j]) + format(mat_konf[i, j], 'g'), horizontalalignment = 'center', verticalalignment = 'center', bbox = dict (facecolor = 'gray', alpha = 0.9))\n",
    "            ax_2.text (j, i, str (tekst[i][j]) + format(norm_mat_konf[i, j], 'g'), horizontalalignment = 'center', verticalalignment = 'center', bbox = dict (facecolor = 'gray', alpha = 0.9))\n",
    "    \n",
    "    fig.tight_layout()\n",
    "    \n",
    "    return ax_1, ax_2\n",
    "\n",
    "# Funkcija za iscrtavanje grafika ucenja mreze (tacnost i greska) nad razlicitim skupovima\n",
    "def nacrtaj_ucenje (istorija, ime_modela):\n",
    "    \n",
    "    tacnost = istorija.history ['binary_accuracy']\n",
    "    val_tacnost = istorija.history ['val_binary_accuracy']\n",
    "    greska = istorija.history ['loss']\n",
    "    val_greska = istorija.history ['val_loss']\n",
    "    \n",
    "    fig, (ax1, ax2) = plt.subplots (1, 2, figsize = (20, 10))\n",
    "    plt.suptitle ('Grafici tacnosti i greske za model: ' + ime_modela)\n",
    "    \n",
    "    ax1.set_title ('Grafik tacnosti modela u zavisnosti od epohe')\n",
    "    ax1.set_xlabel ('Epoha')\n",
    "    ax1.set_ylabel ('Binarna Tacnost')\n",
    "    ax1.plot (istorija.epoch, tacnost, c = 'r', label = 'Trening')\n",
    "    ax1.plot (istorija.epoch, val_tacnost, c = 'g', label = 'Validacija')\n",
    "    ax1.grid (linewidth = 0.3)\n",
    "    ax1.legend()\n",
    "    \n",
    "    ax2.set_title ('Grafik greske modela u zavisnosti od epohe')\n",
    "    ax2.set_xlabel ('Epoha')\n",
    "    ax2.set_ylabel ('Greska')\n",
    "    ax2.plot (istorija.epoch, greska, c = 'r', label = 'Trening')\n",
    "    ax2.plot (istorija.epoch, val_greska, c = 'g', label = 'Validacija')\n",
    "    ax2.grid (linewidth = 0.3)\n",
    "    ax2.legend()\n",
    "    \n",
    "    plt.show()\n"
   ]
  },
  {
   "cell_type": "markdown",
   "metadata": {
    "colab_type": "text",
    "id": "FXk-QY2seQEY"
   },
   "source": [
    "# 3. Using Fully Connected Neural Networks to classify proteins with differently balanced data sets\n",
    "Different NNs and differently balanced data sets are used in following order:\n",
    "* 3.1. Source data set without implementing any balancing technique\n",
    "    * 3.1.1 NN with default value for class_weight parameter and 1 hidden layer\n",
    "    * 3.1.2 NN with default value for class_weight parameter and 2 hidden layers\n",
    "    * 3.1.3 NN with calculated value for class_weight parameter and 1 hidden layer\n",
    "    * 3.1.4 NN with calculated value for class_weight parameter and 2 hidden layers\n",
    "* 3.2. Data set balanced with random undersampling\n",
    "    * 3.2.1 NN with 1 hidden layer\n",
    "    * 3.2.2 NN with 2 hidden layers\n",
    "* 3.3. Data set balanced with SMOTE oversampling\n",
    "    * 3.3.1 NN with 1 hidden layer\n",
    "    * 3.3.2 NN with 2 hidden layers\n",
    "* 3.4. Data set balanced with ADASYN oversampling\n",
    "    * 3.4.1 NN with 1 hidden layer\n",
    "    * 3.4.2 NN with 2 hidden layers\n",
    "\n",
    "class_weight parameter (when used) is set to 'balanced' value. Documentation says this means:\n",
    "* The “balanced” mode uses the values of y to automatically adjust weights inversely proportional to class frequencies in the input data as n_samples / (n_classes * np.bincount(y))\n",
    "\n",
    "This is only done for source data set.\n",
    "\n"
   ]
  },
  {
   "cell_type": "code",
   "execution_count": null,
   "metadata": {
    "colab": {},
    "colab_type": "code",
    "id": "mtV5EYgKeQEa"
   },
   "outputs": [],
   "source": [
    "# Definisanje parametara svih mreza\n",
    "dim_ulaza = len (kolone)\n",
    "dim_izlaza = 1\n",
    "\n",
    "#########################################################################################################\n",
    "# Vrednosti koje sam prvobitno koristio\n",
    "\n",
    "# inicijalizatori = ['uniform', 'normal', 'lecun_normal', 'lecun_uniform', 'he_normal', 'he_uniform', 'glorot_normal', 'glorot_uniform']\n",
    "# optimizatori = ['SGD', 'RMSprop', 'Adagrad', 'Adadelta', 'Adam', 'Adamax', 'Nadam']\n",
    "# vel_grupa = [32, 64]\n",
    "#########################################################################################################\n",
    "\n",
    "# Nove vrednosti, nakon odluke da se varira arhitektura\n",
    "\n",
    "inicijalizatori = ['he_normal', 'he_uniform', 'glorot_normal', 'glorot_uniform']\n",
    "optimizatori = ['RMSprop', 'Nadam']\n",
    "vel_grupa = [32]\n",
    "br_neurona_1 = [30, 25, 20] # Za potencijalni prvi skriveni sloj\n",
    "br_neurona_2 = [18, 15, 13] # Za potencijalni drugi skriveni sloj\n",
    "br_neurona_3 = [10, 8, 5] # Za potencijalni treci skriveni sloj\n",
    "\n",
    "kolbekovi = [EarlyStopping (monitor = 'val_loss', patience = 13, restore_best_weights = True)]\n",
    "\n",
    "epohe = 200\n"
   ]
  },
  {
   "cell_type": "code",
   "execution_count": null,
   "metadata": {
    "colab": {},
    "colab_type": "code",
    "id": "KRNtBVmMeQEd"
   },
   "outputs": [],
   "source": [
    "# Sa jednim skrivenim slojem\n",
    "def napravi_mrezu_1 (optimizer, kernel_initializer, br_neur_1):\n",
    "\t\n",
    "    K.clear_session()\n",
    "    mreza = Sequential()\n",
    "    mreza.add (Dense (units = br_neur_1, input_dim = dim_ulaza, kernel_initializer = kernel_initializer))\n",
    "    mreza.add (BatchNormalization())\n",
    "    mreza.add (Activation('relu'))\n",
    "    mreza.add (Dense (units = dim_izlaza))\n",
    "    mreza.add (BatchNormalization())\n",
    "    mreza.add (Activation('sigmoid'))\n",
    "\n",
    "    mreza.compile (optimizer = optimizer, loss = losses.binary_crossentropy, metrics = [ker_met.binary_accuracy\n",
    "])\n",
    "    \n",
    "    return mreza\n",
    "\n",
    "# Sa dva skrivena sloja\n",
    "def napravi_mrezu_2 (optimizer, kernel_initializer, br_neur_1, br_neur_2):\n",
    "\t\n",
    "    K.clear_session()\n",
    "    mreza = Sequential()\n",
    "    mreza.add (Dense (units = br_neur_1, input_dim = dim_ulaza, kernel_initializer = kernel_initializer))\n",
    "    mreza.add (BatchNormalization())\n",
    "    mreza.add (Activation('relu'))\n",
    "    mreza.add (Dense (units = br_neur_2, input_dim = dim_ulaza, kernel_initializer = kernel_initializer))\n",
    "    mreza.add (BatchNormalization())\n",
    "    mreza.add (Activation('relu'))\n",
    "    mreza.add (Dense (units = dim_izlaza))\n",
    "    mreza.add (BatchNormalization())\n",
    "    mreza.add (Activation('sigmoid'))\n",
    "\n",
    "    mreza.compile (optimizer = optimizer, loss = losses.binary_crossentropy, metrics = [ker_met.binary_accuracy])\n",
    "    \n",
    "    return mreza\n",
    "\n",
    "# Sa tri skrivena sloja\n",
    "def napravi_mrezu_3 (optimizer, kernel_initializer, br_neur_1, br_neur_2, br_neur_3):\n",
    "\t\n",
    "    K.clear_session()\n",
    "    mreza = Sequential()\n",
    "    mreza.add (Dense (units = br_neur_1, input_dim = dim_ulaza, kernel_initializer = kernel_initializer))\n",
    "    mreza.add (BatchNormalization())\n",
    "    mreza.add (Activation('relu'))\n",
    "    mreza.add (Dense (units = br_neur_2, input_dim = dim_ulaza, kernel_initializer = kernel_initializer))\n",
    "    mreza.add (BatchNormalization())\n",
    "    mreza.add (Activation('relu'))\n",
    "    mreza.add (Dense (units = br_neur_3, input_dim = dim_ulaza, kernel_initializer = kernel_initializer))\n",
    "    mreza.add (BatchNormalization())\n",
    "    mreza.add (Activation('relu'))\n",
    "    mreza.add (Dense (units = dim_izlaza))\n",
    "    mreza.add (BatchNormalization())\n",
    "    mreza.add (Activation('sigmoid'))\n",
    "\n",
    "    mreza.compile (optimizer = optimizer, loss = losses.binary_crossentropy, metrics = [ker_met.binary_accuracy])\n",
    "    \n",
    "    return mreza\n",
    "  "
   ]
  },
  {
   "cell_type": "code",
   "execution_count": null,
   "metadata": {
    "colab": {},
    "colab_type": "code",
    "id": "y89tKBBS13Tc"
   },
   "outputs": [],
   "source": [
    "# Helper functions for finding best hyperparameter values\n",
    "# Pomocne funkcije za nalazenje optimalnih parametara prateci f1 meru\n",
    "\n",
    "def nadji_najbolje_parametre (X_TREN, Y_TREN, X_VAL, Y_VAL, X_TEST, Y_TEST, BR_SLOJA, TEZINA_KLASA = None):\n",
    "  \n",
    "  najb_f1 = 0\n",
    "  i = 0\n",
    "  poc_vreme = timer()\n",
    "  \n",
    "  if BR_SLOJA == 1:\n",
    "    \n",
    "    najb_par = {'opt' : '', 'kern_ini' : '', 'batch_size' : 0, 'br_n_1' : 0}\n",
    "    ukupno_prolaza = len(br_neurona_1) * len(optimizatori) * len(inicijalizatori) * len(vel_grupa)\n",
    "    print ('Ukupan broj prolaza:', ukupno_prolaza)\n",
    "    \n",
    "    for br_n_1 in br_neurona_1:\n",
    "      for op in optimizatori:\n",
    "        for inic in inicijalizatori:\n",
    "          for v_g in vel_grupa:\n",
    "\n",
    "            mreza = napravi_mrezu_1 (optimizer = op, kernel_initializer = inic, br_neur_1 = br_n_1)\n",
    "            mreza.fit (X_TREN, Y_TREN, validation_data = (X_VAL, Y_VAL), epochs = epohe, batch_size = v_g, callbacks = kolbekovi, class_weight = TEZINA_KLASA, verbose = 0)\n",
    "\n",
    "            y_procena = mreza.predict(X_TEST)\n",
    "            y_procena_zaok = np.rint (y_procena)\n",
    "            izvestaj = met.classification_report (Y_TEST, y_procena_zaok, output_dict = True)\n",
    "\n",
    "            if izvestaj['1']['f1-score'] > najb_f1:\n",
    "              najb_f1 = izvestaj['1']['f1-score']\n",
    "              najb_par['opt'] = op\n",
    "              najb_par['kern_ini'] = inic\n",
    "              najb_par['batch_size'] = v_g\n",
    "              najb_par['br_n_1'] = br_n_1\n",
    "              print ('Novi f1 skor:', najb_f1)\n",
    "            \n",
    "            i += 1\n",
    "            if (ukupno_prolaza // 4 == i) or (ukupno_prolaza // 2 == i) or (3 * ukupno_prolaza // 4 == i):\n",
    "              print ('Prolaz:', i)\n",
    "\n",
    "  elif BR_SLOJA == 2:\n",
    "    \n",
    "    najb_par = {'opt' : '', 'kern_ini' : '', 'batch_size' : 0, 'br_n_1' : 0, 'br_n_2' : 0}\n",
    "    ukupno_prolaza = len(br_neurona_1) * len(br_neurona_2) * len(optimizatori) * len(inicijalizatori) * len(vel_grupa)\n",
    "    print ('Ukupan broj prolaza:', ukupno_prolaza)\n",
    "    \n",
    "    for br_n_1 in br_neurona_1:\n",
    "      for br_n_2 in br_neurona_2:\n",
    "        for op in optimizatori:\n",
    "          for inic in inicijalizatori:\n",
    "            for v_g in vel_grupa:\n",
    "              \n",
    "              mreza = napravi_mrezu_2 (optimizer = op, kernel_initializer = inic, br_neur_1 = br_n_1, br_neur_2 = br_n_2)\n",
    "              mreza.fit (X_TREN, Y_TREN, validation_data = (X_VAL, Y_VAL), epochs = epohe, batch_size = v_g, callbacks = kolbekovi, class_weight = TEZINA_KLASA, verbose = 0)\n",
    "\n",
    "              y_procena = mreza.predict(X_TEST)\n",
    "              y_procena_zaok = np.rint (y_procena)\n",
    "              izvestaj = met.classification_report (Y_TEST, y_procena_zaok, output_dict = True)\n",
    "\n",
    "              if izvestaj['1']['f1-score'] > najb_f1:\n",
    "                najb_f1 = izvestaj['1']['f1-score']\n",
    "                najb_par['opt'] = op\n",
    "                najb_par['kern_ini'] = inic\n",
    "                najb_par['batch_size'] = v_g\n",
    "                najb_par['br_n_1'] = br_n_1\n",
    "                najb_par['br_n_2'] = br_n_2\n",
    "                print ('Novi f1 skor:', najb_f1)\n",
    "\n",
    "              i += 1\n",
    "              if (ukupno_prolaza // 4 == i) or (ukupno_prolaza // 2 == i) or (3 * ukupno_prolaza // 4 == i):\n",
    "                print ('Prolaz:', i)\n",
    "  \n",
    "  else:\n",
    "    \n",
    "    najb_par = {'opt' : '', 'kern_ini' : '', 'batch_size' : 0, 'br_n_1' : 0, 'br_n_2' : 0, 'br_n_3' : 0}\n",
    "    ukupno_prolaza = len(br_neurona_1) * len(br_neurona_2) * len(br_neurona_3) * len(optimizatori) * len(inicijalizatori) * len(vel_grupa)\n",
    "    print ('Ukupan broj prolaza:', ukupno_prolaza)\n",
    "    \n",
    "    for br_n_1 in br_neurona_1:\n",
    "      for br_n_2 in br_neurona_2:\n",
    "        for br_n_3 in br_neurona_3:\n",
    "          for op in optimizatori:\n",
    "            for inic in inicijalizatori:\n",
    "              for v_g in vel_grupa:\n",
    "\n",
    "                mreza = napravi_mrezu_3 (optimizer = op, kernel_initializer = inic, br_neur_1 = br_n_1, br_neur_2 = br_n_2, br_neur_3 = br_n_3)\n",
    "                mreza.fit (X_TREN, Y_TREN, validation_data = (X_VAL, Y_VAL), epochs = epohe, batch_size = v_g, callbacks = kolbekovi, class_weight = TEZINA_KLASA, verbose = 0)\n",
    "\n",
    "                y_procena = mreza.predict(X_TEST)\n",
    "                y_procena_zaok = np.rint (y_procena)\n",
    "                izvestaj = met.classification_report (Y_TEST, y_procena_zaok, output_dict = True)\n",
    "\n",
    "                if izvestaj['1']['f1-score'] > najb_f1:\n",
    "                  najb_f1 = izvestaj['1']['f1-score']\n",
    "                  najb_par['opt'] = op\n",
    "                  najb_par['kern_ini'] = inic\n",
    "                  najb_par['batch_size'] = v_g\n",
    "                  najb_par['br_n_1'] = br_n_1\n",
    "                  najb_par['br_n_2'] = br_n_2\n",
    "                  najb_par['br_n_3'] = br_n_3\n",
    "                  print ('Novi f1 skor:', najb_f1)\n",
    "\n",
    "                i += 1\n",
    "                if (ukupno_prolaza // 4 == i) or (ukupno_prolaza // 2 == i) or (3 * ukupno_prolaza // 4 == i):\n",
    "                  print ('Prolaz:', i)\n",
    "  \n",
    "  kraj_vreme = timer()\n",
    "  print ('Proteklo vreme:', timedelta(seconds = kraj_vreme - poc_vreme))\n",
    "  \n",
    "  print ('Najbolji parametri:\\n', najb_par)\n",
    "  return najb_par\n"
   ]
  },
  {
   "cell_type": "markdown",
   "metadata": {
    "colab_type": "text",
    "id": "8uC3Z6F0wuFD"
   },
   "source": [
    "## 3.1. Source data set without implementing any balancing technique\n",
    "\n",
    "### 3.1.1 NN with default value for class_weight parameter and 1 hidden layer\n"
   ]
  },
  {
   "cell_type": "code",
   "execution_count": null,
   "metadata": {
    "colab": {
     "base_uri": "https://localhost:8080/",
     "height": 785
    },
    "colab_type": "code",
    "executionInfo": {
     "elapsed": 2010114,
     "status": "ok",
     "timestamp": 1572694136067,
     "user": {
      "displayName": "Aleksandar Anžel",
      "photoUrl": "https://lh3.googleusercontent.com/a-/AAuE7mAv_eRLNMWBvr43YXv7UrZwTFOu9RxxodF6fBNOjQ=s64",
      "userId": "09456993545544319729"
     },
     "user_tz": -60
    },
    "id": "ThZ4AcmneQEg",
    "outputId": "cc1b42d7-baed-4060-9c3b-c22e38804fed"
   },
   "outputs": [],
   "source": [
    "# Zakomentarisani delovi u nastavku se odnose na primenu ugradjenih funkcija unakrsne validacije\n",
    "# za nalazenje optimalnih parametara. Usled duzine ovog procesa, on je napusten. Ipak, kod je \n",
    "# ostavljen kao alternativna verzija resavanja\n",
    "# Treniranje mreze sa jednim skrivenim slojem\n",
    "# Vreme izvrsavanja ~ 50 min., 30 min. za drugi slucaj\n",
    "'''\n",
    "mreza_1 = KerasClassifier (build_fn = napravi_mrezu_1, verbose=0)\n",
    "\n",
    "parametri = dict (br_neur_1 = br_neurona_1 + br_neurona_2, optimizer = optimizatori, kernel_initializer = inicijalizatori, batch_size = vel_grupa)\n",
    "\n",
    "mreza_2 = ms.GridSearchCV(estimator = mreza_1, param_grid = parametri, scoring = 'f1', n_jobs = 1, cv = 2, verbose = 1)\n",
    "mreza_2.fit (x_trening, y_trening, validation_data = (x_valid, y_valid), epochs = epohe, callbacks = kolbekovi)\n",
    "'''\n",
    "\n",
    "najb_parametri =  nadji_najbolje_parametre (x_trening, y_trening, x_valid, y_valid, x_test, y_test, 1)\n"
   ]
  },
  {
   "cell_type": "code",
   "execution_count": null,
   "metadata": {
    "colab": {},
    "colab_type": "code",
    "id": "hCOClg_jeQEm"
   },
   "outputs": [],
   "source": [
    "'''\n",
    "najb_opt = mreza_2.best_params_['optimizer']\n",
    "najb_inic = mreza_2.best_params_['kernel_initializer']\n",
    "najb_vel = mreza_2.best_params_['batch_size']\n",
    "najb_br_neur = mreza_2.best_params_['br_neur_1']\n",
    "\n",
    "print ('Najbolji parametri mreze su:')\n",
    "print ('Kernel initializer:', najb_inic)\n",
    "print ('Optimizer:', najb_opt)\n",
    "print ('Batch size:', najb_vel)\n",
    "print ('Broj neurona:', najb_br_neur)\n",
    "'''\n",
    "\n",
    "najb_opt = najb_parametri['opt']\n",
    "najb_inic = najb_parametri['kern_ini']\n",
    "najb_vel = najb_parametri['batch_size']\n",
    "najb_br_neur = najb_parametri['br_n_1']\n"
   ]
  },
  {
   "cell_type": "code",
   "execution_count": null,
   "metadata": {
    "colab": {
     "base_uri": "https://localhost:8080/",
     "height": 357
    },
    "colab_type": "code",
    "executionInfo": {
     "elapsed": 2010091,
     "status": "ok",
     "timestamp": 1572694136076,
     "user": {
      "displayName": "Aleksandar Anžel",
      "photoUrl": "https://lh3.googleusercontent.com/a-/AAuE7mAv_eRLNMWBvr43YXv7UrZwTFOu9RxxodF6fBNOjQ=s64",
      "userId": "09456993545544319729"
     },
     "user_tz": -60
    },
    "id": "SAXHLASFeQEq",
    "outputId": "bd86103c-0829-49d2-cbce-8080aa64fb10"
   },
   "outputs": [],
   "source": [
    "# Kreiranje finalne mreze, evaluacija i iscrtavanje\n",
    "mreza_nebal = napravi_mrezu_1 (optimizer = najb_opt, kernel_initializer = najb_inic, br_neur_1 = najb_br_neur)\n",
    "mreza_nebal.summary()\n"
   ]
  },
  {
   "cell_type": "code",
   "execution_count": null,
   "metadata": {
    "colab": {
     "base_uri": "https://localhost:8080/",
     "height": 1000
    },
    "colab_type": "code",
    "executionInfo": {
     "elapsed": 2125678,
     "status": "ok",
     "timestamp": 1572694251674,
     "user": {
      "displayName": "Aleksandar Anžel",
      "photoUrl": "https://lh3.googleusercontent.com/a-/AAuE7mAv_eRLNMWBvr43YXv7UrZwTFOu9RxxodF6fBNOjQ=s64",
      "userId": "09456993545544319729"
     },
     "user_tz": -60
    },
    "id": "YE_KQ49ReQEt",
    "outputId": "ed62f842-3ca8-4076-a3c9-ccf46205f578"
   },
   "outputs": [],
   "source": [
    "istorija = mreza_nebal.fit (x_trening, y_trening, batch_size = najb_vel, epochs = epohe, callbacks = kolbekovi, validation_data = (x_valid, y_valid), verbose = 1)"
   ]
  },
  {
   "cell_type": "code",
   "execution_count": null,
   "metadata": {
    "colab": {
     "base_uri": "https://localhost:8080/",
     "height": 187
    },
    "colab_type": "code",
    "executionInfo": {
     "elapsed": 2125892,
     "status": "ok",
     "timestamp": 1572694251900,
     "user": {
      "displayName": "Aleksandar Anžel",
      "photoUrl": "https://lh3.googleusercontent.com/a-/AAuE7mAv_eRLNMWBvr43YXv7UrZwTFOu9RxxodF6fBNOjQ=s64",
      "userId": "09456993545544319729"
     },
     "user_tz": -60
    },
    "id": "J4LphSaJeQEv",
    "outputId": "a9cec106-4f6e-4a7c-9b16-c2c756429ba2"
   },
   "outputs": [],
   "source": [
    "y_procena = mreza_nebal.predict(x_test)\n",
    "y_procena_zaok = np.rint (y_procena)\n",
    "\n",
    "print ('Izvestaj klasifikacije nebalansirane potpuno povezane mreze sa jednim skrivenim slojem:\\n', met.classification_report (y_test, y_procena_zaok))"
   ]
  },
  {
   "cell_type": "code",
   "execution_count": null,
   "metadata": {
    "colab": {
     "base_uri": "https://localhost:8080/",
     "height": 687
    },
    "colab_type": "code",
    "executionInfo": {
     "elapsed": 2127062,
     "status": "ok",
     "timestamp": 1572694253082,
     "user": {
      "displayName": "Aleksandar Anžel",
      "photoUrl": "https://lh3.googleusercontent.com/a-/AAuE7mAv_eRLNMWBvr43YXv7UrZwTFOu9RxxodF6fBNOjQ=s64",
      "userId": "09456993545544319729"
     },
     "user_tz": -60
    },
    "id": "zyfzPdgEeQEz",
    "outputId": "63e78a83-b342-499e-e077-8f5f13e80a1c"
   },
   "outputs": [],
   "source": [
    "ime = 'Mreza nebalansirana sa jednim skrivenim slojem- ' + str (najb_inic + ', ' + najb_opt + ', ' + str(najb_vel) + ', ' + str(najb_br_neur))\n",
    "nacrtaj_matricu_konfuzije (y_test, y_procena_zaok.flatten(), ime)\n",
    "plt.show()\n"
   ]
  },
  {
   "cell_type": "code",
   "execution_count": null,
   "metadata": {
    "colab": {
     "base_uri": "https://localhost:8080/",
     "height": 677
    },
    "colab_type": "code",
    "executionInfo": {
     "elapsed": 2127635,
     "status": "ok",
     "timestamp": 1572694253667,
     "user": {
      "displayName": "Aleksandar Anžel",
      "photoUrl": "https://lh3.googleusercontent.com/a-/AAuE7mAv_eRLNMWBvr43YXv7UrZwTFOu9RxxodF6fBNOjQ=s64",
      "userId": "09456993545544319729"
     },
     "user_tz": -60
    },
    "id": "9ec4fFfceQE4",
    "outputId": "5d55dfd3-fec9-4c37-c9bf-37ca52983ff8"
   },
   "outputs": [],
   "source": [
    "nacrtaj_ucenje (istorija, ime)\n"
   ]
  },
  {
   "cell_type": "markdown",
   "metadata": {
    "colab_type": "text",
    "id": "Qrn13ZJwwuFa"
   },
   "source": [
    "### 3.1.2 NN with default value for class_weight parameter and 2 hidden layers\n"
   ]
  },
  {
   "cell_type": "code",
   "execution_count": null,
   "metadata": {
    "colab": {
     "base_uri": "https://localhost:8080/",
     "height": 204
    },
    "colab_type": "code",
    "executionInfo": {
     "elapsed": 3342831,
     "status": "ok",
     "timestamp": 1572701230649,
     "user": {
      "displayName": "Aleksandar Anžel",
      "photoUrl": "https://lh3.googleusercontent.com/a-/AAuE7mAv_eRLNMWBvr43YXv7UrZwTFOu9RxxodF6fBNOjQ=s64",
      "userId": "09456993545544319729"
     },
     "user_tz": -60
    },
    "id": "sgzOMOHaU69D",
    "outputId": "e3af8c53-1e44-4a04-e08b-1822a1285cfe"
   },
   "outputs": [],
   "source": [
    "# Treniranje mreze sa dva skrivena sloja\n",
    "# Vreme izvrsavanja ~ 2h 48 min., 2h\n",
    "'''\n",
    "mreza_1 = KerasClassifier (build_fn = napravi_mrezu_2, verbose=0)\n",
    "\n",
    "parametri = dict (br_neur_1 = br_neurona_1, br_neur_2 =  br_neurona_2, optimizer = optimizatori, kernel_initializer = inicijalizatori, batch_size = vel_grupa)\n",
    "\n",
    "mreza_2 = ms.GridSearchCV(estimator = mreza_1, param_grid = parametri, scoring = 'f1', n_jobs = 1, cv = 2, verbose = 1)\n",
    "mreza_2.fit (x_trening, y_trening, validation_data = (x_valid, y_valid), epochs = epohe, callbacks = kolbekovi)\n",
    "'''\n",
    "najb_parametri =  nadji_najbolje_parametre (x_trening, y_trening, x_valid, y_valid, x_test, y_test, 2)\n"
   ]
  },
  {
   "cell_type": "code",
   "execution_count": null,
   "metadata": {
    "colab": {},
    "colab_type": "code",
    "id": "tVgdGNyeU7P-"
   },
   "outputs": [],
   "source": [
    "'''\n",
    "najb_opt = mreza_2.best_params_['optimizer']\n",
    "najb_inic = mreza_2.best_params_['kernel_initializer']\n",
    "najb_vel = mreza_2.best_params_['batch_size']\n",
    "najb_br_neur_1 = mreza_2.best_params_['br_neur_1']\n",
    "najb_br_neur_2 = mreza_2.best_params_['br_neur_2']\n",
    "\n",
    "print ('Najbolji parametri mreze su:')\n",
    "print ('Kernel initializer:', najb_inic)\n",
    "print ('Optimizer:', najb_opt)\n",
    "print ('Batch size:', najb_vel)\n",
    "print ('Broj neurona prvog sloja:', najb_br_neur_1)\n",
    "print ('Broj neurona drugog sloja:', najb_br_neur_2)\n",
    "'''\n",
    "najb_opt = najb_parametri['opt']\n",
    "najb_inic = najb_parametri['kern_ini']\n",
    "najb_vel = najb_parametri['batch_size']\n",
    "najb_br_neur_1 = najb_parametri['br_n_1']\n",
    "najb_br_neur_2 = najb_parametri['br_n_2']"
   ]
  },
  {
   "cell_type": "code",
   "execution_count": null,
   "metadata": {
    "colab": {
     "base_uri": "https://localhost:8080/",
     "height": 459
    },
    "colab_type": "code",
    "executionInfo": {
     "elapsed": 37,
     "status": "ok",
     "timestamp": 1572701230659,
     "user": {
      "displayName": "Aleksandar Anžel",
      "photoUrl": "https://lh3.googleusercontent.com/a-/AAuE7mAv_eRLNMWBvr43YXv7UrZwTFOu9RxxodF6fBNOjQ=s64",
      "userId": "09456993545544319729"
     },
     "user_tz": -60
    },
    "id": "gF8eHhBdU7cU",
    "outputId": "192646eb-207c-4ccd-eb6a-986bb3734c50"
   },
   "outputs": [],
   "source": [
    "# Kreiranje finalne mreze, evaluacija i iscrtavanje\n",
    "mreza_nebal = napravi_mrezu_2 (optimizer = najb_opt, kernel_initializer = najb_inic, br_neur_1 = najb_br_neur_1, br_neur_2 = najb_br_neur_2)\n",
    "mreza_nebal.summary()\n"
   ]
  },
  {
   "cell_type": "code",
   "execution_count": null,
   "metadata": {
    "colab": {
     "base_uri": "https://localhost:8080/",
     "height": 1000
    },
    "colab_type": "code",
    "executionInfo": {
     "elapsed": 135467,
     "status": "ok",
     "timestamp": 1572701366107,
     "user": {
      "displayName": "Aleksandar Anžel",
      "photoUrl": "https://lh3.googleusercontent.com/a-/AAuE7mAv_eRLNMWBvr43YXv7UrZwTFOu9RxxodF6fBNOjQ=s64",
      "userId": "09456993545544319729"
     },
     "user_tz": -60
    },
    "id": "VOJQa4oKU7hx",
    "outputId": "985fa38d-4e52-4165-d1d3-6d1759f8d537"
   },
   "outputs": [],
   "source": [
    "istorija = mreza_nebal.fit (x_trening, y_trening, batch_size = najb_vel, epochs = epohe, callbacks = kolbekovi, validation_data = (x_valid, y_valid), verbose = 1)"
   ]
  },
  {
   "cell_type": "code",
   "execution_count": null,
   "metadata": {
    "colab": {
     "base_uri": "https://localhost:8080/",
     "height": 187
    },
    "colab_type": "code",
    "executionInfo": {
     "elapsed": 693,
     "status": "ok",
     "timestamp": 1572701366779,
     "user": {
      "displayName": "Aleksandar Anžel",
      "photoUrl": "https://lh3.googleusercontent.com/a-/AAuE7mAv_eRLNMWBvr43YXv7UrZwTFOu9RxxodF6fBNOjQ=s64",
      "userId": "09456993545544319729"
     },
     "user_tz": -60
    },
    "id": "0isrZUaRU7nk",
    "outputId": "89192619-0782-4b31-fc77-a645770d9c78"
   },
   "outputs": [],
   "source": [
    "y_procena = mreza_nebal.predict(x_test)\n",
    "y_procena_zaok = np.rint (y_procena)\n",
    "\n",
    "print ('Izvestaj klasifikacije nebalansirane potpuno povezane mreze sa dva skrivena sloja:\\n', met.classification_report (y_test, y_procena_zaok))"
   ]
  },
  {
   "cell_type": "code",
   "execution_count": null,
   "metadata": {
    "colab": {
     "base_uri": "https://localhost:8080/",
     "height": 687
    },
    "colab_type": "code",
    "executionInfo": {
     "elapsed": 1429,
     "status": "ok",
     "timestamp": 1572701368200,
     "user": {
      "displayName": "Aleksandar Anžel",
      "photoUrl": "https://lh3.googleusercontent.com/a-/AAuE7mAv_eRLNMWBvr43YXv7UrZwTFOu9RxxodF6fBNOjQ=s64",
      "userId": "09456993545544319729"
     },
     "user_tz": -60
    },
    "id": "HZBVYrAiU7tz",
    "outputId": "5712a2a7-f29b-4f64-ea54-76fdb92a295d"
   },
   "outputs": [],
   "source": [
    "ime = 'Mreza nebalansirana sa dva skrivena sloja- ' + str (najb_inic + ', ' + najb_opt + ', ' + str(najb_vel) + ', ' + str(najb_br_neur_1) + ', ' + str(najb_br_neur_2))\n",
    "nacrtaj_matricu_konfuzije (y_test, y_procena_zaok.flatten(), ime)\n",
    "plt.show()\n"
   ]
  },
  {
   "cell_type": "code",
   "execution_count": null,
   "metadata": {
    "colab": {
     "base_uri": "https://localhost:8080/",
     "height": 677
    },
    "colab_type": "code",
    "executionInfo": {
     "elapsed": 889,
     "status": "ok",
     "timestamp": 1572701369082,
     "user": {
      "displayName": "Aleksandar Anžel",
      "photoUrl": "https://lh3.googleusercontent.com/a-/AAuE7mAv_eRLNMWBvr43YXv7UrZwTFOu9RxxodF6fBNOjQ=s64",
      "userId": "09456993545544319729"
     },
     "user_tz": -60
    },
    "id": "mGCCr0EwU7zs",
    "outputId": "f1638a3f-9882-484d-82fe-dbc66a193035"
   },
   "outputs": [],
   "source": [
    "nacrtaj_ucenje (istorija, ime)\n"
   ]
  },
  {
   "cell_type": "code",
   "execution_count": null,
   "metadata": {
    "colab": {
     "base_uri": "https://localhost:8080/",
     "height": 54
    },
    "colab_type": "code",
    "executionInfo": {
     "elapsed": 150,
     "status": "ok",
     "timestamp": 1572701369083,
     "user": {
      "displayName": "Aleksandar Anžel",
      "photoUrl": "https://lh3.googleusercontent.com/a-/AAuE7mAv_eRLNMWBvr43YXv7UrZwTFOu9RxxodF6fBNOjQ=s64",
      "userId": "09456993545544319729"
     },
     "user_tz": -60
    },
    "id": "asU5Ng90U76v",
    "outputId": "306344f5-dce4-4eb2-a8ec-0f8aa80f3284"
   },
   "outputs": [],
   "source": [
    "# Treniranje mreze sa tri skrivena sloja\n",
    "\n",
    "'''\n",
    "mreza_1 = KerasClassifier (build_fn = napravi_mrezu_3, verbose=0)\n",
    "\n",
    "parametri = dict (br_neur_1 = br_neurona_1, br_neur_2 =  br_neurona_2, br_neur_3 =  br_neurona_3, optimizer = optimizatori, kernel_initializer = inicijalizatori, batch_size = vel_grupa)\n",
    "\n",
    "mreza_2 = ms.GridSearchCV(estimator = mreza_1, param_grid = parametri, scoring = 'f1', n_jobs = 1, cv = 2, verbose = 1)\n",
    "mreza_2.fit (x_trening, y_trening, validation_data = (x_valid, y_valid), epochs = epohe, callbacks = kolbekovi)\n",
    "'''\n",
    "\n",
    "#najb_parametri =  nadji_najbolje_parametre (x_trening, y_trening, x_valid, y_valid, x_test, y_test, 3)\n"
   ]
  },
  {
   "cell_type": "code",
   "execution_count": null,
   "metadata": {
    "colab": {
     "base_uri": "https://localhost:8080/",
     "height": 54
    },
    "colab_type": "code",
    "executionInfo": {
     "elapsed": 132,
     "status": "ok",
     "timestamp": 1572701369084,
     "user": {
      "displayName": "Aleksandar Anžel",
      "photoUrl": "https://lh3.googleusercontent.com/a-/AAuE7mAv_eRLNMWBvr43YXv7UrZwTFOu9RxxodF6fBNOjQ=s64",
      "userId": "09456993545544319729"
     },
     "user_tz": -60
    },
    "id": "qwsBrvwCU8A6",
    "outputId": "50c4dc1f-371d-481c-8aef-f17189c30476"
   },
   "outputs": [],
   "source": [
    "'''\n",
    "najb_opt = mreza_2.best_params_['optimizer']\n",
    "najb_inic = mreza_2.best_params_['kernel_initializer']\n",
    "najb_vel = mreza_2.best_params_['batch_size']\n",
    "najb_br_neur_1 = mreza_2.best_params_['br_neur_1']\n",
    "najb_br_neur_2 = mreza_2.best_params_['br_neur_2']\n",
    "najb_br_neur_3 = mreza_2.best_params_['br_neur_3']\n",
    "\n",
    "print ('Najbolji parametri mreze su:')\n",
    "print ('Kernel initializer:', najb_inic)\n",
    "print ('Optimizer:', najb_opt)\n",
    "print ('Batch size:', najb_vel)\n",
    "print ('Broj neurona prvog sloja:', najb_br_neur_1)\n",
    "print ('Broj neurona drugog sloja:', najb_br_neur_2)\n",
    "print ('Broj neurona treceg sloja:', najb_br_neur_3)\n",
    "\n",
    "\n",
    "najb_opt = najb_parametri['opt']\n",
    "najb_inic = najb_parametri['kern_ini']\n",
    "najb_vel = najb_parametri['batch_size']\n",
    "najb_br_neur_1 = najb_parametri['br_n_1']\n",
    "najb_br_neur_2 = najb_parametri['br_n_2']\n",
    "najb_br_neur_3 = najb_parametri['br_n_3']\n",
    "'''"
   ]
  },
  {
   "cell_type": "code",
   "execution_count": null,
   "metadata": {
    "colab": {},
    "colab_type": "code",
    "id": "xJcz18S5U8Go"
   },
   "outputs": [],
   "source": [
    "# Kreiranje finalne mreze, evaluacija i iscrtavanje\n",
    "#mreza_nebal = napravi_mrezu_3 (optimizer = najb_opt, kernel_initializer = najb_inic, br_neur_1 = najb_br_neur_1, br_neur_2 = najb_br_neur_2, br_neur_3 = najb_br_neur_3)\n",
    "#mreza_nebal.summary()\n"
   ]
  },
  {
   "cell_type": "code",
   "execution_count": null,
   "metadata": {
    "colab": {},
    "colab_type": "code",
    "id": "g7jHseSSU8NV"
   },
   "outputs": [],
   "source": [
    "#istorija = mreza_nebal.fit (x_trening, y_trening, batch_size = najb_vel, epochs = epohe, callbacks = kolbekovi, validation_data = (x_valid, y_valid), verbose = 1)"
   ]
  },
  {
   "cell_type": "code",
   "execution_count": null,
   "metadata": {
    "colab": {
     "base_uri": "https://localhost:8080/",
     "height": 54
    },
    "colab_type": "code",
    "executionInfo": {
     "elapsed": 76,
     "status": "ok",
     "timestamp": 1572701369087,
     "user": {
      "displayName": "Aleksandar Anžel",
      "photoUrl": "https://lh3.googleusercontent.com/a-/AAuE7mAv_eRLNMWBvr43YXv7UrZwTFOu9RxxodF6fBNOjQ=s64",
      "userId": "09456993545544319729"
     },
     "user_tz": -60
    },
    "id": "8SpQfGhjU8TR",
    "outputId": "884cbc11-7b45-4016-e0d5-fb87beb5a5ee"
   },
   "outputs": [],
   "source": [
    "'''\n",
    "y_procena = mreza_nebal.predict(x_test)\n",
    "y_procena_zaok = np.rint (y_procena)\n",
    "\n",
    "print ('Izvestaj klasifikacije nebalansirane potpuno povezane mreze sa tri skrivena sloja:\\n', met.classification_report (y_test, y_procena_zaok))\n",
    "'''"
   ]
  },
  {
   "cell_type": "code",
   "execution_count": null,
   "metadata": {
    "colab": {
     "base_uri": "https://localhost:8080/",
     "height": 54
    },
    "colab_type": "code",
    "executionInfo": {
     "elapsed": 57,
     "status": "ok",
     "timestamp": 1572701369088,
     "user": {
      "displayName": "Aleksandar Anžel",
      "photoUrl": "https://lh3.googleusercontent.com/a-/AAuE7mAv_eRLNMWBvr43YXv7UrZwTFOu9RxxodF6fBNOjQ=s64",
      "userId": "09456993545544319729"
     },
     "user_tz": -60
    },
    "id": "V8thbjhAU8ZI",
    "outputId": "2d2c44b4-cb7d-45ca-f205-01f98b5009f4"
   },
   "outputs": [],
   "source": [
    "'''\n",
    "ime = 'Mreza nebalansirana sa tri skrivena sloja- ' + str (najb_inic + ', ' + najb_opt + ', ' + str(najb_vel) + ', ' + str(najb_br_neur_1) + ', ' + str(najb_br_neur_2) + ', ' + str(najb_br_neur_3))\n",
    "nacrtaj_matricu_konfuzije (y_test, y_procena_zaok.flatten(), ime)\n",
    "plt.show()\n",
    "'''"
   ]
  },
  {
   "cell_type": "code",
   "execution_count": null,
   "metadata": {
    "colab": {},
    "colab_type": "code",
    "id": "z-1aFMSzU8gb"
   },
   "outputs": [],
   "source": [
    "#nacrtaj_ucenje (istorija, ime)\n"
   ]
  },
  {
   "cell_type": "markdown",
   "metadata": {
    "colab_type": "text",
    "id": "W5nBrtZYwuGM"
   },
   "source": [
    "### 3.1.3 NN with calculated value for class_weight parameter and 1 hidden layer\n"
   ]
  },
  {
   "cell_type": "code",
   "execution_count": null,
   "metadata": {
    "colab": {
     "base_uri": "https://localhost:8080/",
     "height": 204
    },
    "colab_type": "code",
    "executionInfo": {
     "elapsed": 2160342,
     "status": "ok",
     "timestamp": 1572703529415,
     "user": {
      "displayName": "Aleksandar Anžel",
      "photoUrl": "https://lh3.googleusercontent.com/a-/AAuE7mAv_eRLNMWBvr43YXv7UrZwTFOu9RxxodF6fBNOjQ=s64",
      "userId": "09456993545544319729"
     },
     "user_tz": -60
    },
    "id": "JcxBFRtQeQE7",
    "outputId": "e09fdff1-5751-4adb-c0c0-c270bab20011"
   },
   "outputs": [],
   "source": [
    "# Racunanje tezina klasa\n",
    "# Treniranje mreze sa jednim skrivenim slojem\n",
    "# Vreme izvrsavanja ~ 50 min., 36 min.\n",
    "tezine_klasa = cw.compute_class_weight('balanced', np.unique(y_trening_valid), y_trening_valid)\n",
    "'''\n",
    "mreza_1 = KerasClassifier (build_fn = napravi_mrezu_1, verbose=0)\n",
    "\n",
    "parametri = dict (br_neur_1 = br_neurona_1 + br_neurona_2, optimizer = optimizatori, kernel_initializer = inicijalizatori, batch_size = vel_grupa)\n",
    "\n",
    "mreza_2 = ms.GridSearchCV(estimator = mreza_1, param_grid = parametri, scoring = 'f1', n_jobs = 1, cv = 2, verbose = 1)\n",
    "mreza_2.fit (x_trening, y_trening, validation_data = (x_valid, y_valid), epochs = epohe, callbacks = kolbekovi, class_weight = tezine_klasa)\n",
    "'''\n",
    "\n",
    "najb_parametri =  nadji_najbolje_parametre (x_trening, y_trening, x_valid, y_valid, x_test, y_test, 1, tezine_klasa)\n"
   ]
  },
  {
   "cell_type": "code",
   "execution_count": null,
   "metadata": {
    "colab": {},
    "colab_type": "code",
    "id": "jpj-PyffeQE-"
   },
   "outputs": [],
   "source": [
    "'''\n",
    "najb_opt = mreza_2.best_params_['optimizer']\n",
    "najb_inic = mreza_2.best_params_['kernel_initializer']\n",
    "najb_vel = mreza_2.best_params_['batch_size']\n",
    "najb_br_neur = mreza_2.best_params_['br_neur_1']\n",
    "\n",
    "print ('Najbolji parametri mreze su:')\n",
    "print ('Kernel initializer:', najb_inic)\n",
    "print ('Optimizer:', najb_opt)\n",
    "print ('Batch size:', najb_vel)\n",
    "print ('Broj neurona:', najb_br_neur)\n",
    "'''\n",
    "\n",
    "najb_opt = najb_parametri['opt']\n",
    "najb_inic = najb_parametri['kern_ini']\n",
    "najb_vel = najb_parametri['batch_size']\n",
    "najb_br_neur = najb_parametri['br_n_1']\n"
   ]
  },
  {
   "cell_type": "code",
   "execution_count": null,
   "metadata": {
    "colab": {
     "base_uri": "https://localhost:8080/",
     "height": 357
    },
    "colab_type": "code",
    "executionInfo": {
     "elapsed": 471,
     "status": "ok",
     "timestamp": 1572703529879,
     "user": {
      "displayName": "Aleksandar Anžel",
      "photoUrl": "https://lh3.googleusercontent.com/a-/AAuE7mAv_eRLNMWBvr43YXv7UrZwTFOu9RxxodF6fBNOjQ=s64",
      "userId": "09456993545544319729"
     },
     "user_tz": -60
    },
    "id": "3TB-rvaLeQFA",
    "outputId": "7a277ecf-dfd6-401c-b1f8-1a1e00b8504f"
   },
   "outputs": [],
   "source": [
    "# Kreiranje finalne mreze, evaluacija i iscrtavanje\n",
    "mreza_bal = napravi_mrezu_1 (optimizer = najb_opt, kernel_initializer = najb_inic, br_neur_1 = najb_br_neur)\n",
    "mreza_bal.summary()\n"
   ]
  },
  {
   "cell_type": "code",
   "execution_count": null,
   "metadata": {
    "colab": {
     "base_uri": "https://localhost:8080/",
     "height": 1000
    },
    "colab_type": "code",
    "executionInfo": {
     "elapsed": 89230,
     "status": "ok",
     "timestamp": 1572703619102,
     "user": {
      "displayName": "Aleksandar Anžel",
      "photoUrl": "https://lh3.googleusercontent.com/a-/AAuE7mAv_eRLNMWBvr43YXv7UrZwTFOu9RxxodF6fBNOjQ=s64",
      "userId": "09456993545544319729"
     },
     "user_tz": -60
    },
    "id": "aVeHVVeCeQFD",
    "outputId": "5f7b5862-60f5-44e2-dfa1-744cd2096a5f"
   },
   "outputs": [],
   "source": [
    "istorija = mreza_bal.fit (x_trening, y_trening, batch_size = najb_vel, epochs = epohe, callbacks = kolbekovi, class_weight = tezine_klasa, validation_data = (x_valid, y_valid), verbose = 1)\n"
   ]
  },
  {
   "cell_type": "code",
   "execution_count": null,
   "metadata": {
    "colab": {
     "base_uri": "https://localhost:8080/",
     "height": 187
    },
    "colab_type": "code",
    "executionInfo": {
     "elapsed": 33,
     "status": "ok",
     "timestamp": 1572703619103,
     "user": {
      "displayName": "Aleksandar Anžel",
      "photoUrl": "https://lh3.googleusercontent.com/a-/AAuE7mAv_eRLNMWBvr43YXv7UrZwTFOu9RxxodF6fBNOjQ=s64",
      "userId": "09456993545544319729"
     },
     "user_tz": -60
    },
    "id": "F9HbHAu3eQFF",
    "outputId": "9c564463-ec38-4ed2-ab24-6d3d93f7ee59"
   },
   "outputs": [],
   "source": [
    "y_procena = mreza_bal.predict(x_test)\n",
    "y_procena_zaok = np.rint (y_procena)\n",
    "\n",
    "print ('Izvestaj klasifikacije balansirane potpuno povezane mreze sa jednim skrivenim slojem:\\n', met.classification_report (y_test, y_procena_zaok))"
   ]
  },
  {
   "cell_type": "code",
   "execution_count": null,
   "metadata": {
    "colab": {
     "base_uri": "https://localhost:8080/",
     "height": 687
    },
    "colab_type": "code",
    "executionInfo": {
     "elapsed": 2163,
     "status": "ok",
     "timestamp": 1572703621258,
     "user": {
      "displayName": "Aleksandar Anžel",
      "photoUrl": "https://lh3.googleusercontent.com/a-/AAuE7mAv_eRLNMWBvr43YXv7UrZwTFOu9RxxodF6fBNOjQ=s64",
      "userId": "09456993545544319729"
     },
     "user_tz": -60
    },
    "id": "Z6cP6DVveQFJ",
    "outputId": "612c55e3-cdb8-4364-8f8b-bd17f7c06a96"
   },
   "outputs": [],
   "source": [
    "ime = 'Mreza balansirana sa jednim skrivenim slojem - ' + str (najb_inic + ', ' + najb_opt + ', ' + str(najb_vel) + ', ' + str(najb_br_neur))\n",
    "nacrtaj_matricu_konfuzije (y_test, y_procena_zaok.flatten(), ime)\n",
    "plt.show()\n"
   ]
  },
  {
   "cell_type": "code",
   "execution_count": null,
   "metadata": {
    "colab": {
     "base_uri": "https://localhost:8080/",
     "height": 677
    },
    "colab_type": "code",
    "executionInfo": {
     "elapsed": 31,
     "status": "ok",
     "timestamp": 1572703621260,
     "user": {
      "displayName": "Aleksandar Anžel",
      "photoUrl": "https://lh3.googleusercontent.com/a-/AAuE7mAv_eRLNMWBvr43YXv7UrZwTFOu9RxxodF6fBNOjQ=s64",
      "userId": "09456993545544319729"
     },
     "user_tz": -60
    },
    "id": "cUkpHg6CeQFM",
    "outputId": "f5738bd0-009f-4654-c6b8-cfccfaab15ce"
   },
   "outputs": [],
   "source": [
    "nacrtaj_ucenje (istorija, ime)\n"
   ]
  },
  {
   "cell_type": "markdown",
   "metadata": {
    "colab_type": "text",
    "id": "TjECuPZmwuGi"
   },
   "source": [
    "### 3.1.4 NN with calculated value for class_weight parameter and 2 hidden layers\n"
   ]
  },
  {
   "cell_type": "code",
   "execution_count": null,
   "metadata": {
    "colab": {
     "base_uri": "https://localhost:8080/",
     "height": 204
    },
    "colab_type": "code",
    "executionInfo": {
     "elapsed": 7231500,
     "status": "ok",
     "timestamp": 1572710852750,
     "user": {
      "displayName": "Aleksandar Anžel",
      "photoUrl": "https://lh3.googleusercontent.com/a-/AAuE7mAv_eRLNMWBvr43YXv7UrZwTFOu9RxxodF6fBNOjQ=s64",
      "userId": "09456993545544319729"
     },
     "user_tz": -60
    },
    "id": "UvOutVqZn7cM",
    "outputId": "939e5fdf-e551-4851-87b9-67498960e3cb"
   },
   "outputs": [],
   "source": [
    "# Mreza sa dva skrivena sloja\n",
    "# Vreme izvrsavanja ~ 2h 42 min., 2h\n",
    "'''\n",
    "mreza_1 = KerasClassifier (build_fn = napravi_mrezu_2, verbose=0)\n",
    "\n",
    "parametri = dict (br_neur_1 = br_neurona_1, br_neur_2 = br_neurona_2, optimizer = optimizatori, kernel_initializer = inicijalizatori, batch_size = vel_grupa)\n",
    "\n",
    "mreza_2 = ms.GridSearchCV(estimator = mreza_1, param_grid = parametri, scoring = 'f1', n_jobs = 1, cv = 2, verbose = 1)\n",
    "mreza_2.fit (x_trening, y_trening, validation_data = (x_valid, y_valid), epochs = epohe, callbacks = kolbekovi, class_weight = tezine_klasa)\n",
    "'''\n",
    "\n",
    "najb_parametri =  nadji_najbolje_parametre (x_trening, y_trening, x_valid, y_valid, x_test, y_test, 2, tezine_klasa)\n"
   ]
  },
  {
   "cell_type": "code",
   "execution_count": null,
   "metadata": {
    "colab": {},
    "colab_type": "code",
    "id": "4lHLlu63n7iz"
   },
   "outputs": [],
   "source": [
    "'''\n",
    "najb_opt = mreza_2.best_params_['optimizer']\n",
    "najb_inic = mreza_2.best_params_['kernel_initializer']\n",
    "najb_vel = mreza_2.best_params_['batch_size']\n",
    "najb_br_neur_1 = mreza_2.best_params_['br_neur_1']\n",
    "najb_br_neur_2 = mreza_2.best_params_['br_neur_2']\n",
    "\n",
    "print ('Najbolji parametri mreze su:')\n",
    "print ('Kernel initializer:', najb_inic)\n",
    "print ('Optimizer:', najb_opt)\n",
    "print ('Batch size:', najb_vel)\n",
    "print ('Broj neurona prvog sloja:', najb_br_neur_1)\n",
    "print ('Broj neurona drugog sloja:', najb_br_neur_2)\n",
    "'''\n",
    "\n",
    "najb_opt = najb_parametri['opt']\n",
    "najb_inic = najb_parametri['kern_ini']\n",
    "najb_vel = najb_parametri['batch_size']\n",
    "najb_br_neur_1 = najb_parametri['br_n_1']\n",
    "najb_br_neur_2 = najb_parametri['br_n_2']\n"
   ]
  },
  {
   "cell_type": "code",
   "execution_count": null,
   "metadata": {
    "colab": {
     "base_uri": "https://localhost:8080/",
     "height": 459
    },
    "colab_type": "code",
    "executionInfo": {
     "elapsed": 446,
     "status": "ok",
     "timestamp": 1572710853187,
     "user": {
      "displayName": "Aleksandar Anžel",
      "photoUrl": "https://lh3.googleusercontent.com/a-/AAuE7mAv_eRLNMWBvr43YXv7UrZwTFOu9RxxodF6fBNOjQ=s64",
      "userId": "09456993545544319729"
     },
     "user_tz": -60
    },
    "id": "7ltIDvzwn7rx",
    "outputId": "702ba8cf-7e02-4b26-c110-11132ffffaed"
   },
   "outputs": [],
   "source": [
    "# Kreiranje finalne mreze, evaluacija i iscrtavanje\n",
    "mreza_bal = napravi_mrezu_2 (optimizer = najb_opt, kernel_initializer = najb_inic, br_neur_1 = najb_br_neur_1, br_neur_2 = najb_br_neur_2)\n",
    "mreza_bal.summary()\n"
   ]
  },
  {
   "cell_type": "code",
   "execution_count": null,
   "metadata": {
    "colab": {
     "base_uri": "https://localhost:8080/",
     "height": 1000
    },
    "colab_type": "code",
    "executionInfo": {
     "elapsed": 132547,
     "status": "ok",
     "timestamp": 1572710985729,
     "user": {
      "displayName": "Aleksandar Anžel",
      "photoUrl": "https://lh3.googleusercontent.com/a-/AAuE7mAv_eRLNMWBvr43YXv7UrZwTFOu9RxxodF6fBNOjQ=s64",
      "userId": "09456993545544319729"
     },
     "user_tz": -60
    },
    "id": "AINshDHKn7x_",
    "outputId": "9c050341-fc5f-40af-9cb7-1d7b1a429fbc"
   },
   "outputs": [],
   "source": [
    "istorija = mreza_bal.fit (x_trening, y_trening, batch_size = najb_vel, epochs = epohe, callbacks = kolbekovi, class_weight = tezine_klasa, validation_data = (x_valid, y_valid), verbose = 1)\n"
   ]
  },
  {
   "cell_type": "code",
   "execution_count": null,
   "metadata": {
    "colab": {
     "base_uri": "https://localhost:8080/",
     "height": 187
    },
    "colab_type": "code",
    "executionInfo": {
     "elapsed": 368,
     "status": "ok",
     "timestamp": 1572710986073,
     "user": {
      "displayName": "Aleksandar Anžel",
      "photoUrl": "https://lh3.googleusercontent.com/a-/AAuE7mAv_eRLNMWBvr43YXv7UrZwTFOu9RxxodF6fBNOjQ=s64",
      "userId": "09456993545544319729"
     },
     "user_tz": -60
    },
    "id": "AP4wg_0Jn74E",
    "outputId": "39d6b710-e485-48d7-ca4e-a064d3cda003"
   },
   "outputs": [],
   "source": [
    "y_procena = mreza_bal.predict(x_test)\n",
    "y_procena_zaok = np.rint (y_procena)\n",
    "\n",
    "print ('Izvestaj klasifikacije balansirane potpuno povezane mreze sa dva skrivena sloja:\\n', met.classification_report (y_test, y_procena_zaok))"
   ]
  },
  {
   "cell_type": "code",
   "execution_count": null,
   "metadata": {
    "colab": {
     "base_uri": "https://localhost:8080/",
     "height": 687
    },
    "colab_type": "code",
    "executionInfo": {
     "elapsed": 1521,
     "status": "ok",
     "timestamp": 1572710987584,
     "user": {
      "displayName": "Aleksandar Anžel",
      "photoUrl": "https://lh3.googleusercontent.com/a-/AAuE7mAv_eRLNMWBvr43YXv7UrZwTFOu9RxxodF6fBNOjQ=s64",
      "userId": "09456993545544319729"
     },
     "user_tz": -60
    },
    "id": "3of7wW9_n798",
    "outputId": "0e736345-44fc-4948-a5a4-c0c64a536cdd"
   },
   "outputs": [],
   "source": [
    "ime = 'Mreza balansirana sa dva skrivena sloja - ' + str (najb_inic + ', ' + najb_opt + ', ' + str(najb_vel) + ', ' + str(najb_br_neur_1) + ', ' + str(najb_br_neur_2))\n",
    "nacrtaj_matricu_konfuzije (y_test, y_procena_zaok.flatten(), ime)\n",
    "plt.show()\n"
   ]
  },
  {
   "cell_type": "code",
   "execution_count": null,
   "metadata": {
    "colab": {
     "base_uri": "https://localhost:8080/",
     "height": 677
    },
    "colab_type": "code",
    "executionInfo": {
     "elapsed": 1025,
     "status": "ok",
     "timestamp": 1572710988592,
     "user": {
      "displayName": "Aleksandar Anžel",
      "photoUrl": "https://lh3.googleusercontent.com/a-/AAuE7mAv_eRLNMWBvr43YXv7UrZwTFOu9RxxodF6fBNOjQ=s64",
      "userId": "09456993545544319729"
     },
     "user_tz": -60
    },
    "id": "uDDS8KsPn8Ev",
    "outputId": "1360bcec-502d-406f-81ab-fd9793251bd5"
   },
   "outputs": [],
   "source": [
    "nacrtaj_ucenje (istorija, ime)\n"
   ]
  },
  {
   "cell_type": "code",
   "execution_count": null,
   "metadata": {
    "colab": {
     "base_uri": "https://localhost:8080/",
     "height": 54
    },
    "colab_type": "code",
    "executionInfo": {
     "elapsed": 193,
     "status": "ok",
     "timestamp": 1572710988593,
     "user": {
      "displayName": "Aleksandar Anžel",
      "photoUrl": "https://lh3.googleusercontent.com/a-/AAuE7mAv_eRLNMWBvr43YXv7UrZwTFOu9RxxodF6fBNOjQ=s64",
      "userId": "09456993545544319729"
     },
     "user_tz": -60
    },
    "id": "hbmeHF8ln8LM",
    "outputId": "303ff0df-3557-42cc-f9e6-9364839fc34c"
   },
   "outputs": [],
   "source": [
    "# Mreza sa tri skrivena sloja\n",
    "# Vreme izvrsavanja ~ 100 min.\n",
    "'''\n",
    "mreza_1 = KerasClassifier (build_fn = napravi_mrezu_3, verbose=0)\n",
    "\n",
    "parametri = dict (br_neur_1 = br_neurona_1, br_neur_2 = br_neurona_2, br_neur_3 = br_neurona_3, optimizer = optimizatori, kernel_initializer = inicijalizatori, batch_size = vel_grupa)\n",
    "\n",
    "mreza_2 = ms.GridSearchCV(estimator = mreza_1, param_grid = parametri, scoring = 'f1', n_jobs = 1, cv = 2, verbose = 1)\n",
    "mreza_2.fit (x_trening, y_trening, validation_data = (x_valid, y_valid), epochs = epohe, callbacks = kolbekovi, class_weight = tezine_klasa)\n",
    "'''\n",
    "\n",
    "#najb_parametri =  nadji_najbolje_parametre (x_trening, y_trening, x_valid, y_valid, x_test, y_test, 3, tezine_klasa)\n"
   ]
  },
  {
   "cell_type": "code",
   "execution_count": null,
   "metadata": {
    "colab": {
     "base_uri": "https://localhost:8080/",
     "height": 54
    },
    "colab_type": "code",
    "executionInfo": {
     "elapsed": 164,
     "status": "ok",
     "timestamp": 1572710988594,
     "user": {
      "displayName": "Aleksandar Anžel",
      "photoUrl": "https://lh3.googleusercontent.com/a-/AAuE7mAv_eRLNMWBvr43YXv7UrZwTFOu9RxxodF6fBNOjQ=s64",
      "userId": "09456993545544319729"
     },
     "user_tz": -60
    },
    "id": "4PpPuNe3owit",
    "outputId": "e6053a34-8953-4fc6-c9cc-05322524cd41"
   },
   "outputs": [],
   "source": [
    "'''\n",
    "najb_opt = mreza_2.best_params_['optimizer']\n",
    "najb_inic = mreza_2.best_params_['kernel_initializer']\n",
    "najb_vel = mreza_2.best_params_['batch_size']\n",
    "najb_br_neur_1 = mreza_2.best_params_['br_neur_1']\n",
    "najb_br_neur_2 = mreza_2.best_params_['br_neur_2']\n",
    "najb_br_neur_3 = mreza_2.best_params_['br_neur_3']\n",
    "\n",
    "print ('Najbolji parametri mreze su:')\n",
    "print ('Kernel initializer:', najb_inic)\n",
    "print ('Optimizer:', najb_opt)\n",
    "print ('Batch size:', najb_vel)\n",
    "print ('Broj neurona prvog sloja:', najb_br_neur_1)\n",
    "print ('Broj neurona drugog sloja:', najb_br_neur_2)\n",
    "print ('Broj neurona treceg sloja:', najb_br_neur_3)\n",
    "\n",
    "\n",
    "najb_opt = najb_parametri['opt']\n",
    "najb_inic = najb_parametri['kern_ini']\n",
    "najb_vel = najb_parametri['batch_size']\n",
    "najb_br_neur_1 = najb_parametri['br_n_1']\n",
    "najb_br_neur_2 = najb_parametri['br_n_2']\n",
    "najb_br_neur_3 = najb_parametri['br_n_3']\n",
    "'''"
   ]
  },
  {
   "cell_type": "code",
   "execution_count": null,
   "metadata": {
    "colab": {},
    "colab_type": "code",
    "id": "3VGZl0-wowqd"
   },
   "outputs": [],
   "source": [
    "# Kreiranje finalne mreze, evaluacija i iscrtavanje\n",
    "#mreza_bal = napravi_mrezu_3 (optimizer = najb_opt, kernel_initializer = najb_inic, br_neur_1 = najb_br_neur_1, br_neur_2 = najb_br_neur_2, br_neur_3 = najb_br_neur_3)\n",
    "#mreza_bal.summary()\n"
   ]
  },
  {
   "cell_type": "code",
   "execution_count": null,
   "metadata": {
    "colab": {},
    "colab_type": "code",
    "id": "9JNUvcq3owxR"
   },
   "outputs": [],
   "source": [
    "#istorija = mreza_bal.fit (x_trening, y_trening, batch_size = najb_vel, epochs = epohe, callbacks = kolbekovi, class_weight = tezine_klasa, validation_data = (x_valid, y_valid), verbose = 1)\n"
   ]
  },
  {
   "cell_type": "code",
   "execution_count": null,
   "metadata": {
    "colab": {
     "base_uri": "https://localhost:8080/",
     "height": 54
    },
    "colab_type": "code",
    "executionInfo": {
     "elapsed": 90,
     "status": "ok",
     "timestamp": 1572710988598,
     "user": {
      "displayName": "Aleksandar Anžel",
      "photoUrl": "https://lh3.googleusercontent.com/a-/AAuE7mAv_eRLNMWBvr43YXv7UrZwTFOu9RxxodF6fBNOjQ=s64",
      "userId": "09456993545544319729"
     },
     "user_tz": -60
    },
    "id": "WtYwlsR0ow3s",
    "outputId": "b33d5c3a-823e-45cd-baef-ccc786315d53"
   },
   "outputs": [],
   "source": [
    "'''\n",
    "y_procena = mreza_bal.predict(x_test)\n",
    "y_procena_zaok = np.rint (y_procena)\n",
    "\n",
    "print ('Izvestaj klasifikacije balansirane potpuno povezane mreze sa tri skrivena sloja:\\n', met.classification_report (y_test, y_procena_zaok))\n",
    "'''"
   ]
  },
  {
   "cell_type": "code",
   "execution_count": null,
   "metadata": {
    "colab": {
     "base_uri": "https://localhost:8080/",
     "height": 54
    },
    "colab_type": "code",
    "executionInfo": {
     "elapsed": 70,
     "status": "ok",
     "timestamp": 1572710988599,
     "user": {
      "displayName": "Aleksandar Anžel",
      "photoUrl": "https://lh3.googleusercontent.com/a-/AAuE7mAv_eRLNMWBvr43YXv7UrZwTFOu9RxxodF6fBNOjQ=s64",
      "userId": "09456993545544319729"
     },
     "user_tz": -60
    },
    "id": "jMsG-BU3ow9v",
    "outputId": "6c917345-810b-4a08-965d-dde5dd69e446"
   },
   "outputs": [],
   "source": [
    "'''\n",
    "ime = 'Mreza balansirana sa tri skrivena sloja - ' + str (najb_inic + ', ' + najb_opt + ', ' + str(najb_vel) + ', ' + str(najb_br_neur_1) + ', ' + str(najb_br_neur_2) + ', ' + str(najb_br_neur_3))\n",
    "nacrtaj_matricu_konfuzije (y_test, y_procena_zaok.flatten(), ime)\n",
    "plt.show()\n",
    "'''"
   ]
  },
  {
   "cell_type": "code",
   "execution_count": null,
   "metadata": {
    "colab": {},
    "colab_type": "code",
    "id": "W_51jeLmoxEC"
   },
   "outputs": [],
   "source": [
    "#nacrtaj_ucenje (istorija, ime)\n"
   ]
  },
  {
   "cell_type": "markdown",
   "metadata": {
    "colab_type": "text",
    "id": "Gl2M_pleIpR_"
   },
   "source": [
    "## 3.2.  Data set balanced with random undersampling\n",
    "\n",
    "### 3.2.1 NN with 1 hidden layer\n"
   ]
  },
  {
   "cell_type": "code",
   "execution_count": null,
   "metadata": {
    "colab": {
     "base_uri": "https://localhost:8080/",
     "height": 187
    },
    "colab_type": "code",
    "executionInfo": {
     "elapsed": 718497,
     "status": "ok",
     "timestamp": 1572711707081,
     "user": {
      "displayName": "Aleksandar Anžel",
      "photoUrl": "https://lh3.googleusercontent.com/a-/AAuE7mAv_eRLNMWBvr43YXv7UrZwTFOu9RxxodF6fBNOjQ=s64",
      "userId": "09456993545544319729"
     },
     "user_tz": -60
    },
    "id": "TOpcPCrnIoyB",
    "outputId": "c8a03c45-9566-4133-e2ad-53e5d3c6567e"
   },
   "outputs": [],
   "source": [
    "# Ovde se obavlja GridSearch bez scoring parametra (koristi se scoring samog modela)\n",
    "# To je potrebno jer je broj podataka mali te dolazi do nedefinisane f1 mere\n",
    "# Vreme izvrsavanja ~ 14 min., 12 min.\n",
    "'''\n",
    "mreza_1 = KerasClassifier (build_fn = napravi_mrezu_1, verbose=0)\n",
    "\n",
    "parametri = dict (br_neur_1 = br_neurona_1 + br_neurona_2, optimizer = optimizatori, kernel_initializer = inicijalizatori, batch_size = vel_grupa)\n",
    "\n",
    "mreza_2 = ms.GridSearchCV(estimator = mreza_1, param_grid = parametri, n_jobs = 1, cv = 2, verbose = 1)\n",
    "mreza_2.fit (x_trening_pod, y_trening_pod, validation_data = (x_valid, y_valid), epochs = epohe, callbacks = kolbekovi)\n",
    "'''\n",
    "\n",
    "najb_parametri =  nadji_najbolje_parametre (x_trening_pod, y_trening_pod, x_valid, y_valid, x_test, y_test, 1)\n"
   ]
  },
  {
   "cell_type": "code",
   "execution_count": null,
   "metadata": {
    "colab": {},
    "colab_type": "code",
    "id": "z-bf1NiBJdBr"
   },
   "outputs": [],
   "source": [
    "'''\n",
    "najb_opt = mreza_2.best_params_['optimizer']\n",
    "najb_inic = mreza_2.best_params_['kernel_initializer']\n",
    "najb_vel = mreza_2.best_params_['batch_size']\n",
    "najb_br_neur = mreza_2.best_params_['br_neur_1']\n",
    "\n",
    "print ('Najbolji parametri mreze su:')\n",
    "print ('Kernel initializer:', najb_inic)\n",
    "print ('Optimizer:', najb_opt)\n",
    "print ('Batch size:', najb_vel)\n",
    "print ('Broj neurona:', najb_br_neur)\n",
    "'''\n",
    "\n",
    "najb_opt = najb_parametri['opt']\n",
    "najb_inic = najb_parametri['kern_ini']\n",
    "najb_vel = najb_parametri['batch_size']\n",
    "najb_br_neur = najb_parametri['br_n_1']\n"
   ]
  },
  {
   "cell_type": "code",
   "execution_count": null,
   "metadata": {
    "colab": {
     "base_uri": "https://localhost:8080/",
     "height": 357
    },
    "colab_type": "code",
    "executionInfo": {
     "elapsed": 780,
     "status": "ok",
     "timestamp": 1572711707852,
     "user": {
      "displayName": "Aleksandar Anžel",
      "photoUrl": "https://lh3.googleusercontent.com/a-/AAuE7mAv_eRLNMWBvr43YXv7UrZwTFOu9RxxodF6fBNOjQ=s64",
      "userId": "09456993545544319729"
     },
     "user_tz": -60
    },
    "id": "w7hoN429Jdme",
    "outputId": "412964af-48d8-4bfa-dc57-9c8368739b48"
   },
   "outputs": [],
   "source": [
    "# Kreiranje finalne mreze, evaluacija i iscrtavanje\n",
    "mreza_pod = napravi_mrezu_1 (optimizer = najb_opt, kernel_initializer = najb_inic, br_neur_1 = najb_br_neur)\n",
    "mreza_pod.summary()\n"
   ]
  },
  {
   "cell_type": "code",
   "execution_count": null,
   "metadata": {
    "colab": {
     "base_uri": "https://localhost:8080/",
     "height": 1000
    },
    "colab_type": "code",
    "executionInfo": {
     "elapsed": 22239,
     "status": "ok",
     "timestamp": 1572711730086,
     "user": {
      "displayName": "Aleksandar Anžel",
      "photoUrl": "https://lh3.googleusercontent.com/a-/AAuE7mAv_eRLNMWBvr43YXv7UrZwTFOu9RxxodF6fBNOjQ=s64",
      "userId": "09456993545544319729"
     },
     "user_tz": -60
    },
    "id": "P5rB4fuYJdvP",
    "outputId": "67c97159-833d-4a95-f480-c1f55adff3bd"
   },
   "outputs": [],
   "source": [
    "istorija = mreza_pod.fit (x_trening_pod, y_trening_pod, batch_size = najb_vel, epochs = epohe, callbacks = kolbekovi, validation_data = (x_valid, y_valid), verbose = 1)\n"
   ]
  },
  {
   "cell_type": "code",
   "execution_count": null,
   "metadata": {
    "colab": {
     "base_uri": "https://localhost:8080/",
     "height": 187
    },
    "colab_type": "code",
    "executionInfo": {
     "elapsed": 497,
     "status": "ok",
     "timestamp": 1572711730568,
     "user": {
      "displayName": "Aleksandar Anžel",
      "photoUrl": "https://lh3.googleusercontent.com/a-/AAuE7mAv_eRLNMWBvr43YXv7UrZwTFOu9RxxodF6fBNOjQ=s64",
      "userId": "09456993545544319729"
     },
     "user_tz": -60
    },
    "id": "bAvExIPnJdzm",
    "outputId": "2a594e41-3d5e-4412-cfa2-23462a52c5c2"
   },
   "outputs": [],
   "source": [
    "y_procena = mreza_pod.predict(x_test)\n",
    "y_procena_zaok = np.rint (y_procena)\n",
    "\n",
    "print ('Izvestaj klasifikacije podsemplirane potpuno povezane sa jednim skrivenim slojem mreze:\\n', met.classification_report (y_test, y_procena_zaok))"
   ]
  },
  {
   "cell_type": "code",
   "execution_count": null,
   "metadata": {
    "colab": {
     "base_uri": "https://localhost:8080/",
     "height": 687
    },
    "colab_type": "code",
    "executionInfo": {
     "elapsed": 1416,
     "status": "ok",
     "timestamp": 1572711731978,
     "user": {
      "displayName": "Aleksandar Anžel",
      "photoUrl": "https://lh3.googleusercontent.com/a-/AAuE7mAv_eRLNMWBvr43YXv7UrZwTFOu9RxxodF6fBNOjQ=s64",
      "userId": "09456993545544319729"
     },
     "user_tz": -60
    },
    "id": "o9FGy8TNJd5I",
    "outputId": "a3472db3-f9cd-416f-d7e9-3cc2f2c1a638"
   },
   "outputs": [],
   "source": [
    "ime = 'Mreza podsempliranje sa jednim skrivenim slojem - ' + str (najb_inic + ', ' + najb_opt + ', ' + str(najb_vel) + ', ' + str(najb_br_neur))\n",
    "nacrtaj_matricu_konfuzije (y_test, y_procena_zaok.flatten(), ime)\n",
    "plt.show()\n"
   ]
  },
  {
   "cell_type": "code",
   "execution_count": null,
   "metadata": {
    "colab": {
     "base_uri": "https://localhost:8080/",
     "height": 677
    },
    "colab_type": "code",
    "executionInfo": {
     "elapsed": 779,
     "status": "ok",
     "timestamp": 1572711732749,
     "user": {
      "displayName": "Aleksandar Anžel",
      "photoUrl": "https://lh3.googleusercontent.com/a-/AAuE7mAv_eRLNMWBvr43YXv7UrZwTFOu9RxxodF6fBNOjQ=s64",
      "userId": "09456993545544319729"
     },
     "user_tz": -60
    },
    "id": "GTM12-63Jd-h",
    "outputId": "ab9d9a3e-843d-4b72-b756-933e1c55ec44"
   },
   "outputs": [],
   "source": [
    "nacrtaj_ucenje (istorija, ime)\n"
   ]
  },
  {
   "cell_type": "markdown",
   "metadata": {
    "colab_type": "text",
    "id": "_A5OKfKpwuHV"
   },
   "source": [
    "### 3.2.2 NN with 2 hidden layers\n"
   ]
  },
  {
   "cell_type": "code",
   "execution_count": null,
   "metadata": {
    "colab": {
     "base_uri": "https://localhost:8080/",
     "height": 221
    },
    "colab_type": "code",
    "executionInfo": {
     "elapsed": 2441719,
     "status": "ok",
     "timestamp": 1572714174462,
     "user": {
      "displayName": "Aleksandar Anžel",
      "photoUrl": "https://lh3.googleusercontent.com/a-/AAuE7mAv_eRLNMWBvr43YXv7UrZwTFOu9RxxodF6fBNOjQ=s64",
      "userId": "09456993545544319729"
     },
     "user_tz": -60
    },
    "id": "oFQq4VHMq6xY",
    "outputId": "3de79a78-1905-4d4e-fc8d-b2b806698f30"
   },
   "outputs": [],
   "source": [
    "# Mreza sa dva skrivena sloja\n",
    "# Vreme izvrsavanja ~ 46 min., 40min.\n",
    "'''\n",
    "mreza_1 = KerasClassifier (build_fn = napravi_mrezu_2, verbose=0)\n",
    "\n",
    "parametri = dict (br_neur_1 = br_neurona_1, br_neur_2 = br_neurona_2, optimizer = optimizatori, kernel_initializer = inicijalizatori, batch_size = vel_grupa)\n",
    "\n",
    "mreza_2 = ms.GridSearchCV(estimator = mreza_1, param_grid = parametri, n_jobs = 1, cv = 2, verbose = 1)\n",
    "mreza_2.fit (x_trening_pod, y_trening_pod, validation_data = (x_valid, y_valid), epochs = epohe, callbacks = kolbekovi)\n",
    "'''\n",
    "\n",
    "najb_parametri =  nadji_najbolje_parametre (x_trening_pod, y_trening_pod, x_valid, y_valid, x_test, y_test, 2)\n"
   ]
  },
  {
   "cell_type": "code",
   "execution_count": null,
   "metadata": {
    "colab": {},
    "colab_type": "code",
    "id": "sfIHmyu9q65u"
   },
   "outputs": [],
   "source": [
    "'''\n",
    "najb_opt = mreza_2.best_params_['optimizer']\n",
    "najb_inic = mreza_2.best_params_['kernel_initializer']\n",
    "najb_vel = mreza_2.best_params_['batch_size']\n",
    "najb_br_neur_1 = mreza_2.best_params_['br_neur_1']\n",
    "najb_br_neur_2 = mreza_2.best_params_['br_neur_2']\n",
    "\n",
    "print ('Najbolji parametri mreze su:')\n",
    "print ('Kernel initializer:', najb_inic)\n",
    "print ('Optimizer:', najb_opt)\n",
    "print ('Batch size:', najb_vel)\n",
    "print ('Broj neurona prvog sloja:', najb_br_neur_1)\n",
    "print ('Broj neurona drugog sloja:', najb_br_neur_2)\n",
    "'''\n",
    "\n",
    "najb_opt = najb_parametri['opt']\n",
    "najb_inic = najb_parametri['kern_ini']\n",
    "najb_vel = najb_parametri['batch_size']\n",
    "najb_br_neur_1 = najb_parametri['br_n_1']\n",
    "najb_br_neur_2 = najb_parametri['br_n_2']\n"
   ]
  },
  {
   "cell_type": "code",
   "execution_count": null,
   "metadata": {
    "colab": {
     "base_uri": "https://localhost:8080/",
     "height": 459
    },
    "colab_type": "code",
    "executionInfo": {
     "elapsed": 30,
     "status": "ok",
     "timestamp": 1572714174467,
     "user": {
      "displayName": "Aleksandar Anžel",
      "photoUrl": "https://lh3.googleusercontent.com/a-/AAuE7mAv_eRLNMWBvr43YXv7UrZwTFOu9RxxodF6fBNOjQ=s64",
      "userId": "09456993545544319729"
     },
     "user_tz": -60
    },
    "id": "2DwHpsGJq7BS",
    "outputId": "b85a599e-98ea-4ab4-b184-8a92cafb2fcf"
   },
   "outputs": [],
   "source": [
    "# Kreiranje finalne mreze, evaluacija i iscrtavanje\n",
    "mreza_pod = napravi_mrezu_2 (optimizer = najb_opt, kernel_initializer = najb_inic, br_neur_1 = najb_br_neur_1, br_neur_2 = najb_br_neur_2)\n",
    "mreza_pod.summary()\n"
   ]
  },
  {
   "cell_type": "code",
   "execution_count": null,
   "metadata": {
    "colab": {
     "base_uri": "https://localhost:8080/",
     "height": 1000
    },
    "colab_type": "code",
    "executionInfo": {
     "elapsed": 35878,
     "status": "ok",
     "timestamp": 1572714210332,
     "user": {
      "displayName": "Aleksandar Anžel",
      "photoUrl": "https://lh3.googleusercontent.com/a-/AAuE7mAv_eRLNMWBvr43YXv7UrZwTFOu9RxxodF6fBNOjQ=s64",
      "userId": "09456993545544319729"
     },
     "user_tz": -60
    },
    "id": "mrixykgtq7IW",
    "outputId": "eeb63757-8447-4f61-e34e-e9e9e97929ae"
   },
   "outputs": [],
   "source": [
    "istorija = mreza_pod.fit (x_trening_pod, y_trening_pod, batch_size = najb_vel, epochs = epohe, callbacks = kolbekovi, validation_data = (x_valid, y_valid), verbose = 1)\n"
   ]
  },
  {
   "cell_type": "code",
   "execution_count": null,
   "metadata": {
    "colab": {
     "base_uri": "https://localhost:8080/",
     "height": 187
    },
    "colab_type": "code",
    "executionInfo": {
     "elapsed": 267,
     "status": "ok",
     "timestamp": 1572714210585,
     "user": {
      "displayName": "Aleksandar Anžel",
      "photoUrl": "https://lh3.googleusercontent.com/a-/AAuE7mAv_eRLNMWBvr43YXv7UrZwTFOu9RxxodF6fBNOjQ=s64",
      "userId": "09456993545544319729"
     },
     "user_tz": -60
    },
    "id": "-wlfubQKq7Qu",
    "outputId": "26a17cdd-91da-47e3-9a46-4ce547d4d4d8"
   },
   "outputs": [],
   "source": [
    "y_procena = mreza_pod.predict(x_test)\n",
    "y_procena_zaok = np.rint (y_procena)\n",
    "\n",
    "print ('Izvestaj klasifikacije podsemplirane potpuno povezane sa dva skrivena sloja mreze:\\n', met.classification_report (y_test, y_procena_zaok))"
   ]
  },
  {
   "cell_type": "code",
   "execution_count": null,
   "metadata": {
    "colab": {
     "base_uri": "https://localhost:8080/",
     "height": 687
    },
    "colab_type": "code",
    "executionInfo": {
     "elapsed": 1847,
     "status": "ok",
     "timestamp": 1572714212417,
     "user": {
      "displayName": "Aleksandar Anžel",
      "photoUrl": "https://lh3.googleusercontent.com/a-/AAuE7mAv_eRLNMWBvr43YXv7UrZwTFOu9RxxodF6fBNOjQ=s64",
      "userId": "09456993545544319729"
     },
     "user_tz": -60
    },
    "id": "JoCsdVIpq7Xn",
    "outputId": "1d76deb1-0c3a-44be-e8ce-d2b0c0418d6b"
   },
   "outputs": [],
   "source": [
    "ime = 'Mreza podsempliranje sa dva skrivena sloja - ' + str (najb_inic + ', ' + najb_opt + ', ' + str(najb_vel) + ', ' + str(najb_br_neur_1) + ', ' + str(najb_br_neur_2))\n",
    "nacrtaj_matricu_konfuzije (y_test, y_procena_zaok.flatten(), ime)\n",
    "plt.show()\n"
   ]
  },
  {
   "cell_type": "code",
   "execution_count": null,
   "metadata": {
    "colab": {
     "base_uri": "https://localhost:8080/",
     "height": 677
    },
    "colab_type": "code",
    "executionInfo": {
     "elapsed": 85,
     "status": "ok",
     "timestamp": 1572714212420,
     "user": {
      "displayName": "Aleksandar Anžel",
      "photoUrl": "https://lh3.googleusercontent.com/a-/AAuE7mAv_eRLNMWBvr43YXv7UrZwTFOu9RxxodF6fBNOjQ=s64",
      "userId": "09456993545544319729"
     },
     "user_tz": -60
    },
    "id": "AmBI9w98q7fj",
    "outputId": "5ff02d28-959a-42b6-aa17-f95f47cd2f2e"
   },
   "outputs": [],
   "source": [
    "nacrtaj_ucenje (istorija, ime)\n"
   ]
  },
  {
   "cell_type": "code",
   "execution_count": null,
   "metadata": {
    "colab": {
     "base_uri": "https://localhost:8080/",
     "height": 54
    },
    "colab_type": "code",
    "executionInfo": {
     "elapsed": 60,
     "status": "ok",
     "timestamp": 1572714212421,
     "user": {
      "displayName": "Aleksandar Anžel",
      "photoUrl": "https://lh3.googleusercontent.com/a-/AAuE7mAv_eRLNMWBvr43YXv7UrZwTFOu9RxxodF6fBNOjQ=s64",
      "userId": "09456993545544319729"
     },
     "user_tz": -60
    },
    "id": "1BSn0gx1q7nD",
    "outputId": "b7aa85ab-d11f-4138-ca78-56db82bc46d4"
   },
   "outputs": [],
   "source": [
    "# Mreza sa tri skrivena sloja\n",
    "# Vreme izvrsavanja ~ 30 min.\n",
    "'''\n",
    "mreza_1 = KerasClassifier (build_fn = napravi_mrezu_3, verbose=0)\n",
    "\n",
    "parametri = dict (br_neur_1 = br_neurona_1, br_neur_2 = br_neurona_2, br_neur_3 = br_neurona_3, optimizer = optimizatori, kernel_initializer = inicijalizatori, batch_size = vel_grupa)\n",
    "\n",
    "mreza_2 = ms.GridSearchCV(estimator = mreza_1, param_grid = parametri, n_jobs = 1, cv = 2, verbose = 1)\n",
    "mreza_2.fit (x_trening_pod, y_trening_pod, validation_data = (x_valid, y_valid), epochs = epohe, callbacks = kolbekovi)\n",
    "'''\n",
    "\n",
    "#najb_parametri =  nadji_najbolje_parametre (x_trening_pod, y_trening_pod, x_valid, y_valid, x_test, y_test, 3)\n"
   ]
  },
  {
   "cell_type": "code",
   "execution_count": null,
   "metadata": {
    "colab": {
     "base_uri": "https://localhost:8080/",
     "height": 54
    },
    "colab_type": "code",
    "executionInfo": {
     "elapsed": 38,
     "status": "ok",
     "timestamp": 1572714212422,
     "user": {
      "displayName": "Aleksandar Anžel",
      "photoUrl": "https://lh3.googleusercontent.com/a-/AAuE7mAv_eRLNMWBvr43YXv7UrZwTFOu9RxxodF6fBNOjQ=s64",
      "userId": "09456993545544319729"
     },
     "user_tz": -60
    },
    "id": "1_j-HoZuq7uP",
    "outputId": "a311cd68-2f80-43cd-d981-174d7b96d651"
   },
   "outputs": [],
   "source": [
    "'''\n",
    "najb_opt = mreza_2.best_params_['optimizer']\n",
    "najb_inic = mreza_2.best_params_['kernel_initializer']\n",
    "najb_vel = mreza_2.best_params_['batch_size']\n",
    "najb_br_neur_1 = mreza_2.best_params_['br_neur_1']\n",
    "najb_br_neur_2 = mreza_2.best_params_['br_neur_2']\n",
    "najb_br_neur_3 = mreza_2.best_params_['br_neur_3']\n",
    "\n",
    "print ('Najbolji parametri mreze su:')\n",
    "print ('Kernel initializer:', najb_inic)\n",
    "print ('Optimizer:', najb_opt)\n",
    "print ('Batch size:', najb_vel)\n",
    "print ('Broj neurona prvog sloja:', najb_br_neur_1)\n",
    "print ('Broj neurona drugog sloja:', najb_br_neur_2)\n",
    "print ('Broj neurona treceg sloja:', najb_br_neur_3)\n",
    "\n",
    "\n",
    "najb_opt = najb_parametri['opt']\n",
    "najb_inic = najb_parametri['kern_ini']\n",
    "najb_vel = najb_parametri['batch_size']\n",
    "najb_br_neur_1 = najb_parametri['br_n_1']\n",
    "najb_br_neur_2 = najb_parametri['br_n_2']\n",
    "najb_br_neur_3 = najb_parametri['br_n_3']\n",
    "'''"
   ]
  },
  {
   "cell_type": "code",
   "execution_count": null,
   "metadata": {
    "colab": {},
    "colab_type": "code",
    "id": "kaLdOdz3q71k"
   },
   "outputs": [],
   "source": [
    "# Kreiranje finalne mreze, evaluacija i iscrtavanje\n",
    "#mreza_pod = napravi_mrezu_3 (optimizer = najb_opt, kernel_initializer = najb_inic, br_neur_1 = najb_br_neur_1, br_neur_2 = najb_br_neur_2, br_neur_3 = najb_br_neur_3)\n",
    "#mreza_pod.summary()\n"
   ]
  },
  {
   "cell_type": "code",
   "execution_count": null,
   "metadata": {
    "colab": {},
    "colab_type": "code",
    "id": "9Zz2pWkdq7-f"
   },
   "outputs": [],
   "source": [
    "#istorija = mreza_pod.fit (x_trening_pod, y_trening_pod, batch_size = najb_vel, epochs = epohe, callbacks = kolbekovi, validation_data = (x_valid, y_valid), verbose = 1)\n"
   ]
  },
  {
   "cell_type": "code",
   "execution_count": null,
   "metadata": {
    "colab": {
     "base_uri": "https://localhost:8080/",
     "height": 54
    },
    "colab_type": "code",
    "executionInfo": {
     "elapsed": 103,
     "status": "ok",
     "timestamp": 1572714212892,
     "user": {
      "displayName": "Aleksandar Anžel",
      "photoUrl": "https://lh3.googleusercontent.com/a-/AAuE7mAv_eRLNMWBvr43YXv7UrZwTFOu9RxxodF6fBNOjQ=s64",
      "userId": "09456993545544319729"
     },
     "user_tz": -60
    },
    "id": "gFusRNhqq8FJ",
    "outputId": "6013230d-6dc9-497f-900a-f4bb19d01dbf"
   },
   "outputs": [],
   "source": [
    "'''\n",
    "y_procena = mreza_pod.predict(x_test)\n",
    "y_procena_zaok = np.rint (y_procena)\n",
    "\n",
    "print ('Izvestaj klasifikacije podsemplirane potpuno povezane sa tri skrivena sloja mreze:\\n', met.classification_report (y_test, y_procena_zaok))\n",
    "'''"
   ]
  },
  {
   "cell_type": "code",
   "execution_count": null,
   "metadata": {
    "colab": {
     "base_uri": "https://localhost:8080/",
     "height": 54
    },
    "colab_type": "code",
    "executionInfo": {
     "elapsed": 70,
     "status": "ok",
     "timestamp": 1572714212893,
     "user": {
      "displayName": "Aleksandar Anžel",
      "photoUrl": "https://lh3.googleusercontent.com/a-/AAuE7mAv_eRLNMWBvr43YXv7UrZwTFOu9RxxodF6fBNOjQ=s64",
      "userId": "09456993545544319729"
     },
     "user_tz": -60
    },
    "id": "KROTtGHxq8MK",
    "outputId": "c8db86ef-f5ff-43ed-abd2-8ee7d97263e4"
   },
   "outputs": [],
   "source": [
    "'''\n",
    "ime = 'Mreza podsempliranje sa tri skrivena sloja - ' + str (najb_inic + ', ' + najb_opt + ', ' + str(najb_vel) + ', ' + str(najb_br_neur_1) + ', ' + str(najb_br_neur_2) + ', ' + str(najb_br_neur_3))\n",
    "nacrtaj_matricu_konfuzije (y_test, y_procena_zaok.flatten(), ime)\n",
    "plt.show()\n",
    "'''\n"
   ]
  },
  {
   "cell_type": "code",
   "execution_count": null,
   "metadata": {
    "colab": {},
    "colab_type": "code",
    "id": "igTQIIuNq8Ty"
   },
   "outputs": [],
   "source": [
    "#nacrtaj_ucenje (istorija, ime)\n"
   ]
  },
  {
   "cell_type": "markdown",
   "metadata": {
    "colab_type": "text",
    "id": "IUrsopGGKTNn"
   },
   "source": [
    "## 3.3. Data set balanced with SMOTE oversampling\n",
    "\n",
    "### 3.3.1 NN with 1 hidden layer"
   ]
  },
  {
   "cell_type": "code",
   "execution_count": null,
   "metadata": {
    "colab": {
     "base_uri": "https://localhost:8080/",
     "height": 170
    },
    "colab_type": "code",
    "executionInfo": {
     "elapsed": 2156755,
     "status": "ok",
     "timestamp": 1572716369633,
     "user": {
      "displayName": "Aleksandar Anžel",
      "photoUrl": "https://lh3.googleusercontent.com/a-/AAuE7mAv_eRLNMWBvr43YXv7UrZwTFOu9RxxodF6fBNOjQ=s64",
      "userId": "09456993545544319729"
     },
     "user_tz": -60
    },
    "id": "M9f0FGuIJeDo",
    "outputId": "064fa035-b5dc-49aa-8ade-cfa687e671d6"
   },
   "outputs": [],
   "source": [
    "# Mreza sa jednim skrivenim slojem\n",
    "# Vreme izvrsavanja ~ 46 min., 35 min.\n",
    "'''\n",
    "mreza_1 = KerasClassifier (build_fn = napravi_mrezu_1, verbose=0)\n",
    "\n",
    "parametri = dict (br_neur_1 = br_neurona_1 + br_neurona_2, optimizer = optimizatori, kernel_initializer = inicijalizatori, batch_size = vel_grupa)\n",
    "\n",
    "mreza_2 = ms.GridSearchCV (estimator = mreza_1, param_grid = parametri, scoring = 'f1', n_jobs = 1, cv = 2, verbose = 1)\n",
    "mreza_2.fit (x_trening_nad_smote, y_trening_nad_smote, validation_data = (x_valid, y_valid), epochs = epohe, callbacks = kolbekovi)\n",
    "'''\n",
    "\n",
    "najb_parametri =  nadji_najbolje_parametre (x_trening_nad_smote, y_trening_nad_smote, x_valid, y_valid, x_test, y_test, 1)\n"
   ]
  },
  {
   "cell_type": "code",
   "execution_count": null,
   "metadata": {
    "colab": {},
    "colab_type": "code",
    "id": "p5CN5hA-JeJF"
   },
   "outputs": [],
   "source": [
    "'''\n",
    "najb_opt = mreza_2.best_params_['optimizer']\n",
    "najb_inic = mreza_2.best_params_['kernel_initializer']\n",
    "najb_vel = mreza_2.best_params_['batch_size']\n",
    "najb_br_neur = mreza_2.best_params_['br_neur_1']\n",
    "\n",
    "print ('Najbolji parametri mreze su:')\n",
    "print ('Kernel initializer:', najb_inic)\n",
    "print ('Optimizer:', najb_opt)\n",
    "print ('Batch size:', najb_vel)\n",
    "print ('Broj neurona:', najb_br_neur)\n",
    "'''\n",
    "\n",
    "najb_opt = najb_parametri['opt']\n",
    "najb_inic = najb_parametri['kern_ini']\n",
    "najb_vel = najb_parametri['batch_size']\n",
    "najb_br_neur = najb_parametri['br_n_1']\n"
   ]
  },
  {
   "cell_type": "code",
   "execution_count": null,
   "metadata": {
    "colab": {
     "base_uri": "https://localhost:8080/",
     "height": 357
    },
    "colab_type": "code",
    "executionInfo": {
     "elapsed": 32,
     "status": "ok",
     "timestamp": 1572716369639,
     "user": {
      "displayName": "Aleksandar Anžel",
      "photoUrl": "https://lh3.googleusercontent.com/a-/AAuE7mAv_eRLNMWBvr43YXv7UrZwTFOu9RxxodF6fBNOjQ=s64",
      "userId": "09456993545544319729"
     },
     "user_tz": -60
    },
    "id": "Sb5-lh7bJeOK",
    "outputId": "55569c6e-72a0-4611-ed1e-8c427dfd5804"
   },
   "outputs": [],
   "source": [
    "# Kreiranje finalne mreze, evaluacija i iscrtavanje\n",
    "mreza_nad_smote = napravi_mrezu_1 (optimizer = najb_opt, kernel_initializer = najb_inic, br_neur_1 = najb_br_neur)\n",
    "mreza_nad_smote.summary()\n"
   ]
  },
  {
   "cell_type": "code",
   "execution_count": null,
   "metadata": {
    "colab": {
     "base_uri": "https://localhost:8080/",
     "height": 1000
    },
    "colab_type": "code",
    "executionInfo": {
     "elapsed": 111503,
     "status": "ok",
     "timestamp": 1572716481128,
     "user": {
      "displayName": "Aleksandar Anžel",
      "photoUrl": "https://lh3.googleusercontent.com/a-/AAuE7mAv_eRLNMWBvr43YXv7UrZwTFOu9RxxodF6fBNOjQ=s64",
      "userId": "09456993545544319729"
     },
     "user_tz": -60
    },
    "id": "GoUg3tYVMEV5",
    "outputId": "61b8b957-62f7-41b3-fe86-fc3dd55329f5"
   },
   "outputs": [],
   "source": [
    "istorija = mreza_nad_smote.fit (x_trening_nad_smote, y_trening_nad_smote, batch_size = najb_vel, epochs = epohe, callbacks = kolbekovi, validation_data = (x_valid, y_valid), verbose = 1)\n"
   ]
  },
  {
   "cell_type": "code",
   "execution_count": null,
   "metadata": {
    "colab": {
     "base_uri": "https://localhost:8080/",
     "height": 187
    },
    "colab_type": "code",
    "executionInfo": {
     "elapsed": 410,
     "status": "ok",
     "timestamp": 1572716481525,
     "user": {
      "displayName": "Aleksandar Anžel",
      "photoUrl": "https://lh3.googleusercontent.com/a-/AAuE7mAv_eRLNMWBvr43YXv7UrZwTFOu9RxxodF6fBNOjQ=s64",
      "userId": "09456993545544319729"
     },
     "user_tz": -60
    },
    "id": "aHy8X13pMEb9",
    "outputId": "298076fa-7188-4055-b4cc-ae92c7039950"
   },
   "outputs": [],
   "source": [
    "y_procena = mreza_nad_smote.predict(x_test)\n",
    "y_procena_zaok = np.rint (y_procena)\n",
    "\n",
    "print ('Izvestaj klasifikacije SMOTE nadsemplirane potpuno povezane mreze sa jednim skrivenim slojem:\\n', met.classification_report (y_test, y_procena_zaok))"
   ]
  },
  {
   "cell_type": "code",
   "execution_count": null,
   "metadata": {
    "colab": {
     "base_uri": "https://localhost:8080/",
     "height": 687
    },
    "colab_type": "code",
    "executionInfo": {
     "elapsed": 1610,
     "status": "ok",
     "timestamp": 1572716483130,
     "user": {
      "displayName": "Aleksandar Anžel",
      "photoUrl": "https://lh3.googleusercontent.com/a-/AAuE7mAv_eRLNMWBvr43YXv7UrZwTFOu9RxxodF6fBNOjQ=s64",
      "userId": "09456993545544319729"
     },
     "user_tz": -60
    },
    "id": "9LNcYhKcMEhS",
    "outputId": "d7b13390-e0cc-47fa-acf1-3220b5325601"
   },
   "outputs": [],
   "source": [
    "ime = 'Mreza SMOTE nadsempliranje sa jednim skrivenim slojem - ' + str (najb_inic + ', ' + najb_opt + ', ' + str(najb_vel) + ', ' + str(najb_br_neur))\n",
    "nacrtaj_matricu_konfuzije (y_test, y_procena_zaok.flatten(), ime)\n",
    "plt.show()\n"
   ]
  },
  {
   "cell_type": "code",
   "execution_count": null,
   "metadata": {
    "colab": {
     "base_uri": "https://localhost:8080/",
     "height": 677
    },
    "colab_type": "code",
    "executionInfo": {
     "elapsed": 777,
     "status": "ok",
     "timestamp": 1572716483897,
     "user": {
      "displayName": "Aleksandar Anžel",
      "photoUrl": "https://lh3.googleusercontent.com/a-/AAuE7mAv_eRLNMWBvr43YXv7UrZwTFOu9RxxodF6fBNOjQ=s64",
      "userId": "09456993545544319729"
     },
     "user_tz": -60
    },
    "id": "O93AQl7nMEnB",
    "outputId": "e8ba37b9-a145-4e3e-a635-8ad2bbac015f"
   },
   "outputs": [],
   "source": [
    "nacrtaj_ucenje (istorija, ime)\n"
   ]
  },
  {
   "cell_type": "markdown",
   "metadata": {
    "colab_type": "text",
    "id": "2xmHCQTuwuIH"
   },
   "source": [
    "### 3.3.2  NN with 2 hidden layers\n"
   ]
  },
  {
   "cell_type": "code",
   "execution_count": null,
   "metadata": {
    "colab": {
     "base_uri": "https://localhost:8080/",
     "height": 238
    },
    "colab_type": "code",
    "executionInfo": {
     "elapsed": 7700992,
     "status": "ok",
     "timestamp": 1572724184877,
     "user": {
      "displayName": "Aleksandar Anžel",
      "photoUrl": "https://lh3.googleusercontent.com/a-/AAuE7mAv_eRLNMWBvr43YXv7UrZwTFOu9RxxodF6fBNOjQ=s64",
      "userId": "09456993545544319729"
     },
     "user_tz": -60
    },
    "id": "lBcErJ3ItQQq",
    "outputId": "f591b188-1a80-4acf-ddd3-e9b4a43c4fac"
   },
   "outputs": [],
   "source": [
    "# Mreza sa dva skrivena sloja\n",
    "# Vreme izvrsavanja ~ 2h 40 min., 2h\n",
    "'''\n",
    "mreza_1 = KerasClassifier (build_fn = napravi_mrezu_2, verbose=0)\n",
    "\n",
    "parametri = dict (br_neur_1 = br_neurona_1, br_neur_2 = br_neurona_2, optimizer = optimizatori, kernel_initializer = inicijalizatori, batch_size = vel_grupa)\n",
    "\n",
    "mreza_2 = ms.GridSearchCV (estimator = mreza_1, param_grid = parametri, scoring = 'f1', n_jobs = 1, cv = 2, verbose = 1)\n",
    "mreza_2.fit (x_trening_nad_smote, y_trening_nad_smote, validation_data = (x_valid, y_valid), epochs = epohe, callbacks = kolbekovi)\n",
    "'''\n",
    "\n",
    "najb_parametri =  nadji_najbolje_parametre (x_trening_nad_smote, y_trening_nad_smote, x_valid, y_valid, x_test, y_test, 2)\n"
   ]
  },
  {
   "cell_type": "code",
   "execution_count": null,
   "metadata": {
    "colab": {},
    "colab_type": "code",
    "id": "g_j3ToOUtQa1"
   },
   "outputs": [],
   "source": [
    "'''\n",
    "najb_opt = mreza_2.best_params_['optimizer']\n",
    "najb_inic = mreza_2.best_params_['kernel_initializer']\n",
    "najb_vel = mreza_2.best_params_['batch_size']\n",
    "najb_br_neur_1 = mreza_2.best_params_['br_neur_1']\n",
    "najb_br_neur_2 = mreza_2.best_params_['br_neur_2']\n",
    "\n",
    "print ('Najbolji parametri mreze su:')\n",
    "print ('Kernel initializer:', najb_inic)\n",
    "print ('Optimizer:', najb_opt)\n",
    "print ('Batch size:', najb_vel)\n",
    "print ('Broj neurona prvog sloja:', najb_br_neur_1)\n",
    "print ('Broj neurona drugog sloja:', najb_br_neur_2)\n",
    "'''\n",
    "\n",
    "najb_opt = najb_parametri['opt']\n",
    "najb_inic = najb_parametri['kern_ini']\n",
    "najb_vel = najb_parametri['batch_size']\n",
    "najb_br_neur_1 = najb_parametri['br_n_1']\n",
    "najb_br_neur_2 = najb_parametri['br_n_2']\n"
   ]
  },
  {
   "cell_type": "code",
   "execution_count": null,
   "metadata": {
    "colab": {
     "base_uri": "https://localhost:8080/",
     "height": 459
    },
    "colab_type": "code",
    "executionInfo": {
     "elapsed": 32,
     "status": "ok",
     "timestamp": 1572724184882,
     "user": {
      "displayName": "Aleksandar Anžel",
      "photoUrl": "https://lh3.googleusercontent.com/a-/AAuE7mAv_eRLNMWBvr43YXv7UrZwTFOu9RxxodF6fBNOjQ=s64",
      "userId": "09456993545544319729"
     },
     "user_tz": -60
    },
    "id": "6vwxXE0ptQiI",
    "outputId": "bb73c939-bfba-4207-bd76-88c153b2010f"
   },
   "outputs": [],
   "source": [
    "# Kreiranje finalne mreze, evaluacija i iscrtavanje\n",
    "mreza_nad_smote = napravi_mrezu_2 (optimizer = najb_opt, kernel_initializer = najb_inic, br_neur_1 = najb_br_neur_1, br_neur_2 = najb_br_neur_2)\n",
    "mreza_nad_smote.summary()\n"
   ]
  },
  {
   "cell_type": "code",
   "execution_count": null,
   "metadata": {
    "colab": {
     "base_uri": "https://localhost:8080/",
     "height": 1000
    },
    "colab_type": "code",
    "executionInfo": {
     "elapsed": 93846,
     "status": "ok",
     "timestamp": 1572724278714,
     "user": {
      "displayName": "Aleksandar Anžel",
      "photoUrl": "https://lh3.googleusercontent.com/a-/AAuE7mAv_eRLNMWBvr43YXv7UrZwTFOu9RxxodF6fBNOjQ=s64",
      "userId": "09456993545544319729"
     },
     "user_tz": -60
    },
    "id": "oUjLpDT7tQp8",
    "outputId": "7f1cbc33-e354-486f-9813-2fbeaa5d000a"
   },
   "outputs": [],
   "source": [
    "istorija = mreza_nad_smote.fit (x_trening_nad_smote, y_trening_nad_smote, batch_size = najb_vel, epochs = epohe, callbacks = kolbekovi, validation_data = (x_valid, y_valid), verbose = 1)\n"
   ]
  },
  {
   "cell_type": "code",
   "execution_count": null,
   "metadata": {
    "colab": {
     "base_uri": "https://localhost:8080/",
     "height": 187
    },
    "colab_type": "code",
    "executionInfo": {
     "elapsed": 315,
     "status": "ok",
     "timestamp": 1572724279016,
     "user": {
      "displayName": "Aleksandar Anžel",
      "photoUrl": "https://lh3.googleusercontent.com/a-/AAuE7mAv_eRLNMWBvr43YXv7UrZwTFOu9RxxodF6fBNOjQ=s64",
      "userId": "09456993545544319729"
     },
     "user_tz": -60
    },
    "id": "No-sb-uatQxa",
    "outputId": "4f40896d-9195-4cd3-9a05-ae7baa53f685"
   },
   "outputs": [],
   "source": [
    "y_procena = mreza_nad_smote.predict(x_test)\n",
    "y_procena_zaok = np.rint (y_procena)\n",
    "\n",
    "print ('Izvestaj klasifikacije SMOTE nadsemplirane potpuno povezane mreze sa dva skrivena sloja:\\n', met.classification_report (y_test, y_procena_zaok))"
   ]
  },
  {
   "cell_type": "code",
   "execution_count": null,
   "metadata": {
    "colab": {
     "base_uri": "https://localhost:8080/",
     "height": 687
    },
    "colab_type": "code",
    "executionInfo": {
     "elapsed": 2461,
     "status": "ok",
     "timestamp": 1572724281471,
     "user": {
      "displayName": "Aleksandar Anžel",
      "photoUrl": "https://lh3.googleusercontent.com/a-/AAuE7mAv_eRLNMWBvr43YXv7UrZwTFOu9RxxodF6fBNOjQ=s64",
      "userId": "09456993545544319729"
     },
     "user_tz": -60
    },
    "id": "YxwB0RsUtQ7A",
    "outputId": "7186d95f-964b-4194-ca8b-69a7d936028f"
   },
   "outputs": [],
   "source": [
    "ime = 'Mreza SMOTE nadsempliranje sa dva skrivena sloja - ' + str (najb_inic + ', ' + najb_opt + ', ' + str(najb_vel) + ', ' + str(najb_br_neur_1) + ', ' + str(najb_br_neur_2))\n",
    "nacrtaj_matricu_konfuzije (y_test, y_procena_zaok.flatten(), ime)\n",
    "plt.show()\n"
   ]
  },
  {
   "cell_type": "code",
   "execution_count": null,
   "metadata": {
    "colab": {
     "base_uri": "https://localhost:8080/",
     "height": 677
    },
    "colab_type": "code",
    "executionInfo": {
     "elapsed": 1003,
     "status": "ok",
     "timestamp": 1572724282467,
     "user": {
      "displayName": "Aleksandar Anžel",
      "photoUrl": "https://lh3.googleusercontent.com/a-/AAuE7mAv_eRLNMWBvr43YXv7UrZwTFOu9RxxodF6fBNOjQ=s64",
      "userId": "09456993545544319729"
     },
     "user_tz": -60
    },
    "id": "vUJN2P7etREP",
    "outputId": "2e9be86a-1080-432a-86c8-21730f1117a9"
   },
   "outputs": [],
   "source": [
    "nacrtaj_ucenje (istorija, ime)\n"
   ]
  },
  {
   "cell_type": "code",
   "execution_count": null,
   "metadata": {
    "colab": {
     "base_uri": "https://localhost:8080/",
     "height": 54
    },
    "colab_type": "code",
    "executionInfo": {
     "elapsed": 147,
     "status": "ok",
     "timestamp": 1572724282468,
     "user": {
      "displayName": "Aleksandar Anžel",
      "photoUrl": "https://lh3.googleusercontent.com/a-/AAuE7mAv_eRLNMWBvr43YXv7UrZwTFOu9RxxodF6fBNOjQ=s64",
      "userId": "09456993545544319729"
     },
     "user_tz": -60
    },
    "id": "j29WCMP_tRMN",
    "outputId": "cfe33edc-c5ac-47cc-cad3-5cae0d4732cc"
   },
   "outputs": [],
   "source": [
    "# Mreza sa tri skrivena sloja\n",
    "# Vreme izvrsavanja ~  min.\n",
    "'''\n",
    "mreza_1 = KerasClassifier (build_fn = napravi_mrezu_3, verbose=0)\n",
    "\n",
    "parametri = dict (br_neur_1 = br_neurona_1, br_neur_2 = br_neurona_2, br_neur_3 = br_neurona_3, optimizer = optimizatori, kernel_initializer = inicijalizatori, batch_size = vel_grupa)\n",
    "\n",
    "mreza_2 = ms.GridSearchCV (estimator = mreza_1, param_grid = parametri, scoring = 'f1', n_jobs = 1, cv = 2, verbose = 1)\n",
    "mreza_2.fit (x_trening_nad_smote, y_trening_nad_smote, validation_data = (x_valid, y_valid), epochs = epohe, callbacks = kolbekovi)\n",
    "'''\n",
    "\n",
    "#najb_parametri =  nadji_najbolje_parametre (x_trening_nad_smote, y_trening_nad_smote, x_valid, y_valid, x_test, y_test, 3)\n"
   ]
  },
  {
   "cell_type": "code",
   "execution_count": null,
   "metadata": {
    "colab": {
     "base_uri": "https://localhost:8080/",
     "height": 54
    },
    "colab_type": "code",
    "executionInfo": {
     "elapsed": 130,
     "status": "ok",
     "timestamp": 1572724282471,
     "user": {
      "displayName": "Aleksandar Anžel",
      "photoUrl": "https://lh3.googleusercontent.com/a-/AAuE7mAv_eRLNMWBvr43YXv7UrZwTFOu9RxxodF6fBNOjQ=s64",
      "userId": "09456993545544319729"
     },
     "user_tz": -60
    },
    "id": "_KM6piWjtRUp",
    "outputId": "30c7758a-0622-4e5e-ff1c-eeafe0464234"
   },
   "outputs": [],
   "source": [
    "'''\n",
    "najb_opt = mreza_2.best_params_['optimizer']\n",
    "najb_inic = mreza_2.best_params_['kernel_initializer']\n",
    "najb_vel = mreza_2.best_params_['batch_size']\n",
    "najb_br_neur_1 = mreza_2.best_params_['br_neur_1']\n",
    "najb_br_neur_2 = mreza_2.best_params_['br_neur_2']\n",
    "najb_br_neur_3 = mreza_2.best_params_['br_neur_3']\n",
    "\n",
    "print ('Najbolji parametri mreze su:')\n",
    "print ('Kernel initializer:', najb_inic)\n",
    "print ('Optimizer:', najb_opt)\n",
    "print ('Batch size:', najb_vel)\n",
    "print ('Broj neurona prvog sloja:', najb_br_neur_1)\n",
    "print ('Broj neurona drugog sloja:', najb_br_neur_2)\n",
    "print ('Broj neurona treceg sloja:', najb_br_neur_3)\n",
    "\n",
    "\n",
    "najb_opt = najb_parametri['opt']\n",
    "najb_inic = najb_parametri['kern_ini']\n",
    "najb_vel = najb_parametri['batch_size']\n",
    "najb_br_neur_1 = najb_parametri['br_n_1']\n",
    "najb_br_neur_2 = najb_parametri['br_n_2']\n",
    "najb_br_neur_3 = najb_parametri['br_n_3']\n",
    "'''"
   ]
  },
  {
   "cell_type": "code",
   "execution_count": null,
   "metadata": {
    "colab": {},
    "colab_type": "code",
    "id": "usAS68IytRcI"
   },
   "outputs": [],
   "source": [
    "# Kreiranje finalne mreze, evaluacija i iscrtavanje\n",
    "#mreza_nad_smote = napravi_mrezu_3 (optimizer = najb_opt, kernel_initializer = najb_inic, br_neur_1 = najb_br_neur_1, br_neur_2 = najb_br_neur_2, br_neur_3 = najb_br_neur_3)\n",
    "#mreza_nad_smote.summary()\n"
   ]
  },
  {
   "cell_type": "code",
   "execution_count": null,
   "metadata": {
    "colab": {},
    "colab_type": "code",
    "id": "yftu6eBjtRkU"
   },
   "outputs": [],
   "source": [
    "#istorija = mreza_nad_smote.fit (x_trening_nad_smote, y_trening_nad_smote, batch_size = najb_vel, epochs = epohe, callbacks = kolbekovi, validation_data = (x_valid, y_valid), verbose = 1)\n"
   ]
  },
  {
   "cell_type": "code",
   "execution_count": null,
   "metadata": {
    "colab": {
     "base_uri": "https://localhost:8080/",
     "height": 54
    },
    "colab_type": "code",
    "executionInfo": {
     "elapsed": 71,
     "status": "ok",
     "timestamp": 1572724282473,
     "user": {
      "displayName": "Aleksandar Anžel",
      "photoUrl": "https://lh3.googleusercontent.com/a-/AAuE7mAv_eRLNMWBvr43YXv7UrZwTFOu9RxxodF6fBNOjQ=s64",
      "userId": "09456993545544319729"
     },
     "user_tz": -60
    },
    "id": "2jLTy3gutRsZ",
    "outputId": "4114be5f-e9aa-47f5-e2aa-90c723adfbd3"
   },
   "outputs": [],
   "source": [
    "'''\n",
    "y_procena = mreza_nad_smote.predict(x_test)\n",
    "y_procena_zaok = np.rint (y_procena)\n",
    "\n",
    "print ('Izvestaj klasifikacije SMOTE nadsemplirane potpuno povezane mreze sa tri skrivena sloja:\\n', met.classification_report (y_test, y_procena_zaok))\n",
    "'''"
   ]
  },
  {
   "cell_type": "code",
   "execution_count": null,
   "metadata": {
    "colab": {
     "base_uri": "https://localhost:8080/",
     "height": 54
    },
    "colab_type": "code",
    "executionInfo": {
     "elapsed": 52,
     "status": "ok",
     "timestamp": 1572724282474,
     "user": {
      "displayName": "Aleksandar Anžel",
      "photoUrl": "https://lh3.googleusercontent.com/a-/AAuE7mAv_eRLNMWBvr43YXv7UrZwTFOu9RxxodF6fBNOjQ=s64",
      "userId": "09456993545544319729"
     },
     "user_tz": -60
    },
    "id": "HYU_b0wYtR0V",
    "outputId": "e3a6afa5-4d98-4d1b-9846-1ff23428da54"
   },
   "outputs": [],
   "source": [
    "'''\n",
    "ime = 'Mreza SMOTE nadsempliranje sa tri skrivena sloja - ' + str (najb_inic + ', ' + najb_opt + ', ' + str(najb_vel) + ', ' + str(najb_br_neur_1) + ', ' + str(najb_br_neur_2) + ', ' + str(najb_br_neur_3))\n",
    "nacrtaj_matricu_konfuzije (y_test, y_procena_zaok.flatten(), ime)\n",
    "plt.show()\n",
    "'''"
   ]
  },
  {
   "cell_type": "code",
   "execution_count": null,
   "metadata": {
    "colab": {},
    "colab_type": "code",
    "id": "r2i-pnpktR9_"
   },
   "outputs": [],
   "source": [
    "#nacrtaj_ucenje (istorija, ime)\n"
   ]
  },
  {
   "cell_type": "markdown",
   "metadata": {
    "colab_type": "text",
    "id": "8f5h4bsSMpTO"
   },
   "source": [
    "## 3.4 Data set balanced with SMOTE oversampling\n",
    "\n",
    "### 3.4.1 NN with 1 hidden layer"
   ]
  },
  {
   "cell_type": "code",
   "execution_count": null,
   "metadata": {
    "colab": {
     "base_uri": "https://localhost:8080/",
     "height": 221
    },
    "colab_type": "code",
    "executionInfo": {
     "elapsed": 2118238,
     "status": "ok",
     "timestamp": 1572726400699,
     "user": {
      "displayName": "Aleksandar Anžel",
      "photoUrl": "https://lh3.googleusercontent.com/a-/AAuE7mAv_eRLNMWBvr43YXv7UrZwTFOu9RxxodF6fBNOjQ=s64",
      "userId": "09456993545544319729"
     },
     "user_tz": -60
    },
    "id": "02O1j5r4MEs4",
    "outputId": "7f7bb081-d6a0-47ce-d507-90c04abbd347"
   },
   "outputs": [],
   "source": [
    "# Mreza sa jednim skrivenim slojem\n",
    "# Vreme izvrsavanja ~ 50 min., 35 min.\n",
    "'''\n",
    "mreza_1 = KerasClassifier (build_fn = napravi_mrezu_1, verbose=0)\n",
    "\n",
    "parametri = dict (br_neur_1 = br_neurona_1 + br_neurona_2, optimizer = optimizatori, kernel_initializer = inicijalizatori, batch_size = vel_grupa)\n",
    "\n",
    "mreza_2 = ms.GridSearchCV (estimator = mreza_1, param_grid = parametri, scoring = 'f1', n_jobs = 1, cv = 2, verbose = 1)\n",
    "mreza_2.fit (x_trening_nad_adasyn, y_trening_nad_adasyn, validation_data = (x_valid, y_valid), epochs = epohe, callbacks = kolbekovi)\n",
    "'''\n",
    "\n",
    "najb_parametri =  nadji_najbolje_parametre (x_trening_nad_adasyn, y_trening_nad_adasyn, x_valid, y_valid, x_test, y_test, 1)\n"
   ]
  },
  {
   "cell_type": "code",
   "execution_count": null,
   "metadata": {
    "colab": {},
    "colab_type": "code",
    "id": "gvofJKi-MEzZ"
   },
   "outputs": [],
   "source": [
    "'''\n",
    "najb_opt = mreza_2.best_params_['optimizer']\n",
    "najb_inic = mreza_2.best_params_['kernel_initializer']\n",
    "najb_vel = mreza_2.best_params_['batch_size']\n",
    "najb_br_neur = mreza_2.best_params_['br_neur_1']\n",
    "\n",
    "print ('Najbolji parametri mreze su:')\n",
    "print ('Kernel initializer:', najb_inic)\n",
    "print ('Optimizer:', najb_opt)\n",
    "print ('Batch size:', najb_vel)\n",
    "print ('Broj neurona:', najb_br_neur)\n",
    "'''\n",
    "\n",
    "najb_opt = najb_parametri['opt']\n",
    "najb_inic = najb_parametri['kern_ini']\n",
    "najb_vel = najb_parametri['batch_size']\n",
    "najb_br_neur = najb_parametri['br_n_1']\n"
   ]
  },
  {
   "cell_type": "code",
   "execution_count": null,
   "metadata": {
    "colab": {
     "base_uri": "https://localhost:8080/",
     "height": 357
    },
    "colab_type": "code",
    "executionInfo": {
     "elapsed": 32,
     "status": "ok",
     "timestamp": 1572726400705,
     "user": {
      "displayName": "Aleksandar Anžel",
      "photoUrl": "https://lh3.googleusercontent.com/a-/AAuE7mAv_eRLNMWBvr43YXv7UrZwTFOu9RxxodF6fBNOjQ=s64",
      "userId": "09456993545544319729"
     },
     "user_tz": -60
    },
    "id": "Vuc--842ME5g",
    "outputId": "8d019512-5db6-4fce-b7da-5af5ea99defa"
   },
   "outputs": [],
   "source": [
    "# Kreiranje finalne mreze, evaluacija i iscrtavanje\n",
    "mreza_nad_adasyn = napravi_mrezu_1 (optimizer = najb_opt, kernel_initializer = najb_inic, br_neur_1 = najb_br_neur)\n",
    "mreza_nad_adasyn.summary()\n"
   ]
  },
  {
   "cell_type": "code",
   "execution_count": null,
   "metadata": {
    "colab": {
     "base_uri": "https://localhost:8080/",
     "height": 1000
    },
    "colab_type": "code",
    "executionInfo": {
     "elapsed": 84919,
     "status": "ok",
     "timestamp": 1572726485610,
     "user": {
      "displayName": "Aleksandar Anžel",
      "photoUrl": "https://lh3.googleusercontent.com/a-/AAuE7mAv_eRLNMWBvr43YXv7UrZwTFOu9RxxodF6fBNOjQ=s64",
      "userId": "09456993545544319729"
     },
     "user_tz": -60
    },
    "id": "CK8nvumCME-5",
    "outputId": "80a2a19f-79dc-4d01-86e2-aa8022e60611"
   },
   "outputs": [],
   "source": [
    "istorija = mreza_nad_adasyn.fit (x_trening_nad_adasyn, y_trening_nad_adasyn, batch_size = najb_vel, epochs = epohe, callbacks = kolbekovi, validation_data = (x_valid, y_valid), verbose = 1)\n"
   ]
  },
  {
   "cell_type": "code",
   "execution_count": null,
   "metadata": {
    "colab": {
     "base_uri": "https://localhost:8080/",
     "height": 187
    },
    "colab_type": "code",
    "executionInfo": {
     "elapsed": 659,
     "status": "ok",
     "timestamp": 1572726486253,
     "user": {
      "displayName": "Aleksandar Anžel",
      "photoUrl": "https://lh3.googleusercontent.com/a-/AAuE7mAv_eRLNMWBvr43YXv7UrZwTFOu9RxxodF6fBNOjQ=s64",
      "userId": "09456993545544319729"
     },
     "user_tz": -60
    },
    "id": "XxQpo7cWMFEB",
    "outputId": "ff3c78a6-87c6-4fd5-d447-0973f5fff989"
   },
   "outputs": [],
   "source": [
    "y_procena = mreza_nad_adasyn.predict(x_test)\n",
    "y_procena_zaok = np.rint (y_procena)\n",
    "\n",
    "print ('Izvestaj klasifikacije ADASYN nadsemplirane potpuno povezane mreze sa jednim skrivenim slojem:\\n', met.classification_report (y_test, y_procena_zaok))"
   ]
  },
  {
   "cell_type": "code",
   "execution_count": null,
   "metadata": {
    "colab": {
     "base_uri": "https://localhost:8080/",
     "height": 687
    },
    "colab_type": "code",
    "executionInfo": {
     "elapsed": 1131,
     "status": "ok",
     "timestamp": 1572726487378,
     "user": {
      "displayName": "Aleksandar Anžel",
      "photoUrl": "https://lh3.googleusercontent.com/a-/AAuE7mAv_eRLNMWBvr43YXv7UrZwTFOu9RxxodF6fBNOjQ=s64",
      "userId": "09456993545544319729"
     },
     "user_tz": -60
    },
    "id": "VxADCz1UNMFi",
    "outputId": "e9cf594c-90fd-4be6-9f6f-4f777ca6a6f6"
   },
   "outputs": [],
   "source": [
    "ime = 'Mreza ADASYN nadsempliranje sa jednim skrivenim slojem - ' + str (najb_inic + ', ' + najb_opt + ', ' + str(najb_vel) + ', ' + str(najb_br_neur))\n",
    "nacrtaj_matricu_konfuzije (y_test, y_procena_zaok.flatten(), ime)\n",
    "plt.show()\n"
   ]
  },
  {
   "cell_type": "code",
   "execution_count": null,
   "metadata": {
    "colab": {
     "base_uri": "https://localhost:8080/",
     "height": 677
    },
    "colab_type": "code",
    "executionInfo": {
     "elapsed": 901,
     "status": "ok",
     "timestamp": 1572726488272,
     "user": {
      "displayName": "Aleksandar Anžel",
      "photoUrl": "https://lh3.googleusercontent.com/a-/AAuE7mAv_eRLNMWBvr43YXv7UrZwTFOu9RxxodF6fBNOjQ=s64",
      "userId": "09456993545544319729"
     },
     "user_tz": -60
    },
    "id": "XqfRHkDVNMM6",
    "outputId": "61f84795-9f5f-4f4d-a18a-21f341dbf5e9"
   },
   "outputs": [],
   "source": [
    "nacrtaj_ucenje (istorija, ime)\n"
   ]
  },
  {
   "cell_type": "markdown",
   "metadata": {
    "colab_type": "text",
    "id": "55se6Pc3wuIv"
   },
   "source": [
    "### 3.4.2  NN with 2 hidden layers\n"
   ]
  },
  {
   "cell_type": "code",
   "execution_count": null,
   "metadata": {
    "colab": {
     "base_uri": "https://localhost:8080/",
     "height": 802
    },
    "colab_type": "code",
    "executionInfo": {
     "elapsed": 7172968,
     "status": "ok",
     "timestamp": 1572781291910,
     "user": {
      "displayName": "Aleksandar Anžel",
      "photoUrl": "https://lh3.googleusercontent.com/a-/AAuE7mAv_eRLNMWBvr43YXv7UrZwTFOu9RxxodF6fBNOjQ=s64",
      "userId": "09456993545544319729"
     },
     "user_tz": -60
    },
    "id": "BhfDD_DIzvg1",
    "outputId": "2f962779-91c2-4e9c-fddf-a12b6d1bab00"
   },
   "outputs": [],
   "source": [
    "# Mreza sa dva skrivena sloja\n",
    "# Vreme izvrsavanja ~ 3h, 2h\n",
    "'''\n",
    "mreza_1 = KerasClassifier (build_fn = napravi_mrezu_2, verbose=0)\n",
    "\n",
    "parametri = dict (br_neur_1 = br_neurona_1, br_neur_2 = br_neurona_2, optimizer = optimizatori, kernel_initializer = inicijalizatori, batch_size = vel_grupa)\n",
    "\n",
    "mreza_2 = ms.GridSearchCV (estimator = mreza_1, param_grid = parametri, scoring = 'f1', n_jobs = 1, cv = 2, verbose = 1)\n",
    "mreza_2.fit (x_trening_nad_adasyn, y_trening_nad_adasyn, validation_data = (x_valid, y_valid), epochs = epohe, callbacks = kolbekovi)\n",
    "'''\n",
    "\n",
    "najb_parametri =  nadji_najbolje_parametre (x_trening_nad_adasyn, y_trening_nad_adasyn, x_valid, y_valid, x_test, y_test, 2)\n"
   ]
  },
  {
   "cell_type": "code",
   "execution_count": null,
   "metadata": {
    "colab": {},
    "colab_type": "code",
    "id": "KGpuiCsbzvrz"
   },
   "outputs": [],
   "source": [
    "'''\n",
    "najb_opt = mreza_2.best_params_['optimizer']\n",
    "najb_inic = mreza_2.best_params_['kernel_initializer']\n",
    "najb_vel = mreza_2.best_params_['batch_size']\n",
    "najb_br_neur_1 = mreza_2.best_params_['br_neur_1']\n",
    "najb_br_neur_2 = mreza_2.best_params_['br_neur_2']\n",
    "\n",
    "print ('Najbolji parametri mreze su:')\n",
    "print ('Kernel initializer:', najb_inic)\n",
    "print ('Optimizer:', najb_opt)\n",
    "print ('Batch size:', najb_vel)\n",
    "print ('Broj neurona prvog sloja:', najb_br_neur_1)\n",
    "print ('Broj neurona drugog sloja:', najb_br_neur_2)\n",
    "'''\n",
    "\n",
    "najb_opt = najb_parametri['opt']\n",
    "najb_inic = najb_parametri['kern_ini']\n",
    "najb_vel = najb_parametri['batch_size']\n",
    "najb_br_neur_1 = najb_parametri['br_n_1']\n",
    "najb_br_neur_2 = najb_parametri['br_n_2']\n"
   ]
  },
  {
   "cell_type": "code",
   "execution_count": null,
   "metadata": {
    "colab": {
     "base_uri": "https://localhost:8080/",
     "height": 459
    },
    "colab_type": "code",
    "executionInfo": {
     "elapsed": 7173242,
     "status": "ok",
     "timestamp": 1572781292197,
     "user": {
      "displayName": "Aleksandar Anžel",
      "photoUrl": "https://lh3.googleusercontent.com/a-/AAuE7mAv_eRLNMWBvr43YXv7UrZwTFOu9RxxodF6fBNOjQ=s64",
      "userId": "09456993545544319729"
     },
     "user_tz": -60
    },
    "id": "B_kbEHjNzv1J",
    "outputId": "a1d6c67a-9cd3-4971-c315-d7ff87318d2e"
   },
   "outputs": [],
   "source": [
    "# Kreiranje finalne mreze, evaluacija i iscrtavanje\n",
    "mreza_nad_adasyn = napravi_mrezu_2 (optimizer = najb_opt, kernel_initializer = najb_inic, br_neur_1 = najb_br_neur_1, br_neur_2 = najb_br_neur_2)\n",
    "mreza_nad_adasyn.summary()\n"
   ]
  },
  {
   "cell_type": "code",
   "execution_count": null,
   "metadata": {
    "colab": {
     "base_uri": "https://localhost:8080/",
     "height": 666
    },
    "colab_type": "code",
    "executionInfo": {
     "elapsed": 7239485,
     "status": "ok",
     "timestamp": 1572781358447,
     "user": {
      "displayName": "Aleksandar Anžel",
      "photoUrl": "https://lh3.googleusercontent.com/a-/AAuE7mAv_eRLNMWBvr43YXv7UrZwTFOu9RxxodF6fBNOjQ=s64",
      "userId": "09456993545544319729"
     },
     "user_tz": -60
    },
    "id": "Y6wqmYr3zv_5",
    "outputId": "695f4587-9157-49f3-98b2-dcb219df8612"
   },
   "outputs": [],
   "source": [
    "istorija = mreza_nad_adasyn.fit (x_trening_nad_adasyn, y_trening_nad_adasyn, batch_size = najb_vel, epochs = epohe, callbacks = kolbekovi, validation_data = (x_valid, y_valid), verbose = 1)\n"
   ]
  },
  {
   "cell_type": "code",
   "execution_count": null,
   "metadata": {
    "colab": {
     "base_uri": "https://localhost:8080/",
     "height": 207
    },
    "colab_type": "code",
    "executionInfo": {
     "elapsed": 7239489,
     "status": "ok",
     "timestamp": 1572781358455,
     "user": {
      "displayName": "Aleksandar Anžel",
      "photoUrl": "https://lh3.googleusercontent.com/a-/AAuE7mAv_eRLNMWBvr43YXv7UrZwTFOu9RxxodF6fBNOjQ=s64",
      "userId": "09456993545544319729"
     },
     "user_tz": -60
    },
    "id": "vMlZdBsTzwIx",
    "outputId": "c7d0fbc9-1db1-4845-ec38-6788954f96b8"
   },
   "outputs": [],
   "source": [
    "y_procena = mreza_nad_adasyn.predict(x_test)\n",
    "y_procena_zaok = np.rint (y_procena)\n",
    "\n",
    "print ('Izvestaj klasifikacije ADASYN nadsemplirane potpuno povezane mreze sa dva skrivena sloja:\\n', met.classification_report (y_test, y_procena_zaok))"
   ]
  },
  {
   "cell_type": "code",
   "execution_count": null,
   "metadata": {
    "colab": {
     "base_uri": "https://localhost:8080/",
     "height": 707
    },
    "colab_type": "code",
    "executionInfo": {
     "elapsed": 7240629,
     "status": "ok",
     "timestamp": 1572781359600,
     "user": {
      "displayName": "Aleksandar Anžel",
      "photoUrl": "https://lh3.googleusercontent.com/a-/AAuE7mAv_eRLNMWBvr43YXv7UrZwTFOu9RxxodF6fBNOjQ=s64",
      "userId": "09456993545544319729"
     },
     "user_tz": -60
    },
    "id": "iHb01OT8zwRI",
    "outputId": "713adc1f-32bd-46fb-9210-0eb8ebf316d4"
   },
   "outputs": [],
   "source": [
    "ime = 'Mreza ADASYN nadsempliranje sa dva skrivena sloja - ' + str (najb_inic + ', ' + najb_opt + ', ' + str(najb_vel) + ', ' + str(najb_br_neur_1) + ', ' + str(najb_br_neur_2))\n",
    "nacrtaj_matricu_konfuzije (y_test, y_procena_zaok.flatten(), ime)\n",
    "plt.show()\n"
   ]
  },
  {
   "cell_type": "code",
   "execution_count": null,
   "metadata": {
    "colab": {
     "base_uri": "https://localhost:8080/",
     "height": 697
    },
    "colab_type": "code",
    "executionInfo": {
     "elapsed": 7241406,
     "status": "ok",
     "timestamp": 1572781360382,
     "user": {
      "displayName": "Aleksandar Anžel",
      "photoUrl": "https://lh3.googleusercontent.com/a-/AAuE7mAv_eRLNMWBvr43YXv7UrZwTFOu9RxxodF6fBNOjQ=s64",
      "userId": "09456993545544319729"
     },
     "user_tz": -60
    },
    "id": "xdvWXzSQzwZ0",
    "outputId": "7016e36e-3387-4ed7-e5f1-0b373bb84850"
   },
   "outputs": [],
   "source": [
    "nacrtaj_ucenje (istorija, ime)\n"
   ]
  },
  {
   "cell_type": "code",
   "execution_count": null,
   "metadata": {
    "colab": {
     "base_uri": "https://localhost:8080/",
     "height": 54
    },
    "colab_type": "code",
    "executionInfo": {
     "elapsed": 7241404,
     "status": "ok",
     "timestamp": 1572781360385,
     "user": {
      "displayName": "Aleksandar Anžel",
      "photoUrl": "https://lh3.googleusercontent.com/a-/AAuE7mAv_eRLNMWBvr43YXv7UrZwTFOu9RxxodF6fBNOjQ=s64",
      "userId": "09456993545544319729"
     },
     "user_tz": -60
    },
    "id": "03c_2LzpzwkP",
    "outputId": "0d124b7f-cc85-4627-b311-c35e9c66b300"
   },
   "outputs": [],
   "source": [
    "# Mreza sa tri skrivena sloja\n",
    "# Vreme izvrsavanja ~  min.\n",
    "'''\n",
    "mreza_1 = KerasClassifier (build_fn = napravi_mrezu_3, verbose=0)\n",
    "\n",
    "parametri = dict (br_neur_1 = br_neurona_1, br_neur_2 = br_neurona_2, br_neur_3 = br_neurona_3, optimizer = optimizatori, kernel_initializer = inicijalizatori, batch_size = vel_grupa)\n",
    "\n",
    "mreza_2 = ms.GridSearchCV (estimator = mreza_1, param_grid = parametri, scoring = 'f1', n_jobs = 1, cv = 2, verbose = 1)\n",
    "mreza_2.fit (x_trening_nad_adasyn, y_trening_nad_adasyn, validation_data = (x_valid, y_valid), epochs = epohe, callbacks = kolbekovi)\n",
    "'''\n",
    "\n",
    "#najb_parametri =  nadji_najbolje_parametre (x_trening_nad_adasyn, y_trening_nad_adasyn, x_valid, y_valid, x_test, y_test, 3)\n"
   ]
  },
  {
   "cell_type": "code",
   "execution_count": null,
   "metadata": {
    "colab": {
     "base_uri": "https://localhost:8080/",
     "height": 54
    },
    "colab_type": "code",
    "executionInfo": {
     "elapsed": 7241399,
     "status": "ok",
     "timestamp": 1572781360387,
     "user": {
      "displayName": "Aleksandar Anžel",
      "photoUrl": "https://lh3.googleusercontent.com/a-/AAuE7mAv_eRLNMWBvr43YXv7UrZwTFOu9RxxodF6fBNOjQ=s64",
      "userId": "09456993545544319729"
     },
     "user_tz": -60
    },
    "id": "S4RDh4Nrzwtg",
    "outputId": "3dbe028d-e7ea-4517-bc30-57cdeb902238"
   },
   "outputs": [],
   "source": [
    "'''\n",
    "najb_opt = mreza_2.best_params_['optimizer']\n",
    "najb_inic = mreza_2.best_params_['kernel_initializer']\n",
    "najb_vel = mreza_2.best_params_['batch_size']\n",
    "najb_br_neur_1 = mreza_2.best_params_['br_neur_1']\n",
    "najb_br_neur_2 = mreza_2.best_params_['br_neur_2']\n",
    "najb_br_neur_3 = mreza_2.best_params_['br_neur_3']\n",
    "\n",
    "print ('Najbolji parametri mreze su:')\n",
    "print ('Kernel initializer:', najb_inic)\n",
    "print ('Optimizer:', najb_opt)\n",
    "print ('Batch size:', najb_vel)\n",
    "print ('Broj neurona prvog sloja:', najb_br_neur_1)\n",
    "print ('Broj neurona drugog sloja:', najb_br_neur_2)\n",
    "print ('Broj neurona treceg sloja:', najb_br_neur_3)\n",
    "\n",
    "\n",
    "najb_opt = najb_parametri['opt']\n",
    "najb_inic = najb_parametri['kern_ini']\n",
    "najb_vel = najb_parametri['batch_size']\n",
    "najb_br_neur_1 = najb_parametri['br_n_1']\n",
    "najb_br_neur_2 = najb_parametri['br_n_2']\n",
    "najb_br_neur_3 = najb_parametri['br_n_3']\n",
    "'''"
   ]
  },
  {
   "cell_type": "code",
   "execution_count": null,
   "metadata": {
    "colab": {},
    "colab_type": "code",
    "id": "p_Wm1JKFzw4h"
   },
   "outputs": [],
   "source": [
    "# Kreiranje finalne mreze, evaluacija i iscrtavanje\n",
    "#mreza_nad_adasyn = napravi_mrezu_3 (optimizer = najb_opt, kernel_initializer = najb_inic, br_neur_1 = najb_br_neur_1, br_neur_2 = najb_br_neur_2, br_neur_3 = najb_br_neur_3)\n",
    "#mreza_nad_adasyn.summary()\n"
   ]
  },
  {
   "cell_type": "code",
   "execution_count": null,
   "metadata": {
    "colab": {},
    "colab_type": "code",
    "id": "u-Rrio53zxA_"
   },
   "outputs": [],
   "source": [
    "#istorija = mreza_nad_adasyn.fit (x_trening_nad_adasyn, y_trening_nad_adasyn, batch_size = najb_vel, epochs = epohe, callbacks = kolbekovi, validation_data = (x_valid, y_valid), verbose = 1)\n"
   ]
  },
  {
   "cell_type": "code",
   "execution_count": null,
   "metadata": {
    "colab": {
     "base_uri": "https://localhost:8080/",
     "height": 54
    },
    "colab_type": "code",
    "executionInfo": {
     "elapsed": 7241388,
     "status": "ok",
     "timestamp": 1572781360393,
     "user": {
      "displayName": "Aleksandar Anžel",
      "photoUrl": "https://lh3.googleusercontent.com/a-/AAuE7mAv_eRLNMWBvr43YXv7UrZwTFOu9RxxodF6fBNOjQ=s64",
      "userId": "09456993545544319729"
     },
     "user_tz": -60
    },
    "id": "V_Sr13abzxKl",
    "outputId": "d1505b02-6644-437b-c3e6-9cfb2f945907"
   },
   "outputs": [],
   "source": [
    "'''\n",
    "y_procena = mreza_nad_adasyn.predict(x_test)\n",
    "y_procena_zaok = np.rint (y_procena)\n",
    "\n",
    "print ('Izvestaj klasifikacije ADASYN nadsemplirane potpuno povezane mreze sa tri skrivena sloja:\\n', met.classification_report (y_test, y_procena_zaok))\n",
    "'''"
   ]
  },
  {
   "cell_type": "code",
   "execution_count": null,
   "metadata": {
    "colab": {
     "base_uri": "https://localhost:8080/",
     "height": 54
    },
    "colab_type": "code",
    "executionInfo": {
     "elapsed": 7241381,
     "status": "ok",
     "timestamp": 1572781360395,
     "user": {
      "displayName": "Aleksandar Anžel",
      "photoUrl": "https://lh3.googleusercontent.com/a-/AAuE7mAv_eRLNMWBvr43YXv7UrZwTFOu9RxxodF6fBNOjQ=s64",
      "userId": "09456993545544319729"
     },
     "user_tz": -60
    },
    "id": "FxNjxHlM0rwO",
    "outputId": "446a7f86-40bf-42b7-fe4a-ffb8288d38a7"
   },
   "outputs": [],
   "source": [
    "'''\n",
    "ime = 'Mreza ADASYN nadsempliranje sa tri skrivena sloja - ' + str (najb_inic + ', ' + najb_opt + ', ' + str(najb_vel) + ', ' + str(najb_br_neur_1) + ', ' + str(najb_br_neur_2) + ', ' + str(najb_br_neur_3))\n",
    "nacrtaj_matricu_konfuzije (y_test, y_procena_zaok.flatten(), ime)\n",
    "plt.show()\n",
    "'''"
   ]
  },
  {
   "cell_type": "code",
   "execution_count": null,
   "metadata": {
    "colab": {},
    "colab_type": "code",
    "id": "BU_Irc4B0r7c"
   },
   "outputs": [],
   "source": [
    "#nacrtaj_ucenje (istorija, ime)\n"
   ]
  }
 ],
 "metadata": {
  "accelerator": "GPU",
  "colab": {
   "collapsed_sections": [],
   "name": "Main_2.ipynb",
   "provenance": []
  },
  "kernelspec": {
   "display_name": "Python 3",
   "language": "python",
   "name": "python3"
  },
  "language_info": {
   "codemirror_mode": {
    "name": "ipython",
    "version": 3
   },
   "file_extension": ".py",
   "mimetype": "text/x-python",
   "name": "python",
   "nbconvert_exporter": "python",
   "pygments_lexer": "ipython3",
   "version": "3.7.7"
  }
 },
 "nbformat": 4,
 "nbformat_minor": 4
}
