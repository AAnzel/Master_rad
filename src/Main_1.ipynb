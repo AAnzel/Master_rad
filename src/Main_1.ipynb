{
 "cells": [
  {
   "cell_type": "code",
   "execution_count": 1,
   "metadata": {
    "colab": {},
    "colab_type": "code",
    "id": "gQSScRPd6_QW"
   },
   "outputs": [],
   "source": [
    "# Potrebno za Google Colab\n",
    "\n",
    "#! unzip UniProt\\ cist.zip\n",
    "#! mkdir ../data\n",
    "#! mv UniProt\\ cist ../data/\n",
    "#! pip install biopython\n",
    "#! mkdir ../data/Rezultati_Uniprot_cist\n"
   ]
  },
  {
   "cell_type": "code",
   "execution_count": 2,
   "metadata": {
    "colab": {},
    "colab_type": "code",
    "id": "E01YbeZI6uDC"
   },
   "outputs": [
    {
     "name": "stderr",
     "output_type": "stream",
     "text": [
      "Using TensorFlow backend.\n"
     ]
    }
   ],
   "source": [
    "import os\n",
    "import sys\n",
    "import re\n",
    "import numpy as np\n",
    "import pandas as pd\n",
    "from matplotlib import pyplot as plt\n",
    "import seaborn as sn\n",
    "from sklearn import preprocessing as prep\n",
    "from sklearn import model_selection as ms\n",
    "from sklearn import linear_model as lm\n",
    "from sklearn import metrics as met\n",
    "from sklearn import svm\n",
    "from sklearn import utils\n",
    "from imblearn.over_sampling import SMOTE, ADASYN\n",
    "from imblearn.under_sampling import RandomUnderSampler\n",
    "from Bio import SeqIO\n",
    "from Bio.SeqUtils.ProtParam import ProteinAnalysis\n",
    "\n",
    "%matplotlib inline\n",
    "#plt.style.use ('dark_background')\n",
    "#utils.parallel_backend ('multiprocessing')\n",
    "#utils.parallel_backend ('loky')\n"
   ]
  },
  {
   "cell_type": "markdown",
   "metadata": {
    "colab_type": "text",
    "id": "UlWo6x7T6uDJ"
   },
   "source": [
    "#### Kratak uvod vezan za koriscene podatke\n",
    "* Podaci korisceni u ovom radu su preuzeti sa zvanicnog sajta UniProt baze podataka\n",
    "* Svi podaci zapravo predstavljaju FASTA sekvence svih dostupnih proteina za organizam Arabidopsis Thaliana\n",
    "* Prvo su skinuti proteini za koje je poznato mesto glikozilacije i kojih je 1863, a zatim i ostali proteini tog organizma tj. oni za koje se smatra da nemaju mesto za potencijalnu glikozilaciju\n",
    "* To je ucinjeno pomocu upita koji izdvaja proteine sa poznatim mestom glikozilacije i koji je kreiran pomocu 'Advanced' polja, desno od polja za pretragu te je link sa rezultatima upita\n",
    "\n",
    "<https://www.uniprot.org/uniprot/?query=annotation:(type:carbohyd \"n linked\")&fil=reviewed%3Ayes+AND+organism%3A\"Arabidopsis+thaliana+(Mouse-ear+cress)+[3702]\"&sort=score>\n",
    "* Samim tim skup proteina za koje se smatra da nemaju mesto glikozilacije predstavlja citav skup proteina ovog organizma bez gore navedenog skupa i on sadrzi 13974 proteina."
   ]
  },
  {
   "cell_type": "code",
   "execution_count": 3,
   "metadata": {
    "colab": {},
    "colab_type": "code",
    "id": "JD51hGsb6uDK"
   },
   "outputs": [],
   "source": [
    "#######################################################################################################################\n",
    "# Ova celija je namenjena za koriscenje samo onda kada je potrebno masinskim ucenjem naci poziciju unutar proteina\n",
    "# gde ce se potencijalno desiti glikozilacija, ili vratiti da takva pozicija ne postoji\n",
    "# Samim tim, ova celija za sad NIJE POTREBNA, jer mi je za sada cilj samo napraviti model koji ce odredjivati\n",
    "# da ce se mozda desiti glikozilacija na proteinu ili ne, tj. resavam klasifikacioni problem.\n",
    "# Prethodni problem sa nalazenjem pozicije predstavlja regresioni problem\n",
    "#######################################################################################################################\n",
    "\n",
    "# Prolazak kroz pozitivne proteine i izvlacenje pozicija glikozilacije iz trece kolone,\n",
    "# a zatim cuvanje tako kreiranog fajla sa izmenjenom trecom kolonom\n",
    "# Treca kolona ce biti u obliku: pozicija[, pozicija]*\n",
    "def sredi_pozicije_glikozilacije():\n",
    "    \n",
    "    df_poz = pd.read_csv (os.path.join ('..', 'data', 'UniProt cist', 'Pozitivni', 'EXCEL.csv'), sep = '\\t')\n",
    "    kolone = df_poz.columns.values\n",
    "    \n",
    "    # Lista koja sadrzi niz pozicija za svaki protein u obliku pozicija[, pozicija]*\n",
    "    lista_pozicija = []\n",
    "\n",
    "    for niska in niz_niski:\n",
    "        # U svakoj niski odvajam delove koji sadrze razlicite pozicije (jedan protein moze da ima vise pozicija na kojima se vrsi glikozilacija)\n",
    "        niske = niska.split (';')\n",
    "\n",
    "        # Lista koja sadrzi niz pozicija za jedan protein\n",
    "        tmp_lista = []\n",
    "\n",
    "        # Prolazim kroz tako dobijenu listu niski, izvlacim pozicije i kreiram listu pozicija za sve proteine\n",
    "        for niska_poz in niske:\n",
    "\n",
    "            # Potrebno ovako jer postoji i unos (moza i vise njih) koji u sebi sadrzi ';' te se pojavljuje string koji predstavlja deo unosa koji ne sadrzi nikakav broj te se javlja greska\n",
    "            tmp_lista.append ([int (c) for c in niska_poz.split() if c.isdigit()][0] if len ([int (c) for c in niska_poz.split() if c.isdigit()]) > 0 else '')\n",
    "\n",
    "        lista_pozicija.append (', '.join (str(d) for d in tmp_lista))\n",
    "    \n",
    "    # Kreiranje Series objekta koji ce da predstavlja novu trecu kolonu\n",
    "    nova_kolona = pd.Series (lista_pozicija, name = 'Glycosylation positions')\n",
    "    \n",
    "    # Ostaje jos da se nova kolona sjedini sa prethodnim podacima iz prve dve kolone\n",
    "    # Pravimo novi DataFrame koji kasnije cuvamo kao novi .csv fajl\n",
    "\n",
    "    df_novi_poz = pd.DataFrame(pd.concat ([df_poz['Entry'], df_poz['Entry name'], nova_kolona], axis = 1), columns = [kolone[0], kolone[1], 'Glycosylation positions'])\n",
    "    df_novi_poz.to_csv (os.path.join ('..', 'data', 'UniProt cist', 'Pozitivni', 'POZ_EXCEL_izmenjen.csv'), sep = '\\t')\n"
   ]
  },
  {
   "cell_type": "markdown",
   "metadata": {
    "colab_type": "text",
    "id": "19toTz5d6uDN"
   },
   "source": [
    "# 1. Priprema podataka\n",
    "## 1.1 Eliminisanje proteina koji imaju nepoznatu (neodredjenu) amino-kiselinu unutar svoje FASTA sekvence"
   ]
  },
  {
   "cell_type": "code",
   "execution_count": 4,
   "metadata": {
    "colab": {},
    "colab_type": "code",
    "id": "xqwXQqAS6uDO"
   },
   "outputs": [],
   "source": [
    "# Neke FASTA sekence mogu sadrzati nepoznate amino-kiseline ili mesto gde moze doci bilo koja amino-kiselina (u oba slucaja se obelezava sa 'X')\n",
    "# Potrebno je dakle eleminisati takve sekvence, a samim tim i takve proteine iz baze podataka\n",
    "# Specijalno, u mom slucaju se to desilo kod skupa 'negativnih' proteina, ali pravim genericku funkciju koja to moze da obradi\n",
    "\n",
    "# Prvo se prolazi jednom kroz FASTA fajl i pamte redni brojevi proteina koji sadrze nepoznate amino-kiselina\n",
    "# Zatim se na osnovu tako dobijene liste rednih brojeva, uklanjaju proteini iz .csv i .fasta fajla i kreiraju novi fajlovi bez njih\n",
    "def eliminisi_nepoznate (putanja, klasa):\n",
    "    \n",
    "    # Prvo ucitavamo FASTA fajl\n",
    "    ostatak_ulaza_fasta = 'POZ_FASTA.fasta' if klasa == 1 else 'NEG_FASTA.fasta'\n",
    "    fasta_niske = SeqIO.parse (os.path.join (putanja, ostatak_ulaza_fasta), 'fasta')\n",
    "    \n",
    "    i = 0\n",
    "    lista_rednih_br = []\n",
    "    \n",
    "    for fasta_niska in fasta_niske:\n",
    "        sekvenca = str(fasta_niska.seq)\n",
    "        \n",
    "        if 'X' in sekvenca:\n",
    "            lista_rednih_br.append(i)\n",
    "        \n",
    "        i += 1\n",
    "    \n",
    "    # Ispisivanje liste za potrebe debagovanja\n",
    "    print (lista_rednih_br)\n",
    "    \n",
    "    # Cuvanje fajlova sa novim imenom oblika: OB_staroime, gde je OB od obradjeno\n",
    "    \n",
    "    ostatak_izlaza_fasta = 'OB_POZ_FASTA.fasta' if klasa == 1 else 'OB_NEG_FASTA.fasta'\n",
    "    \n",
    "    with open(os.path.join (putanja, ostatak_izlaza_fasta), 'w') as fajl_izlaz:\n",
    "        with open(os.path.join (putanja, ostatak_ulaza_fasta), 'r') as fajl_ulaz:\n",
    "                \n",
    "                j = 0\n",
    "                for fasta_niska in SeqIO.parse(fajl_ulaz, \"fasta\"):\n",
    "                    # Ako smo dosli do sekvence koja sadrzi nepoznatu amino-kiselinu, onda je ne upisujemo u izlaz\n",
    "                    if j in lista_rednih_br:\n",
    "                        j += 1\n",
    "                        continue\n",
    "                        \n",
    "                    else:\n",
    "                        j += 1\n",
    "                        r = SeqIO.write(fasta_niska, fajl_izlaz, 'fasta')\n",
    "                        \n",
    "                        if r != 1:\n",
    "                            print('Greska pri upisivanju sekvence ' + fasta_niska.id + ' na poziciji ' + j)\n",
    "    \n",
    "    \n",
    "    # Isto ovo je potrebno i za .csv datoteke\n",
    "    ostatak_ulaza_csv = 'POZ_EXCEL.csv' if klasa == 1 else 'NEG_EXCEL.csv'\n",
    "    df_obradjen = pd.read_csv (os.path.join (putanja, ostatak_ulaza_csv), sep = '\\t')\n",
    "    \n",
    "    # Izbacivanje redova tj. proteina koji sadrze nepoznate amino-kiseline\n",
    "    df_obradjen = df_obradjen.drop (lista_rednih_br)\n",
    "    df_obradjen = df_obradjen.reset_index (drop = True)\n",
    "    \n",
    "    # Cuvanje obradjenog DataFrame-a\n",
    "    ostatak_izlaza_csv = 'OB_POZ_EXCEL.csv' if klasa == 1 else 'OB_NEG_EXCEL.csv'\n",
    "    df_obradjen.to_csv(os.path.join (putanja, ostatak_izlaza_csv), sep = '\\t')\n"
   ]
  },
  {
   "cell_type": "code",
   "execution_count": 5,
   "metadata": {
    "colab": {
     "base_uri": "https://localhost:8080/",
     "height": 51
    },
    "colab_type": "code",
    "executionInfo": {
     "elapsed": 3157,
     "status": "ok",
     "timestamp": 1572513878001,
     "user": {
      "displayName": "Aleksandar Anžel",
      "photoUrl": "https://lh3.googleusercontent.com/a-/AAuE7mAv_eRLNMWBvr43YXv7UrZwTFOu9RxxodF6fBNOjQ=s64",
      "userId": "09456993545544319729"
     },
     "user_tz": -60
    },
    "id": "XlGHITJI6uDS",
    "outputId": "72376763-3522-4e84-9973-d343e1e4161d"
   },
   "outputs": [
    {
     "name": "stdout",
     "output_type": "stream",
     "text": [
      "[]\n",
      "[8277, 8625]\n"
     ]
    }
   ],
   "source": [
    "# Obrada polaznih podataka koriscenjem prethodne funkcije\n",
    "\n",
    "poz_putanja = os.path.join ('..', 'data', 'UniProt cist', 'Pozitivni')\n",
    "neg_putanja = os.path.join ('..', 'data', 'UniProt cist', 'Negativni')\n",
    "\n",
    "eliminisi_nepoznate (poz_putanja, 1)\n",
    "eliminisi_nepoznate (neg_putanja, 0)\n"
   ]
  },
  {
   "cell_type": "markdown",
   "metadata": {
    "colab_type": "text",
    "id": "Xjz-I01U6uDV"
   },
   "source": [
    "## 1.2 Dobijanje fizicko-hemijskih karakteristika svakog od proteina\n",
    "Koriscenje BioPython biblioteke za dobijanje prvih sest osobina, dok se za ostale osobine koriste uputstva sa sajta: https://github.com/SBRG/Protein_ML"
   ]
  },
  {
   "cell_type": "code",
   "execution_count": 6,
   "metadata": {
    "colab": {},
    "colab_type": "code",
    "id": "Bsxi_Skz6uDW"
   },
   "outputs": [],
   "source": [
    "# Obrada FASTA fajlova, tj. citavih sekvenci proteina zarad dobijanja fizicko-hemijskih karakteristika svakog od njih pomocu BioPython biblioteke\n",
    "# Za pocetak, na osnovu ovih karakteristika cu probati da saznam da li ce protein biti glikozilizovan\n",
    "# ili ne. Dalji rad bi mogao da bude nalazenje pozicija (prozora) na kojima se desava glikozilacija\n",
    "\n",
    "# Kreiramo liste vrednosti za svaku od osobina koje mozemo da sracunamo. Nakon sracunavanja, kreiramo\n",
    "# Series objekte koje zatim nadovezujemo i pravimo novi DataFrame objekat za cuvanje\n",
    "# Nije najefikasniji nacin dobijanja rezultata (u Python smislu), ali je najpregledniji\n",
    "\n",
    "\n",
    "def napravi_osobine (putanja, indeksi, klasa):\n",
    "    \n",
    "    niz_osobina_0 = []  # Molekularna tezina\n",
    "    niz_osobina_1 = []  # Gravy\n",
    "    niz_osobina_2 = []  # Aromaticnost\n",
    "    niz_osobina_3 = []  # Indeks nestabilnosti\n",
    "    niz_osobina_4 = []  # Udeo amino-kiselina\n",
    "    niz_osobina_5 = []  # Isoelektricna tacka\n",
    "    niz_osobina_6 = []  # Udeo sekundarne strukture\n",
    "\n",
    "    niz_osobina_7 = []  # Naelektrisanje \n",
    "    niz_osobina_8 = []  # Apsolutno naelektrisanje\n",
    "    niz_osobina_9 = []  # Prosecno naelektrisanje\n",
    "    niz_osobina_10 = []  # Apsolutno prosecno naelektrisanje\n",
    "\n",
    "    niz_osobina_11 = []  # Udeo alifatickih amino-kiselina\n",
    "    niz_osobina_12 = []  # Udeo nenaelektrisanih polarnih amino-kiselina\n",
    "    niz_osobina_13 = []  # Udeo polarnih amino-kiselina\n",
    "    niz_osobina_14 = []  # Udeo hidrofobnih amino-kiselina\n",
    "    niz_osobina_15 = []  # Udeo pozitivnih amino-kiselina\n",
    "    niz_osobina_16 = []  # Udeo sumpurnih amino-kiselina\n",
    "    niz_osobina_17 = []  # Udeo negativnih amino-kiselina\n",
    "    niz_osobina_18 = []  # Udeo amidnih amino-kiselina\n",
    "    niz_osobina_19 = []  # Udeo alkoholnih amino-kiselina\n",
    "    \n",
    "    niz_osobina_20 = []  # Postojanje Asn–X–Ser/Thr (N-X-S/T) trojke AK, gde je X bilo koja AK sem prolina (Pro) - vrednosti 0 ili 1\n",
    "    niz_osobina_21 = []  # Tacan broj Asn–X–Ser/Thr (N-X-S/T) trojki AK, gde je X bilo koja AK sem prolina (Pro) - vrednosti 0, 1, 2, 3...\n",
    "    \n",
    "    reg_izraz = r'N[^P][ST][^P]'  # Kreiranje regularnog izraza koji definise N-vezanu glikozilaciju\n",
    "    \n",
    "    # Prvo ucitavamo FASTA fajl\n",
    "    ostatak_putanje = 'OB_POZ_FASTA.fasta' if klasa == 1 else 'OB_NEG_FASTA.fasta'\n",
    "    \n",
    "    with open(os.path.join (putanja, ostatak_putanje), 'r') as fajl_ulaz:\n",
    "        for fasta_niska in SeqIO.parse(fajl_ulaz, \"fasta\"):\n",
    "\n",
    "            sekvenca = str(fasta_niska.seq)\n",
    "            analiza_sekvence = ProteinAnalysis (sekvenca)\n",
    "\n",
    "            niz_osobina_0.append (analiza_sekvence.molecular_weight())\n",
    "            niz_osobina_1.append (analiza_sekvence.gravy())\n",
    "            niz_osobina_2.append (analiza_sekvence.aromaticity())\n",
    "            niz_osobina_3.append (analiza_sekvence.instability_index())\n",
    "            udeo_amino_kiselina = analiza_sekvence.get_amino_acids_percent()\n",
    "            niz_osobina_4.append (udeo_amino_kiselina)\n",
    "            niz_osobina_5.append (analiza_sekvence.isoelectric_point())\n",
    "            niz_osobina_6.append (analiza_sekvence.secondary_structure_fraction())\n",
    "\n",
    "            naelektrisanje = sekvenca.count ('K') + sekvenca.count ('R') - sekvenca.count ('D') - sekvenca.count ('E')\n",
    "            niz_osobina_7.append (naelektrisanje)\n",
    "            niz_osobina_8.append (abs (naelektrisanje))\n",
    "            niz_osobina_9.append (naelektrisanje / len (sekvenca))\n",
    "            niz_osobina_10.append (abs (naelektrisanje / len (sekvenca)))\n",
    "\n",
    "            niz_osobina_11.append (sum ([udeo_amino_kiselina[ak] for ak in 'AGILPV']))\n",
    "            niz_osobina_12.append (sum ([udeo_amino_kiselina[ak] for ak in 'STNQ']))\n",
    "            niz_osobina_13.append (sum ([udeo_amino_kiselina[ak] for ak in 'QNHSTYCMW']))\n",
    "            niz_osobina_14.append (sum ([udeo_amino_kiselina[ak] for ak in 'AGILPVF']))\n",
    "            niz_osobina_15.append (sum ([udeo_amino_kiselina[ak] for ak in 'HKR']))\n",
    "            niz_osobina_16.append (sum ([udeo_amino_kiselina[ak] for ak in 'CM']))\n",
    "            niz_osobina_17.append (sum ([udeo_amino_kiselina[ak] for ak in 'DE']))\n",
    "            niz_osobina_18.append (sum ([udeo_amino_kiselina[ak] for ak in 'NQ']))\n",
    "            niz_osobina_19.append (sum ([udeo_amino_kiselina[ak] for ak in 'ST']))\n",
    "            \n",
    "            # Trazimo motiv u oba slucaja, jer postojanje motiva ne znaci i da je protein pozitivan\n",
    "            # I negativni proteini mogu da imaju motiv, ali ne znaci da ce biti glikozilovani\n",
    "            \n",
    "            rez_lista = re.findall (reg_izraz, sekvenca)\n",
    "            duzina_liste = len (rez_lista)\n",
    "            niz_osobina_20.append (int(duzina_liste > 0))\n",
    "            niz_osobina_21.append (duzina_liste)\n",
    "\n",
    "    \n",
    "    # Za prosledjen FASTA fajl su napravljene osobine. Treba samo paziti pri ubacivanju frekvencije\n",
    "    # amino-kiselina (jer je to mapa) i secondary_structure_fraction (jer je to trojka), dakle za njih\n",
    "    # treba napraviti posebne kolone tj. treba ih izdeliti\n",
    "\n",
    "    # Sredjivanje frekvencija amino-kiselina (20 novih kolona, za svaku amino-kiselinu) i\n",
    "    # secondary_structure_fraction (3 nove kolone, za svaku osobinu).\n",
    "    \n",
    "    mapa_finalna = {}\n",
    "\n",
    "    mapa_finalna['Molekularna tezina'] = niz_osobina_0\n",
    "    mapa_finalna['Gravy'] = niz_osobina_1\n",
    "    mapa_finalna['Aromaticnost'] = niz_osobina_2\n",
    "    mapa_finalna['Indeks nestabilnosti'] = niz_osobina_3\n",
    "\n",
    "    # Za svaku amino-kiselinu po nova kolona sa njenim udelom u celoj sekvenci\n",
    "    for ak in list(niz_osobina_4[0].keys()):\n",
    "        \n",
    "        lista_udela_za_jednu_ak = []\n",
    "        for mapa in niz_osobina_4:\n",
    "            lista_udela_za_jednu_ak.append (mapa[ak])\n",
    "        \n",
    "        mapa_finalna['Udeo \"' + str(ak) + '\" u proteinu'] = lista_udela_za_jednu_ak\n",
    "\n",
    "    mapa_finalna['Izoelektricna tacka'] = niz_osobina_5\n",
    "    \n",
    "    mapa_finalna['Udeo ak. u heliksu'] = []\n",
    "    mapa_finalna['Udeo ak. u zavoju'] = []\n",
    "    mapa_finalna['Udeo ak. u ravni'] = []\n",
    "    \n",
    "    for trojka in niz_osobina_6:\n",
    "        mapa_finalna['Udeo ak. u heliksu'].append (trojka[0])\n",
    "        mapa_finalna['Udeo ak. u zavoju'].append (trojka[1])\n",
    "        mapa_finalna['Udeo ak. u ravni'].append (trojka[2])\n",
    "\n",
    "    mapa_finalna['Naelektrisanje'] = niz_osobina_7\n",
    "    mapa_finalna['Apsolutno naelektrisanje'] = niz_osobina_8\n",
    "    mapa_finalna['Prosecno naelektrisanje'] = niz_osobina_9\n",
    "    mapa_finalna['Apsolutno prosecno naelektrisanje'] = niz_osobina_10\n",
    "\n",
    "    mapa_finalna['Udeo alifatickih ak.'] = niz_osobina_11\n",
    "    mapa_finalna['Udeo nenaelektrisanih polarnih ak.'] = niz_osobina_12\n",
    "    mapa_finalna['Udeo polarnih ak.'] = niz_osobina_13\n",
    "    mapa_finalna['Udeo hidrofobnih ak.'] = niz_osobina_14\n",
    "    mapa_finalna['Udeo pozitivnih ak.'] = niz_osobina_15\n",
    "    mapa_finalna['Udeo sumpornih ak.'] = niz_osobina_16\n",
    "    mapa_finalna['Udeo negativnih ak.'] = niz_osobina_17\n",
    "    mapa_finalna['Udeo amidnih ak.'] = niz_osobina_18\n",
    "    mapa_finalna['Udeo alkoholnih ak.'] = niz_osobina_19\n",
    "    \n",
    "    # Unos kolona o postojanju i broju motiva glikozilacije\n",
    "    mapa_finalna['Postojanje glikozilacije'] = niz_osobina_20\n",
    "    mapa_finalna['Broj mesta glikozilacije'] = niz_osobina_21\n",
    "    \n",
    "    mapa_finalna['Klasa'] = [klasa for i in range (len (niz_osobina_0))]\n",
    "\n",
    "    # Kreiranje DataFrame-a\n",
    "    df_finalni = pd.DataFrame (mapa_finalna, index = indeksi)\n",
    "    \n",
    "    # Cuvanje DataFrame-a u .csv formatu\n",
    "    ime_izlaza = 'POZ_FINALNO.csv' if klasa == 1 else 'NEG_FINALNO.csv'\n",
    "    df_finalni.to_csv (os.path.join (putanja, ime_izlaza), sep = '\\t')\n",
    "    \n",
    "    return df_finalni\n"
   ]
  },
  {
   "cell_type": "code",
   "execution_count": 7,
   "metadata": {
    "colab": {},
    "colab_type": "code",
    "id": "YzlyO6E56uDZ"
   },
   "outputs": [],
   "source": [
    "# Testiranje funkcija\n",
    "\n",
    "poz_putanja = os.path.join ('..', 'data', 'UniProt cist', 'Pozitivni')\n",
    "df_poz = pd.read_csv (os.path.join (poz_putanja, 'OB_POZ_EXCEL.csv'), sep = '\\t')\n",
    "poz_indeksi = df_poz['Entry'].values\n",
    "poz_klasa = 1\n",
    "\n",
    "neg_putanja = os.path.join ('..', 'data', 'UniProt cist', 'Negativni')\n",
    "df_neg = pd.read_csv (os.path.join (neg_putanja, 'OB_NEG_EXCEL.csv'), sep = '\\t')\n",
    "neg_indeksi = df_neg['Entry'].values\n",
    "neg_klasa = 0\n",
    "\n",
    "# Pravljenje osobina i za pozitivne i za negativne skupove\n",
    "df_poz_finalni = napravi_osobine (poz_putanja, poz_indeksi, poz_klasa)\n",
    "df_neg_finalni = napravi_osobine (neg_putanja, neg_indeksi, neg_klasa)\n"
   ]
  },
  {
   "cell_type": "code",
   "execution_count": 8,
   "metadata": {
    "colab": {
     "base_uri": "https://localhost:8080/",
     "height": 473
    },
    "colab_type": "code",
    "executionInfo": {
     "elapsed": 24021,
     "status": "ok",
     "timestamp": 1572513898920,
     "user": {
      "displayName": "Aleksandar Anžel",
      "photoUrl": "https://lh3.googleusercontent.com/a-/AAuE7mAv_eRLNMWBvr43YXv7UrZwTFOu9RxxodF6fBNOjQ=s64",
      "userId": "09456993545544319729"
     },
     "user_tz": -60
    },
    "id": "VLucBI426uDd",
    "outputId": "4ed1ad1c-05e4-4616-b9d1-a5f7da0ec5ba"
   },
   "outputs": [
    {
     "data": {
      "text/html": [
       "<div>\n",
       "<style scoped>\n",
       "    .dataframe tbody tr th:only-of-type {\n",
       "        vertical-align: middle;\n",
       "    }\n",
       "\n",
       "    .dataframe tbody tr th {\n",
       "        vertical-align: top;\n",
       "    }\n",
       "\n",
       "    .dataframe thead th {\n",
       "        text-align: right;\n",
       "    }\n",
       "</style>\n",
       "<table border=\"1\" class=\"dataframe\">\n",
       "  <thead>\n",
       "    <tr style=\"text-align: right;\">\n",
       "      <th></th>\n",
       "      <th>Molekularna tezina</th>\n",
       "      <th>Gravy</th>\n",
       "      <th>Aromaticnost</th>\n",
       "      <th>Indeks nestabilnosti</th>\n",
       "      <th>Udeo \"A\" u proteinu</th>\n",
       "      <th>Udeo \"C\" u proteinu</th>\n",
       "      <th>Udeo \"D\" u proteinu</th>\n",
       "      <th>Udeo \"E\" u proteinu</th>\n",
       "      <th>Udeo \"F\" u proteinu</th>\n",
       "      <th>Udeo \"G\" u proteinu</th>\n",
       "      <th>...</th>\n",
       "      <th>Udeo polarnih ak.</th>\n",
       "      <th>Udeo hidrofobnih ak.</th>\n",
       "      <th>Udeo pozitivnih ak.</th>\n",
       "      <th>Udeo sumpornih ak.</th>\n",
       "      <th>Udeo negativnih ak.</th>\n",
       "      <th>Udeo amidnih ak.</th>\n",
       "      <th>Udeo alkoholnih ak.</th>\n",
       "      <th>Postojanje glikozilacije</th>\n",
       "      <th>Broj mesta glikozilacije</th>\n",
       "      <th>Klasa</th>\n",
       "    </tr>\n",
       "  </thead>\n",
       "  <tbody>\n",
       "    <tr>\n",
       "      <th>Q9SSS9</th>\n",
       "      <td>25668.2531</td>\n",
       "      <td>-0.049145</td>\n",
       "      <td>0.051282</td>\n",
       "      <td>42.751709</td>\n",
       "      <td>0.098291</td>\n",
       "      <td>0.000000</td>\n",
       "      <td>0.047009</td>\n",
       "      <td>0.055556</td>\n",
       "      <td>0.038462</td>\n",
       "      <td>0.034188</td>\n",
       "      <td>...</td>\n",
       "      <td>0.316239</td>\n",
       "      <td>0.465812</td>\n",
       "      <td>0.119658</td>\n",
       "      <td>0.021368</td>\n",
       "      <td>0.102564</td>\n",
       "      <td>0.119658</td>\n",
       "      <td>0.158120</td>\n",
       "      <td>1</td>\n",
       "      <td>1</td>\n",
       "      <td>1</td>\n",
       "    </tr>\n",
       "    <tr>\n",
       "      <th>O04151</th>\n",
       "      <td>48526.7256</td>\n",
       "      <td>-1.009412</td>\n",
       "      <td>0.105882</td>\n",
       "      <td>31.455082</td>\n",
       "      <td>0.072941</td>\n",
       "      <td>0.007059</td>\n",
       "      <td>0.120000</td>\n",
       "      <td>0.122353</td>\n",
       "      <td>0.037647</td>\n",
       "      <td>0.051765</td>\n",
       "      <td>...</td>\n",
       "      <td>0.258824</td>\n",
       "      <td>0.367059</td>\n",
       "      <td>0.148235</td>\n",
       "      <td>0.016471</td>\n",
       "      <td>0.242353</td>\n",
       "      <td>0.051765</td>\n",
       "      <td>0.105882</td>\n",
       "      <td>1</td>\n",
       "      <td>3</td>\n",
       "      <td>1</td>\n",
       "    </tr>\n",
       "    <tr>\n",
       "      <th>Q9LV16</th>\n",
       "      <td>77740.2127</td>\n",
       "      <td>-0.460206</td>\n",
       "      <td>0.091043</td>\n",
       "      <td>42.948752</td>\n",
       "      <td>0.046990</td>\n",
       "      <td>0.017621</td>\n",
       "      <td>0.048458</td>\n",
       "      <td>0.080764</td>\n",
       "      <td>0.042584</td>\n",
       "      <td>0.058737</td>\n",
       "      <td>...</td>\n",
       "      <td>0.320117</td>\n",
       "      <td>0.409692</td>\n",
       "      <td>0.168869</td>\n",
       "      <td>0.041116</td>\n",
       "      <td>0.129222</td>\n",
       "      <td>0.064611</td>\n",
       "      <td>0.138032</td>\n",
       "      <td>1</td>\n",
       "      <td>1</td>\n",
       "      <td>1</td>\n",
       "    </tr>\n",
       "    <tr>\n",
       "      <th>Q9SE50</th>\n",
       "      <td>60458.5342</td>\n",
       "      <td>-0.509659</td>\n",
       "      <td>0.140152</td>\n",
       "      <td>26.184129</td>\n",
       "      <td>0.053030</td>\n",
       "      <td>0.015152</td>\n",
       "      <td>0.070076</td>\n",
       "      <td>0.051136</td>\n",
       "      <td>0.058712</td>\n",
       "      <td>0.089015</td>\n",
       "      <td>...</td>\n",
       "      <td>0.329545</td>\n",
       "      <td>0.433712</td>\n",
       "      <td>0.157197</td>\n",
       "      <td>0.030303</td>\n",
       "      <td>0.121212</td>\n",
       "      <td>0.077652</td>\n",
       "      <td>0.098485</td>\n",
       "      <td>1</td>\n",
       "      <td>3</td>\n",
       "      <td>1</td>\n",
       "    </tr>\n",
       "    <tr>\n",
       "      <th>Q9SYQ8</th>\n",
       "      <td>107596.6100</td>\n",
       "      <td>0.019184</td>\n",
       "      <td>0.077551</td>\n",
       "      <td>30.612449</td>\n",
       "      <td>0.047959</td>\n",
       "      <td>0.014286</td>\n",
       "      <td>0.039796</td>\n",
       "      <td>0.057143</td>\n",
       "      <td>0.046939</td>\n",
       "      <td>0.087755</td>\n",
       "      <td>...</td>\n",
       "      <td>0.319388</td>\n",
       "      <td>0.497959</td>\n",
       "      <td>0.114286</td>\n",
       "      <td>0.035714</td>\n",
       "      <td>0.096939</td>\n",
       "      <td>0.089796</td>\n",
       "      <td>0.134694</td>\n",
       "      <td>1</td>\n",
       "      <td>16</td>\n",
       "      <td>1</td>\n",
       "    </tr>\n",
       "    <tr>\n",
       "      <th>...</th>\n",
       "      <td>...</td>\n",
       "      <td>...</td>\n",
       "      <td>...</td>\n",
       "      <td>...</td>\n",
       "      <td>...</td>\n",
       "      <td>...</td>\n",
       "      <td>...</td>\n",
       "      <td>...</td>\n",
       "      <td>...</td>\n",
       "      <td>...</td>\n",
       "      <td>...</td>\n",
       "      <td>...</td>\n",
       "      <td>...</td>\n",
       "      <td>...</td>\n",
       "      <td>...</td>\n",
       "      <td>...</td>\n",
       "      <td>...</td>\n",
       "      <td>...</td>\n",
       "      <td>...</td>\n",
       "      <td>...</td>\n",
       "      <td>...</td>\n",
       "    </tr>\n",
       "    <tr>\n",
       "      <th>Q9SU13</th>\n",
       "      <td>43447.8938</td>\n",
       "      <td>-0.076179</td>\n",
       "      <td>0.071960</td>\n",
       "      <td>38.811166</td>\n",
       "      <td>0.091811</td>\n",
       "      <td>0.007444</td>\n",
       "      <td>0.074442</td>\n",
       "      <td>0.029777</td>\n",
       "      <td>0.039702</td>\n",
       "      <td>0.059553</td>\n",
       "      <td>...</td>\n",
       "      <td>0.342432</td>\n",
       "      <td>0.459057</td>\n",
       "      <td>0.116625</td>\n",
       "      <td>0.029777</td>\n",
       "      <td>0.104218</td>\n",
       "      <td>0.076923</td>\n",
       "      <td>0.181141</td>\n",
       "      <td>1</td>\n",
       "      <td>4</td>\n",
       "      <td>1</td>\n",
       "    </tr>\n",
       "    <tr>\n",
       "      <th>Q3E9A4</th>\n",
       "      <td>53221.7554</td>\n",
       "      <td>-0.192275</td>\n",
       "      <td>0.100858</td>\n",
       "      <td>62.873433</td>\n",
       "      <td>0.060086</td>\n",
       "      <td>0.010730</td>\n",
       "      <td>0.036481</td>\n",
       "      <td>0.055794</td>\n",
       "      <td>0.049356</td>\n",
       "      <td>0.040773</td>\n",
       "      <td>...</td>\n",
       "      <td>0.334764</td>\n",
       "      <td>0.459227</td>\n",
       "      <td>0.156652</td>\n",
       "      <td>0.038627</td>\n",
       "      <td>0.092275</td>\n",
       "      <td>0.079399</td>\n",
       "      <td>0.122318</td>\n",
       "      <td>1</td>\n",
       "      <td>3</td>\n",
       "      <td>1</td>\n",
       "    </tr>\n",
       "    <tr>\n",
       "      <th>O80522</th>\n",
       "      <td>40476.1001</td>\n",
       "      <td>0.070000</td>\n",
       "      <td>0.105405</td>\n",
       "      <td>31.570270</td>\n",
       "      <td>0.062162</td>\n",
       "      <td>0.027027</td>\n",
       "      <td>0.045946</td>\n",
       "      <td>0.029730</td>\n",
       "      <td>0.059459</td>\n",
       "      <td>0.097297</td>\n",
       "      <td>...</td>\n",
       "      <td>0.345946</td>\n",
       "      <td>0.497297</td>\n",
       "      <td>0.108108</td>\n",
       "      <td>0.054054</td>\n",
       "      <td>0.075676</td>\n",
       "      <td>0.091892</td>\n",
       "      <td>0.127027</td>\n",
       "      <td>1</td>\n",
       "      <td>2</td>\n",
       "      <td>1</td>\n",
       "    </tr>\n",
       "    <tr>\n",
       "      <th>F4HTM3</th>\n",
       "      <td>97633.0234</td>\n",
       "      <td>-0.361620</td>\n",
       "      <td>0.119718</td>\n",
       "      <td>40.480423</td>\n",
       "      <td>0.036385</td>\n",
       "      <td>0.004695</td>\n",
       "      <td>0.061033</td>\n",
       "      <td>0.056338</td>\n",
       "      <td>0.049296</td>\n",
       "      <td>0.079812</td>\n",
       "      <td>...</td>\n",
       "      <td>0.330986</td>\n",
       "      <td>0.434272</td>\n",
       "      <td>0.143192</td>\n",
       "      <td>0.026995</td>\n",
       "      <td>0.117371</td>\n",
       "      <td>0.077465</td>\n",
       "      <td>0.130282</td>\n",
       "      <td>1</td>\n",
       "      <td>6</td>\n",
       "      <td>1</td>\n",
       "    </tr>\n",
       "    <tr>\n",
       "      <th>O81292</th>\n",
       "      <td>75921.9919</td>\n",
       "      <td>-0.057864</td>\n",
       "      <td>0.117211</td>\n",
       "      <td>40.095890</td>\n",
       "      <td>0.041543</td>\n",
       "      <td>0.008902</td>\n",
       "      <td>0.059347</td>\n",
       "      <td>0.044510</td>\n",
       "      <td>0.071217</td>\n",
       "      <td>0.074184</td>\n",
       "      <td>...</td>\n",
       "      <td>0.317507</td>\n",
       "      <td>0.473294</td>\n",
       "      <td>0.124629</td>\n",
       "      <td>0.031157</td>\n",
       "      <td>0.103858</td>\n",
       "      <td>0.069733</td>\n",
       "      <td>0.151335</td>\n",
       "      <td>1</td>\n",
       "      <td>8</td>\n",
       "      <td>1</td>\n",
       "    </tr>\n",
       "  </tbody>\n",
       "</table>\n",
       "<p>1863 rows × 44 columns</p>\n",
       "</div>"
      ],
      "text/plain": [
       "        Molekularna tezina     Gravy  Aromaticnost  Indeks nestabilnosti  \\\n",
       "Q9SSS9          25668.2531 -0.049145      0.051282             42.751709   \n",
       "O04151          48526.7256 -1.009412      0.105882             31.455082   \n",
       "Q9LV16          77740.2127 -0.460206      0.091043             42.948752   \n",
       "Q9SE50          60458.5342 -0.509659      0.140152             26.184129   \n",
       "Q9SYQ8         107596.6100  0.019184      0.077551             30.612449   \n",
       "...                    ...       ...           ...                   ...   \n",
       "Q9SU13          43447.8938 -0.076179      0.071960             38.811166   \n",
       "Q3E9A4          53221.7554 -0.192275      0.100858             62.873433   \n",
       "O80522          40476.1001  0.070000      0.105405             31.570270   \n",
       "F4HTM3          97633.0234 -0.361620      0.119718             40.480423   \n",
       "O81292          75921.9919 -0.057864      0.117211             40.095890   \n",
       "\n",
       "        Udeo \"A\" u proteinu  Udeo \"C\" u proteinu  Udeo \"D\" u proteinu  \\\n",
       "Q9SSS9             0.098291             0.000000             0.047009   \n",
       "O04151             0.072941             0.007059             0.120000   \n",
       "Q9LV16             0.046990             0.017621             0.048458   \n",
       "Q9SE50             0.053030             0.015152             0.070076   \n",
       "Q9SYQ8             0.047959             0.014286             0.039796   \n",
       "...                     ...                  ...                  ...   \n",
       "Q9SU13             0.091811             0.007444             0.074442   \n",
       "Q3E9A4             0.060086             0.010730             0.036481   \n",
       "O80522             0.062162             0.027027             0.045946   \n",
       "F4HTM3             0.036385             0.004695             0.061033   \n",
       "O81292             0.041543             0.008902             0.059347   \n",
       "\n",
       "        Udeo \"E\" u proteinu  Udeo \"F\" u proteinu  Udeo \"G\" u proteinu  ...  \\\n",
       "Q9SSS9             0.055556             0.038462             0.034188  ...   \n",
       "O04151             0.122353             0.037647             0.051765  ...   \n",
       "Q9LV16             0.080764             0.042584             0.058737  ...   \n",
       "Q9SE50             0.051136             0.058712             0.089015  ...   \n",
       "Q9SYQ8             0.057143             0.046939             0.087755  ...   \n",
       "...                     ...                  ...                  ...  ...   \n",
       "Q9SU13             0.029777             0.039702             0.059553  ...   \n",
       "Q3E9A4             0.055794             0.049356             0.040773  ...   \n",
       "O80522             0.029730             0.059459             0.097297  ...   \n",
       "F4HTM3             0.056338             0.049296             0.079812  ...   \n",
       "O81292             0.044510             0.071217             0.074184  ...   \n",
       "\n",
       "        Udeo polarnih ak.  Udeo hidrofobnih ak.  Udeo pozitivnih ak.  \\\n",
       "Q9SSS9           0.316239              0.465812             0.119658   \n",
       "O04151           0.258824              0.367059             0.148235   \n",
       "Q9LV16           0.320117              0.409692             0.168869   \n",
       "Q9SE50           0.329545              0.433712             0.157197   \n",
       "Q9SYQ8           0.319388              0.497959             0.114286   \n",
       "...                   ...                   ...                  ...   \n",
       "Q9SU13           0.342432              0.459057             0.116625   \n",
       "Q3E9A4           0.334764              0.459227             0.156652   \n",
       "O80522           0.345946              0.497297             0.108108   \n",
       "F4HTM3           0.330986              0.434272             0.143192   \n",
       "O81292           0.317507              0.473294             0.124629   \n",
       "\n",
       "        Udeo sumpornih ak.  Udeo negativnih ak.  Udeo amidnih ak.  \\\n",
       "Q9SSS9            0.021368             0.102564          0.119658   \n",
       "O04151            0.016471             0.242353          0.051765   \n",
       "Q9LV16            0.041116             0.129222          0.064611   \n",
       "Q9SE50            0.030303             0.121212          0.077652   \n",
       "Q9SYQ8            0.035714             0.096939          0.089796   \n",
       "...                    ...                  ...               ...   \n",
       "Q9SU13            0.029777             0.104218          0.076923   \n",
       "Q3E9A4            0.038627             0.092275          0.079399   \n",
       "O80522            0.054054             0.075676          0.091892   \n",
       "F4HTM3            0.026995             0.117371          0.077465   \n",
       "O81292            0.031157             0.103858          0.069733   \n",
       "\n",
       "        Udeo alkoholnih ak.  Postojanje glikozilacije  \\\n",
       "Q9SSS9             0.158120                         1   \n",
       "O04151             0.105882                         1   \n",
       "Q9LV16             0.138032                         1   \n",
       "Q9SE50             0.098485                         1   \n",
       "Q9SYQ8             0.134694                         1   \n",
       "...                     ...                       ...   \n",
       "Q9SU13             0.181141                         1   \n",
       "Q3E9A4             0.122318                         1   \n",
       "O80522             0.127027                         1   \n",
       "F4HTM3             0.130282                         1   \n",
       "O81292             0.151335                         1   \n",
       "\n",
       "        Broj mesta glikozilacije  Klasa  \n",
       "Q9SSS9                         1      1  \n",
       "O04151                         3      1  \n",
       "Q9LV16                         1      1  \n",
       "Q9SE50                         3      1  \n",
       "Q9SYQ8                        16      1  \n",
       "...                          ...    ...  \n",
       "Q9SU13                         4      1  \n",
       "Q3E9A4                         3      1  \n",
       "O80522                         2      1  \n",
       "F4HTM3                         6      1  \n",
       "O81292                         8      1  \n",
       "\n",
       "[1863 rows x 44 columns]"
      ]
     },
     "execution_count": 8,
     "metadata": {},
     "output_type": "execute_result"
    }
   ],
   "source": [
    "# Izgled pozitivnih\n",
    "df_poz_finalni"
   ]
  },
  {
   "cell_type": "code",
   "execution_count": 9,
   "metadata": {
    "colab": {
     "base_uri": "https://localhost:8080/",
     "height": 473
    },
    "colab_type": "code",
    "executionInfo": {
     "elapsed": 23974,
     "status": "ok",
     "timestamp": 1572513898923,
     "user": {
      "displayName": "Aleksandar Anžel",
      "photoUrl": "https://lh3.googleusercontent.com/a-/AAuE7mAv_eRLNMWBvr43YXv7UrZwTFOu9RxxodF6fBNOjQ=s64",
      "userId": "09456993545544319729"
     },
     "user_tz": -60
    },
    "id": "bzihoTf26uDg",
    "outputId": "e6467a71-fe5f-4b4e-f0fd-fbfbd34e8474"
   },
   "outputs": [
    {
     "data": {
      "text/html": [
       "<div>\n",
       "<style scoped>\n",
       "    .dataframe tbody tr th:only-of-type {\n",
       "        vertical-align: middle;\n",
       "    }\n",
       "\n",
       "    .dataframe tbody tr th {\n",
       "        vertical-align: top;\n",
       "    }\n",
       "\n",
       "    .dataframe thead th {\n",
       "        text-align: right;\n",
       "    }\n",
       "</style>\n",
       "<table border=\"1\" class=\"dataframe\">\n",
       "  <thead>\n",
       "    <tr style=\"text-align: right;\">\n",
       "      <th></th>\n",
       "      <th>Molekularna tezina</th>\n",
       "      <th>Gravy</th>\n",
       "      <th>Aromaticnost</th>\n",
       "      <th>Indeks nestabilnosti</th>\n",
       "      <th>Udeo \"A\" u proteinu</th>\n",
       "      <th>Udeo \"C\" u proteinu</th>\n",
       "      <th>Udeo \"D\" u proteinu</th>\n",
       "      <th>Udeo \"E\" u proteinu</th>\n",
       "      <th>Udeo \"F\" u proteinu</th>\n",
       "      <th>Udeo \"G\" u proteinu</th>\n",
       "      <th>...</th>\n",
       "      <th>Udeo polarnih ak.</th>\n",
       "      <th>Udeo hidrofobnih ak.</th>\n",
       "      <th>Udeo pozitivnih ak.</th>\n",
       "      <th>Udeo sumpornih ak.</th>\n",
       "      <th>Udeo negativnih ak.</th>\n",
       "      <th>Udeo amidnih ak.</th>\n",
       "      <th>Udeo alkoholnih ak.</th>\n",
       "      <th>Postojanje glikozilacije</th>\n",
       "      <th>Broj mesta glikozilacije</th>\n",
       "      <th>Klasa</th>\n",
       "    </tr>\n",
       "  </thead>\n",
       "  <tbody>\n",
       "    <tr>\n",
       "      <th>F4I443</th>\n",
       "      <td>79689.1581</td>\n",
       "      <td>-0.586975</td>\n",
       "      <td>0.061625</td>\n",
       "      <td>48.451849</td>\n",
       "      <td>0.070028</td>\n",
       "      <td>0.036415</td>\n",
       "      <td>0.061625</td>\n",
       "      <td>0.071429</td>\n",
       "      <td>0.025210</td>\n",
       "      <td>0.047619</td>\n",
       "      <td>...</td>\n",
       "      <td>0.359944</td>\n",
       "      <td>0.380952</td>\n",
       "      <td>0.156863</td>\n",
       "      <td>0.054622</td>\n",
       "      <td>0.133053</td>\n",
       "      <td>0.091036</td>\n",
       "      <td>0.147059</td>\n",
       "      <td>1</td>\n",
       "      <td>3</td>\n",
       "      <td>0</td>\n",
       "    </tr>\n",
       "    <tr>\n",
       "      <th>Q8RXD3</th>\n",
       "      <td>34806.9132</td>\n",
       "      <td>-0.550968</td>\n",
       "      <td>0.064516</td>\n",
       "      <td>54.291645</td>\n",
       "      <td>0.061290</td>\n",
       "      <td>0.029032</td>\n",
       "      <td>0.048387</td>\n",
       "      <td>0.116129</td>\n",
       "      <td>0.029032</td>\n",
       "      <td>0.051613</td>\n",
       "      <td>...</td>\n",
       "      <td>0.319355</td>\n",
       "      <td>0.406452</td>\n",
       "      <td>0.135484</td>\n",
       "      <td>0.048387</td>\n",
       "      <td>0.164516</td>\n",
       "      <td>0.083871</td>\n",
       "      <td>0.125806</td>\n",
       "      <td>0</td>\n",
       "      <td>0</td>\n",
       "      <td>0</td>\n",
       "    </tr>\n",
       "    <tr>\n",
       "      <th>P04778</th>\n",
       "      <td>28240.8071</td>\n",
       "      <td>0.020974</td>\n",
       "      <td>0.108614</td>\n",
       "      <td>24.637828</td>\n",
       "      <td>0.123596</td>\n",
       "      <td>0.003745</td>\n",
       "      <td>0.041199</td>\n",
       "      <td>0.056180</td>\n",
       "      <td>0.059925</td>\n",
       "      <td>0.123596</td>\n",
       "      <td>...</td>\n",
       "      <td>0.254682</td>\n",
       "      <td>0.565543</td>\n",
       "      <td>0.093633</td>\n",
       "      <td>0.029963</td>\n",
       "      <td>0.097378</td>\n",
       "      <td>0.052434</td>\n",
       "      <td>0.112360</td>\n",
       "      <td>0</td>\n",
       "      <td>0</td>\n",
       "      <td>0</td>\n",
       "    </tr>\n",
       "    <tr>\n",
       "      <th>Q9FLD5</th>\n",
       "      <td>60346.9487</td>\n",
       "      <td>-0.847276</td>\n",
       "      <td>0.095331</td>\n",
       "      <td>51.946342</td>\n",
       "      <td>0.042802</td>\n",
       "      <td>0.007782</td>\n",
       "      <td>0.062257</td>\n",
       "      <td>0.128405</td>\n",
       "      <td>0.042802</td>\n",
       "      <td>0.046693</td>\n",
       "      <td>...</td>\n",
       "      <td>0.284047</td>\n",
       "      <td>0.342412</td>\n",
       "      <td>0.200389</td>\n",
       "      <td>0.031128</td>\n",
       "      <td>0.190661</td>\n",
       "      <td>0.062257</td>\n",
       "      <td>0.120623</td>\n",
       "      <td>1</td>\n",
       "      <td>3</td>\n",
       "      <td>0</td>\n",
       "    </tr>\n",
       "    <tr>\n",
       "      <th>Q9M022</th>\n",
       "      <td>28049.1504</td>\n",
       "      <td>-0.364463</td>\n",
       "      <td>0.099174</td>\n",
       "      <td>52.350455</td>\n",
       "      <td>0.057851</td>\n",
       "      <td>0.041322</td>\n",
       "      <td>0.061983</td>\n",
       "      <td>0.070248</td>\n",
       "      <td>0.033058</td>\n",
       "      <td>0.045455</td>\n",
       "      <td>...</td>\n",
       "      <td>0.314050</td>\n",
       "      <td>0.404959</td>\n",
       "      <td>0.169421</td>\n",
       "      <td>0.061983</td>\n",
       "      <td>0.132231</td>\n",
       "      <td>0.057851</td>\n",
       "      <td>0.107438</td>\n",
       "      <td>1</td>\n",
       "      <td>1</td>\n",
       "      <td>0</td>\n",
       "    </tr>\n",
       "    <tr>\n",
       "      <th>...</th>\n",
       "      <td>...</td>\n",
       "      <td>...</td>\n",
       "      <td>...</td>\n",
       "      <td>...</td>\n",
       "      <td>...</td>\n",
       "      <td>...</td>\n",
       "      <td>...</td>\n",
       "      <td>...</td>\n",
       "      <td>...</td>\n",
       "      <td>...</td>\n",
       "      <td>...</td>\n",
       "      <td>...</td>\n",
       "      <td>...</td>\n",
       "      <td>...</td>\n",
       "      <td>...</td>\n",
       "      <td>...</td>\n",
       "      <td>...</td>\n",
       "      <td>...</td>\n",
       "      <td>...</td>\n",
       "      <td>...</td>\n",
       "      <td>...</td>\n",
       "    </tr>\n",
       "    <tr>\n",
       "      <th>Q8RXF8</th>\n",
       "      <td>72321.5750</td>\n",
       "      <td>-0.249228</td>\n",
       "      <td>0.081790</td>\n",
       "      <td>52.203410</td>\n",
       "      <td>0.086420</td>\n",
       "      <td>0.020062</td>\n",
       "      <td>0.066358</td>\n",
       "      <td>0.075617</td>\n",
       "      <td>0.046296</td>\n",
       "      <td>0.050926</td>\n",
       "      <td>...</td>\n",
       "      <td>0.280864</td>\n",
       "      <td>0.461420</td>\n",
       "      <td>0.126543</td>\n",
       "      <td>0.040123</td>\n",
       "      <td>0.141975</td>\n",
       "      <td>0.070988</td>\n",
       "      <td>0.123457</td>\n",
       "      <td>1</td>\n",
       "      <td>1</td>\n",
       "      <td>0</td>\n",
       "    </tr>\n",
       "    <tr>\n",
       "      <th>P93282</th>\n",
       "      <td>13248.7403</td>\n",
       "      <td>-0.405785</td>\n",
       "      <td>0.049587</td>\n",
       "      <td>44.333884</td>\n",
       "      <td>0.057851</td>\n",
       "      <td>0.016529</td>\n",
       "      <td>0.049587</td>\n",
       "      <td>0.049587</td>\n",
       "      <td>0.016529</td>\n",
       "      <td>0.016529</td>\n",
       "      <td>...</td>\n",
       "      <td>0.438017</td>\n",
       "      <td>0.371901</td>\n",
       "      <td>0.107438</td>\n",
       "      <td>0.041322</td>\n",
       "      <td>0.099174</td>\n",
       "      <td>0.066116</td>\n",
       "      <td>0.280992</td>\n",
       "      <td>1</td>\n",
       "      <td>1</td>\n",
       "      <td>0</td>\n",
       "    </tr>\n",
       "    <tr>\n",
       "      <th>Q9LJK3</th>\n",
       "      <td>34698.4268</td>\n",
       "      <td>0.412500</td>\n",
       "      <td>0.175676</td>\n",
       "      <td>31.229764</td>\n",
       "      <td>0.081081</td>\n",
       "      <td>0.020270</td>\n",
       "      <td>0.054054</td>\n",
       "      <td>0.043919</td>\n",
       "      <td>0.077703</td>\n",
       "      <td>0.040541</td>\n",
       "      <td>...</td>\n",
       "      <td>0.314189</td>\n",
       "      <td>0.489865</td>\n",
       "      <td>0.121622</td>\n",
       "      <td>0.057432</td>\n",
       "      <td>0.097973</td>\n",
       "      <td>0.030405</td>\n",
       "      <td>0.104730</td>\n",
       "      <td>0</td>\n",
       "      <td>0</td>\n",
       "      <td>0</td>\n",
       "    </tr>\n",
       "    <tr>\n",
       "      <th>Q9ASU8</th>\n",
       "      <td>38178.9715</td>\n",
       "      <td>0.116570</td>\n",
       "      <td>0.084302</td>\n",
       "      <td>43.015116</td>\n",
       "      <td>0.061047</td>\n",
       "      <td>0.031977</td>\n",
       "      <td>0.037791</td>\n",
       "      <td>0.063953</td>\n",
       "      <td>0.029070</td>\n",
       "      <td>0.072674</td>\n",
       "      <td>...</td>\n",
       "      <td>0.337209</td>\n",
       "      <td>0.479651</td>\n",
       "      <td>0.101744</td>\n",
       "      <td>0.072674</td>\n",
       "      <td>0.101744</td>\n",
       "      <td>0.063953</td>\n",
       "      <td>0.125000</td>\n",
       "      <td>0</td>\n",
       "      <td>0</td>\n",
       "      <td>0</td>\n",
       "    </tr>\n",
       "    <tr>\n",
       "      <th>P60129</th>\n",
       "      <td>4470.0631</td>\n",
       "      <td>0.328947</td>\n",
       "      <td>0.184211</td>\n",
       "      <td>28.973684</td>\n",
       "      <td>0.026316</td>\n",
       "      <td>0.000000</td>\n",
       "      <td>0.000000</td>\n",
       "      <td>0.052632</td>\n",
       "      <td>0.105263</td>\n",
       "      <td>0.026316</td>\n",
       "      <td>...</td>\n",
       "      <td>0.447368</td>\n",
       "      <td>0.473684</td>\n",
       "      <td>0.026316</td>\n",
       "      <td>0.026316</td>\n",
       "      <td>0.052632</td>\n",
       "      <td>0.184211</td>\n",
       "      <td>0.157895</td>\n",
       "      <td>1</td>\n",
       "      <td>1</td>\n",
       "      <td>0</td>\n",
       "    </tr>\n",
       "  </tbody>\n",
       "</table>\n",
       "<p>13974 rows × 44 columns</p>\n",
       "</div>"
      ],
      "text/plain": [
       "        Molekularna tezina     Gravy  Aromaticnost  Indeks nestabilnosti  \\\n",
       "F4I443          79689.1581 -0.586975      0.061625             48.451849   \n",
       "Q8RXD3          34806.9132 -0.550968      0.064516             54.291645   \n",
       "P04778          28240.8071  0.020974      0.108614             24.637828   \n",
       "Q9FLD5          60346.9487 -0.847276      0.095331             51.946342   \n",
       "Q9M022          28049.1504 -0.364463      0.099174             52.350455   \n",
       "...                    ...       ...           ...                   ...   \n",
       "Q8RXF8          72321.5750 -0.249228      0.081790             52.203410   \n",
       "P93282          13248.7403 -0.405785      0.049587             44.333884   \n",
       "Q9LJK3          34698.4268  0.412500      0.175676             31.229764   \n",
       "Q9ASU8          38178.9715  0.116570      0.084302             43.015116   \n",
       "P60129           4470.0631  0.328947      0.184211             28.973684   \n",
       "\n",
       "        Udeo \"A\" u proteinu  Udeo \"C\" u proteinu  Udeo \"D\" u proteinu  \\\n",
       "F4I443             0.070028             0.036415             0.061625   \n",
       "Q8RXD3             0.061290             0.029032             0.048387   \n",
       "P04778             0.123596             0.003745             0.041199   \n",
       "Q9FLD5             0.042802             0.007782             0.062257   \n",
       "Q9M022             0.057851             0.041322             0.061983   \n",
       "...                     ...                  ...                  ...   \n",
       "Q8RXF8             0.086420             0.020062             0.066358   \n",
       "P93282             0.057851             0.016529             0.049587   \n",
       "Q9LJK3             0.081081             0.020270             0.054054   \n",
       "Q9ASU8             0.061047             0.031977             0.037791   \n",
       "P60129             0.026316             0.000000             0.000000   \n",
       "\n",
       "        Udeo \"E\" u proteinu  Udeo \"F\" u proteinu  Udeo \"G\" u proteinu  ...  \\\n",
       "F4I443             0.071429             0.025210             0.047619  ...   \n",
       "Q8RXD3             0.116129             0.029032             0.051613  ...   \n",
       "P04778             0.056180             0.059925             0.123596  ...   \n",
       "Q9FLD5             0.128405             0.042802             0.046693  ...   \n",
       "Q9M022             0.070248             0.033058             0.045455  ...   \n",
       "...                     ...                  ...                  ...  ...   \n",
       "Q8RXF8             0.075617             0.046296             0.050926  ...   \n",
       "P93282             0.049587             0.016529             0.016529  ...   \n",
       "Q9LJK3             0.043919             0.077703             0.040541  ...   \n",
       "Q9ASU8             0.063953             0.029070             0.072674  ...   \n",
       "P60129             0.052632             0.105263             0.026316  ...   \n",
       "\n",
       "        Udeo polarnih ak.  Udeo hidrofobnih ak.  Udeo pozitivnih ak.  \\\n",
       "F4I443           0.359944              0.380952             0.156863   \n",
       "Q8RXD3           0.319355              0.406452             0.135484   \n",
       "P04778           0.254682              0.565543             0.093633   \n",
       "Q9FLD5           0.284047              0.342412             0.200389   \n",
       "Q9M022           0.314050              0.404959             0.169421   \n",
       "...                   ...                   ...                  ...   \n",
       "Q8RXF8           0.280864              0.461420             0.126543   \n",
       "P93282           0.438017              0.371901             0.107438   \n",
       "Q9LJK3           0.314189              0.489865             0.121622   \n",
       "Q9ASU8           0.337209              0.479651             0.101744   \n",
       "P60129           0.447368              0.473684             0.026316   \n",
       "\n",
       "        Udeo sumpornih ak.  Udeo negativnih ak.  Udeo amidnih ak.  \\\n",
       "F4I443            0.054622             0.133053          0.091036   \n",
       "Q8RXD3            0.048387             0.164516          0.083871   \n",
       "P04778            0.029963             0.097378          0.052434   \n",
       "Q9FLD5            0.031128             0.190661          0.062257   \n",
       "Q9M022            0.061983             0.132231          0.057851   \n",
       "...                    ...                  ...               ...   \n",
       "Q8RXF8            0.040123             0.141975          0.070988   \n",
       "P93282            0.041322             0.099174          0.066116   \n",
       "Q9LJK3            0.057432             0.097973          0.030405   \n",
       "Q9ASU8            0.072674             0.101744          0.063953   \n",
       "P60129            0.026316             0.052632          0.184211   \n",
       "\n",
       "        Udeo alkoholnih ak.  Postojanje glikozilacije  \\\n",
       "F4I443             0.147059                         1   \n",
       "Q8RXD3             0.125806                         0   \n",
       "P04778             0.112360                         0   \n",
       "Q9FLD5             0.120623                         1   \n",
       "Q9M022             0.107438                         1   \n",
       "...                     ...                       ...   \n",
       "Q8RXF8             0.123457                         1   \n",
       "P93282             0.280992                         1   \n",
       "Q9LJK3             0.104730                         0   \n",
       "Q9ASU8             0.125000                         0   \n",
       "P60129             0.157895                         1   \n",
       "\n",
       "        Broj mesta glikozilacije  Klasa  \n",
       "F4I443                         3      0  \n",
       "Q8RXD3                         0      0  \n",
       "P04778                         0      0  \n",
       "Q9FLD5                         3      0  \n",
       "Q9M022                         1      0  \n",
       "...                          ...    ...  \n",
       "Q8RXF8                         1      0  \n",
       "P93282                         1      0  \n",
       "Q9LJK3                         0      0  \n",
       "Q9ASU8                         0      0  \n",
       "P60129                         1      0  \n",
       "\n",
       "[13974 rows x 44 columns]"
      ]
     },
     "execution_count": 9,
     "metadata": {},
     "output_type": "execute_result"
    }
   ],
   "source": [
    "# Izgled negativnih\n",
    "df_neg_finalni"
   ]
  },
  {
   "cell_type": "code",
   "execution_count": 10,
   "metadata": {
    "colab": {},
    "colab_type": "code",
    "id": "J8Ey5ygx6uDj"
   },
   "outputs": [],
   "source": [
    "# Primetivo je da su klase nebalansirane, tj. imamo skoro 7 puta vise proteina koji su negativni\n",
    "# Sa time se treba izboriti u delu treniranja modela masinskog ucenja\n",
    "\n",
    "\n",
    "# Sledece treba vizualizovati podatke. Probati sa matricom korelacije\n",
    "# Zatim se treba izboriti sa neizbalansiranoscu\n",
    "# Na kraju natrenirati model i proveriti uspesnost\n"
   ]
  },
  {
   "cell_type": "markdown",
   "metadata": {
    "colab_type": "text",
    "id": "LwexjaVR6uDm"
   },
   "source": [
    "## 1.3 Vizualizacija podataka i sracunatih osobina za lakse razumevanje problema"
   ]
  },
  {
   "cell_type": "code",
   "execution_count": 11,
   "metadata": {
    "colab": {},
    "colab_type": "code",
    "id": "SCXQBh7R6uDn"
   },
   "outputs": [],
   "source": [
    "# Krecemo sa ucitavanjem podataka i vizualizacijom istih\n",
    "poz_putanja_ulaza = os.path.join ('..', 'data', 'UniProt cist', 'Pozitivni', 'POZ_FINALNO.csv')\n",
    "neg_putanja_ulaza = os.path.join ('..', 'data', 'UniProt cist', 'Negativni', 'NEG_FINALNO.csv')\n",
    "\n",
    "df_poz = pd.read_csv (poz_putanja_ulaza, sep = '\\t', index_col = 0)\n",
    "df_neg = pd.read_csv (neg_putanja_ulaza, sep = '\\t', index_col = 0)\n"
   ]
  },
  {
   "cell_type": "code",
   "execution_count": 12,
   "metadata": {
    "colab": {
     "base_uri": "https://localhost:8080/",
     "height": 473
    },
    "colab_type": "code",
    "executionInfo": {
     "elapsed": 24186,
     "status": "ok",
     "timestamp": 1572513899244,
     "user": {
      "displayName": "Aleksandar Anžel",
      "photoUrl": "https://lh3.googleusercontent.com/a-/AAuE7mAv_eRLNMWBvr43YXv7UrZwTFOu9RxxodF6fBNOjQ=s64",
      "userId": "09456993545544319729"
     },
     "user_tz": -60
    },
    "id": "yPBSPqVR6uDq",
    "outputId": "520368b7-01c3-42cc-dd4c-020dafb894c8"
   },
   "outputs": [
    {
     "data": {
      "text/html": [
       "<div>\n",
       "<style scoped>\n",
       "    .dataframe tbody tr th:only-of-type {\n",
       "        vertical-align: middle;\n",
       "    }\n",
       "\n",
       "    .dataframe tbody tr th {\n",
       "        vertical-align: top;\n",
       "    }\n",
       "\n",
       "    .dataframe thead th {\n",
       "        text-align: right;\n",
       "    }\n",
       "</style>\n",
       "<table border=\"1\" class=\"dataframe\">\n",
       "  <thead>\n",
       "    <tr style=\"text-align: right;\">\n",
       "      <th></th>\n",
       "      <th>Molekularna tezina</th>\n",
       "      <th>Gravy</th>\n",
       "      <th>Aromaticnost</th>\n",
       "      <th>Indeks nestabilnosti</th>\n",
       "      <th>Udeo \"A\" u proteinu</th>\n",
       "      <th>Udeo \"C\" u proteinu</th>\n",
       "      <th>Udeo \"D\" u proteinu</th>\n",
       "      <th>Udeo \"E\" u proteinu</th>\n",
       "      <th>Udeo \"F\" u proteinu</th>\n",
       "      <th>Udeo \"G\" u proteinu</th>\n",
       "      <th>...</th>\n",
       "      <th>Udeo polarnih ak.</th>\n",
       "      <th>Udeo hidrofobnih ak.</th>\n",
       "      <th>Udeo pozitivnih ak.</th>\n",
       "      <th>Udeo sumpornih ak.</th>\n",
       "      <th>Udeo negativnih ak.</th>\n",
       "      <th>Udeo amidnih ak.</th>\n",
       "      <th>Udeo alkoholnih ak.</th>\n",
       "      <th>Postojanje glikozilacije</th>\n",
       "      <th>Broj mesta glikozilacije</th>\n",
       "      <th>Klasa</th>\n",
       "    </tr>\n",
       "  </thead>\n",
       "  <tbody>\n",
       "    <tr>\n",
       "      <th>Q9SSS9</th>\n",
       "      <td>25668.2531</td>\n",
       "      <td>-0.049145</td>\n",
       "      <td>0.051282</td>\n",
       "      <td>42.751709</td>\n",
       "      <td>0.098291</td>\n",
       "      <td>0.000000</td>\n",
       "      <td>0.047009</td>\n",
       "      <td>0.055556</td>\n",
       "      <td>0.038462</td>\n",
       "      <td>0.034188</td>\n",
       "      <td>...</td>\n",
       "      <td>0.316239</td>\n",
       "      <td>0.465812</td>\n",
       "      <td>0.119658</td>\n",
       "      <td>0.021368</td>\n",
       "      <td>0.102564</td>\n",
       "      <td>0.119658</td>\n",
       "      <td>0.158120</td>\n",
       "      <td>1</td>\n",
       "      <td>1</td>\n",
       "      <td>1</td>\n",
       "    </tr>\n",
       "    <tr>\n",
       "      <th>O04151</th>\n",
       "      <td>48526.7256</td>\n",
       "      <td>-1.009412</td>\n",
       "      <td>0.105882</td>\n",
       "      <td>31.455082</td>\n",
       "      <td>0.072941</td>\n",
       "      <td>0.007059</td>\n",
       "      <td>0.120000</td>\n",
       "      <td>0.122353</td>\n",
       "      <td>0.037647</td>\n",
       "      <td>0.051765</td>\n",
       "      <td>...</td>\n",
       "      <td>0.258824</td>\n",
       "      <td>0.367059</td>\n",
       "      <td>0.148235</td>\n",
       "      <td>0.016471</td>\n",
       "      <td>0.242353</td>\n",
       "      <td>0.051765</td>\n",
       "      <td>0.105882</td>\n",
       "      <td>1</td>\n",
       "      <td>3</td>\n",
       "      <td>1</td>\n",
       "    </tr>\n",
       "    <tr>\n",
       "      <th>Q9LV16</th>\n",
       "      <td>77740.2127</td>\n",
       "      <td>-0.460206</td>\n",
       "      <td>0.091043</td>\n",
       "      <td>42.948752</td>\n",
       "      <td>0.046990</td>\n",
       "      <td>0.017621</td>\n",
       "      <td>0.048458</td>\n",
       "      <td>0.080764</td>\n",
       "      <td>0.042584</td>\n",
       "      <td>0.058737</td>\n",
       "      <td>...</td>\n",
       "      <td>0.320117</td>\n",
       "      <td>0.409692</td>\n",
       "      <td>0.168869</td>\n",
       "      <td>0.041116</td>\n",
       "      <td>0.129222</td>\n",
       "      <td>0.064611</td>\n",
       "      <td>0.138032</td>\n",
       "      <td>1</td>\n",
       "      <td>1</td>\n",
       "      <td>1</td>\n",
       "    </tr>\n",
       "    <tr>\n",
       "      <th>Q9SE50</th>\n",
       "      <td>60458.5342</td>\n",
       "      <td>-0.509659</td>\n",
       "      <td>0.140152</td>\n",
       "      <td>26.184129</td>\n",
       "      <td>0.053030</td>\n",
       "      <td>0.015152</td>\n",
       "      <td>0.070076</td>\n",
       "      <td>0.051136</td>\n",
       "      <td>0.058712</td>\n",
       "      <td>0.089015</td>\n",
       "      <td>...</td>\n",
       "      <td>0.329545</td>\n",
       "      <td>0.433712</td>\n",
       "      <td>0.157197</td>\n",
       "      <td>0.030303</td>\n",
       "      <td>0.121212</td>\n",
       "      <td>0.077652</td>\n",
       "      <td>0.098485</td>\n",
       "      <td>1</td>\n",
       "      <td>3</td>\n",
       "      <td>1</td>\n",
       "    </tr>\n",
       "    <tr>\n",
       "      <th>Q9SYQ8</th>\n",
       "      <td>107596.6100</td>\n",
       "      <td>0.019184</td>\n",
       "      <td>0.077551</td>\n",
       "      <td>30.612449</td>\n",
       "      <td>0.047959</td>\n",
       "      <td>0.014286</td>\n",
       "      <td>0.039796</td>\n",
       "      <td>0.057143</td>\n",
       "      <td>0.046939</td>\n",
       "      <td>0.087755</td>\n",
       "      <td>...</td>\n",
       "      <td>0.319388</td>\n",
       "      <td>0.497959</td>\n",
       "      <td>0.114286</td>\n",
       "      <td>0.035714</td>\n",
       "      <td>0.096939</td>\n",
       "      <td>0.089796</td>\n",
       "      <td>0.134694</td>\n",
       "      <td>1</td>\n",
       "      <td>16</td>\n",
       "      <td>1</td>\n",
       "    </tr>\n",
       "    <tr>\n",
       "      <th>...</th>\n",
       "      <td>...</td>\n",
       "      <td>...</td>\n",
       "      <td>...</td>\n",
       "      <td>...</td>\n",
       "      <td>...</td>\n",
       "      <td>...</td>\n",
       "      <td>...</td>\n",
       "      <td>...</td>\n",
       "      <td>...</td>\n",
       "      <td>...</td>\n",
       "      <td>...</td>\n",
       "      <td>...</td>\n",
       "      <td>...</td>\n",
       "      <td>...</td>\n",
       "      <td>...</td>\n",
       "      <td>...</td>\n",
       "      <td>...</td>\n",
       "      <td>...</td>\n",
       "      <td>...</td>\n",
       "      <td>...</td>\n",
       "      <td>...</td>\n",
       "    </tr>\n",
       "    <tr>\n",
       "      <th>Q8RXF8</th>\n",
       "      <td>72321.5750</td>\n",
       "      <td>-0.249228</td>\n",
       "      <td>0.081790</td>\n",
       "      <td>52.203410</td>\n",
       "      <td>0.086420</td>\n",
       "      <td>0.020062</td>\n",
       "      <td>0.066358</td>\n",
       "      <td>0.075617</td>\n",
       "      <td>0.046296</td>\n",
       "      <td>0.050926</td>\n",
       "      <td>...</td>\n",
       "      <td>0.280864</td>\n",
       "      <td>0.461420</td>\n",
       "      <td>0.126543</td>\n",
       "      <td>0.040123</td>\n",
       "      <td>0.141975</td>\n",
       "      <td>0.070988</td>\n",
       "      <td>0.123457</td>\n",
       "      <td>1</td>\n",
       "      <td>1</td>\n",
       "      <td>0</td>\n",
       "    </tr>\n",
       "    <tr>\n",
       "      <th>P93282</th>\n",
       "      <td>13248.7403</td>\n",
       "      <td>-0.405785</td>\n",
       "      <td>0.049587</td>\n",
       "      <td>44.333884</td>\n",
       "      <td>0.057851</td>\n",
       "      <td>0.016529</td>\n",
       "      <td>0.049587</td>\n",
       "      <td>0.049587</td>\n",
       "      <td>0.016529</td>\n",
       "      <td>0.016529</td>\n",
       "      <td>...</td>\n",
       "      <td>0.438017</td>\n",
       "      <td>0.371901</td>\n",
       "      <td>0.107438</td>\n",
       "      <td>0.041322</td>\n",
       "      <td>0.099174</td>\n",
       "      <td>0.066116</td>\n",
       "      <td>0.280992</td>\n",
       "      <td>1</td>\n",
       "      <td>1</td>\n",
       "      <td>0</td>\n",
       "    </tr>\n",
       "    <tr>\n",
       "      <th>Q9LJK3</th>\n",
       "      <td>34698.4268</td>\n",
       "      <td>0.412500</td>\n",
       "      <td>0.175676</td>\n",
       "      <td>31.229764</td>\n",
       "      <td>0.081081</td>\n",
       "      <td>0.020270</td>\n",
       "      <td>0.054054</td>\n",
       "      <td>0.043919</td>\n",
       "      <td>0.077703</td>\n",
       "      <td>0.040541</td>\n",
       "      <td>...</td>\n",
       "      <td>0.314189</td>\n",
       "      <td>0.489865</td>\n",
       "      <td>0.121622</td>\n",
       "      <td>0.057432</td>\n",
       "      <td>0.097973</td>\n",
       "      <td>0.030405</td>\n",
       "      <td>0.104730</td>\n",
       "      <td>0</td>\n",
       "      <td>0</td>\n",
       "      <td>0</td>\n",
       "    </tr>\n",
       "    <tr>\n",
       "      <th>Q9ASU8</th>\n",
       "      <td>38178.9715</td>\n",
       "      <td>0.116570</td>\n",
       "      <td>0.084302</td>\n",
       "      <td>43.015116</td>\n",
       "      <td>0.061047</td>\n",
       "      <td>0.031977</td>\n",
       "      <td>0.037791</td>\n",
       "      <td>0.063953</td>\n",
       "      <td>0.029070</td>\n",
       "      <td>0.072674</td>\n",
       "      <td>...</td>\n",
       "      <td>0.337209</td>\n",
       "      <td>0.479651</td>\n",
       "      <td>0.101744</td>\n",
       "      <td>0.072674</td>\n",
       "      <td>0.101744</td>\n",
       "      <td>0.063953</td>\n",
       "      <td>0.125000</td>\n",
       "      <td>0</td>\n",
       "      <td>0</td>\n",
       "      <td>0</td>\n",
       "    </tr>\n",
       "    <tr>\n",
       "      <th>P60129</th>\n",
       "      <td>4470.0631</td>\n",
       "      <td>0.328947</td>\n",
       "      <td>0.184211</td>\n",
       "      <td>28.973684</td>\n",
       "      <td>0.026316</td>\n",
       "      <td>0.000000</td>\n",
       "      <td>0.000000</td>\n",
       "      <td>0.052632</td>\n",
       "      <td>0.105263</td>\n",
       "      <td>0.026316</td>\n",
       "      <td>...</td>\n",
       "      <td>0.447368</td>\n",
       "      <td>0.473684</td>\n",
       "      <td>0.026316</td>\n",
       "      <td>0.026316</td>\n",
       "      <td>0.052632</td>\n",
       "      <td>0.184211</td>\n",
       "      <td>0.157895</td>\n",
       "      <td>1</td>\n",
       "      <td>1</td>\n",
       "      <td>0</td>\n",
       "    </tr>\n",
       "  </tbody>\n",
       "</table>\n",
       "<p>15837 rows × 44 columns</p>\n",
       "</div>"
      ],
      "text/plain": [
       "        Molekularna tezina     Gravy  Aromaticnost  Indeks nestabilnosti  \\\n",
       "Q9SSS9          25668.2531 -0.049145      0.051282             42.751709   \n",
       "O04151          48526.7256 -1.009412      0.105882             31.455082   \n",
       "Q9LV16          77740.2127 -0.460206      0.091043             42.948752   \n",
       "Q9SE50          60458.5342 -0.509659      0.140152             26.184129   \n",
       "Q9SYQ8         107596.6100  0.019184      0.077551             30.612449   \n",
       "...                    ...       ...           ...                   ...   \n",
       "Q8RXF8          72321.5750 -0.249228      0.081790             52.203410   \n",
       "P93282          13248.7403 -0.405785      0.049587             44.333884   \n",
       "Q9LJK3          34698.4268  0.412500      0.175676             31.229764   \n",
       "Q9ASU8          38178.9715  0.116570      0.084302             43.015116   \n",
       "P60129           4470.0631  0.328947      0.184211             28.973684   \n",
       "\n",
       "        Udeo \"A\" u proteinu  Udeo \"C\" u proteinu  Udeo \"D\" u proteinu  \\\n",
       "Q9SSS9             0.098291             0.000000             0.047009   \n",
       "O04151             0.072941             0.007059             0.120000   \n",
       "Q9LV16             0.046990             0.017621             0.048458   \n",
       "Q9SE50             0.053030             0.015152             0.070076   \n",
       "Q9SYQ8             0.047959             0.014286             0.039796   \n",
       "...                     ...                  ...                  ...   \n",
       "Q8RXF8             0.086420             0.020062             0.066358   \n",
       "P93282             0.057851             0.016529             0.049587   \n",
       "Q9LJK3             0.081081             0.020270             0.054054   \n",
       "Q9ASU8             0.061047             0.031977             0.037791   \n",
       "P60129             0.026316             0.000000             0.000000   \n",
       "\n",
       "        Udeo \"E\" u proteinu  Udeo \"F\" u proteinu  Udeo \"G\" u proteinu  ...  \\\n",
       "Q9SSS9             0.055556             0.038462             0.034188  ...   \n",
       "O04151             0.122353             0.037647             0.051765  ...   \n",
       "Q9LV16             0.080764             0.042584             0.058737  ...   \n",
       "Q9SE50             0.051136             0.058712             0.089015  ...   \n",
       "Q9SYQ8             0.057143             0.046939             0.087755  ...   \n",
       "...                     ...                  ...                  ...  ...   \n",
       "Q8RXF8             0.075617             0.046296             0.050926  ...   \n",
       "P93282             0.049587             0.016529             0.016529  ...   \n",
       "Q9LJK3             0.043919             0.077703             0.040541  ...   \n",
       "Q9ASU8             0.063953             0.029070             0.072674  ...   \n",
       "P60129             0.052632             0.105263             0.026316  ...   \n",
       "\n",
       "        Udeo polarnih ak.  Udeo hidrofobnih ak.  Udeo pozitivnih ak.  \\\n",
       "Q9SSS9           0.316239              0.465812             0.119658   \n",
       "O04151           0.258824              0.367059             0.148235   \n",
       "Q9LV16           0.320117              0.409692             0.168869   \n",
       "Q9SE50           0.329545              0.433712             0.157197   \n",
       "Q9SYQ8           0.319388              0.497959             0.114286   \n",
       "...                   ...                   ...                  ...   \n",
       "Q8RXF8           0.280864              0.461420             0.126543   \n",
       "P93282           0.438017              0.371901             0.107438   \n",
       "Q9LJK3           0.314189              0.489865             0.121622   \n",
       "Q9ASU8           0.337209              0.479651             0.101744   \n",
       "P60129           0.447368              0.473684             0.026316   \n",
       "\n",
       "        Udeo sumpornih ak.  Udeo negativnih ak.  Udeo amidnih ak.  \\\n",
       "Q9SSS9            0.021368             0.102564          0.119658   \n",
       "O04151            0.016471             0.242353          0.051765   \n",
       "Q9LV16            0.041116             0.129222          0.064611   \n",
       "Q9SE50            0.030303             0.121212          0.077652   \n",
       "Q9SYQ8            0.035714             0.096939          0.089796   \n",
       "...                    ...                  ...               ...   \n",
       "Q8RXF8            0.040123             0.141975          0.070988   \n",
       "P93282            0.041322             0.099174          0.066116   \n",
       "Q9LJK3            0.057432             0.097973          0.030405   \n",
       "Q9ASU8            0.072674             0.101744          0.063953   \n",
       "P60129            0.026316             0.052632          0.184211   \n",
       "\n",
       "        Udeo alkoholnih ak.  Postojanje glikozilacije  \\\n",
       "Q9SSS9             0.158120                         1   \n",
       "O04151             0.105882                         1   \n",
       "Q9LV16             0.138032                         1   \n",
       "Q9SE50             0.098485                         1   \n",
       "Q9SYQ8             0.134694                         1   \n",
       "...                     ...                       ...   \n",
       "Q8RXF8             0.123457                         1   \n",
       "P93282             0.280992                         1   \n",
       "Q9LJK3             0.104730                         0   \n",
       "Q9ASU8             0.125000                         0   \n",
       "P60129             0.157895                         1   \n",
       "\n",
       "        Broj mesta glikozilacije  Klasa  \n",
       "Q9SSS9                         1      1  \n",
       "O04151                         3      1  \n",
       "Q9LV16                         1      1  \n",
       "Q9SE50                         3      1  \n",
       "Q9SYQ8                        16      1  \n",
       "...                          ...    ...  \n",
       "Q8RXF8                         1      0  \n",
       "P93282                         1      0  \n",
       "Q9LJK3                         0      0  \n",
       "Q9ASU8                         0      0  \n",
       "P60129                         1      0  \n",
       "\n",
       "[15837 rows x 44 columns]"
      ]
     },
     "execution_count": 12,
     "metadata": {},
     "output_type": "execute_result"
    }
   ],
   "source": [
    "# Kreiranje DataFrame-a koji sadrzi i pozitivne i negativne proteine\n",
    "# verify_integrity parametar obezbedjuje proveru jedinstvenosti indeksa\n",
    "# Samim tim se zapravo vidi da nema preklapanja iz pozitivnih i negativnih skupova podataka\n",
    "\n",
    "df_sve = pd.concat([df_poz,df_neg], ignore_index=False, verify_integrity = True)\n",
    "df_sve\n"
   ]
  },
  {
   "cell_type": "code",
   "execution_count": 13,
   "metadata": {
    "colab": {
     "base_uri": "https://localhost:8080/",
     "height": 473
    },
    "colab_type": "code",
    "executionInfo": {
     "elapsed": 24601,
     "status": "ok",
     "timestamp": 1572513899704,
     "user": {
      "displayName": "Aleksandar Anžel",
      "photoUrl": "https://lh3.googleusercontent.com/a-/AAuE7mAv_eRLNMWBvr43YXv7UrZwTFOu9RxxodF6fBNOjQ=s64",
      "userId": "09456993545544319729"
     },
     "user_tz": -60
    },
    "id": "1jkDJ1pR6uDu",
    "outputId": "14f1d441-e489-4c4e-e221-b188b59c3e5e"
   },
   "outputs": [
    {
     "data": {
      "text/html": [
       "<div>\n",
       "<style scoped>\n",
       "    .dataframe tbody tr th:only-of-type {\n",
       "        vertical-align: middle;\n",
       "    }\n",
       "\n",
       "    .dataframe tbody tr th {\n",
       "        vertical-align: top;\n",
       "    }\n",
       "\n",
       "    .dataframe thead th {\n",
       "        text-align: right;\n",
       "    }\n",
       "</style>\n",
       "<table border=\"1\" class=\"dataframe\">\n",
       "  <thead>\n",
       "    <tr style=\"text-align: right;\">\n",
       "      <th></th>\n",
       "      <th>Molekularna tezina</th>\n",
       "      <th>Gravy</th>\n",
       "      <th>Aromaticnost</th>\n",
       "      <th>Indeks nestabilnosti</th>\n",
       "      <th>Udeo \"A\" u proteinu</th>\n",
       "      <th>Udeo \"C\" u proteinu</th>\n",
       "      <th>Udeo \"D\" u proteinu</th>\n",
       "      <th>Udeo \"E\" u proteinu</th>\n",
       "      <th>Udeo \"F\" u proteinu</th>\n",
       "      <th>Udeo \"G\" u proteinu</th>\n",
       "      <th>...</th>\n",
       "      <th>Udeo polarnih ak.</th>\n",
       "      <th>Udeo hidrofobnih ak.</th>\n",
       "      <th>Udeo pozitivnih ak.</th>\n",
       "      <th>Udeo sumpornih ak.</th>\n",
       "      <th>Udeo negativnih ak.</th>\n",
       "      <th>Udeo amidnih ak.</th>\n",
       "      <th>Udeo alkoholnih ak.</th>\n",
       "      <th>Postojanje glikozilacije</th>\n",
       "      <th>Broj mesta glikozilacije</th>\n",
       "      <th>Klasa</th>\n",
       "    </tr>\n",
       "  </thead>\n",
       "  <tbody>\n",
       "    <tr>\n",
       "      <th>Q9FLA2</th>\n",
       "      <td>50376.0372</td>\n",
       "      <td>0.013014</td>\n",
       "      <td>0.093607</td>\n",
       "      <td>47.479247</td>\n",
       "      <td>0.022831</td>\n",
       "      <td>0.015982</td>\n",
       "      <td>0.063927</td>\n",
       "      <td>0.057078</td>\n",
       "      <td>0.052511</td>\n",
       "      <td>0.038813</td>\n",
       "      <td>...</td>\n",
       "      <td>0.321918</td>\n",
       "      <td>0.452055</td>\n",
       "      <td>0.130137</td>\n",
       "      <td>0.045662</td>\n",
       "      <td>0.121005</td>\n",
       "      <td>0.075342</td>\n",
       "      <td>0.134703</td>\n",
       "      <td>1</td>\n",
       "      <td>1</td>\n",
       "      <td>0</td>\n",
       "    </tr>\n",
       "    <tr>\n",
       "      <th>O81862</th>\n",
       "      <td>41127.5342</td>\n",
       "      <td>-0.098945</td>\n",
       "      <td>0.131926</td>\n",
       "      <td>33.980792</td>\n",
       "      <td>0.110818</td>\n",
       "      <td>0.007916</td>\n",
       "      <td>0.050132</td>\n",
       "      <td>0.013193</td>\n",
       "      <td>0.047493</td>\n",
       "      <td>0.073879</td>\n",
       "      <td>...</td>\n",
       "      <td>0.403694</td>\n",
       "      <td>0.456464</td>\n",
       "      <td>0.087071</td>\n",
       "      <td>0.021108</td>\n",
       "      <td>0.063325</td>\n",
       "      <td>0.079156</td>\n",
       "      <td>0.208443</td>\n",
       "      <td>1</td>\n",
       "      <td>2</td>\n",
       "      <td>1</td>\n",
       "    </tr>\n",
       "    <tr>\n",
       "      <th>Q8LD98</th>\n",
       "      <td>28573.8214</td>\n",
       "      <td>-0.255556</td>\n",
       "      <td>0.091270</td>\n",
       "      <td>44.644087</td>\n",
       "      <td>0.047619</td>\n",
       "      <td>0.031746</td>\n",
       "      <td>0.027778</td>\n",
       "      <td>0.039683</td>\n",
       "      <td>0.051587</td>\n",
       "      <td>0.051587</td>\n",
       "      <td>...</td>\n",
       "      <td>0.349206</td>\n",
       "      <td>0.448413</td>\n",
       "      <td>0.150794</td>\n",
       "      <td>0.043651</td>\n",
       "      <td>0.067460</td>\n",
       "      <td>0.111111</td>\n",
       "      <td>0.138889</td>\n",
       "      <td>1</td>\n",
       "      <td>4</td>\n",
       "      <td>1</td>\n",
       "    </tr>\n",
       "    <tr>\n",
       "      <th>O81028</th>\n",
       "      <td>90359.4141</td>\n",
       "      <td>-0.004380</td>\n",
       "      <td>0.087610</td>\n",
       "      <td>32.720038</td>\n",
       "      <td>0.071339</td>\n",
       "      <td>0.030038</td>\n",
       "      <td>0.051314</td>\n",
       "      <td>0.082603</td>\n",
       "      <td>0.047559</td>\n",
       "      <td>0.058824</td>\n",
       "      <td>...</td>\n",
       "      <td>0.284105</td>\n",
       "      <td>0.455569</td>\n",
       "      <td>0.136421</td>\n",
       "      <td>0.068836</td>\n",
       "      <td>0.133917</td>\n",
       "      <td>0.072591</td>\n",
       "      <td>0.092616</td>\n",
       "      <td>1</td>\n",
       "      <td>5</td>\n",
       "      <td>0</td>\n",
       "    </tr>\n",
       "    <tr>\n",
       "      <th>Q9SB63</th>\n",
       "      <td>153685.6327</td>\n",
       "      <td>-1.236402</td>\n",
       "      <td>0.053824</td>\n",
       "      <td>53.942861</td>\n",
       "      <td>0.066572</td>\n",
       "      <td>0.002125</td>\n",
       "      <td>0.043909</td>\n",
       "      <td>0.066572</td>\n",
       "      <td>0.019830</td>\n",
       "      <td>0.102691</td>\n",
       "      <td>...</td>\n",
       "      <td>0.406516</td>\n",
       "      <td>0.354816</td>\n",
       "      <td>0.161473</td>\n",
       "      <td>0.019122</td>\n",
       "      <td>0.110482</td>\n",
       "      <td>0.135269</td>\n",
       "      <td>0.184844</td>\n",
       "      <td>1</td>\n",
       "      <td>10</td>\n",
       "      <td>0</td>\n",
       "    </tr>\n",
       "    <tr>\n",
       "      <th>...</th>\n",
       "      <td>...</td>\n",
       "      <td>...</td>\n",
       "      <td>...</td>\n",
       "      <td>...</td>\n",
       "      <td>...</td>\n",
       "      <td>...</td>\n",
       "      <td>...</td>\n",
       "      <td>...</td>\n",
       "      <td>...</td>\n",
       "      <td>...</td>\n",
       "      <td>...</td>\n",
       "      <td>...</td>\n",
       "      <td>...</td>\n",
       "      <td>...</td>\n",
       "      <td>...</td>\n",
       "      <td>...</td>\n",
       "      <td>...</td>\n",
       "      <td>...</td>\n",
       "      <td>...</td>\n",
       "      <td>...</td>\n",
       "      <td>...</td>\n",
       "    </tr>\n",
       "    <tr>\n",
       "      <th>Q94AY3</th>\n",
       "      <td>47189.2995</td>\n",
       "      <td>-0.700714</td>\n",
       "      <td>0.045238</td>\n",
       "      <td>62.142619</td>\n",
       "      <td>0.054762</td>\n",
       "      <td>0.026190</td>\n",
       "      <td>0.057143</td>\n",
       "      <td>0.076190</td>\n",
       "      <td>0.023810</td>\n",
       "      <td>0.045238</td>\n",
       "      <td>...</td>\n",
       "      <td>0.321429</td>\n",
       "      <td>0.371429</td>\n",
       "      <td>0.195238</td>\n",
       "      <td>0.040476</td>\n",
       "      <td>0.133333</td>\n",
       "      <td>0.069048</td>\n",
       "      <td>0.169048</td>\n",
       "      <td>1</td>\n",
       "      <td>3</td>\n",
       "      <td>0</td>\n",
       "    </tr>\n",
       "    <tr>\n",
       "      <th>Q9LY74</th>\n",
       "      <td>37926.2571</td>\n",
       "      <td>-0.268047</td>\n",
       "      <td>0.106509</td>\n",
       "      <td>40.710385</td>\n",
       "      <td>0.062130</td>\n",
       "      <td>0.011834</td>\n",
       "      <td>0.056213</td>\n",
       "      <td>0.047337</td>\n",
       "      <td>0.047337</td>\n",
       "      <td>0.076923</td>\n",
       "      <td>...</td>\n",
       "      <td>0.286982</td>\n",
       "      <td>0.482249</td>\n",
       "      <td>0.147929</td>\n",
       "      <td>0.032544</td>\n",
       "      <td>0.103550</td>\n",
       "      <td>0.050296</td>\n",
       "      <td>0.124260</td>\n",
       "      <td>1</td>\n",
       "      <td>1</td>\n",
       "      <td>0</td>\n",
       "    </tr>\n",
       "    <tr>\n",
       "      <th>F4I8U2</th>\n",
       "      <td>53334.5501</td>\n",
       "      <td>-0.144538</td>\n",
       "      <td>0.079832</td>\n",
       "      <td>40.837206</td>\n",
       "      <td>0.058824</td>\n",
       "      <td>0.016807</td>\n",
       "      <td>0.056723</td>\n",
       "      <td>0.054622</td>\n",
       "      <td>0.035714</td>\n",
       "      <td>0.071429</td>\n",
       "      <td>...</td>\n",
       "      <td>0.329832</td>\n",
       "      <td>0.436975</td>\n",
       "      <td>0.144958</td>\n",
       "      <td>0.046218</td>\n",
       "      <td>0.111345</td>\n",
       "      <td>0.075630</td>\n",
       "      <td>0.140756</td>\n",
       "      <td>1</td>\n",
       "      <td>5</td>\n",
       "      <td>0</td>\n",
       "    </tr>\n",
       "    <tr>\n",
       "      <th>Q9LFT8</th>\n",
       "      <td>56728.4952</td>\n",
       "      <td>-0.819802</td>\n",
       "      <td>0.091089</td>\n",
       "      <td>44.201802</td>\n",
       "      <td>0.053465</td>\n",
       "      <td>0.011881</td>\n",
       "      <td>0.041584</td>\n",
       "      <td>0.055446</td>\n",
       "      <td>0.031683</td>\n",
       "      <td>0.104950</td>\n",
       "      <td>...</td>\n",
       "      <td>0.330693</td>\n",
       "      <td>0.447525</td>\n",
       "      <td>0.162376</td>\n",
       "      <td>0.031683</td>\n",
       "      <td>0.097030</td>\n",
       "      <td>0.116832</td>\n",
       "      <td>0.085149</td>\n",
       "      <td>1</td>\n",
       "      <td>4</td>\n",
       "      <td>0</td>\n",
       "    </tr>\n",
       "    <tr>\n",
       "      <th>Q9M907</th>\n",
       "      <td>98337.5717</td>\n",
       "      <td>-0.187945</td>\n",
       "      <td>0.096441</td>\n",
       "      <td>33.157187</td>\n",
       "      <td>0.074627</td>\n",
       "      <td>0.032147</td>\n",
       "      <td>0.055109</td>\n",
       "      <td>0.073479</td>\n",
       "      <td>0.050517</td>\n",
       "      <td>0.066590</td>\n",
       "      <td>...</td>\n",
       "      <td>0.314581</td>\n",
       "      <td>0.431688</td>\n",
       "      <td>0.138921</td>\n",
       "      <td>0.074627</td>\n",
       "      <td>0.128588</td>\n",
       "      <td>0.076923</td>\n",
       "      <td>0.103330</td>\n",
       "      <td>1</td>\n",
       "      <td>5</td>\n",
       "      <td>0</td>\n",
       "    </tr>\n",
       "  </tbody>\n",
       "</table>\n",
       "<p>15837 rows × 44 columns</p>\n",
       "</div>"
      ],
      "text/plain": [
       "        Molekularna tezina     Gravy  Aromaticnost  Indeks nestabilnosti  \\\n",
       "Q9FLA2          50376.0372  0.013014      0.093607             47.479247   \n",
       "O81862          41127.5342 -0.098945      0.131926             33.980792   \n",
       "Q8LD98          28573.8214 -0.255556      0.091270             44.644087   \n",
       "O81028          90359.4141 -0.004380      0.087610             32.720038   \n",
       "Q9SB63         153685.6327 -1.236402      0.053824             53.942861   \n",
       "...                    ...       ...           ...                   ...   \n",
       "Q94AY3          47189.2995 -0.700714      0.045238             62.142619   \n",
       "Q9LY74          37926.2571 -0.268047      0.106509             40.710385   \n",
       "F4I8U2          53334.5501 -0.144538      0.079832             40.837206   \n",
       "Q9LFT8          56728.4952 -0.819802      0.091089             44.201802   \n",
       "Q9M907          98337.5717 -0.187945      0.096441             33.157187   \n",
       "\n",
       "        Udeo \"A\" u proteinu  Udeo \"C\" u proteinu  Udeo \"D\" u proteinu  \\\n",
       "Q9FLA2             0.022831             0.015982             0.063927   \n",
       "O81862             0.110818             0.007916             0.050132   \n",
       "Q8LD98             0.047619             0.031746             0.027778   \n",
       "O81028             0.071339             0.030038             0.051314   \n",
       "Q9SB63             0.066572             0.002125             0.043909   \n",
       "...                     ...                  ...                  ...   \n",
       "Q94AY3             0.054762             0.026190             0.057143   \n",
       "Q9LY74             0.062130             0.011834             0.056213   \n",
       "F4I8U2             0.058824             0.016807             0.056723   \n",
       "Q9LFT8             0.053465             0.011881             0.041584   \n",
       "Q9M907             0.074627             0.032147             0.055109   \n",
       "\n",
       "        Udeo \"E\" u proteinu  Udeo \"F\" u proteinu  Udeo \"G\" u proteinu  ...  \\\n",
       "Q9FLA2             0.057078             0.052511             0.038813  ...   \n",
       "O81862             0.013193             0.047493             0.073879  ...   \n",
       "Q8LD98             0.039683             0.051587             0.051587  ...   \n",
       "O81028             0.082603             0.047559             0.058824  ...   \n",
       "Q9SB63             0.066572             0.019830             0.102691  ...   \n",
       "...                     ...                  ...                  ...  ...   \n",
       "Q94AY3             0.076190             0.023810             0.045238  ...   \n",
       "Q9LY74             0.047337             0.047337             0.076923  ...   \n",
       "F4I8U2             0.054622             0.035714             0.071429  ...   \n",
       "Q9LFT8             0.055446             0.031683             0.104950  ...   \n",
       "Q9M907             0.073479             0.050517             0.066590  ...   \n",
       "\n",
       "        Udeo polarnih ak.  Udeo hidrofobnih ak.  Udeo pozitivnih ak.  \\\n",
       "Q9FLA2           0.321918              0.452055             0.130137   \n",
       "O81862           0.403694              0.456464             0.087071   \n",
       "Q8LD98           0.349206              0.448413             0.150794   \n",
       "O81028           0.284105              0.455569             0.136421   \n",
       "Q9SB63           0.406516              0.354816             0.161473   \n",
       "...                   ...                   ...                  ...   \n",
       "Q94AY3           0.321429              0.371429             0.195238   \n",
       "Q9LY74           0.286982              0.482249             0.147929   \n",
       "F4I8U2           0.329832              0.436975             0.144958   \n",
       "Q9LFT8           0.330693              0.447525             0.162376   \n",
       "Q9M907           0.314581              0.431688             0.138921   \n",
       "\n",
       "        Udeo sumpornih ak.  Udeo negativnih ak.  Udeo amidnih ak.  \\\n",
       "Q9FLA2            0.045662             0.121005          0.075342   \n",
       "O81862            0.021108             0.063325          0.079156   \n",
       "Q8LD98            0.043651             0.067460          0.111111   \n",
       "O81028            0.068836             0.133917          0.072591   \n",
       "Q9SB63            0.019122             0.110482          0.135269   \n",
       "...                    ...                  ...               ...   \n",
       "Q94AY3            0.040476             0.133333          0.069048   \n",
       "Q9LY74            0.032544             0.103550          0.050296   \n",
       "F4I8U2            0.046218             0.111345          0.075630   \n",
       "Q9LFT8            0.031683             0.097030          0.116832   \n",
       "Q9M907            0.074627             0.128588          0.076923   \n",
       "\n",
       "        Udeo alkoholnih ak.  Postojanje glikozilacije  \\\n",
       "Q9FLA2             0.134703                         1   \n",
       "O81862             0.208443                         1   \n",
       "Q8LD98             0.138889                         1   \n",
       "O81028             0.092616                         1   \n",
       "Q9SB63             0.184844                         1   \n",
       "...                     ...                       ...   \n",
       "Q94AY3             0.169048                         1   \n",
       "Q9LY74             0.124260                         1   \n",
       "F4I8U2             0.140756                         1   \n",
       "Q9LFT8             0.085149                         1   \n",
       "Q9M907             0.103330                         1   \n",
       "\n",
       "        Broj mesta glikozilacije  Klasa  \n",
       "Q9FLA2                         1      0  \n",
       "O81862                         2      1  \n",
       "Q8LD98                         4      1  \n",
       "O81028                         5      0  \n",
       "Q9SB63                        10      0  \n",
       "...                          ...    ...  \n",
       "Q94AY3                         3      0  \n",
       "Q9LY74                         1      0  \n",
       "F4I8U2                         5      0  \n",
       "Q9LFT8                         4      0  \n",
       "Q9M907                         5      0  \n",
       "\n",
       "[15837 rows x 44 columns]"
      ]
     },
     "execution_count": 13,
     "metadata": {},
     "output_type": "execute_result"
    }
   ],
   "source": [
    "# Permutovanje vrsta ovakvog DataFrame-a tako da nemamo prvo pozitivne pa negativne, vec proizvoljno\n",
    "df_sve = df_sve.reindex (np.random.permutation (df_sve.index))\n",
    "df_sve\n"
   ]
  },
  {
   "cell_type": "code",
   "execution_count": 14,
   "metadata": {
    "colab": {},
    "colab_type": "code",
    "id": "SSToMN4p6uDx"
   },
   "outputs": [],
   "source": [
    "# Izdvajanje poslednje kolone, koja predstavlja klasu kojoj protein pripada i izbacivanje iste iz DataFrame-a\n",
    "y = df_sve['Klasa'].values\n",
    "df_sve = df_sve.drop (labels = ['Klasa'], axis = 1)\n"
   ]
  },
  {
   "cell_type": "code",
   "execution_count": 15,
   "metadata": {
    "colab": {
     "base_uri": "https://localhost:8080/",
     "height": 607
    },
    "colab_type": "code",
    "executionInfo": {
     "elapsed": 24558,
     "status": "ok",
     "timestamp": 1572513899713,
     "user": {
      "displayName": "Aleksandar Anžel",
      "photoUrl": "https://lh3.googleusercontent.com/a-/AAuE7mAv_eRLNMWBvr43YXv7UrZwTFOu9RxxodF6fBNOjQ=s64",
      "userId": "09456993545544319729"
     },
     "user_tz": -60
    },
    "id": "s5eu7KVP6uD0",
    "outputId": "149669e3-2bad-4193-d4ac-f4d88a94b9dd"
   },
   "outputs": [
    {
     "data": {
      "image/png": "[encoded data removed]",
      "text/plain": [
       "<Figure size 576x720 with 1 Axes>"
      ]
     },
     "metadata": {
      "needs_background": "light"
     },
     "output_type": "display_data"
    }
   ],
   "source": [
    "# Prvo da vizualizujemo u kakvom su odnosu klase\n",
    "\n",
    "fig = plt.figure (figsize = (8, 10))\n",
    "plt.title ('Balansiranost klasa')\n",
    "plt.xticks (ticks = range (2), labels = ['Negativna', 'Pozitivna'])\n",
    "plt.bar ([0, 1], [sum(y == 0), sum (y == 1)], color = 'red')\n",
    "plt.grid (linewidth = 0.3)\n",
    "plt.show()\n"
   ]
  },
  {
   "cell_type": "code",
   "execution_count": 16,
   "metadata": {
    "colab": {
     "base_uri": "https://localhost:8080/",
     "height": 1000
    },
    "colab_type": "code",
    "executionInfo": {
     "elapsed": 26806,
     "status": "ok",
     "timestamp": 1572513901991,
     "user": {
      "displayName": "Aleksandar Anžel",
      "photoUrl": "https://lh3.googleusercontent.com/a-/AAuE7mAv_eRLNMWBvr43YXv7UrZwTFOu9RxxodF6fBNOjQ=s64",
      "userId": "09456993545544319729"
     },
     "user_tz": -60
    },
    "id": "gIpxqh6O6uD4",
    "outputId": "cc2690cd-5c07-4cd5-9571-5b1052190057"
   },
   "outputs": [
    {
     "data": {
      "image/png": "[encoded data removed]",
      "text/plain": [
       "<Figure size 1440x1440 with 2 Axes>"
      ]
     },
     "metadata": {
      "needs_background": "light"
     },
     "output_type": "display_data"
    }
   ],
   "source": [
    "# Vizualizacija podataka pomocu matrice korelacije\n",
    "kolone = df_sve.columns.values\n",
    "\n",
    "fig = plt.figure (figsize = (20, 20))\n",
    "plt.title ('Matrica korelacije podataka')\n",
    "plt.xticks (ticks = range (len (kolone)), labels = kolone, rotation = 90)\n",
    "plt.yticks (ticks = range (len (kolone)), labels = kolone)\n",
    "plt.imshow (df_sve.corr(), cmap = 'magma')\n",
    "plt.colorbar()\n",
    "plt.show()\n",
    "\n",
    "# Vidimo da nije velika korelisanost podataka ni u jednom delu, sto je jako dobro\n"
   ]
  },
  {
   "cell_type": "markdown",
   "metadata": {
    "colab_type": "text",
    "id": "03imjWdB6uD7"
   },
   "source": [
    "# 2. Neposredna priprema podataka zarad ispravne primene modela masinskog ucenja\n",
    "## 2.1 Deljenje na skupove za trening i test"
   ]
  },
  {
   "cell_type": "code",
   "execution_count": 17,
   "metadata": {
    "colab": {
     "base_uri": "https://localhost:8080/",
     "height": 731
    },
    "colab_type": "code",
    "executionInfo": {
     "elapsed": 26783,
     "status": "ok",
     "timestamp": 1572513901993,
     "user": {
      "displayName": "Aleksandar Anžel",
      "photoUrl": "https://lh3.googleusercontent.com/a-/AAuE7mAv_eRLNMWBvr43YXv7UrZwTFOu9RxxodF6fBNOjQ=s64",
      "userId": "09456993545544319729"
     },
     "user_tz": -60
    },
    "id": "lBYRVHr46uD8",
    "outputId": "399eea82-1555-47dd-9b8c-c7b2d03dbbe6"
   },
   "outputs": [
    {
     "name": "stdout",
     "output_type": "stream",
     "text": [
      "Broj proteina u x_trening skupu podataka:  (10610, 43)\n",
      "Broj proteina u y_trening skupu podataka:  (10610,)\n",
      "Broj proteina u x_test skupu podataka:  (5227, 43)\n",
      "Broj proteina u y_test skupu podataka:  (5227,)\n"
     ]
    },
    {
     "data": {
      "image/png": "[encoded data removed]",
      "text/plain": [
       "<Figure size 1440x720 with 3 Axes>"
      ]
     },
     "metadata": {
      "needs_background": "light"
     },
     "output_type": "display_data"
    }
   ],
   "source": [
    "# Deljenje podataka na skupove za trening i test, 2:1 odnos\n",
    "# Bitan parametar predstavlja i stratifikacija po klasi, tako da imamo ujednaceno deljenje na skupove (tj. balansiranost klasa po skupovima)\n",
    "X = df_sve.values\n",
    "\n",
    "x_trening, x_test, y_trening, y_test = ms.train_test_split (X, y, train_size = 0.67, test_size = 0.33, stratify = y, random_state = 7)\n",
    "\n",
    "# Standardizacija podataka\n",
    "skaler = prep.StandardScaler()\n",
    "skaler.fit (x_trening)\n",
    "x_trening = skaler.transform (x_trening)\n",
    "x_test = skaler.transform (x_test)\n",
    "\n",
    "print ('Broj proteina u x_trening skupu podataka: ', x_trening.shape)\n",
    "print ('Broj proteina u y_trening skupu podataka: ', y_trening.shape)\n",
    "print ('Broj proteina u x_test skupu podataka: ', x_test.shape)\n",
    "print ('Broj proteina u y_test skupu podataka: ', y_test.shape)\n",
    "\n",
    "# Vizualizacija podele na trening i test skup i balansiranosti klasa\n",
    "\n",
    "fig, (ax1, ax2, ax3) = plt.subplots (1, 3, figsize = (20, 10))\n",
    "plt.suptitle ('Kolicina podataka i balansiranost klasa')\n",
    "\n",
    "ax1.set_title ('Kolicina podataka u trening i test skupu')\n",
    "ax1.set_xticks (ticks = range (2))\n",
    "ax1.set_xticklabels (labels = ['Trening', 'Test'])\n",
    "ax1.bar ([0, 1], [x_trening.shape[0], x_test.shape[0]], color = 'green')\n",
    "ax1.grid (linewidth = 0.3)\n",
    "\n",
    "ax2.set_title ('Klase trening skupa')\n",
    "ax2.set_xticks (ticks = range (2))\n",
    "ax2.set_xticklabels (labels = ['Negativna', 'Pozitivna'])\n",
    "ax2.bar ([0, 1], [sum(y_trening == 0), sum (y_trening == 1)], color = ['blue', 'red'])\n",
    "ax2.grid (linewidth = 0.3)\n",
    "\n",
    "ax3.set_title ('Klase test skupa')\n",
    "ax3.set_xticks (ticks = range (2))\n",
    "ax3.set_xticklabels (labels = ['Negativna', 'Pozitivna'])\n",
    "ax3.bar ([0, 1], [sum(y_test == 0), sum (y_test == 1)], color = ['blue', 'red'])\n",
    "ax3.grid (linewidth = 0.3)\n",
    "\n",
    "plt.show()\n"
   ]
  },
  {
   "cell_type": "markdown",
   "metadata": {
    "colab_type": "text",
    "id": "ZC88foum6uD_"
   },
   "source": [
    "## 2.2 Balansiranje podataka nasumicnim podsempliranjem (pomocu _imblearn_ biblioteke)"
   ]
  },
  {
   "cell_type": "code",
   "execution_count": 69,
   "metadata": {
    "colab": {
     "base_uri": "https://localhost:8080/",
     "height": 119
    },
    "colab_type": "code",
    "executionInfo": {
     "elapsed": 26733,
     "status": "ok",
     "timestamp": 1572513901995,
     "user": {
      "displayName": "Aleksandar Anžel",
      "photoUrl": "https://lh3.googleusercontent.com/a-/AAuE7mAv_eRLNMWBvr43YXv7UrZwTFOu9RxxodF6fBNOjQ=s64",
      "userId": "09456993545544319729"
     },
     "user_tz": -60
    },
    "id": "MjC_2Mzj6uEB",
    "outputId": "a8ba43bb-84f6-4f3a-c0de-971ed8cbe12b"
   },
   "outputs": [
    {
     "name": "stdout",
     "output_type": "stream",
     "text": [
      "Broj pozitivnih proteina trening skupa, pre balansiranja:  1248\n",
      "Broj negativnih proteina trening skupa, pre balansiranja:  9362\n",
      "Izgled x_trening skupa nakon podsempliranja: (2496, 43)\n",
      "Izgled y_trening skupa nakon podsempliranja: (2496,)\n",
      "Broj pozitivnih proteina trening skupa, nakon balansiranja:  1248\n",
      "Broj negativnih proteina trening skupa, nakon balansiranja:  1248\n"
     ]
    }
   ],
   "source": [
    "# Balansiranje podataka podsempliranjem (nasumicnim podsemplerom) i cuvanje novih podataka (radi se samo za trening skup!)\n",
    "\n",
    "print ('Broj pozitivnih proteina trening skupa, pre balansiranja: ', sum(y_trening == 1))\n",
    "print ('Broj negativnih proteina trening skupa, pre balansiranja: ', sum(y_trening == 0))\n",
    "\n",
    "pod_sempler = RandomUnderSampler(random_state = 7)\n",
    "x_trening_pod, y_trening_pod = pod_sempler.fit_sample (x_trening, y_trening)\n",
    "\n",
    "print ('Izgled x_trening skupa nakon podsempliranja:', x_trening_pod.shape)\n",
    "print ('Izgled y_trening skupa nakon podsempliranja:', y_trening_pod.shape)\n",
    "\n",
    "print ('Broj pozitivnih proteina trening skupa, nakon balansiranja: ', sum(y_trening_pod == 1))\n",
    "print ('Broj negativnih proteina trening skupa, nakon balansiranja: ', sum(y_trening_pod == 0))\n"
   ]
  },
  {
   "cell_type": "markdown",
   "metadata": {
    "colab_type": "text",
    "id": "1GsgMCmG6uEE"
   },
   "source": [
    "## 2.3 Balansiranje podataka nadsempliranjem SMOTE algoritmom"
   ]
  },
  {
   "cell_type": "code",
   "execution_count": 70,
   "metadata": {
    "colab": {
     "base_uri": "https://localhost:8080/",
     "height": 119
    },
    "colab_type": "code",
    "executionInfo": {
     "elapsed": 27018,
     "status": "ok",
     "timestamp": 1572513902326,
     "user": {
      "displayName": "Aleksandar Anžel",
      "photoUrl": "https://lh3.googleusercontent.com/a-/AAuE7mAv_eRLNMWBvr43YXv7UrZwTFOu9RxxodF6fBNOjQ=s64",
      "userId": "09456993545544319729"
     },
     "user_tz": -60
    },
    "id": "HuJv8V7p6uEF",
    "outputId": "1d33174b-49c2-47b3-d1fd-c8dc65fa37a4"
   },
   "outputs": [
    {
     "name": "stdout",
     "output_type": "stream",
     "text": [
      "Broj pozitivnih proteina trening skupa, pre balansiranja:  1248\n",
      "Broj negativnih proteina trening skupa, pre balansiranja:  9362\n",
      "Izgled x_trening skupa nakon nadsempliranja: (18724, 43)\n",
      "Izgled y_trening skupa nakon nadsempliranja: (18724,)\n",
      "Broj pozitivnih proteina trening skupa, nakon balansiranja:  9362\n",
      "Broj negativnih proteina trening skupa, nakon balansiranja:  9362\n"
     ]
    }
   ],
   "source": [
    "# Balansiranje podataka nadsempliranjem (SMOTE algoritmom, a ne nasumicnim nadsemplerom) i cuvanje novih podataka (radi se samo za trening skup!)\n",
    "# Izabran je SMOTE algoritam jer je on koristi algoritam K najblizih suseda za generisanje novih podataka, samim tim daje relevantnije nove informacije\n",
    "\n",
    "print ('Broj pozitivnih proteina trening skupa, pre balansiranja: ', sum(y_trening == 1))\n",
    "print ('Broj negativnih proteina trening skupa, pre balansiranja: ', sum(y_trening == 0))\n",
    "\n",
    "nad_sempler_smote = SMOTE(random_state = 7, n_jobs = -1)\n",
    "x_trening_nad_smote, y_trening_nad_smote = nad_sempler_smote.fit_sample (x_trening, y_trening)\n",
    "\n",
    "print ('Izgled x_trening skupa nakon nadsempliranja:', x_trening_nad_smote.shape)\n",
    "print ('Izgled y_trening skupa nakon nadsempliranja:', y_trening_nad_smote.shape)\n",
    "\n",
    "print ('Broj pozitivnih proteina trening skupa, nakon balansiranja: ', sum(y_trening_nad_smote == 1))\n",
    "print ('Broj negativnih proteina trening skupa, nakon balansiranja: ', sum(y_trening_nad_smote == 0))\n"
   ]
  },
  {
   "cell_type": "markdown",
   "metadata": {
    "colab_type": "text",
    "id": "OzjNvEx37OlC"
   },
   "source": [
    "## 2.4 Balansiranje podataka nadsempliranjem ADASYN algoritmom"
   ]
  },
  {
   "cell_type": "code",
   "execution_count": 71,
   "metadata": {
    "colab": {
     "base_uri": "https://localhost:8080/",
     "height": 119
    },
    "colab_type": "code",
    "executionInfo": {
     "elapsed": 28393,
     "status": "ok",
     "timestamp": 1572513903742,
     "user": {
      "displayName": "Aleksandar Anžel",
      "photoUrl": "https://lh3.googleusercontent.com/a-/AAuE7mAv_eRLNMWBvr43YXv7UrZwTFOu9RxxodF6fBNOjQ=s64",
      "userId": "09456993545544319729"
     },
     "user_tz": -60
    },
    "id": "sItwpcYX6uEQ",
    "outputId": "5bf4d7a2-7b11-48b9-f5a5-4dbb21f786a6"
   },
   "outputs": [
    {
     "name": "stdout",
     "output_type": "stream",
     "text": [
      "Broj pozitivnih proteina trening skupa, pre balansiranja:  1248\n",
      "Broj negativnih proteina trening skupa, pre balansiranja:  9362\n",
      "Izgled x_trening skupa nakon nadsempliranja: (18910, 43)\n",
      "Izgled y_trening skupa nakon nadsempliranja: (18910,)\n",
      "Broj pozitivnih proteina trening skupa, nakon balansiranja:  9548\n",
      "Broj negativnih proteina trening skupa, nakon balansiranja:  9362\n"
     ]
    }
   ],
   "source": [
    "# Balansiranje podataka nadsempliranjem (ADASYN algoritmom, a ne nasumicnim nadsemplerom) i cuvanje novih podataka (radi se samo za trening skup!)\n",
    "# ADASYN predstavlja poboljsanje SMOTE algoritma koji kreira 'realnije' podatke\n",
    "\n",
    "print ('Broj pozitivnih proteina trening skupa, pre balansiranja: ', sum(y_trening == 1))\n",
    "print ('Broj negativnih proteina trening skupa, pre balansiranja: ', sum(y_trening == 0))\n",
    "\n",
    "nad_sempler_adasyn = ADASYN(random_state = 7, n_jobs = -1)\n",
    "x_trening_nad_adasyn, y_trening_nad_adasyn = nad_sempler_adasyn.fit_sample (x_trening, y_trening)\n",
    "\n",
    "print ('Izgled x_trening skupa nakon nadsempliranja:', x_trening_nad_adasyn.shape)\n",
    "print ('Izgled y_trening skupa nakon nadsempliranja:', y_trening_nad_adasyn.shape)\n",
    "\n",
    "print ('Broj pozitivnih proteina trening skupa, nakon balansiranja: ', sum(y_trening_nad_adasyn == 1))\n",
    "print ('Broj negativnih proteina trening skupa, nakon balansiranja: ', sum(y_trening_nad_adasyn == 0))\n"
   ]
  },
  {
   "cell_type": "code",
   "execution_count": 72,
   "metadata": {
    "colab": {
     "base_uri": "https://localhost:8080/",
     "height": 663
    },
    "colab_type": "code",
    "executionInfo": {
     "elapsed": 29324,
     "status": "ok",
     "timestamp": 1572513904701,
     "user": {
      "displayName": "Aleksandar Anžel",
      "photoUrl": "https://lh3.googleusercontent.com/a-/AAuE7mAv_eRLNMWBvr43YXv7UrZwTFOu9RxxodF6fBNOjQ=s64",
      "userId": "09456993545544319729"
     },
     "user_tz": -60
    },
    "id": "B0IzdUU76uEU",
    "outputId": "52124d9b-1cd1-4d0c-8fe1-3b90877ff9b8"
   },
   "outputs": [
    {
     "data": {
      "image/png": "[encoded data removed]",
      "text/plain": [
       "<Figure size 1800x720 with 4 Axes>"
      ]
     },
     "metadata": {
      "tags": []
     },
     "output_type": "display_data"
    }
   ],
   "source": [
    "# Vizualizacija polaznih podataka trening skupa, zatim podataka nakon podsempliranja i nakon nadsempliranja\n",
    "\n",
    "fig, (ax1, ax2, ax3, ax4) = plt.subplots (1, 4, sharey = True, figsize = (25, 10))\n",
    "plt.suptitle ('Balansiranost klasa trening skupa pre i posle obrade')\n",
    "\n",
    "ax1.set_title ('Klase pre obrade')\n",
    "ax1.set_xticks (ticks = range (2))\n",
    "ax1.set_xticklabels (labels = ['Negativna', 'Pozitivna'])\n",
    "ax1.bar ([0, 1], [sum(y_trening == 0), sum (y_trening == 1)], color = ['blue', 'red'])\n",
    "ax1.grid (linewidth = 0.3)\n",
    "\n",
    "ax2.set_title ('Klase nakon nasumicnog podsempliranja')\n",
    "ax2.set_xticks (ticks = range (2))\n",
    "ax2.set_xticklabels (labels = ['Negativna', 'Pozitivna'])\n",
    "ax2.bar ([0, 1], [sum(y_trening_pod == 0), sum (y_trening_pod == 1)], color = ['blue', 'red'])\n",
    "ax2.grid (linewidth = 0.3)\n",
    "\n",
    "ax3.set_title ('Klase nakon SMOTE nadsempliranja')\n",
    "ax3.set_xticks (ticks = range (2))\n",
    "ax3.set_xticklabels (labels = ['Negativna', 'Pozitivna'])\n",
    "ax3.bar ([0, 1], [sum(y_trening_nad_smote == 0), sum (y_trening_nad_smote == 1)], color = ['blue', 'red'])\n",
    "ax3.grid (linewidth = 0.3)\n",
    "\n",
    "ax4.set_title ('Klase nakon ADASYN nadsempliranja')\n",
    "ax4.set_xticks (ticks = range (2))\n",
    "ax4.set_xticklabels (labels = ['Negativna', 'Pozitivna'])\n",
    "ax4.bar ([0, 1], [sum(y_trening_nad_adasyn == 0), sum (y_trening_nad_adasyn == 1)], color = ['blue', 'red'])\n",
    "ax4.grid (linewidth = 0.3)\n",
    "\n",
    "plt.show()\n"
   ]
  },
  {
   "cell_type": "code",
   "execution_count": null,
   "metadata": {
    "colab": {},
    "colab_type": "code",
    "id": "f_VBlPJe6uEX"
   },
   "outputs": [],
   "source": [
    "# Funkcija za lepo iscrtavanje matrice konfuzije\n",
    "# Preuzeta i modifikovana za potrebe rada sa zvanicnog sajta biblioteke SciKit-Learn:\n",
    "# https://scikit-learn.org/0.21/auto_examples/model_selection/plot_confusion_matrix.html\n",
    "def nacrtaj_matricu_konfuzije (y_test, y_procena, ime_modela):\n",
    "    \n",
    "    #plt.style.use ('dark_background')\n",
    "    mat_konf = met.confusion_matrix(y_test, y_procena)\n",
    "    \n",
    "    # Kreiranje normalizovane verzije matrice konfuzije\n",
    "    norm_mat_konf = mat_konf.astype('float') / mat_konf.sum(axis=1)[:, np.newaxis]\n",
    "    \n",
    "    klase = np.unique (np.hstack ((y_test, y_procena)))\n",
    "    \n",
    "    # Kreiranje grafika za svaku od matrica\n",
    "    fig, (ax_1, ax_2) = plt.subplots (1, 2, figsize = (20, 10))\n",
    "    plt.suptitle ('Matrice konfuzije za model: ' + ime_modela)\n",
    "    \n",
    "    slika_1 = ax_1.imshow (mat_konf, interpolation = 'nearest', cmap = 'Reds')\n",
    "    ax_1.figure.colorbar (slika_1, ax = ax_1, shrink = 0.8)\n",
    "    \n",
    "    slika_2 = ax_2.imshow (norm_mat_konf, interpolation = 'nearest', cmap = 'Reds')\n",
    "    ax_2.figure.colorbar (slika_2, ax = ax_2, shrink = 0.8)\n",
    "    \n",
    "    ax_1.set (xticks = np.arange (mat_konf.shape[1]),\n",
    "              yticks = np.arange (mat_konf.shape[0]),\n",
    "              xticklabels = klase,\n",
    "              yticklabels = klase,\n",
    "              title = 'Matrica konfuzije bez normalizacije',\n",
    "              ylabel = 'Stvarne vrednosti',\n",
    "              xlabel = 'Procenjene vrednosti')\n",
    "    \n",
    "    ax_2.set (xticks = np.arange (norm_mat_konf.shape[1]),\n",
    "              yticks = np.arange (norm_mat_konf.shape[0]),\n",
    "              xticklabels = klase,\n",
    "              yticklabels = klase,\n",
    "              title = 'Normalizovana matrica konfuzije',\n",
    "              ylabel = 'Stvarne vrednosti',\n",
    "              xlabel = 'Procenjene vrednosti')\n",
    "    \n",
    "    # Potrebno zbog baga u trenutnoj verziji Matplotlib-a 3.1.1, izbrisati nakon nadogradnje\n",
    "    # Bag: https://github.com/matplotlib/matplotlib/issues/15154\n",
    "    ################################################################\n",
    "    ax_1.set_ylim (mat_konf.shape[0] - 0.5, -0.5)\n",
    "    ax_2.set_ylim (norm_mat_konf.shape[0] - 0.5, -0.5)\n",
    "    ################################################################\n",
    "    \n",
    "    plt.setp (ax_1.get_xticklabels(), rotation = 45, ha = \"right\", rotation_mode = \"anchor\")\n",
    "    plt.setp (ax_2.get_xticklabels(), rotation = 45, ha = \"right\", rotation_mode = \"anchor\")\n",
    "    \n",
    "    tekst = [['Stvarno negativni\\n','Lazno pozitivni\\n'], ['Lazno negativni\\n', 'Stvarno pozitivni\\n']]\n",
    "    \n",
    "    for i in range (mat_konf.shape[0]):\n",
    "        for j in range(mat_konf.shape[1]):\n",
    "            ax_1.text (j, i, str (tekst[i][j]) + format(mat_konf[i, j], 'g'), horizontalalignment = 'center', verticalalignment = 'center', bbox = dict (facecolor = 'gray', alpha = 0.9))\n",
    "            ax_2.text (j, i, str (tekst[i][j]) + format(norm_mat_konf[i, j], 'g'), horizontalalignment = 'center', verticalalignment = 'center', bbox = dict (facecolor = 'gray', alpha = 0.9))\n",
    "    \n",
    "    fig.tight_layout()\n",
    "    \n",
    "    return ax_1, ax_2\n"
   ]
  },
  {
   "cell_type": "markdown",
   "metadata": {
    "colab_type": "text",
    "id": "iL7r7-7s6uEZ"
   },
   "source": [
    "# 3. Primena modela potpornih vektora u cilju resavanja problema klasifikacije nad razlicito balansiranim polaznim skupom podataka\n",
    "U nastavku ce se uvek primenjivati metod potpornih vektora za klasifikaciju ali nad razlicito balansiranim skupovima podataka i to u sledecem redosledu:\n",
    "* 3.1. Polazni skup podataka nad kojim nisu primenjene eksplicitne tehnike balansiranja\n",
    "    * 3.1.1 Linearni model potpornih vektora bez ukljucenog class_weight parametra (koji uzima u obzir nebalansiranost klasa pri ucenju)\n",
    "    * 3.1.2 Linearni model potpornih vektora sa ukljucenim class_weight parametrom (koji uzima u obzir nebalansiranost klasa pri ucenju)\n",
    "    * 3.1.3 Kernelizovan model potpornih vektora bez ukljucenog class_weight parametra (koji uzima u obzir nebalansiranost klasa pri ucenju)\n",
    "    * 3.1.4 Kernelizovan model potpornih vektora sa ukljucenim class_weight parametrom (koji uzima u obzir nebalansiranost klasa pri ucenju)\n",
    "* 3.2. Polazni skup podataka koji je balansiran nasumicnim podsempliranjem\n",
    "    * 3.2.1 Linearni model potpornih vektora\n",
    "    * 3.2.2 Kernelizovan model potpornih vektora\n",
    "* 3.3. Polazni skup podataka koji je balansiran nadsempliranjem SMOTE algoritmom\n",
    "    * 3.3.1 Linearni model potpornih vektora\n",
    "    * 3.3.2 Kernelizovan model potpornih vektora\n",
    "\n",
    "\n",
    "3.1. sadrzi modele u kojima je aktiviran class_weight parametar na 'balanced' vrednost cisto radi uporedjivanja uspesnosti modela pri razlicitim tehnikama prevazilazenja nebalansiranih klasa.\n",
    "Ovaj parametar na osnovu zvanicne dokumentacije radi sledece:\n",
    "* The “balanced” mode uses the values of y to automatically adjust weights inversely proportional to class frequencies in the input data as n_samples / (n_classes * np.bincount(y))\n",
    "\n",
    "Te je zelja da se iskoristi i ova mogucnost i ispita uspesnost modela i kada se ona aktivira.\n",
    "U delovim 3.2. i 3.3. se taj parametar ne aktivira jer su nam klase eksplicitno balansirane metodama podsempliranja i nadsempliranja te aktiviranje ovog parametra nece dati nikakav efekat."
   ]
  },
  {
   "cell_type": "markdown",
   "metadata": {
    "colab_type": "text",
    "id": "F2Zay2mj6uEa"
   },
   "source": [
    "#### Par reci o parametrima modela potpornih vektora\n",
    "* Treba primetiti da se model trenira tako da se prati 'f1' mera. Ovo je kljucna stavka prilikom rada sa podacima u kojima su klase nebalansirane, jer preciznost i tacnost nece dati pravu uspesnost naseg modela pri klasifikaciji manjinske klase.\n",
    "* Broj iteracija kod linearne verzije je takodje odabran tako da se dostigne konvergencija u vecini slucajeva, do ovog broja sam dosao visestrukim testiranjem\n",
    "* Broj slojeva kros-validacije je najvise ogranicen jacinom mog racunara. U linearnoj verziji je on stavljen na 10, jer je vreme trazenja najboljih parametara ne toliko zahtevan posao, dok kod kernelizovane verzije je on samo 3, jer se ispituje mnogo vise parametara te ova vrednost daje razumno vreme rada procesora\n",
    "* Kod kernelizovanih modela se isprobavaju, kao parametri, svi dostupni kerneli same biblioteke\n"
   ]
  },
  {
   "cell_type": "markdown",
   "metadata": {
    "colab_type": "text",
    "id": "gvGOCcVe6uEb"
   },
   "source": [
    "## 3.1. Polazni skup podataka nad kojim nisu primenjene tehnike balansiranja\n",
    "### 3.1.1 Linearni model potpornih vektora bez ukljucenog class_weight parametra (koji uzima u obzir nebalansiranost klasa pri ucenju)"
   ]
  },
  {
   "cell_type": "code",
   "execution_count": null,
   "metadata": {
    "colab": {},
    "colab_type": "code",
    "id": "kqvvFY9U7hJX"
   },
   "outputs": [],
   "source": [
    "# Definisanje globalnih parametara\n",
    "cv_kern = 5\n",
    "n_jobs_kern = -1\n",
    "max_iter_lin = 10000\n"
   ]
  },
  {
   "cell_type": "code",
   "execution_count": 75,
   "metadata": {
    "colab": {
     "base_uri": "https://localhost:8080/",
     "height": 1000
    },
    "colab_type": "code",
    "executionInfo": {
     "elapsed": 737277,
     "status": "ok",
     "timestamp": 1572514612709,
     "user": {
      "displayName": "Aleksandar Anžel",
      "photoUrl": "https://lh3.googleusercontent.com/a-/AAuE7mAv_eRLNMWBvr43YXv7UrZwTFOu9RxxodF6fBNOjQ=s64",
      "userId": "09456993545544319729"
     },
     "user_tz": -60
    },
    "id": "x4rDHbA66uEd",
    "outputId": "82d2cb4f-0759-49cf-ac69-79ac4003c431"
   },
   "outputs": [
    {
     "name": "stdout",
     "output_type": "stream",
     "text": [
      "Fitting 10 folds for each of 10 candidates, totalling 100 fits\n"
     ]
    },
    {
     "name": "stderr",
     "output_type": "stream",
     "text": [
      "[Parallel(n_jobs=1)]: Using backend SequentialBackend with 1 concurrent workers.\n",
      "/usr/local/lib/python3.6/dist-packages/sklearn/svm/base.py:929: ConvergenceWarning: Liblinear failed to converge, increase the number of iterations.\n",
      "  \"the number of iterations.\", ConvergenceWarning)\n",
      "/usr/local/lib/python3.6/dist-packages/sklearn/svm/base.py:929: ConvergenceWarning: Liblinear failed to converge, increase the number of iterations.\n",
      "  \"the number of iterations.\", ConvergenceWarning)\n",
      "/usr/local/lib/python3.6/dist-packages/sklearn/svm/base.py:929: ConvergenceWarning: Liblinear failed to converge, increase the number of iterations.\n",
      "  \"the number of iterations.\", ConvergenceWarning)\n",
      "/usr/local/lib/python3.6/dist-packages/sklearn/svm/base.py:929: ConvergenceWarning: Liblinear failed to converge, increase the number of iterations.\n",
      "  \"the number of iterations.\", ConvergenceWarning)\n",
      "/usr/local/lib/python3.6/dist-packages/sklearn/svm/base.py:929: ConvergenceWarning: Liblinear failed to converge, increase the number of iterations.\n",
      "  \"the number of iterations.\", ConvergenceWarning)\n",
      "/usr/local/lib/python3.6/dist-packages/sklearn/svm/base.py:929: ConvergenceWarning: Liblinear failed to converge, increase the number of iterations.\n",
      "  \"the number of iterations.\", ConvergenceWarning)\n",
      "/usr/local/lib/python3.6/dist-packages/sklearn/svm/base.py:929: ConvergenceWarning: Liblinear failed to converge, increase the number of iterations.\n",
      "  \"the number of iterations.\", ConvergenceWarning)\n",
      "/usr/local/lib/python3.6/dist-packages/sklearn/svm/base.py:929: ConvergenceWarning: Liblinear failed to converge, increase the number of iterations.\n",
      "  \"the number of iterations.\", ConvergenceWarning)\n",
      "/usr/local/lib/python3.6/dist-packages/sklearn/svm/base.py:929: ConvergenceWarning: Liblinear failed to converge, increase the number of iterations.\n",
      "  \"the number of iterations.\", ConvergenceWarning)\n",
      "/usr/local/lib/python3.6/dist-packages/sklearn/svm/base.py:929: ConvergenceWarning: Liblinear failed to converge, increase the number of iterations.\n",
      "  \"the number of iterations.\", ConvergenceWarning)\n",
      "/usr/local/lib/python3.6/dist-packages/sklearn/svm/base.py:929: ConvergenceWarning: Liblinear failed to converge, increase the number of iterations.\n",
      "  \"the number of iterations.\", ConvergenceWarning)\n",
      "/usr/local/lib/python3.6/dist-packages/sklearn/svm/base.py:929: ConvergenceWarning: Liblinear failed to converge, increase the number of iterations.\n",
      "  \"the number of iterations.\", ConvergenceWarning)\n",
      "/usr/local/lib/python3.6/dist-packages/sklearn/svm/base.py:929: ConvergenceWarning: Liblinear failed to converge, increase the number of iterations.\n",
      "  \"the number of iterations.\", ConvergenceWarning)\n",
      "/usr/local/lib/python3.6/dist-packages/sklearn/svm/base.py:929: ConvergenceWarning: Liblinear failed to converge, increase the number of iterations.\n",
      "  \"the number of iterations.\", ConvergenceWarning)\n",
      "/usr/local/lib/python3.6/dist-packages/sklearn/svm/base.py:929: ConvergenceWarning: Liblinear failed to converge, increase the number of iterations.\n",
      "  \"the number of iterations.\", ConvergenceWarning)\n",
      "/usr/local/lib/python3.6/dist-packages/sklearn/svm/base.py:929: ConvergenceWarning: Liblinear failed to converge, increase the number of iterations.\n",
      "  \"the number of iterations.\", ConvergenceWarning)\n",
      "/usr/local/lib/python3.6/dist-packages/sklearn/svm/base.py:929: ConvergenceWarning: Liblinear failed to converge, increase the number of iterations.\n",
      "  \"the number of iterations.\", ConvergenceWarning)\n",
      "/usr/local/lib/python3.6/dist-packages/sklearn/svm/base.py:929: ConvergenceWarning: Liblinear failed to converge, increase the number of iterations.\n",
      "  \"the number of iterations.\", ConvergenceWarning)\n",
      "/usr/local/lib/python3.6/dist-packages/sklearn/svm/base.py:929: ConvergenceWarning: Liblinear failed to converge, increase the number of iterations.\n",
      "  \"the number of iterations.\", ConvergenceWarning)\n",
      "/usr/local/lib/python3.6/dist-packages/sklearn/svm/base.py:929: ConvergenceWarning: Liblinear failed to converge, increase the number of iterations.\n",
      "  \"the number of iterations.\", ConvergenceWarning)\n",
      "/usr/local/lib/python3.6/dist-packages/sklearn/svm/base.py:929: ConvergenceWarning: Liblinear failed to converge, increase the number of iterations.\n",
      "  \"the number of iterations.\", ConvergenceWarning)\n",
      "/usr/local/lib/python3.6/dist-packages/sklearn/svm/base.py:929: ConvergenceWarning: Liblinear failed to converge, increase the number of iterations.\n",
      "  \"the number of iterations.\", ConvergenceWarning)\n",
      "/usr/local/lib/python3.6/dist-packages/sklearn/svm/base.py:929: ConvergenceWarning: Liblinear failed to converge, increase the number of iterations.\n",
      "  \"the number of iterations.\", ConvergenceWarning)\n",
      "/usr/local/lib/python3.6/dist-packages/sklearn/svm/base.py:929: ConvergenceWarning: Liblinear failed to converge, increase the number of iterations.\n",
      "  \"the number of iterations.\", ConvergenceWarning)\n",
      "/usr/local/lib/python3.6/dist-packages/sklearn/svm/base.py:929: ConvergenceWarning: Liblinear failed to converge, increase the number of iterations.\n",
      "  \"the number of iterations.\", ConvergenceWarning)\n",
      "/usr/local/lib/python3.6/dist-packages/sklearn/svm/base.py:929: ConvergenceWarning: Liblinear failed to converge, increase the number of iterations.\n",
      "  \"the number of iterations.\", ConvergenceWarning)\n",
      "/usr/local/lib/python3.6/dist-packages/sklearn/svm/base.py:929: ConvergenceWarning: Liblinear failed to converge, increase the number of iterations.\n",
      "  \"the number of iterations.\", ConvergenceWarning)\n",
      "/usr/local/lib/python3.6/dist-packages/sklearn/svm/base.py:929: ConvergenceWarning: Liblinear failed to converge, increase the number of iterations.\n",
      "  \"the number of iterations.\", ConvergenceWarning)\n",
      "/usr/local/lib/python3.6/dist-packages/sklearn/svm/base.py:929: ConvergenceWarning: Liblinear failed to converge, increase the number of iterations.\n",
      "  \"the number of iterations.\", ConvergenceWarning)\n",
      "/usr/local/lib/python3.6/dist-packages/sklearn/svm/base.py:929: ConvergenceWarning: Liblinear failed to converge, increase the number of iterations.\n",
      "  \"the number of iterations.\", ConvergenceWarning)\n",
      "/usr/local/lib/python3.6/dist-packages/sklearn/svm/base.py:929: ConvergenceWarning: Liblinear failed to converge, increase the number of iterations.\n",
      "  \"the number of iterations.\", ConvergenceWarning)\n",
      "/usr/local/lib/python3.6/dist-packages/sklearn/svm/base.py:929: ConvergenceWarning: Liblinear failed to converge, increase the number of iterations.\n",
      "  \"the number of iterations.\", ConvergenceWarning)\n",
      "/usr/local/lib/python3.6/dist-packages/sklearn/svm/base.py:929: ConvergenceWarning: Liblinear failed to converge, increase the number of iterations.\n",
      "  \"the number of iterations.\", ConvergenceWarning)\n",
      "/usr/local/lib/python3.6/dist-packages/sklearn/svm/base.py:929: ConvergenceWarning: Liblinear failed to converge, increase the number of iterations.\n",
      "  \"the number of iterations.\", ConvergenceWarning)\n",
      "/usr/local/lib/python3.6/dist-packages/sklearn/svm/base.py:929: ConvergenceWarning: Liblinear failed to converge, increase the number of iterations.\n",
      "  \"the number of iterations.\", ConvergenceWarning)\n",
      "/usr/local/lib/python3.6/dist-packages/sklearn/svm/base.py:929: ConvergenceWarning: Liblinear failed to converge, increase the number of iterations.\n",
      "  \"the number of iterations.\", ConvergenceWarning)\n",
      "/usr/local/lib/python3.6/dist-packages/sklearn/svm/base.py:929: ConvergenceWarning: Liblinear failed to converge, increase the number of iterations.\n",
      "  \"the number of iterations.\", ConvergenceWarning)\n",
      "/usr/local/lib/python3.6/dist-packages/sklearn/svm/base.py:929: ConvergenceWarning: Liblinear failed to converge, increase the number of iterations.\n",
      "  \"the number of iterations.\", ConvergenceWarning)\n",
      "/usr/local/lib/python3.6/dist-packages/sklearn/svm/base.py:929: ConvergenceWarning: Liblinear failed to converge, increase the number of iterations.\n",
      "  \"the number of iterations.\", ConvergenceWarning)\n",
      "/usr/local/lib/python3.6/dist-packages/sklearn/svm/base.py:929: ConvergenceWarning: Liblinear failed to converge, increase the number of iterations.\n",
      "  \"the number of iterations.\", ConvergenceWarning)\n",
      "/usr/local/lib/python3.6/dist-packages/sklearn/svm/base.py:929: ConvergenceWarning: Liblinear failed to converge, increase the number of iterations.\n",
      "  \"the number of iterations.\", ConvergenceWarning)\n",
      "/usr/local/lib/python3.6/dist-packages/sklearn/svm/base.py:929: ConvergenceWarning: Liblinear failed to converge, increase the number of iterations.\n",
      "  \"the number of iterations.\", ConvergenceWarning)\n",
      "/usr/local/lib/python3.6/dist-packages/sklearn/svm/base.py:929: ConvergenceWarning: Liblinear failed to converge, increase the number of iterations.\n",
      "  \"the number of iterations.\", ConvergenceWarning)\n",
      "/usr/local/lib/python3.6/dist-packages/sklearn/svm/base.py:929: ConvergenceWarning: Liblinear failed to converge, increase the number of iterations.\n",
      "  \"the number of iterations.\", ConvergenceWarning)\n",
      "/usr/local/lib/python3.6/dist-packages/sklearn/svm/base.py:929: ConvergenceWarning: Liblinear failed to converge, increase the number of iterations.\n",
      "  \"the number of iterations.\", ConvergenceWarning)\n",
      "/usr/local/lib/python3.6/dist-packages/sklearn/svm/base.py:929: ConvergenceWarning: Liblinear failed to converge, increase the number of iterations.\n",
      "  \"the number of iterations.\", ConvergenceWarning)\n",
      "/usr/local/lib/python3.6/dist-packages/sklearn/svm/base.py:929: ConvergenceWarning: Liblinear failed to converge, increase the number of iterations.\n",
      "  \"the number of iterations.\", ConvergenceWarning)\n",
      "/usr/local/lib/python3.6/dist-packages/sklearn/svm/base.py:929: ConvergenceWarning: Liblinear failed to converge, increase the number of iterations.\n",
      "  \"the number of iterations.\", ConvergenceWarning)\n",
      "/usr/local/lib/python3.6/dist-packages/sklearn/svm/base.py:929: ConvergenceWarning: Liblinear failed to converge, increase the number of iterations.\n",
      "  \"the number of iterations.\", ConvergenceWarning)\n"
     ]
    },
    {
     "name": "stdout",
     "output_type": "stream",
     "text": [
      "Parametri najboljeg modela: {'C': 1e-05}\n",
      "Izvestaj klasifikacije linearnog mpv-a:\n",
      "               precision    recall  f1-score   support\n",
      "\n",
      "           0       0.94      0.94      0.94      4612\n",
      "           1       0.55      0.53      0.54       615\n",
      "\n",
      "    accuracy                           0.89      5227\n",
      "   macro avg       0.74      0.74      0.74      5227\n",
      "weighted avg       0.89      0.89      0.89      5227\n",
      "\n"
     ]
    },
    {
     "name": "stderr",
     "output_type": "stream",
     "text": [
      "/usr/local/lib/python3.6/dist-packages/sklearn/svm/base.py:929: ConvergenceWarning: Liblinear failed to converge, increase the number of iterations.\n",
      "  \"the number of iterations.\", ConvergenceWarning)\n",
      "[Parallel(n_jobs=1)]: Done 100 out of 100 | elapsed: 11.8min finished\n"
     ]
    }
   ],
   "source": [
    "# Za svaku od verzija podataka, isprobavanje razlicitih modela masinskog ucenja\n",
    "# Za pocetak koristim samo SVM (metod potpornih vektora, sa razlicitim kernelima, ukljucujuci i linearni oblik)\n",
    "\n",
    "# Definisanje metaparametara linearnog modela\n",
    "parametri_lin = {'C': [10**i for i in range (-5, 5)]}\n",
    "\n",
    "# Linearni model potpornih vektora bez aktiviranog ugradjeno parametra class_weight\n",
    "mpv_lin_nebal = ms.GridSearchCV (svm.LinearSVC (random_state = 7, class_weight = None, max_iter = max_iter_lin), param_grid = parametri_lin, scoring = 'f1', n_jobs = 1, cv = 10, verbose = 1)\n",
    "mpv_lin_nebal.fit (x_trening, y_trening)\n",
    "y_procena = mpv_lin_nebal.predict (x_test)\n",
    "\n",
    "print ('Parametri najboljeg modela:', mpv_lin_nebal.best_params_)\n",
    "print ('Izvestaj klasifikacije linearnog mpv-a:\\n', met.classification_report (y_test, y_procena))\n"
   ]
  },
  {
   "cell_type": "code",
   "execution_count": 76,
   "metadata": {
    "colab": {
     "base_uri": "https://localhost:8080/",
     "height": 684
    },
    "colab_type": "code",
    "executionInfo": {
     "elapsed": 738156,
     "status": "ok",
     "timestamp": 1572514613609,
     "user": {
      "displayName": "Aleksandar Anžel",
      "photoUrl": "https://lh3.googleusercontent.com/a-/AAuE7mAv_eRLNMWBvr43YXv7UrZwTFOu9RxxodF6fBNOjQ=s64",
      "userId": "09456993545544319729"
     },
     "user_tz": -60
    },
    "id": "1lyywDma6uEg",
    "outputId": "1c50ee64-8023-42fc-d90b-91beb3f7e338"
   },
   "outputs": [
    {
     "data": {
      "image/png": "[encoded data removed]",
      "text/plain": [
       "<Figure size 1440x720 with 4 Axes>"
      ]
     },
     "metadata": {
      "tags": []
     },
     "output_type": "display_data"
    }
   ],
   "source": [
    "# Iscrtavanje matrice konfuzije za prethodni model\n",
    "nacrtaj_matricu_konfuzije (y_test, y_procena, 'MPV linearni nebalansirani ' + str (mpv_lin_nebal.best_params_))\n",
    "plt.show()\n"
   ]
  },
  {
   "cell_type": "markdown",
   "metadata": {
    "colab_type": "text",
    "id": "oztkuEFH6uEi"
   },
   "source": [
    "### 3.1.2 Linearni model potpornih vektora sa ukljucenim class_weight parametrom (koji uzima u obzir nebalansiranost klasa pri ucenju)"
   ]
  },
  {
   "cell_type": "code",
   "execution_count": 77,
   "metadata": {
    "colab": {
     "base_uri": "https://localhost:8080/",
     "height": 1000
    },
    "colab_type": "code",
    "executionInfo": {
     "elapsed": 1565991,
     "status": "ok",
     "timestamp": 1572515441456,
     "user": {
      "displayName": "Aleksandar Anžel",
      "photoUrl": "https://lh3.googleusercontent.com/a-/AAuE7mAv_eRLNMWBvr43YXv7UrZwTFOu9RxxodF6fBNOjQ=s64",
      "userId": "09456993545544319729"
     },
     "user_tz": -60
    },
    "id": "Yv6BFA5k6uEj",
    "outputId": "0efd32d5-f66d-4993-973f-41f6bd173df4"
   },
   "outputs": [
    {
     "name": "stdout",
     "output_type": "stream",
     "text": [
      "Fitting 10 folds for each of 10 candidates, totalling 100 fits\n"
     ]
    },
    {
     "name": "stderr",
     "output_type": "stream",
     "text": [
      "[Parallel(n_jobs=1)]: Using backend SequentialBackend with 1 concurrent workers.\n",
      "/usr/local/lib/python3.6/dist-packages/sklearn/svm/base.py:929: ConvergenceWarning: Liblinear failed to converge, increase the number of iterations.\n",
      "  \"the number of iterations.\", ConvergenceWarning)\n",
      "/usr/local/lib/python3.6/dist-packages/sklearn/svm/base.py:929: ConvergenceWarning: Liblinear failed to converge, increase the number of iterations.\n",
      "  \"the number of iterations.\", ConvergenceWarning)\n",
      "/usr/local/lib/python3.6/dist-packages/sklearn/svm/base.py:929: ConvergenceWarning: Liblinear failed to converge, increase the number of iterations.\n",
      "  \"the number of iterations.\", ConvergenceWarning)\n",
      "/usr/local/lib/python3.6/dist-packages/sklearn/svm/base.py:929: ConvergenceWarning: Liblinear failed to converge, increase the number of iterations.\n",
      "  \"the number of iterations.\", ConvergenceWarning)\n",
      "/usr/local/lib/python3.6/dist-packages/sklearn/svm/base.py:929: ConvergenceWarning: Liblinear failed to converge, increase the number of iterations.\n",
      "  \"the number of iterations.\", ConvergenceWarning)\n",
      "/usr/local/lib/python3.6/dist-packages/sklearn/svm/base.py:929: ConvergenceWarning: Liblinear failed to converge, increase the number of iterations.\n",
      "  \"the number of iterations.\", ConvergenceWarning)\n",
      "/usr/local/lib/python3.6/dist-packages/sklearn/svm/base.py:929: ConvergenceWarning: Liblinear failed to converge, increase the number of iterations.\n",
      "  \"the number of iterations.\", ConvergenceWarning)\n",
      "/usr/local/lib/python3.6/dist-packages/sklearn/svm/base.py:929: ConvergenceWarning: Liblinear failed to converge, increase the number of iterations.\n",
      "  \"the number of iterations.\", ConvergenceWarning)\n",
      "/usr/local/lib/python3.6/dist-packages/sklearn/svm/base.py:929: ConvergenceWarning: Liblinear failed to converge, increase the number of iterations.\n",
      "  \"the number of iterations.\", ConvergenceWarning)\n",
      "/usr/local/lib/python3.6/dist-packages/sklearn/svm/base.py:929: ConvergenceWarning: Liblinear failed to converge, increase the number of iterations.\n",
      "  \"the number of iterations.\", ConvergenceWarning)\n",
      "/usr/local/lib/python3.6/dist-packages/sklearn/svm/base.py:929: ConvergenceWarning: Liblinear failed to converge, increase the number of iterations.\n",
      "  \"the number of iterations.\", ConvergenceWarning)\n",
      "/usr/local/lib/python3.6/dist-packages/sklearn/svm/base.py:929: ConvergenceWarning: Liblinear failed to converge, increase the number of iterations.\n",
      "  \"the number of iterations.\", ConvergenceWarning)\n",
      "/usr/local/lib/python3.6/dist-packages/sklearn/svm/base.py:929: ConvergenceWarning: Liblinear failed to converge, increase the number of iterations.\n",
      "  \"the number of iterations.\", ConvergenceWarning)\n",
      "/usr/local/lib/python3.6/dist-packages/sklearn/svm/base.py:929: ConvergenceWarning: Liblinear failed to converge, increase the number of iterations.\n",
      "  \"the number of iterations.\", ConvergenceWarning)\n",
      "/usr/local/lib/python3.6/dist-packages/sklearn/svm/base.py:929: ConvergenceWarning: Liblinear failed to converge, increase the number of iterations.\n",
      "  \"the number of iterations.\", ConvergenceWarning)\n",
      "/usr/local/lib/python3.6/dist-packages/sklearn/svm/base.py:929: ConvergenceWarning: Liblinear failed to converge, increase the number of iterations.\n",
      "  \"the number of iterations.\", ConvergenceWarning)\n",
      "/usr/local/lib/python3.6/dist-packages/sklearn/svm/base.py:929: ConvergenceWarning: Liblinear failed to converge, increase the number of iterations.\n",
      "  \"the number of iterations.\", ConvergenceWarning)\n",
      "/usr/local/lib/python3.6/dist-packages/sklearn/svm/base.py:929: ConvergenceWarning: Liblinear failed to converge, increase the number of iterations.\n",
      "  \"the number of iterations.\", ConvergenceWarning)\n",
      "/usr/local/lib/python3.6/dist-packages/sklearn/svm/base.py:929: ConvergenceWarning: Liblinear failed to converge, increase the number of iterations.\n",
      "  \"the number of iterations.\", ConvergenceWarning)\n",
      "/usr/local/lib/python3.6/dist-packages/sklearn/svm/base.py:929: ConvergenceWarning: Liblinear failed to converge, increase the number of iterations.\n",
      "  \"the number of iterations.\", ConvergenceWarning)\n",
      "/usr/local/lib/python3.6/dist-packages/sklearn/svm/base.py:929: ConvergenceWarning: Liblinear failed to converge, increase the number of iterations.\n",
      "  \"the number of iterations.\", ConvergenceWarning)\n",
      "/usr/local/lib/python3.6/dist-packages/sklearn/svm/base.py:929: ConvergenceWarning: Liblinear failed to converge, increase the number of iterations.\n",
      "  \"the number of iterations.\", ConvergenceWarning)\n",
      "/usr/local/lib/python3.6/dist-packages/sklearn/svm/base.py:929: ConvergenceWarning: Liblinear failed to converge, increase the number of iterations.\n",
      "  \"the number of iterations.\", ConvergenceWarning)\n",
      "/usr/local/lib/python3.6/dist-packages/sklearn/svm/base.py:929: ConvergenceWarning: Liblinear failed to converge, increase the number of iterations.\n",
      "  \"the number of iterations.\", ConvergenceWarning)\n",
      "/usr/local/lib/python3.6/dist-packages/sklearn/svm/base.py:929: ConvergenceWarning: Liblinear failed to converge, increase the number of iterations.\n",
      "  \"the number of iterations.\", ConvergenceWarning)\n",
      "/usr/local/lib/python3.6/dist-packages/sklearn/svm/base.py:929: ConvergenceWarning: Liblinear failed to converge, increase the number of iterations.\n",
      "  \"the number of iterations.\", ConvergenceWarning)\n",
      "/usr/local/lib/python3.6/dist-packages/sklearn/svm/base.py:929: ConvergenceWarning: Liblinear failed to converge, increase the number of iterations.\n",
      "  \"the number of iterations.\", ConvergenceWarning)\n",
      "/usr/local/lib/python3.6/dist-packages/sklearn/svm/base.py:929: ConvergenceWarning: Liblinear failed to converge, increase the number of iterations.\n",
      "  \"the number of iterations.\", ConvergenceWarning)\n",
      "/usr/local/lib/python3.6/dist-packages/sklearn/svm/base.py:929: ConvergenceWarning: Liblinear failed to converge, increase the number of iterations.\n",
      "  \"the number of iterations.\", ConvergenceWarning)\n",
      "/usr/local/lib/python3.6/dist-packages/sklearn/svm/base.py:929: ConvergenceWarning: Liblinear failed to converge, increase the number of iterations.\n",
      "  \"the number of iterations.\", ConvergenceWarning)\n",
      "/usr/local/lib/python3.6/dist-packages/sklearn/svm/base.py:929: ConvergenceWarning: Liblinear failed to converge, increase the number of iterations.\n",
      "  \"the number of iterations.\", ConvergenceWarning)\n",
      "/usr/local/lib/python3.6/dist-packages/sklearn/svm/base.py:929: ConvergenceWarning: Liblinear failed to converge, increase the number of iterations.\n",
      "  \"the number of iterations.\", ConvergenceWarning)\n",
      "/usr/local/lib/python3.6/dist-packages/sklearn/svm/base.py:929: ConvergenceWarning: Liblinear failed to converge, increase the number of iterations.\n",
      "  \"the number of iterations.\", ConvergenceWarning)\n",
      "/usr/local/lib/python3.6/dist-packages/sklearn/svm/base.py:929: ConvergenceWarning: Liblinear failed to converge, increase the number of iterations.\n",
      "  \"the number of iterations.\", ConvergenceWarning)\n",
      "/usr/local/lib/python3.6/dist-packages/sklearn/svm/base.py:929: ConvergenceWarning: Liblinear failed to converge, increase the number of iterations.\n",
      "  \"the number of iterations.\", ConvergenceWarning)\n",
      "/usr/local/lib/python3.6/dist-packages/sklearn/svm/base.py:929: ConvergenceWarning: Liblinear failed to converge, increase the number of iterations.\n",
      "  \"the number of iterations.\", ConvergenceWarning)\n",
      "/usr/local/lib/python3.6/dist-packages/sklearn/svm/base.py:929: ConvergenceWarning: Liblinear failed to converge, increase the number of iterations.\n",
      "  \"the number of iterations.\", ConvergenceWarning)\n",
      "/usr/local/lib/python3.6/dist-packages/sklearn/svm/base.py:929: ConvergenceWarning: Liblinear failed to converge, increase the number of iterations.\n",
      "  \"the number of iterations.\", ConvergenceWarning)\n",
      "/usr/local/lib/python3.6/dist-packages/sklearn/svm/base.py:929: ConvergenceWarning: Liblinear failed to converge, increase the number of iterations.\n",
      "  \"the number of iterations.\", ConvergenceWarning)\n",
      "/usr/local/lib/python3.6/dist-packages/sklearn/svm/base.py:929: ConvergenceWarning: Liblinear failed to converge, increase the number of iterations.\n",
      "  \"the number of iterations.\", ConvergenceWarning)\n",
      "/usr/local/lib/python3.6/dist-packages/sklearn/svm/base.py:929: ConvergenceWarning: Liblinear failed to converge, increase the number of iterations.\n",
      "  \"the number of iterations.\", ConvergenceWarning)\n",
      "/usr/local/lib/python3.6/dist-packages/sklearn/svm/base.py:929: ConvergenceWarning: Liblinear failed to converge, increase the number of iterations.\n",
      "  \"the number of iterations.\", ConvergenceWarning)\n",
      "/usr/local/lib/python3.6/dist-packages/sklearn/svm/base.py:929: ConvergenceWarning: Liblinear failed to converge, increase the number of iterations.\n",
      "  \"the number of iterations.\", ConvergenceWarning)\n",
      "/usr/local/lib/python3.6/dist-packages/sklearn/svm/base.py:929: ConvergenceWarning: Liblinear failed to converge, increase the number of iterations.\n",
      "  \"the number of iterations.\", ConvergenceWarning)\n",
      "/usr/local/lib/python3.6/dist-packages/sklearn/svm/base.py:929: ConvergenceWarning: Liblinear failed to converge, increase the number of iterations.\n",
      "  \"the number of iterations.\", ConvergenceWarning)\n",
      "/usr/local/lib/python3.6/dist-packages/sklearn/svm/base.py:929: ConvergenceWarning: Liblinear failed to converge, increase the number of iterations.\n",
      "  \"the number of iterations.\", ConvergenceWarning)\n",
      "/usr/local/lib/python3.6/dist-packages/sklearn/svm/base.py:929: ConvergenceWarning: Liblinear failed to converge, increase the number of iterations.\n",
      "  \"the number of iterations.\", ConvergenceWarning)\n",
      "/usr/local/lib/python3.6/dist-packages/sklearn/svm/base.py:929: ConvergenceWarning: Liblinear failed to converge, increase the number of iterations.\n",
      "  \"the number of iterations.\", ConvergenceWarning)\n",
      "/usr/local/lib/python3.6/dist-packages/sklearn/svm/base.py:929: ConvergenceWarning: Liblinear failed to converge, increase the number of iterations.\n",
      "  \"the number of iterations.\", ConvergenceWarning)\n",
      "/usr/local/lib/python3.6/dist-packages/sklearn/svm/base.py:929: ConvergenceWarning: Liblinear failed to converge, increase the number of iterations.\n",
      "  \"the number of iterations.\", ConvergenceWarning)\n",
      "[Parallel(n_jobs=1)]: Done 100 out of 100 | elapsed: 13.5min finished\n"
     ]
    },
    {
     "name": "stdout",
     "output_type": "stream",
     "text": [
      "Parametri najboljeg modela: {'C': 100}\n",
      "Izvestaj klasifikacije linearnog mpv-a:\n",
      "               precision    recall  f1-score   support\n",
      "\n",
      "           0       0.96      0.90      0.93      4612\n",
      "           1       0.48      0.69      0.56       615\n",
      "\n",
      "    accuracy                           0.88      5227\n",
      "   macro avg       0.72      0.79      0.75      5227\n",
      "weighted avg       0.90      0.88      0.88      5227\n",
      "\n"
     ]
    },
    {
     "name": "stderr",
     "output_type": "stream",
     "text": [
      "/usr/local/lib/python3.6/dist-packages/sklearn/svm/base.py:929: ConvergenceWarning: Liblinear failed to converge, increase the number of iterations.\n",
      "  \"the number of iterations.\", ConvergenceWarning)\n"
     ]
    }
   ],
   "source": [
    "# Linearni model potpornih vektora sa balansiranim klasama pomocu ugradjenog parametra\n",
    "mpv_lin_bal = ms.GridSearchCV (svm.LinearSVC (random_state = 7, class_weight = 'balanced', max_iter = max_iter_lin), param_grid = parametri_lin, scoring = 'f1', n_jobs = 1, cv = 10, verbose = 1)\n",
    "mpv_lin_bal.fit (x_trening, y_trening)\n",
    "y_procena = mpv_lin_bal.predict (x_test)\n",
    "\n",
    "print ('Parametri najboljeg modela:', mpv_lin_bal.best_params_)\n",
    "print ('Izvestaj klasifikacije linearnog mpv-a:\\n', met.classification_report (y_test, y_procena))\n"
   ]
  },
  {
   "cell_type": "code",
   "execution_count": 78,
   "metadata": {
    "colab": {
     "base_uri": "https://localhost:8080/",
     "height": 684
    },
    "colab_type": "code",
    "executionInfo": {
     "elapsed": 1566661,
     "status": "ok",
     "timestamp": 1572515442138,
     "user": {
      "displayName": "Aleksandar Anžel",
      "photoUrl": "https://lh3.googleusercontent.com/a-/AAuE7mAv_eRLNMWBvr43YXv7UrZwTFOu9RxxodF6fBNOjQ=s64",
      "userId": "09456993545544319729"
     },
     "user_tz": -60
    },
    "id": "9YWZlWxS6uEm",
    "outputId": "4ac0a5aa-80e4-4651-8998-e2bcbabe6afc"
   },
   "outputs": [
    {
     "data": {
      "image/png": "[encoded data removed]",
      "text/plain": [
       "<Figure size 1440x720 with 4 Axes>"
      ]
     },
     "metadata": {
      "tags": []
     },
     "output_type": "display_data"
    }
   ],
   "source": [
    "# Iscrtavanje matrice konfuzije za prethodni model\n",
    "nacrtaj_matricu_konfuzije (y_test, y_procena, 'MPV linearni balansirani ' + str (mpv_lin_bal.best_params_))\n",
    "plt.show()\n"
   ]
  },
  {
   "cell_type": "markdown",
   "metadata": {
    "colab_type": "text",
    "id": "QMUVL6fu6uEp"
   },
   "source": [
    "### 3.1.3 Kernelizovan model potpornih vektora bez ukljucenog class_weight parametra (koji uzima u obzir nebalansiranost klasa pri ucenju)"
   ]
  },
  {
   "cell_type": "code",
   "execution_count": 79,
   "metadata": {
    "colab": {
     "base_uri": "https://localhost:8080/",
     "height": 411
    },
    "colab_type": "code",
    "executionInfo": {
     "elapsed": 1838839,
     "status": "ok",
     "timestamp": 1572521040892,
     "user": {
      "displayName": "Aleksandar Anžel",
      "photoUrl": "https://lh3.googleusercontent.com/a-/AAuE7mAv_eRLNMWBvr43YXv7UrZwTFOu9RxxodF6fBNOjQ=s64",
      "userId": "09456993545544319729"
     },
     "user_tz": -60
    },
    "id": "iqVd5Zx86uEp",
    "outputId": "022df814-78cc-4e33-f92e-40524284189a"
   },
   "outputs": [
    {
     "name": "stdout",
     "output_type": "stream",
     "text": [
      "Fitting 5 folds for each of 300 candidates, totalling 1500 fits\n"
     ]
    },
    {
     "name": "stderr",
     "output_type": "stream",
     "text": [
      "[Parallel(n_jobs=-1)]: Using backend LokyBackend with 2 concurrent workers.\n",
      "[Parallel(n_jobs=-1)]: Done  37 tasks      | elapsed:   43.3s\n",
      "[Parallel(n_jobs=-1)]: Done 158 tasks      | elapsed:  5.2min\n",
      "[Parallel(n_jobs=-1)]: Done 361 tasks      | elapsed: 11.4min\n",
      "/usr/local/lib/python3.6/dist-packages/joblib/externals/loky/process_executor.py:706: UserWarning: A worker stopped while some jobs were given to the executor. This can be caused by a too short worker timeout or by a memory leak.\n",
      "  \"timeout or by a memory leak.\", UserWarning\n",
      "[Parallel(n_jobs=-1)]: Done 644 tasks      | elapsed: 24.4min\n",
      "[Parallel(n_jobs=-1)]: Done 1009 tasks      | elapsed: 49.2min\n",
      "[Parallel(n_jobs=-1)]: Done 1454 tasks      | elapsed: 87.5min\n",
      "[Parallel(n_jobs=-1)]: Done 1500 out of 1500 | elapsed: 93.2min finished\n"
     ]
    },
    {
     "name": "stdout",
     "output_type": "stream",
     "text": [
      "Parametri najboljeg modela: {'C': 10, 'gamma': 0.1, 'kernel': 'rbf'}\n",
      "Izvestaj klasifikacije kernelizovanog mpv-a:\n",
      "               precision    recall  f1-score   support\n",
      "\n",
      "           0       0.96      0.99      0.97      4612\n",
      "           1       0.88      0.68      0.77       615\n",
      "\n",
      "    accuracy                           0.95      5227\n",
      "   macro avg       0.92      0.83      0.87      5227\n",
      "weighted avg       0.95      0.95      0.95      5227\n",
      "\n"
     ]
    }
   ],
   "source": [
    "# Definisanje metaparametara kernelizovanog modela\n",
    "parametri_kern = {'kernel': ['poly', 'rbf', 'sigmoid'], 'gamma': [10**i for i in range(-5, 5)], 'C': [10**i for i in range (-5, 5)]}\n",
    "\n",
    "# Kernelizovani model potpornih vektora bez aktiviranog ugradjeno parametra class_weight\n",
    "mpv_kern_nebal = ms.GridSearchCV (svm.SVC(class_weight = None, random_state = 7), param_grid = parametri_kern, scoring = 'f1', n_jobs = n_jobs_kern, cv = cv_kern, verbose = 2)\n",
    "mpv_kern_nebal.fit (x_trening, y_trening)\n",
    "y_procena = mpv_kern_nebal.predict (x_test)\n",
    "\n",
    "print ('Parametri najboljeg modela:', mpv_kern_nebal.best_params_)\n",
    "print ('Izvestaj klasifikacije kernelizovanog mpv-a:\\n', met.classification_report (y_test, y_procena))\n"
   ]
  },
  {
   "cell_type": "code",
   "execution_count": 80,
   "metadata": {
    "colab": {
     "base_uri": "https://localhost:8080/",
     "height": 684
    },
    "colab_type": "code",
    "executionInfo": {
     "elapsed": 918,
     "status": "ok",
     "timestamp": 1572521041802,
     "user": {
      "displayName": "Aleksandar Anžel",
      "photoUrl": "https://lh3.googleusercontent.com/a-/AAuE7mAv_eRLNMWBvr43YXv7UrZwTFOu9RxxodF6fBNOjQ=s64",
      "userId": "09456993545544319729"
     },
     "user_tz": -60
    },
    "id": "UtULMoff6uEt",
    "outputId": "df515307-4c54-48e8-c65f-6a6673c48d26"
   },
   "outputs": [
    {
     "data": {
      "image/png": "[encoded data removed]",
      "text/plain": [
       "<Figure size 1440x720 with 4 Axes>"
      ]
     },
     "metadata": {
      "tags": []
     },
     "output_type": "display_data"
    }
   ],
   "source": [
    "# Iscrtavanje matrice konfuzije za prethodni model\n",
    "nacrtaj_matricu_konfuzije (y_test, y_procena, 'MPV kernelizovan nebalansiran' + str (mpv_kern_nebal.best_params_))\n",
    "plt.show()"
   ]
  },
  {
   "cell_type": "code",
   "execution_count": null,
   "metadata": {
    "colab": {},
    "colab_type": "code",
    "id": "ysFM96q-6uEw"
   },
   "outputs": [],
   "source": [
    "# Cuvanje rezultata kros-validacije u .csv fajl\n",
    "putanja_za_rezultate = os.path.join ('..', 'data', 'Rezultati_Uniprot_cist')\n",
    "\n",
    "df_mpv_kern_nebal = pd.DataFrame (mpv_kern_nebal.cv_results_)\n",
    "df_mpv_kern_nebal.to_csv (os.path.join (putanja_za_rezultate, 'MPV_KERN_NEBAL.csv'))\n",
    "#df_mpv_kern_nebal\n"
   ]
  },
  {
   "cell_type": "markdown",
   "metadata": {
    "colab_type": "text",
    "id": "5eg_6iIz6uEz"
   },
   "source": [
    "### 3.1.4 Kernelizovan model potpornih vektora sa ukljucenim class_weight parametrom (koji uzima u obzir nebalansiranost klasa pri ucenju)"
   ]
  },
  {
   "cell_type": "code",
   "execution_count": 84,
   "metadata": {
    "colab": {
     "base_uri": "https://localhost:8080/",
     "height": 357
    },
    "colab_type": "code",
    "executionInfo": {
     "elapsed": 4637050,
     "status": "ok",
     "timestamp": 1572530158605,
     "user": {
      "displayName": "Aleksandar Anžel",
      "photoUrl": "https://lh3.googleusercontent.com/a-/AAuE7mAv_eRLNMWBvr43YXv7UrZwTFOu9RxxodF6fBNOjQ=s64",
      "userId": "09456993545544319729"
     },
     "user_tz": -60
    },
    "id": "29oKe2hb6uE0",
    "outputId": "c2091f33-175a-4eb7-cc27-41f65d03b8f3"
   },
   "outputs": [
    {
     "name": "stdout",
     "output_type": "stream",
     "text": [
      "Fitting 5 folds for each of 300 candidates, totalling 1500 fits\n"
     ]
    },
    {
     "name": "stderr",
     "output_type": "stream",
     "text": [
      "[Parallel(n_jobs=-1)]: Using backend LokyBackend with 2 concurrent workers.\n",
      "[Parallel(n_jobs=-1)]: Done  37 tasks      | elapsed:  3.8min\n",
      "[Parallel(n_jobs=-1)]: Done 158 tasks      | elapsed: 15.9min\n",
      "[Parallel(n_jobs=-1)]: Done 361 tasks      | elapsed: 36.2min\n",
      "[Parallel(n_jobs=-1)]: Done 644 tasks      | elapsed: 61.9min\n",
      "[Parallel(n_jobs=-1)]: Done 1009 tasks      | elapsed: 95.4min\n",
      "[Parallel(n_jobs=-1)]: Done 1454 tasks      | elapsed: 142.6min\n",
      "[Parallel(n_jobs=-1)]: Done 1500 out of 1500 | elapsed: 148.4min finished\n"
     ]
    },
    {
     "name": "stdout",
     "output_type": "stream",
     "text": [
      "Parametri najboljeg modela: {'C': 10, 'gamma': 0.1, 'kernel': 'rbf'}\n",
      "Izvestaj klasifikacije kernelizovanog mpv-a:\n",
      "               precision    recall  f1-score   support\n",
      "\n",
      "           0       0.96      0.99      0.97      4612\n",
      "           1       0.89      0.68      0.77       615\n",
      "\n",
      "    accuracy                           0.95      5227\n",
      "   macro avg       0.92      0.84      0.87      5227\n",
      "weighted avg       0.95      0.95      0.95      5227\n",
      "\n"
     ]
    }
   ],
   "source": [
    "# Kernelizovani model potpornih vektora sa balansiranim klasama pomocu ugradjenog parametra\n",
    "\n",
    "mpv_kern_bal = ms.GridSearchCV (svm.SVC(class_weight = 'balanced', random_state = 7), param_grid = parametri_kern, scoring = 'f1', n_jobs = n_jobs_kern, cv = cv_kern, verbose = 2)\n",
    "mpv_kern_bal.fit (x_trening, y_trening)\n",
    "y_procena = mpv_kern_bal.predict (x_test)\n",
    "\n",
    "print ('Parametri najboljeg modela:', mpv_kern_bal.best_params_)\n",
    "print ('Izvestaj klasifikacije kernelizovanog mpv-a:\\n', met.classification_report (y_test, y_procena))\n"
   ]
  },
  {
   "cell_type": "code",
   "execution_count": 85,
   "metadata": {
    "colab": {
     "base_uri": "https://localhost:8080/",
     "height": 684
    },
    "colab_type": "code",
    "executionInfo": {
     "elapsed": 933,
     "status": "ok",
     "timestamp": 1572530159517,
     "user": {
      "displayName": "Aleksandar Anžel",
      "photoUrl": "https://lh3.googleusercontent.com/a-/AAuE7mAv_eRLNMWBvr43YXv7UrZwTFOu9RxxodF6fBNOjQ=s64",
      "userId": "09456993545544319729"
     },
     "user_tz": -60
    },
    "id": "jCXJokNP6uE2",
    "outputId": "1743c75f-a137-4ce7-b3e5-2af448c8e603"
   },
   "outputs": [
    {
     "data": {
      "image/png": "[encoded data removed]",
      "text/plain": [
       "<Figure size 1440x720 with 4 Axes>"
      ]
     },
     "metadata": {
      "tags": []
     },
     "output_type": "display_data"
    }
   ],
   "source": [
    "# Iscrtavanje matrice konfuzije za prethodni model\n",
    "nacrtaj_matricu_konfuzije (y_test, y_procena, 'MPV kernelizovan balansiran ' + str (mpv_kern_bal.best_params_))\n",
    "plt.show()"
   ]
  },
  {
   "cell_type": "code",
   "execution_count": null,
   "metadata": {
    "colab": {},
    "colab_type": "code",
    "id": "90wYit2-6uE5"
   },
   "outputs": [],
   "source": [
    "# Cuvanje rezultata kros-validacije u .csv fajl\n",
    "\n",
    "df_mpv_kern_bal = pd.DataFrame (mpv_kern_bal.cv_results_)\n",
    "df_mpv_kern_bal.to_csv (os.path.join (putanja_za_rezultate, 'MPV_KERN_BAL.csv'))\n",
    "#df_mpv_kern_bal\n"
   ]
  },
  {
   "cell_type": "markdown",
   "metadata": {
    "colab_type": "text",
    "id": "Q20FJLsx6uE7"
   },
   "source": [
    "## 3.2. Polazni skup podataka koji je balansiran nasumicnim podsempliranjem\n",
    "### 3.2.1 Linearni model potpornih vektora"
   ]
  },
  {
   "cell_type": "code",
   "execution_count": 87,
   "metadata": {
    "colab": {
     "base_uri": "https://localhost:8080/",
     "height": 1000
    },
    "colab_type": "code",
    "executionInfo": {
     "elapsed": 138148,
     "status": "ok",
     "timestamp": 1572530297659,
     "user": {
      "displayName": "Aleksandar Anžel",
      "photoUrl": "https://lh3.googleusercontent.com/a-/AAuE7mAv_eRLNMWBvr43YXv7UrZwTFOu9RxxodF6fBNOjQ=s64",
      "userId": "09456993545544319729"
     },
     "user_tz": -60
    },
    "id": "B9LqK2dj6uE8",
    "outputId": "ad0ad0c1-2af2-45ba-f7bd-8442347a5699"
   },
   "outputs": [
    {
     "name": "stdout",
     "output_type": "stream",
     "text": [
      "Fitting 10 folds for each of 10 candidates, totalling 100 fits\n"
     ]
    },
    {
     "name": "stderr",
     "output_type": "stream",
     "text": [
      "[Parallel(n_jobs=1)]: Using backend SequentialBackend with 1 concurrent workers.\n",
      "/usr/local/lib/python3.6/dist-packages/sklearn/svm/base.py:929: ConvergenceWarning: Liblinear failed to converge, increase the number of iterations.\n",
      "  \"the number of iterations.\", ConvergenceWarning)\n",
      "/usr/local/lib/python3.6/dist-packages/sklearn/svm/base.py:929: ConvergenceWarning: Liblinear failed to converge, increase the number of iterations.\n",
      "  \"the number of iterations.\", ConvergenceWarning)\n",
      "/usr/local/lib/python3.6/dist-packages/sklearn/svm/base.py:929: ConvergenceWarning: Liblinear failed to converge, increase the number of iterations.\n",
      "  \"the number of iterations.\", ConvergenceWarning)\n",
      "/usr/local/lib/python3.6/dist-packages/sklearn/svm/base.py:929: ConvergenceWarning: Liblinear failed to converge, increase the number of iterations.\n",
      "  \"the number of iterations.\", ConvergenceWarning)\n",
      "/usr/local/lib/python3.6/dist-packages/sklearn/svm/base.py:929: ConvergenceWarning: Liblinear failed to converge, increase the number of iterations.\n",
      "  \"the number of iterations.\", ConvergenceWarning)\n",
      "/usr/local/lib/python3.6/dist-packages/sklearn/svm/base.py:929: ConvergenceWarning: Liblinear failed to converge, increase the number of iterations.\n",
      "  \"the number of iterations.\", ConvergenceWarning)\n",
      "/usr/local/lib/python3.6/dist-packages/sklearn/svm/base.py:929: ConvergenceWarning: Liblinear failed to converge, increase the number of iterations.\n",
      "  \"the number of iterations.\", ConvergenceWarning)\n",
      "/usr/local/lib/python3.6/dist-packages/sklearn/svm/base.py:929: ConvergenceWarning: Liblinear failed to converge, increase the number of iterations.\n",
      "  \"the number of iterations.\", ConvergenceWarning)\n",
      "/usr/local/lib/python3.6/dist-packages/sklearn/svm/base.py:929: ConvergenceWarning: Liblinear failed to converge, increase the number of iterations.\n",
      "  \"the number of iterations.\", ConvergenceWarning)\n",
      "/usr/local/lib/python3.6/dist-packages/sklearn/svm/base.py:929: ConvergenceWarning: Liblinear failed to converge, increase the number of iterations.\n",
      "  \"the number of iterations.\", ConvergenceWarning)\n",
      "/usr/local/lib/python3.6/dist-packages/sklearn/svm/base.py:929: ConvergenceWarning: Liblinear failed to converge, increase the number of iterations.\n",
      "  \"the number of iterations.\", ConvergenceWarning)\n",
      "/usr/local/lib/python3.6/dist-packages/sklearn/svm/base.py:929: ConvergenceWarning: Liblinear failed to converge, increase the number of iterations.\n",
      "  \"the number of iterations.\", ConvergenceWarning)\n",
      "/usr/local/lib/python3.6/dist-packages/sklearn/svm/base.py:929: ConvergenceWarning: Liblinear failed to converge, increase the number of iterations.\n",
      "  \"the number of iterations.\", ConvergenceWarning)\n",
      "/usr/local/lib/python3.6/dist-packages/sklearn/svm/base.py:929: ConvergenceWarning: Liblinear failed to converge, increase the number of iterations.\n",
      "  \"the number of iterations.\", ConvergenceWarning)\n",
      "/usr/local/lib/python3.6/dist-packages/sklearn/svm/base.py:929: ConvergenceWarning: Liblinear failed to converge, increase the number of iterations.\n",
      "  \"the number of iterations.\", ConvergenceWarning)\n",
      "/usr/local/lib/python3.6/dist-packages/sklearn/svm/base.py:929: ConvergenceWarning: Liblinear failed to converge, increase the number of iterations.\n",
      "  \"the number of iterations.\", ConvergenceWarning)\n",
      "/usr/local/lib/python3.6/dist-packages/sklearn/svm/base.py:929: ConvergenceWarning: Liblinear failed to converge, increase the number of iterations.\n",
      "  \"the number of iterations.\", ConvergenceWarning)\n",
      "/usr/local/lib/python3.6/dist-packages/sklearn/svm/base.py:929: ConvergenceWarning: Liblinear failed to converge, increase the number of iterations.\n",
      "  \"the number of iterations.\", ConvergenceWarning)\n",
      "/usr/local/lib/python3.6/dist-packages/sklearn/svm/base.py:929: ConvergenceWarning: Liblinear failed to converge, increase the number of iterations.\n",
      "  \"the number of iterations.\", ConvergenceWarning)\n",
      "/usr/local/lib/python3.6/dist-packages/sklearn/svm/base.py:929: ConvergenceWarning: Liblinear failed to converge, increase the number of iterations.\n",
      "  \"the number of iterations.\", ConvergenceWarning)\n",
      "/usr/local/lib/python3.6/dist-packages/sklearn/svm/base.py:929: ConvergenceWarning: Liblinear failed to converge, increase the number of iterations.\n",
      "  \"the number of iterations.\", ConvergenceWarning)\n",
      "/usr/local/lib/python3.6/dist-packages/sklearn/svm/base.py:929: ConvergenceWarning: Liblinear failed to converge, increase the number of iterations.\n",
      "  \"the number of iterations.\", ConvergenceWarning)\n",
      "/usr/local/lib/python3.6/dist-packages/sklearn/svm/base.py:929: ConvergenceWarning: Liblinear failed to converge, increase the number of iterations.\n",
      "  \"the number of iterations.\", ConvergenceWarning)\n",
      "/usr/local/lib/python3.6/dist-packages/sklearn/svm/base.py:929: ConvergenceWarning: Liblinear failed to converge, increase the number of iterations.\n",
      "  \"the number of iterations.\", ConvergenceWarning)\n",
      "/usr/local/lib/python3.6/dist-packages/sklearn/svm/base.py:929: ConvergenceWarning: Liblinear failed to converge, increase the number of iterations.\n",
      "  \"the number of iterations.\", ConvergenceWarning)\n",
      "/usr/local/lib/python3.6/dist-packages/sklearn/svm/base.py:929: ConvergenceWarning: Liblinear failed to converge, increase the number of iterations.\n",
      "  \"the number of iterations.\", ConvergenceWarning)\n",
      "/usr/local/lib/python3.6/dist-packages/sklearn/svm/base.py:929: ConvergenceWarning: Liblinear failed to converge, increase the number of iterations.\n",
      "  \"the number of iterations.\", ConvergenceWarning)\n",
      "/usr/local/lib/python3.6/dist-packages/sklearn/svm/base.py:929: ConvergenceWarning: Liblinear failed to converge, increase the number of iterations.\n",
      "  \"the number of iterations.\", ConvergenceWarning)\n",
      "/usr/local/lib/python3.6/dist-packages/sklearn/svm/base.py:929: ConvergenceWarning: Liblinear failed to converge, increase the number of iterations.\n",
      "  \"the number of iterations.\", ConvergenceWarning)\n",
      "/usr/local/lib/python3.6/dist-packages/sklearn/svm/base.py:929: ConvergenceWarning: Liblinear failed to converge, increase the number of iterations.\n",
      "  \"the number of iterations.\", ConvergenceWarning)\n",
      "/usr/local/lib/python3.6/dist-packages/sklearn/svm/base.py:929: ConvergenceWarning: Liblinear failed to converge, increase the number of iterations.\n",
      "  \"the number of iterations.\", ConvergenceWarning)\n",
      "/usr/local/lib/python3.6/dist-packages/sklearn/svm/base.py:929: ConvergenceWarning: Liblinear failed to converge, increase the number of iterations.\n",
      "  \"the number of iterations.\", ConvergenceWarning)\n",
      "/usr/local/lib/python3.6/dist-packages/sklearn/svm/base.py:929: ConvergenceWarning: Liblinear failed to converge, increase the number of iterations.\n",
      "  \"the number of iterations.\", ConvergenceWarning)\n",
      "/usr/local/lib/python3.6/dist-packages/sklearn/svm/base.py:929: ConvergenceWarning: Liblinear failed to converge, increase the number of iterations.\n",
      "  \"the number of iterations.\", ConvergenceWarning)\n",
      "/usr/local/lib/python3.6/dist-packages/sklearn/svm/base.py:929: ConvergenceWarning: Liblinear failed to converge, increase the number of iterations.\n",
      "  \"the number of iterations.\", ConvergenceWarning)\n",
      "/usr/local/lib/python3.6/dist-packages/sklearn/svm/base.py:929: ConvergenceWarning: Liblinear failed to converge, increase the number of iterations.\n",
      "  \"the number of iterations.\", ConvergenceWarning)\n",
      "/usr/local/lib/python3.6/dist-packages/sklearn/svm/base.py:929: ConvergenceWarning: Liblinear failed to converge, increase the number of iterations.\n",
      "  \"the number of iterations.\", ConvergenceWarning)\n",
      "/usr/local/lib/python3.6/dist-packages/sklearn/svm/base.py:929: ConvergenceWarning: Liblinear failed to converge, increase the number of iterations.\n",
      "  \"the number of iterations.\", ConvergenceWarning)\n",
      "/usr/local/lib/python3.6/dist-packages/sklearn/svm/base.py:929: ConvergenceWarning: Liblinear failed to converge, increase the number of iterations.\n",
      "  \"the number of iterations.\", ConvergenceWarning)\n"
     ]
    },
    {
     "name": "stdout",
     "output_type": "stream",
     "text": [
      "Parametri najboljeg modela: {'C': 0.001}\n",
      "Izvestaj klasifikacije linearnog mpv-a:\n",
      "               precision    recall  f1-score   support\n",
      "\n",
      "           0       0.98      0.75      0.85      4612\n",
      "           1       0.32      0.86      0.47       615\n",
      "\n",
      "    accuracy                           0.77      5227\n",
      "   macro avg       0.65      0.81      0.66      5227\n",
      "weighted avg       0.90      0.77      0.81      5227\n",
      "\n"
     ]
    },
    {
     "name": "stderr",
     "output_type": "stream",
     "text": [
      "/usr/local/lib/python3.6/dist-packages/sklearn/svm/base.py:929: ConvergenceWarning: Liblinear failed to converge, increase the number of iterations.\n",
      "  \"the number of iterations.\", ConvergenceWarning)\n",
      "[Parallel(n_jobs=1)]: Done 100 out of 100 | elapsed:  2.3min finished\n",
      "/usr/local/lib/python3.6/dist-packages/sklearn/model_selection/_search.py:814: DeprecationWarning: The default of the `iid` parameter will change from True to False in version 0.22 and will be removed in 0.24. This will change numeric results when test-set sizes are unequal.\n",
      "  DeprecationWarning)\n"
     ]
    }
   ],
   "source": [
    "# Definisanje metaparametara linearnog modela\n",
    "parametri_lin = {'C': [10**i for i in range (-5, 5)]}\n",
    "\n",
    "# Linearni model potpornih vektora bez aktiviranog ugradjeno parametra class_weight\n",
    "mpv_lin_bal_pod = ms.GridSearchCV (svm.LinearSVC (random_state = 7, class_weight = None, max_iter = max_iter_lin), param_grid = parametri_lin, scoring = 'f1', n_jobs = 1, cv = 10, verbose = 1)\n",
    "mpv_lin_bal_pod.fit (x_trening_pod, y_trening_pod)\n",
    "y_procena = mpv_lin_bal_pod.predict (x_test)\n",
    "\n",
    "print ('Parametri najboljeg modela:', mpv_lin_bal_pod.best_params_)\n",
    "print ('Izvestaj klasifikacije linearnog mpv-a:\\n', met.classification_report (y_test, y_procena))\n"
   ]
  },
  {
   "cell_type": "code",
   "execution_count": 88,
   "metadata": {
    "colab": {
     "base_uri": "https://localhost:8080/",
     "height": 684
    },
    "colab_type": "code",
    "executionInfo": {
     "elapsed": 906,
     "status": "ok",
     "timestamp": 1572530298552,
     "user": {
      "displayName": "Aleksandar Anžel",
      "photoUrl": "https://lh3.googleusercontent.com/a-/AAuE7mAv_eRLNMWBvr43YXv7UrZwTFOu9RxxodF6fBNOjQ=s64",
      "userId": "09456993545544319729"
     },
     "user_tz": -60
    },
    "id": "iKYT8P_06uFB",
    "outputId": "a631f318-e748-4c63-8e5a-1deca5789bc4"
   },
   "outputs": [
    {
     "data": {
      "image/png": "[encoded data removed]",
      "text/plain": [
       "<Figure size 1440x720 with 4 Axes>"
      ]
     },
     "metadata": {
      "tags": []
     },
     "output_type": "display_data"
    }
   ],
   "source": [
    "# Iscrtavanje matrice konfuzije za prethodni model\n",
    "nacrtaj_matricu_konfuzije (y_test, y_procena, 'MPV linearan balansiran podsempliranjem ' + str (mpv_lin_bal_pod.best_params_))\n",
    "plt.show()"
   ]
  },
  {
   "cell_type": "code",
   "execution_count": null,
   "metadata": {
    "colab": {},
    "colab_type": "code",
    "id": "OBs98zHk6uFF"
   },
   "outputs": [],
   "source": [
    "# Cuvanje rezultata kros-validacije u .csv fajl\n",
    "\n",
    "df_mpv_lin_bal_pod = pd.DataFrame (mpv_lin_bal_pod.cv_results_)\n",
    "df_mpv_lin_bal_pod.to_csv (os.path.join (putanja_za_rezultate, 'MPV_LIN_BAL_POD.csv'))\n",
    "#df_mpv_lin_bal_pod\n"
   ]
  },
  {
   "cell_type": "markdown",
   "metadata": {
    "colab_type": "text",
    "id": "5z7q3Kd86uFJ"
   },
   "source": [
    "### 3.2.2 Kernelizovan model potpornih vektora"
   ]
  },
  {
   "cell_type": "code",
   "execution_count": 90,
   "metadata": {
    "colab": {
     "base_uri": "https://localhost:8080/",
     "height": 411
    },
    "colab_type": "code",
    "executionInfo": {
     "elapsed": 372750,
     "status": "ok",
     "timestamp": 1572530671296,
     "user": {
      "displayName": "Aleksandar Anžel",
      "photoUrl": "https://lh3.googleusercontent.com/a-/AAuE7mAv_eRLNMWBvr43YXv7UrZwTFOu9RxxodF6fBNOjQ=s64",
      "userId": "09456993545544319729"
     },
     "user_tz": -60
    },
    "id": "OdXAnqQu6uFJ",
    "outputId": "afa81f68-27f5-4409-df99-a52689488722"
   },
   "outputs": [
    {
     "name": "stdout",
     "output_type": "stream",
     "text": [
      "Fitting 5 folds for each of 300 candidates, totalling 1500 fits\n"
     ]
    },
    {
     "name": "stderr",
     "output_type": "stream",
     "text": [
      "[Parallel(n_jobs=-1)]: Using backend LokyBackend with 2 concurrent workers.\n",
      "[Parallel(n_jobs=-1)]: Done  37 tasks      | elapsed:   11.1s\n",
      "[Parallel(n_jobs=-1)]: Done 158 tasks      | elapsed:   43.8s\n",
      "[Parallel(n_jobs=-1)]: Done 361 tasks      | elapsed:  1.6min\n",
      "[Parallel(n_jobs=-1)]: Done 644 tasks      | elapsed:  2.9min\n",
      "[Parallel(n_jobs=-1)]: Done 1009 tasks      | elapsed:  4.2min\n",
      "[Parallel(n_jobs=-1)]: Done 1454 tasks      | elapsed:  6.0min\n",
      "[Parallel(n_jobs=-1)]: Done 1500 out of 1500 | elapsed:  6.2min finished\n",
      "/usr/local/lib/python3.6/dist-packages/sklearn/model_selection/_search.py:814: DeprecationWarning: The default of the `iid` parameter will change from True to False in version 0.22 and will be removed in 0.24. This will change numeric results when test-set sizes are unequal.\n",
      "  DeprecationWarning)\n"
     ]
    },
    {
     "name": "stdout",
     "output_type": "stream",
     "text": [
      "Parametri najboljeg modela: {'C': 10, 'gamma': 0.1, 'kernel': 'rbf'}\n",
      "Izvestaj klasifikacije kernelizovanog mpv-a:\n",
      "               precision    recall  f1-score   support\n",
      "\n",
      "           0       0.98      0.91      0.94      4612\n",
      "           1       0.55      0.85      0.67       615\n",
      "\n",
      "    accuracy                           0.90      5227\n",
      "   macro avg       0.77      0.88      0.81      5227\n",
      "weighted avg       0.93      0.90      0.91      5227\n",
      "\n"
     ]
    }
   ],
   "source": [
    "# Definisanje metaparametara kernelizovanog modela\n",
    "parametri_kern = {'kernel': ['poly', 'rbf', 'sigmoid'], 'gamma': [10**i for i in range(-5, 5)], 'C': [10**i for i in range (-5, 5)]}\n",
    "\n",
    "# Kernelizovani model potpornih vektora bez aktiviranog ugradjeno parametra class_weight\n",
    "mpv_kern_bal_pod = ms.GridSearchCV (svm.SVC(class_weight = None, random_state = 7), param_grid = parametri_kern, scoring = 'f1', n_jobs = n_jobs_kern, cv = cv_kern, verbose = 2)\n",
    "mpv_kern_bal_pod.fit (x_trening_pod, y_trening_pod)\n",
    "y_procena = mpv_kern_bal_pod.predict (x_test)\n",
    "\n",
    "print ('Parametri najboljeg modela:', mpv_kern_bal_pod.best_params_)\n",
    "print ('Izvestaj klasifikacije kernelizovanog mpv-a:\\n', met.classification_report (y_test, y_procena))\n"
   ]
  },
  {
   "cell_type": "code",
   "execution_count": 91,
   "metadata": {
    "colab": {
     "base_uri": "https://localhost:8080/",
     "height": 684
    },
    "colab_type": "code",
    "executionInfo": {
     "elapsed": 1425,
     "status": "ok",
     "timestamp": 1572530672697,
     "user": {
      "displayName": "Aleksandar Anžel",
      "photoUrl": "https://lh3.googleusercontent.com/a-/AAuE7mAv_eRLNMWBvr43YXv7UrZwTFOu9RxxodF6fBNOjQ=s64",
      "userId": "09456993545544319729"
     },
     "user_tz": -60
    },
    "id": "F9NZXT_P6uFO",
    "outputId": "d00ce451-7542-4d35-b975-141c4f8e8d5c"
   },
   "outputs": [
    {
     "data": {
      "image/png": "[encoded data removed]",
      "text/plain": [
       "<Figure size 1440x720 with 4 Axes>"
      ]
     },
     "metadata": {
      "tags": []
     },
     "output_type": "display_data"
    }
   ],
   "source": [
    "# Iscrtavanje matrice konfuzije za prethodni model\n",
    "nacrtaj_matricu_konfuzije (y_test, y_procena, 'MPV kernelizovan balansiran podsempliranjem ' + str (mpv_kern_bal_pod.best_params_))\n",
    "plt.show()"
   ]
  },
  {
   "cell_type": "code",
   "execution_count": null,
   "metadata": {
    "colab": {},
    "colab_type": "code",
    "id": "Cb2tdRBc6uFQ"
   },
   "outputs": [],
   "source": [
    "# Cuvanje rezultata kros-validacije u .csv fajl\n",
    "\n",
    "df_mpv_kern_bal_pod = pd.DataFrame (mpv_kern_bal_pod.cv_results_)\n",
    "df_mpv_kern_bal_pod.to_csv (os.path.join (putanja_za_rezultate, 'MPV_KERN_BAL_POD.csv'))\n",
    "#df_mpv_kern_bal_pod\n"
   ]
  },
  {
   "cell_type": "markdown",
   "metadata": {
    "colab_type": "text",
    "id": "UVoeSb6z6uFT"
   },
   "source": [
    "## 3.3. Polazni skup podataka koji je balansiran nadsempliranjem SMOTE algoritmom\n",
    "### 3.3.1 Linearni model potpornih vektora"
   ]
  },
  {
   "cell_type": "code",
   "execution_count": 93,
   "metadata": {
    "colab": {
     "base_uri": "https://localhost:8080/",
     "height": 1000
    },
    "colab_type": "code",
    "executionInfo": {
     "elapsed": 2019265,
     "status": "ok",
     "timestamp": 1572532691956,
     "user": {
      "displayName": "Aleksandar Anžel",
      "photoUrl": "https://lh3.googleusercontent.com/a-/AAuE7mAv_eRLNMWBvr43YXv7UrZwTFOu9RxxodF6fBNOjQ=s64",
      "userId": "09456993545544319729"
     },
     "user_tz": -60
    },
    "id": "7A8tw8Hc6uFU",
    "outputId": "4f0ff07d-a6cd-486e-a658-7d72aac884e4"
   },
   "outputs": [
    {
     "name": "stdout",
     "output_type": "stream",
     "text": [
      "Fitting 10 folds for each of 10 candidates, totalling 100 fits\n"
     ]
    },
    {
     "name": "stderr",
     "output_type": "stream",
     "text": [
      "[Parallel(n_jobs=1)]: Using backend SequentialBackend with 1 concurrent workers.\n",
      "/usr/local/lib/python3.6/dist-packages/sklearn/svm/base.py:929: ConvergenceWarning: Liblinear failed to converge, increase the number of iterations.\n",
      "  \"the number of iterations.\", ConvergenceWarning)\n",
      "/usr/local/lib/python3.6/dist-packages/sklearn/svm/base.py:929: ConvergenceWarning: Liblinear failed to converge, increase the number of iterations.\n",
      "  \"the number of iterations.\", ConvergenceWarning)\n",
      "/usr/local/lib/python3.6/dist-packages/sklearn/svm/base.py:929: ConvergenceWarning: Liblinear failed to converge, increase the number of iterations.\n",
      "  \"the number of iterations.\", ConvergenceWarning)\n",
      "/usr/local/lib/python3.6/dist-packages/sklearn/svm/base.py:929: ConvergenceWarning: Liblinear failed to converge, increase the number of iterations.\n",
      "  \"the number of iterations.\", ConvergenceWarning)\n",
      "/usr/local/lib/python3.6/dist-packages/sklearn/svm/base.py:929: ConvergenceWarning: Liblinear failed to converge, increase the number of iterations.\n",
      "  \"the number of iterations.\", ConvergenceWarning)\n",
      "/usr/local/lib/python3.6/dist-packages/sklearn/svm/base.py:929: ConvergenceWarning: Liblinear failed to converge, increase the number of iterations.\n",
      "  \"the number of iterations.\", ConvergenceWarning)\n",
      "/usr/local/lib/python3.6/dist-packages/sklearn/svm/base.py:929: ConvergenceWarning: Liblinear failed to converge, increase the number of iterations.\n",
      "  \"the number of iterations.\", ConvergenceWarning)\n",
      "/usr/local/lib/python3.6/dist-packages/sklearn/svm/base.py:929: ConvergenceWarning: Liblinear failed to converge, increase the number of iterations.\n",
      "  \"the number of iterations.\", ConvergenceWarning)\n",
      "/usr/local/lib/python3.6/dist-packages/sklearn/svm/base.py:929: ConvergenceWarning: Liblinear failed to converge, increase the number of iterations.\n",
      "  \"the number of iterations.\", ConvergenceWarning)\n",
      "/usr/local/lib/python3.6/dist-packages/sklearn/svm/base.py:929: ConvergenceWarning: Liblinear failed to converge, increase the number of iterations.\n",
      "  \"the number of iterations.\", ConvergenceWarning)\n",
      "/usr/local/lib/python3.6/dist-packages/sklearn/svm/base.py:929: ConvergenceWarning: Liblinear failed to converge, increase the number of iterations.\n",
      "  \"the number of iterations.\", ConvergenceWarning)\n",
      "/usr/local/lib/python3.6/dist-packages/sklearn/svm/base.py:929: ConvergenceWarning: Liblinear failed to converge, increase the number of iterations.\n",
      "  \"the number of iterations.\", ConvergenceWarning)\n",
      "/usr/local/lib/python3.6/dist-packages/sklearn/svm/base.py:929: ConvergenceWarning: Liblinear failed to converge, increase the number of iterations.\n",
      "  \"the number of iterations.\", ConvergenceWarning)\n",
      "/usr/local/lib/python3.6/dist-packages/sklearn/svm/base.py:929: ConvergenceWarning: Liblinear failed to converge, increase the number of iterations.\n",
      "  \"the number of iterations.\", ConvergenceWarning)\n",
      "/usr/local/lib/python3.6/dist-packages/sklearn/svm/base.py:929: ConvergenceWarning: Liblinear failed to converge, increase the number of iterations.\n",
      "  \"the number of iterations.\", ConvergenceWarning)\n",
      "/usr/local/lib/python3.6/dist-packages/sklearn/svm/base.py:929: ConvergenceWarning: Liblinear failed to converge, increase the number of iterations.\n",
      "  \"the number of iterations.\", ConvergenceWarning)\n",
      "/usr/local/lib/python3.6/dist-packages/sklearn/svm/base.py:929: ConvergenceWarning: Liblinear failed to converge, increase the number of iterations.\n",
      "  \"the number of iterations.\", ConvergenceWarning)\n",
      "/usr/local/lib/python3.6/dist-packages/sklearn/svm/base.py:929: ConvergenceWarning: Liblinear failed to converge, increase the number of iterations.\n",
      "  \"the number of iterations.\", ConvergenceWarning)\n",
      "/usr/local/lib/python3.6/dist-packages/sklearn/svm/base.py:929: ConvergenceWarning: Liblinear failed to converge, increase the number of iterations.\n",
      "  \"the number of iterations.\", ConvergenceWarning)\n",
      "/usr/local/lib/python3.6/dist-packages/sklearn/svm/base.py:929: ConvergenceWarning: Liblinear failed to converge, increase the number of iterations.\n",
      "  \"the number of iterations.\", ConvergenceWarning)\n",
      "/usr/local/lib/python3.6/dist-packages/sklearn/svm/base.py:929: ConvergenceWarning: Liblinear failed to converge, increase the number of iterations.\n",
      "  \"the number of iterations.\", ConvergenceWarning)\n",
      "/usr/local/lib/python3.6/dist-packages/sklearn/svm/base.py:929: ConvergenceWarning: Liblinear failed to converge, increase the number of iterations.\n",
      "  \"the number of iterations.\", ConvergenceWarning)\n",
      "/usr/local/lib/python3.6/dist-packages/sklearn/svm/base.py:929: ConvergenceWarning: Liblinear failed to converge, increase the number of iterations.\n",
      "  \"the number of iterations.\", ConvergenceWarning)\n",
      "/usr/local/lib/python3.6/dist-packages/sklearn/svm/base.py:929: ConvergenceWarning: Liblinear failed to converge, increase the number of iterations.\n",
      "  \"the number of iterations.\", ConvergenceWarning)\n",
      "/usr/local/lib/python3.6/dist-packages/sklearn/svm/base.py:929: ConvergenceWarning: Liblinear failed to converge, increase the number of iterations.\n",
      "  \"the number of iterations.\", ConvergenceWarning)\n",
      "/usr/local/lib/python3.6/dist-packages/sklearn/svm/base.py:929: ConvergenceWarning: Liblinear failed to converge, increase the number of iterations.\n",
      "  \"the number of iterations.\", ConvergenceWarning)\n",
      "/usr/local/lib/python3.6/dist-packages/sklearn/svm/base.py:929: ConvergenceWarning: Liblinear failed to converge, increase the number of iterations.\n",
      "  \"the number of iterations.\", ConvergenceWarning)\n",
      "/usr/local/lib/python3.6/dist-packages/sklearn/svm/base.py:929: ConvergenceWarning: Liblinear failed to converge, increase the number of iterations.\n",
      "  \"the number of iterations.\", ConvergenceWarning)\n",
      "/usr/local/lib/python3.6/dist-packages/sklearn/svm/base.py:929: ConvergenceWarning: Liblinear failed to converge, increase the number of iterations.\n",
      "  \"the number of iterations.\", ConvergenceWarning)\n",
      "/usr/local/lib/python3.6/dist-packages/sklearn/svm/base.py:929: ConvergenceWarning: Liblinear failed to converge, increase the number of iterations.\n",
      "  \"the number of iterations.\", ConvergenceWarning)\n",
      "/usr/local/lib/python3.6/dist-packages/sklearn/svm/base.py:929: ConvergenceWarning: Liblinear failed to converge, increase the number of iterations.\n",
      "  \"the number of iterations.\", ConvergenceWarning)\n",
      "/usr/local/lib/python3.6/dist-packages/sklearn/svm/base.py:929: ConvergenceWarning: Liblinear failed to converge, increase the number of iterations.\n",
      "  \"the number of iterations.\", ConvergenceWarning)\n",
      "/usr/local/lib/python3.6/dist-packages/sklearn/svm/base.py:929: ConvergenceWarning: Liblinear failed to converge, increase the number of iterations.\n",
      "  \"the number of iterations.\", ConvergenceWarning)\n",
      "/usr/local/lib/python3.6/dist-packages/sklearn/svm/base.py:929: ConvergenceWarning: Liblinear failed to converge, increase the number of iterations.\n",
      "  \"the number of iterations.\", ConvergenceWarning)\n",
      "/usr/local/lib/python3.6/dist-packages/sklearn/svm/base.py:929: ConvergenceWarning: Liblinear failed to converge, increase the number of iterations.\n",
      "  \"the number of iterations.\", ConvergenceWarning)\n",
      "/usr/local/lib/python3.6/dist-packages/sklearn/svm/base.py:929: ConvergenceWarning: Liblinear failed to converge, increase the number of iterations.\n",
      "  \"the number of iterations.\", ConvergenceWarning)\n",
      "/usr/local/lib/python3.6/dist-packages/sklearn/svm/base.py:929: ConvergenceWarning: Liblinear failed to converge, increase the number of iterations.\n",
      "  \"the number of iterations.\", ConvergenceWarning)\n",
      "/usr/local/lib/python3.6/dist-packages/sklearn/svm/base.py:929: ConvergenceWarning: Liblinear failed to converge, increase the number of iterations.\n",
      "  \"the number of iterations.\", ConvergenceWarning)\n",
      "/usr/local/lib/python3.6/dist-packages/sklearn/svm/base.py:929: ConvergenceWarning: Liblinear failed to converge, increase the number of iterations.\n",
      "  \"the number of iterations.\", ConvergenceWarning)\n",
      "/usr/local/lib/python3.6/dist-packages/sklearn/svm/base.py:929: ConvergenceWarning: Liblinear failed to converge, increase the number of iterations.\n",
      "  \"the number of iterations.\", ConvergenceWarning)\n",
      "/usr/local/lib/python3.6/dist-packages/sklearn/svm/base.py:929: ConvergenceWarning: Liblinear failed to converge, increase the number of iterations.\n",
      "  \"the number of iterations.\", ConvergenceWarning)\n",
      "/usr/local/lib/python3.6/dist-packages/sklearn/svm/base.py:929: ConvergenceWarning: Liblinear failed to converge, increase the number of iterations.\n",
      "  \"the number of iterations.\", ConvergenceWarning)\n",
      "/usr/local/lib/python3.6/dist-packages/sklearn/svm/base.py:929: ConvergenceWarning: Liblinear failed to converge, increase the number of iterations.\n",
      "  \"the number of iterations.\", ConvergenceWarning)\n",
      "/usr/local/lib/python3.6/dist-packages/sklearn/svm/base.py:929: ConvergenceWarning: Liblinear failed to converge, increase the number of iterations.\n",
      "  \"the number of iterations.\", ConvergenceWarning)\n",
      "/usr/local/lib/python3.6/dist-packages/sklearn/svm/base.py:929: ConvergenceWarning: Liblinear failed to converge, increase the number of iterations.\n",
      "  \"the number of iterations.\", ConvergenceWarning)\n",
      "/usr/local/lib/python3.6/dist-packages/sklearn/svm/base.py:929: ConvergenceWarning: Liblinear failed to converge, increase the number of iterations.\n",
      "  \"the number of iterations.\", ConvergenceWarning)\n",
      "/usr/local/lib/python3.6/dist-packages/sklearn/svm/base.py:929: ConvergenceWarning: Liblinear failed to converge, increase the number of iterations.\n",
      "  \"the number of iterations.\", ConvergenceWarning)\n",
      "/usr/local/lib/python3.6/dist-packages/sklearn/svm/base.py:929: ConvergenceWarning: Liblinear failed to converge, increase the number of iterations.\n",
      "  \"the number of iterations.\", ConvergenceWarning)\n",
      "/usr/local/lib/python3.6/dist-packages/sklearn/svm/base.py:929: ConvergenceWarning: Liblinear failed to converge, increase the number of iterations.\n",
      "  \"the number of iterations.\", ConvergenceWarning)\n"
     ]
    },
    {
     "name": "stdout",
     "output_type": "stream",
     "text": [
      "Parametri najboljeg modela: {'C': 0.001}\n",
      "Izvestaj klasifikacije linearnog mpv-a:\n",
      "               precision    recall  f1-score   support\n",
      "\n",
      "           0       0.97      0.81      0.88      4612\n",
      "           1       0.36      0.81      0.50       615\n",
      "\n",
      "    accuracy                           0.81      5227\n",
      "   macro avg       0.67      0.81      0.69      5227\n",
      "weighted avg       0.90      0.81      0.84      5227\n",
      "\n"
     ]
    },
    {
     "name": "stderr",
     "output_type": "stream",
     "text": [
      "/usr/local/lib/python3.6/dist-packages/sklearn/svm/base.py:929: ConvergenceWarning: Liblinear failed to converge, increase the number of iterations.\n",
      "  \"the number of iterations.\", ConvergenceWarning)\n",
      "[Parallel(n_jobs=1)]: Done 100 out of 100 | elapsed: 33.7min finished\n"
     ]
    }
   ],
   "source": [
    "# Definisanje metaparametara linearnog modela\n",
    "parametri_lin = {'C': [10**i for i in range (-5, 5)]}\n",
    "\n",
    "# Linearni model potpornih vektora bez aktiviranog ugradjeno parametra class_weight\n",
    "mpv_lin_bal_nad_smote = ms.GridSearchCV (svm.LinearSVC (random_state = 7, class_weight = None, max_iter = max_iter_lin), param_grid = parametri_lin, scoring = 'f1', n_jobs = 1, cv = 10, verbose = 1)\n",
    "mpv_lin_bal_nad_smote.fit (x_trening_nad_smote, y_trening_nad_smote)\n",
    "y_procena = mpv_lin_bal_nad_smote.predict (x_test)\n",
    "\n",
    "print ('Parametri najboljeg modela:', mpv_lin_bal_nad_smote.best_params_)\n",
    "print ('Izvestaj klasifikacije linearnog mpv-a:\\n', met.classification_report (y_test, y_procena))\n"
   ]
  },
  {
   "cell_type": "code",
   "execution_count": 94,
   "metadata": {
    "colab": {
     "base_uri": "https://localhost:8080/",
     "height": 684
    },
    "colab_type": "code",
    "executionInfo": {
     "elapsed": 816,
     "status": "ok",
     "timestamp": 1572532692756,
     "user": {
      "displayName": "Aleksandar Anžel",
      "photoUrl": "https://lh3.googleusercontent.com/a-/AAuE7mAv_eRLNMWBvr43YXv7UrZwTFOu9RxxodF6fBNOjQ=s64",
      "userId": "09456993545544319729"
     },
     "user_tz": -60
    },
    "id": "Zw0qpqz56uFX",
    "outputId": "9a224468-c740-4866-9ab1-c4733d6caff1"
   },
   "outputs": [
    {
     "data": {
      "image/png": "[encoded data removed]",
      "text/plain": [
       "<Figure size 1440x720 with 4 Axes>"
      ]
     },
     "metadata": {
      "tags": []
     },
     "output_type": "display_data"
    }
   ],
   "source": [
    "# Iscrtavanje matrice konfuzije za prethodni model\n",
    "nacrtaj_matricu_konfuzije (y_test, y_procena, 'MPV linearan balansiran nadsempliranjem ' + str (mpv_lin_bal_nad_smote.best_params_))\n",
    "plt.show()"
   ]
  },
  {
   "cell_type": "code",
   "execution_count": null,
   "metadata": {
    "colab": {},
    "colab_type": "code",
    "id": "X6xFeFFT6uFd"
   },
   "outputs": [],
   "source": [
    "# Cuvanje rezultata kros-validacije u .csv fajl\n",
    "\n",
    "df_mpv_lin_bal_nad_smote = pd.DataFrame (mpv_lin_bal_nad_smote.cv_results_)\n",
    "df_mpv_lin_bal_nad_smote.to_csv (os.path.join (putanja_za_rezultate, 'MPV_LIN_BAL_NAD_SMOTE.csv'))\n",
    "#df_mpv_lin_bal_nad_smote\n"
   ]
  },
  {
   "cell_type": "markdown",
   "metadata": {
    "colab_type": "text",
    "id": "4L0tyLor6uFg"
   },
   "source": [
    "### 3.3.2 Kernelizovan model potpornih vektora"
   ]
  },
  {
   "cell_type": "code",
   "execution_count": null,
   "metadata": {
    "colab": {
     "base_uri": "https://localhost:8080/",
     "height": 136
    },
    "colab_type": "code",
    "id": "vtWMfb9-6uFh",
    "outputId": "8a561d4e-b5ba-42e9-93b4-e3830323247c"
   },
   "outputs": [
    {
     "name": "stdout",
     "output_type": "stream",
     "text": [
      "Fitting 5 folds for each of 300 candidates, totalling 1500 fits\n"
     ]
    },
    {
     "name": "stderr",
     "output_type": "stream",
     "text": [
      "[Parallel(n_jobs=-1)]: Using backend LokyBackend with 2 concurrent workers.\n",
      "[Parallel(n_jobs=-1)]: Done  37 tasks      | elapsed: 10.4min\n",
      "[Parallel(n_jobs=-1)]: Done 158 tasks      | elapsed: 50.1min\n",
      "[Parallel(n_jobs=-1)]: Done 361 tasks      | elapsed: 113.6min\n",
      "[Parallel(n_jobs=-1)]: Done 644 tasks      | elapsed: 198.4min\n",
      "[Parallel(n_jobs=-1)]: Done 1009 tasks      | elapsed: 314.7min\n"
     ]
    }
   ],
   "source": [
    "# Definisanje metaparametara kernelizovanog modela\n",
    "parametri_kern = {'kernel': ['poly', 'rbf', 'sigmoid'], 'gamma': [10**i for i in range(-5, 5)], 'C': [10**i for i in range (-5, 5)]}\n",
    "\n",
    "# Kernelizovani model potpornih vektora bez aktiviranog ugradjeno parametra class_weight\n",
    "mpv_kern_bal_nad_smote = ms.GridSearchCV (svm.SVC(class_weight = None, random_state = 7), param_grid = parametri_kern, scoring = 'f1', n_jobs = n_jobs_kern, cv = cv_kern, verbose = 2)\n",
    "mpv_kern_bal_nad_smote.fit (x_trening_nad_smote, y_trening_nad_smote)\n",
    "y_procena = mpv_kern_bal_nad_smote.predict (x_test)\n",
    "\n",
    "print ('Parametri najboljeg modela:', mpv_kern_bal_nad_smote.best_params_)\n",
    "print ('Izvestaj klasifikacije kernelizovanog mpv-a:\\n', met.classification_report (y_test, y_procena))\n"
   ]
  },
  {
   "cell_type": "code",
   "execution_count": null,
   "metadata": {
    "colab": {},
    "colab_type": "code",
    "id": "OYwGm5a16uFk"
   },
   "outputs": [],
   "source": [
    "# Iscrtavanje matrice konfuzije za prethodni model\n",
    "nacrtaj_matricu_konfuzije (y_test, y_procena, 'MPV kernelizovan balansiran nadsempliranjem ' + str (mpv_kern_bal_nad_smote.best_params_))\n",
    "plt.show()"
   ]
  },
  {
   "cell_type": "code",
   "execution_count": null,
   "metadata": {
    "colab": {},
    "colab_type": "code",
    "id": "mCfbfvmw6uFq"
   },
   "outputs": [],
   "source": [
    "# Cuvanje rezultata kros-validacije u .csv fajl\n",
    "putanja_za_rezultate = os.path.join ('..', 'data', 'Rezultati_Uniprot_cist')\n",
    "\n",
    "df_mpv_kern_bal_nad_smote = pd.DataFrame (mpv_kern_bal_nad_smote.cv_results_)\n",
    "df_mpv_kern_bal_nad_smote.to_csv (os.path.join (putanja_za_rezultate, 'MPV_KERN_BAL_NAD_SMOTE.csv'))\n",
    "#df_mpv_kern_bal_nad_smote\n"
   ]
  },
  {
   "cell_type": "markdown",
   "metadata": {
    "colab_type": "text",
    "id": "G8jYrKv46uFt"
   },
   "source": [
    "## 3.4. Polazni skup podataka koji je balansiran nadsempliranjem ADASYN algoritmom\n",
    "### 3.4.1 Linearni model potpornih vektora"
   ]
  },
  {
   "cell_type": "code",
   "execution_count": null,
   "metadata": {
    "colab": {},
    "colab_type": "code",
    "id": "0DF9ShRe6uFu"
   },
   "outputs": [],
   "source": [
    "# Definisanje metaparametara linearnog modela\n",
    "parametri_lin = {'C': [10**i for i in range (-5, 5)]}\n",
    "\n",
    "# Linearni model potpornih vektora bez aktiviranog ugradjeno parametra class_weight\n",
    "mpv_lin_bal_nad_adasyn = ms.GridSearchCV (svm.LinearSVC (random_state = 7, class_weight = None, max_iter = max_iter_lin), param_grid = parametri_lin, scoring = 'f1', n_jobs = 1, cv = 10, verbose = 1)\n",
    "mpv_lin_bal_nad_adasyn.fit (x_trening_nad_adasyn, y_trening_nad_adasyn)\n",
    "y_procena = mpv_lin_bal_nad_adasyn.predict (x_test)\n",
    "\n",
    "print ('Parametri najboljeg modela:', mpv_lin_bal_nad_adasyn.best_params_)\n",
    "print ('Izvestaj klasifikacije linearnog mpv-a:\\n', met.classification_report (y_test, y_procena))\n"
   ]
  },
  {
   "cell_type": "code",
   "execution_count": null,
   "metadata": {
    "colab": {},
    "colab_type": "code",
    "id": "QRgSFvRq6uFz"
   },
   "outputs": [],
   "source": [
    "# Iscrtavanje matrice konfuzije za prethodni model\n",
    "nacrtaj_matricu_konfuzije (y_test, y_procena, 'MPV linearan balansiran nadsempliranjem ' + str (mpv_lin_bal_nad_adasyn.best_params_))\n",
    "plt.show()"
   ]
  },
  {
   "cell_type": "code",
   "execution_count": null,
   "metadata": {
    "colab": {},
    "colab_type": "code",
    "id": "1QrwkBib6uF2"
   },
   "outputs": [],
   "source": [
    "# Cuvanje rezultata kros-validacije u .csv fajl\n",
    "\n",
    "df_mpv_lin_bal_nad_adasyn = pd.DataFrame (mpv_lin_bal_nad_adasyn.cv_results_)\n",
    "df_mpv_lin_bal_nad_adasyn.to_csv (os.path.join (putanja_za_rezultate, 'MPV_LIN_BAL_NAD_ADASYN.csv'))\n",
    "#df_mpv_lin_bal_nad_adasyn\n"
   ]
  },
  {
   "cell_type": "markdown",
   "metadata": {
    "colab_type": "text",
    "id": "U_NfxnMs6uF7"
   },
   "source": [
    "### 3.3.2 Kernelizovan model potpornih vektora"
   ]
  },
  {
   "cell_type": "code",
   "execution_count": null,
   "metadata": {
    "colab": {},
    "colab_type": "code",
    "id": "3fBKgo_h6uF8"
   },
   "outputs": [],
   "source": [
    "# Definisanje metaparametara kernelizovanog modela\n",
    "parametri_kern = {'kernel': ['poly', 'rbf', 'sigmoid'], 'gamma': [10**i for i in range(-5, 5)], 'C': [10**i for i in range (-5, 5)]}\n",
    "\n",
    "# Kernelizovani model potpornih vektora bez aktiviranog ugradjeno parametra class_weight\n",
    "mpv_kern_bal_nad_adasyn = ms.GridSearchCV (svm.SVC(class_weight = None, random_state = 7), param_grid = parametri_kern, scoring = 'f1', n_jobs = n_jobs_kern, cv = cv_kern, verbose = 2)\n",
    "mpv_kern_bal_nad_adasyn.fit (x_trening_nad_adasyn, y_trening_nad_adasyn)\n",
    "y_procena = mpv_kern_bal_nad_adasyn.predict (x_test)\n",
    "\n",
    "print ('Parametri najboljeg modela:', mpv_kern_bal_nad_adasyn.best_params_)\n",
    "print ('Izvestaj klasifikacije kernelizovanog mpv-a:\\n', met.classification_report (y_test, y_procena))\n"
   ]
  },
  {
   "cell_type": "code",
   "execution_count": null,
   "metadata": {
    "colab": {},
    "colab_type": "code",
    "id": "cxXJhCmy6uF-"
   },
   "outputs": [],
   "source": [
    "# Iscrtavanje matrice konfuzije za prethodni model\n",
    "nacrtaj_matricu_konfuzije (y_test, y_procena, 'MPV kernelizovan balansiran nadsempliranjem ' + str (mpv_kern_bal_nad_adasyn.best_params_))\n",
    "plt.show()"
   ]
  },
  {
   "cell_type": "code",
   "execution_count": null,
   "metadata": {
    "colab": {},
    "colab_type": "code",
    "id": "iHMr-8hs6uGA"
   },
   "outputs": [],
   "source": [
    "# Cuvanje rezultata kros-validacije u .csv fajl\n",
    "putanja_za_rezultate = os.path.join ('..', 'data', 'Rezultati_Uniprot_cist')\n",
    "\n",
    "df_mpv_kern_bal_nad_adasyn = pd.DataFrame (mpv_kern_bal_nad_adasyn.cv_results_)\n",
    "df_mpv_kern_bal_nad_adasyn.to_csv (os.path.join (putanja_za_rezultate, 'MPV_KERN_BAL_NAD_ADASYN.csv'))\n",
    "df_mpv_kern_bal_nad_adasyn\n"
   ]
  }
 ],
 "metadata": {
  "colab": {
   "collapsed_sections": [
    "F2Zay2mj6uEa"
   ],
   "name": "Main_1.ipynb",
   "provenance": []
  },
  "kernelspec": {
   "display_name": "Python 3",
   "language": "python",
   "name": "python3"
  },
  "language_info": {
   "codemirror_mode": {
    "name": "ipython",
    "version": 3
   },
   "file_extension": ".py",
   "mimetype": "text/x-python",
   "name": "python",
   "nbconvert_exporter": "python",
   "pygments_lexer": "ipython3",
   "version": "3.7.5"
  }
 },
 "nbformat": 4,
 "nbformat_minor": 4
}
